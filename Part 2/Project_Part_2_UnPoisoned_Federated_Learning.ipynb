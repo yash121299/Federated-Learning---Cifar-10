{
  "nbformat": 4,
  "nbformat_minor": 0,
  "metadata": {
    "colab": {
      "provenance": []
    },
    "kernelspec": {
      "name": "python3",
      "display_name": "Python 3"
    },
    "language_info": {
      "name": "python"
    }
  },
  "cells": [
    {
      "cell_type": "code",
      "source": [
        "## Script to split the data into a federated Dataset\n",
        "## Code from the same partitiondata.py file that was submitted in Part 1\n",
        "## This will just create the dataset directory in the structure that we want and load the images\n",
        "import numpy as np\n",
        "import torch\n",
        "from torchvision import datasets, transforms\n",
        "from torch.utils.data import DataLoader, Dataset\n",
        "import os\n",
        "\n",
        "\n",
        "\n",
        "def split_data(dataset, num_clients, deviation_factor=0.1):\n",
        "    \"\"\"\n",
        "    Splits data across clients with slight deviation\n",
        "    \"\"\"\n",
        "    client_indices = {i: [] for i in range(num_clients)}\n",
        "\n",
        "    # Split indices based on classes\n",
        "    for class_idx in range(10):\n",
        "        class_indices = np.where(np.array(dataset.targets) == class_idx)[0]\n",
        "        np.random.shuffle(class_indices)\n",
        "\n",
        "        # Calculate the number of samples\n",
        "        total_samples = len(class_indices)\n",
        "        avg_samples_per_client = total_samples // num_clients\n",
        "\n",
        "\n",
        "        splits = []\n",
        "        remaining_samples = total_samples\n",
        "        for client in range(num_clients):\n",
        "            # Apply deviation to the average samples\n",
        "            deviation = np.random.randint(-int(avg_samples_per_client * deviation_factor),\n",
        "                                          int(avg_samples_per_client * deviation_factor) + 1)\n",
        "            client_sample_count = avg_samples_per_client + deviation\n",
        "\n",
        "            if client == num_clients - 1:\n",
        "                client_sample_count = remaining_samples\n",
        "            else:\n",
        "                client_sample_count = min(client_sample_count, remaining_samples)\n",
        "\n",
        "            remaining_samples -= client_sample_count\n",
        "            splits.append(client_sample_count)\n",
        "\n",
        "        split_class_indices = np.split(class_indices, np.cumsum(splits[:-1]))\n",
        "\n",
        "        for client, indices in enumerate(split_class_indices):\n",
        "            client_indices[client].extend(indices)\n",
        "\n",
        "    return client_indices\n",
        "\n",
        "\n",
        "\n",
        "# Function to save client data as jpg\n",
        "def save_client_data_as_jpg(dataset, indices, client_dir, client_id):\n",
        "    client_path = os.path.join(client_dir, f'client_{client_id}')\n",
        "    os.makedirs(client_path, exist_ok=True)\n",
        "\n",
        "\n",
        "    for idx in indices:\n",
        "        img, label = dataset[idx]\n",
        "        label_folder = os.path.join(client_path, f'label_{label}')\n",
        "        os.makedirs(label_folder, exist_ok=True)\n",
        "\n",
        "        # Save the image as a .jpg\n",
        "        img_path = os.path.join(label_folder, f'{idx}.jpg')\n",
        "\n",
        "        img_pil = transforms.ToPILImage()(img)\n",
        "        img_pil.save(img_path)\n",
        "\n",
        "\n",
        "\n",
        "\n",
        "\n",
        "def main():\n",
        "    transform = transforms.Compose([\n",
        "                                transforms.RandomHorizontalFlip(p=0.3),\n",
        "                                transforms.RandomApply([transforms.RandomRotation(10)], p=0.3),\n",
        "                                transforms.RandomResizedCrop(32, scale=(0.8, 1.0)),\n",
        "                                # transforms.RandomApply([transforms.GaussianBlur(kernel_size=(3, 3), sigma=(0.1, 2.0))], p=0.2),\n",
        "                                transforms.ToTensor(),\n",
        "                                # transforms.Normalize((0.5, 0.5, 0.5), (0.5, 0.5, 0.5))\n",
        "                                ])\n",
        "\n",
        "    train_dataset = datasets.CIFAR10(root='./data', train=True, download=True, transform=transform)\n",
        "    test_dataset = datasets.CIFAR10(root='./data', train=False, download=True, transform=transform)\n",
        "\n",
        "    num_clients = 10\n",
        "    client_dir = './federated_clients_data/'\n",
        "\n",
        "    # Spliting data for training and testing\n",
        "    train_indices = split_data(train_dataset, num_clients, deviation_factor=0.2)\n",
        "    test_indices = split_data(test_dataset, num_clients, deviation_factor=0.2)\n",
        "\n",
        "    # Saving the  data for each client\n",
        "    for client_id in range(num_clients):\n",
        "        save_client_data_as_jpg(train_dataset, train_indices[client_id], client_dir, client_id)\n",
        "        save_client_data_as_jpg(test_dataset, test_indices[client_id], client_dir, client_id)\n",
        "\n",
        "    print(f\"Data has been split and saved into '{client_dir}' for {num_clients} clients.\")\n",
        "\n",
        "if __name__ == '__main__':\n",
        "    main()"
      ],
      "metadata": {
        "colab": {
          "base_uri": "https://localhost:8080/"
        },
        "id": "nbva9R86xLdR",
        "outputId": "b88f0304-9ab0-4a4f-f7c2-0f50afdb6655"
      },
      "execution_count": null,
      "outputs": [
        {
          "output_type": "stream",
          "name": "stdout",
          "text": [
            "Downloading https://www.cs.toronto.edu/~kriz/cifar-10-python.tar.gz to ./data/cifar-10-python.tar.gz\n"
          ]
        },
        {
          "output_type": "stream",
          "name": "stderr",
          "text": [
            "100%|██████████| 170498071/170498071 [00:03<00:00, 55896301.90it/s]\n"
          ]
        },
        {
          "output_type": "stream",
          "name": "stdout",
          "text": [
            "Extracting ./data/cifar-10-python.tar.gz to ./data\n",
            "Files already downloaded and verified\n",
            "Data has been split and saved into './federated_clients_data/' for 10 clients.\n"
          ]
        }
      ]
    },
    {
      "cell_type": "code",
      "execution_count": null,
      "metadata": {
        "id": "5WL8aE5_UtSG"
      },
      "outputs": [],
      "source": [
        "import torch"
      ]
    },
    {
      "cell_type": "code",
      "source": [
        "print(torch.__version__)"
      ],
      "metadata": {
        "colab": {
          "base_uri": "https://localhost:8080/"
        },
        "id": "q_FeIr0HU1v4",
        "outputId": "d15b7890-d4d8-4783-e4e5-63c58b9b8152"
      },
      "execution_count": null,
      "outputs": [
        {
          "output_type": "stream",
          "name": "stdout",
          "text": [
            "2.4.1+cu121\n"
          ]
        }
      ]
    },
    {
      "cell_type": "code",
      "source": [
        "!pip install -q flwr[simulation] flwr-datasets[vision]"
      ],
      "metadata": {
        "id": "G05TjlLPU3aP"
      },
      "execution_count": null,
      "outputs": []
    },
    {
      "cell_type": "code",
      "source": [
        "from collections import OrderedDict\n",
        "from typing import List, Tuple\n",
        "\n",
        "import matplotlib.pyplot as plt\n",
        "import numpy as np\n",
        "import torch\n",
        "import torch.nn as nn\n",
        "import torch.nn.functional as F\n",
        "import torchvision.transforms as transforms\n",
        "from datasets.utils.logging import disable_progress_bar\n",
        "from torch.utils.data import DataLoader\n",
        "\n",
        "import flwr\n",
        "from flwr.client import Client, ClientApp, NumPyClient\n",
        "from flwr.common import Metrics, Context\n",
        "from flwr.server import ServerApp, ServerConfig, ServerAppComponents\n",
        "from flwr.server.strategy import FedAvg\n",
        "from flwr.simulation import run_simulation\n",
        "from flwr_datasets import FederatedDataset\n",
        "import matplotlib.pyplot as plt\n",
        "\n",
        "DEVICE = torch.device(\"cpu\")  # Try \"cuda\" to train on GPU\n",
        "print(f\"Training on {DEVICE}\")\n",
        "print(f\"Flower {flwr.__version__} / PyTorch {torch.__version__}\")\n",
        "disable_progress_bar()"
      ],
      "metadata": {
        "colab": {
          "base_uri": "https://localhost:8080/"
        },
        "id": "OnfApDW_VD07",
        "outputId": "fc04ccb9-68c3-411b-af30-015795cbcedc"
      },
      "execution_count": null,
      "outputs": [
        {
          "output_type": "stream",
          "name": "stdout",
          "text": [
            "Training on cpu\n",
            "Flower 1.12.0 / PyTorch 2.4.1+cu121\n"
          ]
        }
      ]
    },
    {
      "cell_type": "code",
      "source": [
        "NUM_CLIENTS = 10\n",
        "BATCH_SIZE = 32"
      ],
      "metadata": {
        "id": "4r99Q2VvWWO1"
      },
      "execution_count": null,
      "outputs": []
    },
    {
      "cell_type": "code",
      "source": [
        "NUM_CLIENTS,BATCH_SIZE"
      ],
      "metadata": {
        "colab": {
          "base_uri": "https://localhost:8080/"
        },
        "id": "qZ3NjMa6Wgyp",
        "outputId": "a02226b2-82a2-4cdb-fd99-63f46043db9f"
      },
      "execution_count": null,
      "outputs": [
        {
          "output_type": "execute_result",
          "data": {
            "text/plain": [
              "(10, 32)"
            ]
          },
          "metadata": {},
          "execution_count": 6
        }
      ]
    },
    {
      "cell_type": "code",
      "source": [
        "import os\n",
        "from torch.utils.data import Dataset, DataLoader, random_split\n",
        "from torchvision import transforms\n",
        "from PIL import Image"
      ],
      "metadata": {
        "id": "4zbqNxh3ZwNz"
      },
      "execution_count": null,
      "outputs": []
    },
    {
      "cell_type": "code",
      "source": [
        "## Custom Dataset class that reads the data for the client from the appropriate directory based on the client ID provided\n",
        "class ClientDataset(Dataset):\n",
        "  def __init__(self,root_dir,client_id,transform=None):\n",
        "    self.client_dir = os.path.join(root_dir,client_id)\n",
        "    self.transform = transform\n",
        "    self.images = []\n",
        "    self.labels = []\n",
        "    self._load_data()\n",
        "  def _load_data(self):\n",
        "    for label in os.listdir(self.client_dir):\n",
        "            label_dir = os.path.join(self.client_dir, label)\n",
        "            if os.path.isdir(label_dir):\n",
        "                for img_file in os.listdir(label_dir):\n",
        "                    img_path = os.path.join(label_dir, img_file)\n",
        "                    self.images.append(img_path)\n",
        "                    self.labels.append(int(label[-1]))\n",
        "\n",
        "  def __len__(self):\n",
        "    return len(self.images)\n",
        "\n",
        "  def __getitem__(self, idx):\n",
        "    img_path = self.images[idx]\n",
        "    image = Image.open(img_path)\n",
        "    label = self.labels[idx]\n",
        "    if self.transform:\n",
        "        image = self.transform(image)\n",
        "    return image, label\n"
      ],
      "metadata": {
        "id": "9Dls9bbRZdeS"
      },
      "execution_count": null,
      "outputs": []
    },
    {
      "cell_type": "code",
      "source": [
        "## Function that is called by a Flower Framework Client to load the dataset\n",
        "## Uses the Client Dataset class created above to using the specified client id derived from the partition id\n",
        "def load_datasets(partition_id:int):\n",
        "    root_dir = \"/content/federated_clients_data\"\n",
        "    client_id = \"client_\" + str(partition_id)\n",
        "    transform = transforms.Compose([\n",
        "    transforms.Resize((32, 32)),  # Resize to match CIFAR-10 dimensions\n",
        "    transforms.ToTensor(),\n",
        "    transforms.Normalize((0.5, 0.5, 0.5), (0.5, 0.5, 0.5))\n",
        "    ])\n",
        "\n",
        "    client_dataset = ClientDataset(root_dir=root_dir, client_id=client_id, transform=transform)\n",
        "\n",
        "    train_size = int(0.9 * len(client_dataset))\n",
        "    test_size = len(client_dataset) - train_size\n",
        "\n",
        "    train_dataset, test_dataset = random_split(client_dataset, [train_size, test_size])\n",
        "\n",
        "    train_size = int(0.8 * len(train_dataset))\n",
        "    val_size = len(train_dataset) - train_size\n",
        "    train_dataset, val_dataset = random_split(train_dataset,[train_size,val_size])\n",
        "    trainloader = DataLoader(train_dataset, batch_size=BATCH_SIZE, shuffle=True)\n",
        "    valloader = DataLoader(val_dataset,batch_size=BATCH_SIZE,shuffle=False)\n",
        "    testloader = DataLoader(test_dataset, batch_size=BATCH_SIZE, shuffle=False)\n",
        "\n",
        "    return trainloader,valloader,testloader"
      ],
      "metadata": {
        "id": "XkEcV0kDb8_0"
      },
      "execution_count": null,
      "outputs": []
    },
    {
      "cell_type": "code",
      "source": [
        "## Defines the neural network architecture that would be used by all the clients\n",
        "class Net(nn.Module):\n",
        "    def __init__(self):\n",
        "        super(Net, self).__init__()\n",
        "        # convolutional layer (sees 32x32x3 image tensor)\n",
        "        self.conv1 = nn.Conv2d(3, 16, 3, padding=1)\n",
        "        # convolutional layer (sees 16x16x16 tensor)\n",
        "        self.conv2 = nn.Conv2d(16, 32, 3, padding=1)\n",
        "        # convolutional layer (sees 8x8x32 tensor)\n",
        "        self.conv3 = nn.Conv2d(32, 64, 3, padding=1)\n",
        "        # max pooling layer\n",
        "        self.pool = nn.MaxPool2d(2, 2)\n",
        "        # linear layer (64 * 4 * 4 -> 500)\n",
        "        self.fc1 = nn.Linear(64 * 4 * 4, 500)\n",
        "        # linear layer (500 -> 10)\n",
        "        self.fc2 = nn.Linear(500, 10)\n",
        "        # dropout layer (p=0.25)\n",
        "        self.dropout = nn.Dropout(0.25)\n",
        "\n",
        "    def forward(self, x):\n",
        "        # add sequence of convolutional and max pooling layers\n",
        "        x = self.pool(F.relu(self.conv1(x)))\n",
        "        x = self.pool(F.relu(self.conv2(x)))\n",
        "        x = self.pool(F.relu(self.conv3(x)))\n",
        "        # flatten image input\n",
        "        x = x.view(-1, 64 * 4 * 4)\n",
        "        # add dropout layer\n",
        "        x = self.dropout(x)\n",
        "        # add 1st hidden layer, with relu activation function\n",
        "        x = F.relu(self.fc1(x))\n",
        "        # add dropout layer\n",
        "        x = self.dropout(x)\n",
        "        # add 2nd hidden layer, with relu activation function\n",
        "        x = self.fc2(x)\n",
        "        return x"
      ],
      "metadata": {
        "id": "psdENk20iaIq"
      },
      "execution_count": null,
      "outputs": []
    },
    {
      "cell_type": "code",
      "source": [
        "import torch.optim as optim"
      ],
      "metadata": {
        "id": "14DpbdpeqRTn"
      },
      "execution_count": null,
      "outputs": []
    },
    {
      "cell_type": "code",
      "source": [
        "# Train and Test functions that are used by clients fit and evaluate methods\n",
        "def train(net, trainloader, epochs: int, verbose=False):\n",
        "    \"\"\"Train the network on the training set.\"\"\"\n",
        "    criterion = torch.nn.CrossEntropyLoss()\n",
        "    optimizer = optim.SGD(net.parameters(), lr=0.01)\n",
        "    net.train()\n",
        "    for epoch in range(epochs):\n",
        "        correct, total, epoch_loss = 0, 0, 0.0\n",
        "        for batch in trainloader:\n",
        "            images, labels = batch\n",
        "            optimizer.zero_grad()\n",
        "            outputs = net(images)\n",
        "            loss = criterion(outputs, labels)\n",
        "            loss.backward()\n",
        "            optimizer.step()\n",
        "            # Metrics\n",
        "            epoch_loss += loss.item()*labels.size(0)\n",
        "            total += labels.size(0)\n",
        "            correct += (torch.max(outputs.data, 1)[1] == labels).sum().item()\n",
        "        epoch_loss /= len(trainloader.dataset)\n",
        "        epoch_acc = correct / total\n",
        "        if verbose:\n",
        "            print(f\"Epoch {epoch+1}: train loss {epoch_loss}, accuracy {epoch_acc}\")\n",
        "\n",
        "\n",
        "def test(net, testloader):\n",
        "    \"\"\"Evaluate the network on the entire test set.\"\"\"\n",
        "    criterion = torch.nn.CrossEntropyLoss()\n",
        "    correct, total, loss = 0, 0, 0.0\n",
        "    net.eval()\n",
        "    with torch.no_grad():\n",
        "        for batch in testloader:\n",
        "            images, labels = batch\n",
        "            outputs = net(images)\n",
        "            loss += criterion(outputs, labels).item()*labels.size(0)\n",
        "            _, predicted = torch.max(outputs.data, 1)\n",
        "            total += labels.size(0)\n",
        "            correct += (predicted == labels).sum().item()\n",
        "    loss /= len(testloader.dataset)\n",
        "    accuracy = correct / total\n",
        "\n",
        "    return loss, accuracy"
      ],
      "metadata": {
        "id": "7B47I9unqFMC"
      },
      "execution_count": null,
      "outputs": []
    },
    {
      "cell_type": "code",
      "source": [
        "# Functions to get and set parameters for the model on clients\n",
        "def set_parameters(net, parameters: List[np.ndarray]):\n",
        "    params_dict = zip(net.state_dict().keys(), parameters)\n",
        "    state_dict = OrderedDict({k: torch.Tensor(v) for k, v in params_dict})\n",
        "    net.load_state_dict(state_dict, strict=True)\n",
        "\n",
        "\n",
        "def get_parameters(net) -> List[np.ndarray]:\n",
        "    return [val.cpu().numpy() for _, val in net.state_dict().items()]"
      ],
      "metadata": {
        "id": "YS3jY27-qIPo"
      },
      "execution_count": null,
      "outputs": []
    },
    {
      "cell_type": "code",
      "source": [
        "# Global dictionaries to track the metrics across rounds for each client\n",
        "accuracy_per_client_per_round = {}\n",
        "loss_per_client_per_round = {}"
      ],
      "metadata": {
        "id": "bXrZIjgXWVlg"
      },
      "execution_count": null,
      "outputs": []
    },
    {
      "cell_type": "code",
      "source": [
        "# Defines a flower client class\n",
        "class FlowerClient(NumPyClient):\n",
        "    def __init__(self, net, trainloader, valloader,partitionId):\n",
        "        self.net = net\n",
        "        self.trainloader = trainloader\n",
        "        self.valloader = valloader\n",
        "        self.id = partitionId\n",
        "        self.metrics_list = []\n",
        "\n",
        "    def get_parameters(self, config):\n",
        "        return get_parameters(self.net)\n",
        "\n",
        "    def fit(self, parameters, config):\n",
        "        set_parameters(self.net, parameters)\n",
        "        train(self.net, self.trainloader, epochs=1)\n",
        "        return get_parameters(self.net), len(self.trainloader), {}\n",
        "\n",
        "    def evaluate(self, parameters, config):\n",
        "        set_parameters(self.net, parameters)\n",
        "        loss, accuracy = test(self.net, self.valloader)\n",
        "        self.metrics_list.append((loss,accuracy))\n",
        "        return float(loss), len(self.valloader), {\"accuracy\": float(accuracy),\"loss\": float(loss),\"partition\":str(self.id)}"
      ],
      "metadata": {
        "id": "HLh92L9xqbzg"
      },
      "execution_count": null,
      "outputs": []
    },
    {
      "cell_type": "code",
      "source": [
        "## A global cache to store the clients\n",
        "clients_cache = {}"
      ],
      "metadata": {
        "id": "Wojb2FF7WUkI"
      },
      "execution_count": null,
      "outputs": []
    },
    {
      "cell_type": "code",
      "source": [
        "# Function to create clients that will passed to the simulation so that the server can create clients as required\n",
        "def client_fn(context: Context) -> Client:\n",
        "    \"\"\"Create a Flower client representing a single organization.\"\"\"\n",
        "\n",
        "    # Load model\n",
        "    net = Net().to(DEVICE)\n",
        "\n",
        "    # Load data\n",
        "    # Note: each client gets a different trainloader/valloader, so each client\n",
        "    # will train and evaluate on their own unique data partition\n",
        "    partition_id = context.node_config[\"partition-id\"]\n",
        "    if partition_id not in clients_cache:\n",
        "      trainloader, valloader, _ = load_datasets(partition_id=partition_id)\n",
        "      clients_cache[partition_id] = FlowerClient(net, trainloader, valloader,partition_id).to_client()\n",
        "\n",
        "    # FlowerClient is a subclass of NumPyClient, so we need to call .to_client()\n",
        "    # to convert it to a subclass of `flwr.client.Client`\n",
        "    return clients_cache[partition_id]\n",
        "\n",
        "\n",
        "# Create the ClientApp\n",
        "client = ClientApp(client_fn=client_fn)"
      ],
      "metadata": {
        "id": "QJ2G3rUyqfB4"
      },
      "execution_count": null,
      "outputs": []
    },
    {
      "cell_type": "code",
      "source": [
        "# Custom Strategy Class to store metrics for each round into the global dictonaries\n",
        "from flwr.server.strategy import FedAvg\n",
        "\n",
        "class CustomStrategy(FedAvg):\n",
        "  def aggregate_evaluate(self,rnd,results,failure):\n",
        "    if failure:\n",
        "      print(f\"Round {rnd} had {len(failure)} failures\")\n",
        "    accuracy_list = [r.metrics[\"accuracy\"] for _, r in results]\n",
        "\n",
        "    for _,r in results:\n",
        "      if r.metrics[\"partition\"] not in accuracy_per_client_per_round:\n",
        "        accuracy_per_client_per_round[r.metrics[\"partition\"]] = []\n",
        "      accuracy_per_client_per_round[r.metrics[\"partition\"]].append((rnd,r.metrics[\"accuracy\"]))\n",
        "      if r.metrics[\"partition\"] not in loss_per_client_per_round:\n",
        "        loss_per_client_per_round[r.metrics[\"partition\"]] =[]\n",
        "      loss_per_client_per_round[r.metrics[\"partition\"]].append((rnd,r.metrics[\"loss\"]))\n",
        "\n",
        "    average_accuracy = sum(accuracy_list) / len(accuracy_list)\n",
        "    print(f\"Round {rnd} accuracy: {average_accuracy}\")\n",
        "    print(f\"Accuracy List for Round {rnd} : {accuracy_list}\")\n",
        "\n",
        "\n",
        "    return super().aggregate_evaluate(rnd, results, failure)"
      ],
      "metadata": {
        "id": "wOGDY1G7t8zA"
      },
      "execution_count": null,
      "outputs": []
    },
    {
      "cell_type": "code",
      "source": [
        "# Specify the resources each of your clients need\n",
        "# By default, each client will be allocated 1x CPU and 0x GPUs\n",
        "backend_config = {\"client_resources\": {\"num_cpus\": 1, \"num_gpus\": 0.0}}\n",
        "\n",
        "if DEVICE.type == \"cuda\":\n",
        "    backend_config = {\"client_resources\": {\"num_cpus\": 1, \"num_gpus\": 1.0}}"
      ],
      "metadata": {
        "id": "oa9bzhR-qnjp"
      },
      "execution_count": null,
      "outputs": []
    },
    {
      "cell_type": "code",
      "source": [
        "# Global list for storing aggreagated metric\n",
        "aggregate_metric_list = []"
      ],
      "metadata": {
        "id": "nPV_dKVHqtHS"
      },
      "execution_count": null,
      "outputs": []
    },
    {
      "cell_type": "code",
      "source": [
        "# Function that calculates the average loss and accuracy\n",
        "def weighted_average(metrics: List[Tuple[int, Metrics]]) -> Metrics:\n",
        "    # Multiply accuracy of each client by number of examples used\n",
        "    accuracies = [num_examples * m[\"accuracy\"] for num_examples, m in metrics]\n",
        "    losses = [num_examples * m[\"loss\"] for num_examples, m in metrics]  # For weighted loss\n",
        "    examples = [num_examples for num_examples, _ in metrics]\n",
        "    accuracy = sum(accuracies) / sum(examples)\n",
        "    loss = sum(losses) / sum(examples)\n",
        "    aggregate_metric_list.append({\"accuracy\": accuracy, \"loss\": loss})\n",
        "    # Aggregate and return custom metric (weighted average)\n",
        "    return {\"accuracy\": accuracy, \"loss\": loss}"
      ],
      "metadata": {
        "id": "qDNW6OUdrco7"
      },
      "execution_count": null,
      "outputs": []
    },
    {
      "cell_type": "code",
      "source": [
        "# Function that creates the Server object contains the Custom Stategy mentioned above\n",
        "def server_fn(context: Context) -> ServerAppComponents:\n",
        "    \"\"\"Construct components that set the ServerApp behaviour.\n",
        "    \"\"\"\n",
        "\n",
        "    strategy = CustomStrategy(\n",
        "        fraction_fit=1.0,\n",
        "        fraction_evaluate=1.0,\n",
        "        min_fit_clients=10,\n",
        "        min_evaluate_clients=10,\n",
        "        min_available_clients=10,\n",
        "        evaluate_metrics_aggregation_fn=weighted_average,  # <-- pass the metric aggregation function\n",
        "    )\n",
        "\n",
        "    # Configure the server for 100 rounds of training\n",
        "    config = ServerConfig(num_rounds=100)\n",
        "\n",
        "    return ServerAppComponents(strategy=strategy, config=config)"
      ],
      "metadata": {
        "id": "yRcWLOxBvNC5"
      },
      "execution_count": null,
      "outputs": []
    },
    {
      "cell_type": "code",
      "source": [
        "# Running the simulation\n",
        "import os\n",
        "os.environ[\"RAY_DEDUP_LOGS\"] = \"0\"\n",
        "\n",
        "# Create a new server instance with the updated FedAvg strategy\n",
        "server = ServerApp(server_fn=server_fn)\n",
        "\n",
        "# Run simulation\n",
        "run_simulation(\n",
        "    server_app=server,\n",
        "    client_app=client,\n",
        "    num_supernodes=NUM_CLIENTS,\n",
        "    backend_config=backend_config,\n",
        ")\n",
        "\n",
        "print(accuracy_per_client_per_round)\n",
        "print(loss_per_client_per_round)\n",
        "print(aggregate_metric_list)"
      ],
      "metadata": {
        "colab": {
          "base_uri": "https://localhost:8080/"
        },
        "id": "5EWBcuQb1_U9",
        "outputId": "2cbdca35-12e5-48e0-a39f-61ce71aaf276"
      },
      "execution_count": null,
      "outputs": [
        {
          "output_type": "stream",
          "name": "stderr",
          "text": [
            "DEBUG:flwr:Asyncio event loop already running.\n",
            "\u001b[92mINFO \u001b[0m:      Starting Flower ServerApp, config: num_rounds=100, no round_timeout\n",
            "\u001b[92mINFO \u001b[0m:      \n",
            "\u001b[92mINFO \u001b[0m:      [INIT]\n",
            "\u001b[92mINFO \u001b[0m:      Requesting initial parameters from one random client\n",
            "\u001b[36m(pid=3836)\u001b[0m 2024-10-15 04:09:07.777605: E external/local_xla/xla/stream_executor/cuda/cuda_fft.cc:485] Unable to register cuFFT factory: Attempting to register factory for plugin cuFFT when one has already been registered\n",
            "\u001b[36m(pid=3836)\u001b[0m 2024-10-15 04:09:07.825175: E external/local_xla/xla/stream_executor/cuda/cuda_dnn.cc:8454] Unable to register cuDNN factory: Attempting to register factory for plugin cuDNN when one has already been registered\n",
            "\u001b[36m(pid=3836)\u001b[0m 2024-10-15 04:09:07.837555: E external/local_xla/xla/stream_executor/cuda/cuda_blas.cc:1452] Unable to register cuBLAS factory: Attempting to register factory for plugin cuBLAS when one has already been registered\n",
            "\u001b[36m(pid=3835)\u001b[0m 2024-10-15 04:09:11.557545: W tensorflow/compiler/tf2tensorrt/utils/py_utils.cc:38] TF-TRT Warning: Could not find TensorRT\n",
            "\u001b[92mINFO \u001b[0m:      Received initial parameters from one random client\n",
            "\u001b[92mINFO \u001b[0m:      Starting evaluation of initial global parameters\n",
            "\u001b[92mINFO \u001b[0m:      Evaluation returned no results (`None`)\n",
            "\u001b[92mINFO \u001b[0m:      \n",
            "\u001b[92mINFO \u001b[0m:      [ROUND 1]\n",
            "\u001b[92mINFO \u001b[0m:      configure_fit: strategy sampled 10 clients (out of 10)\n",
            "\u001b[92mINFO \u001b[0m:      aggregate_fit: received 10 results and 0 failures\n",
            "\u001b[93mWARNING \u001b[0m:   No fit_metrics_aggregation_fn provided\n",
            "\u001b[92mINFO \u001b[0m:      configure_evaluate: strategy sampled 10 clients (out of 10)\n",
            "\u001b[92mINFO \u001b[0m:      aggregate_evaluate: received 10 results and 0 failures\n",
            "\u001b[92mINFO \u001b[0m:      \n",
            "\u001b[92mINFO \u001b[0m:      [ROUND 2]\n",
            "\u001b[92mINFO \u001b[0m:      configure_fit: strategy sampled 10 clients (out of 10)\n"
          ]
        },
        {
          "output_type": "stream",
          "name": "stdout",
          "text": [
            "Round 1 accuracy: 0.1470869932305668\n",
            "Accuracy List for Round 1 : [0.13508612873980055, 0.1382488479262673, 0.14574187884108866, 0.1503461918892186, 0.1476147614761476, 0.16074766355140188, 0.1484375, 0.15406162464985995, 0.12617702448210924, 0.16440831074977416]\n"
          ]
        },
        {
          "output_type": "stream",
          "name": "stderr",
          "text": [
            "\u001b[92mINFO \u001b[0m:      aggregate_fit: received 10 results and 0 failures\n",
            "\u001b[92mINFO \u001b[0m:      configure_evaluate: strategy sampled 10 clients (out of 10)\n",
            "\u001b[92mINFO \u001b[0m:      aggregate_evaluate: received 10 results and 0 failures\n",
            "\u001b[92mINFO \u001b[0m:      \n",
            "\u001b[92mINFO \u001b[0m:      [ROUND 3]\n",
            "\u001b[92mINFO \u001b[0m:      configure_fit: strategy sampled 10 clients (out of 10)\n"
          ]
        },
        {
          "output_type": "stream",
          "name": "stdout",
          "text": [
            "Round 2 accuracy: 0.16984716414315731\n",
            "Accuracy List for Round 2 : [0.17225747960108795, 0.17273576097105509, 0.18091809180918092, 0.1824884792626728, 0.1337099811676083, 0.17309594460929772, 0.15233644859813084, 0.17163504968383017, 0.193359375, 0.16593503072870938]\n"
          ]
        },
        {
          "output_type": "stream",
          "name": "stderr",
          "text": [
            "\u001b[92mINFO \u001b[0m:      aggregate_fit: received 10 results and 0 failures\n",
            "\u001b[92mINFO \u001b[0m:      configure_evaluate: strategy sampled 10 clients (out of 10)\n",
            "\u001b[92mINFO \u001b[0m:      aggregate_evaluate: received 10 results and 0 failures\n",
            "\u001b[92mINFO \u001b[0m:      \n",
            "\u001b[92mINFO \u001b[0m:      [ROUND 4]\n",
            "\u001b[92mINFO \u001b[0m:      configure_fit: strategy sampled 10 clients (out of 10)\n"
          ]
        },
        {
          "output_type": "stream",
          "name": "stdout",
          "text": [
            "Round 3 accuracy: 0.20168087585330657\n",
            "Accuracy List for Round 3 : [0.20184331797235022, 0.19303201506591336, 0.2032520325203252, 0.20915032679738563, 0.22429906542056074, 0.1957857769973661, 0.1926192619261926, 0.1865234375, 0.19764279238440616, 0.21266073194856577]\n"
          ]
        },
        {
          "output_type": "stream",
          "name": "stderr",
          "text": [
            "\u001b[92mINFO \u001b[0m:      aggregate_fit: received 10 results and 0 failures\n",
            "\u001b[92mINFO \u001b[0m:      configure_evaluate: strategy sampled 10 clients (out of 10)\n",
            "\u001b[92mINFO \u001b[0m:      aggregate_evaluate: received 10 results and 0 failures\n",
            "\u001b[92mINFO \u001b[0m:      \n",
            "\u001b[92mINFO \u001b[0m:      [ROUND 5]\n",
            "\u001b[92mINFO \u001b[0m:      configure_fit: strategy sampled 10 clients (out of 10)\n"
          ]
        },
        {
          "output_type": "stream",
          "name": "stdout",
          "text": [
            "Round 4 accuracy: 0.21176262843938795\n",
            "Accuracy List for Round 4 : [0.21068249258160238, 0.21008403361344538, 0.1817325800376648, 0.22027649769585253, 0.2104787714543812, 0.234375, 0.20841121495327103, 0.2115891132572432, 0.2157751586582049, 0.21422142214221424]\n"
          ]
        },
        {
          "output_type": "stream",
          "name": "stderr",
          "text": [
            "\u001b[92mINFO \u001b[0m:      aggregate_fit: received 10 results and 0 failures\n",
            "\u001b[92mINFO \u001b[0m:      configure_evaluate: strategy sampled 10 clients (out of 10)\n",
            "\u001b[92mINFO \u001b[0m:      aggregate_evaluate: received 10 results and 0 failures\n",
            "\u001b[92mINFO \u001b[0m:      \n",
            "\u001b[92mINFO \u001b[0m:      [ROUND 6]\n",
            "\u001b[92mINFO \u001b[0m:      configure_fit: strategy sampled 10 clients (out of 10)\n"
          ]
        },
        {
          "output_type": "stream",
          "name": "stdout",
          "text": [
            "Round 5 accuracy: 0.24512282682250772\n",
            "Accuracy List for Round 5 : [0.24212421242124213, 0.2440737489025461, 0.255859375, 0.21563088512241055, 0.24485981308411214, 0.25564588979223124, 0.2274975272007913, 0.26835902085222124, 0.24556489262371614, 0.25161290322580643]\n"
          ]
        },
        {
          "output_type": "stream",
          "name": "stderr",
          "text": [
            "\u001b[92mINFO \u001b[0m:      aggregate_fit: received 10 results and 0 failures\n",
            "\u001b[92mINFO \u001b[0m:      configure_evaluate: strategy sampled 10 clients (out of 10)\n",
            "\u001b[92mINFO \u001b[0m:      aggregate_evaluate: received 10 results and 0 failures\n",
            "\u001b[92mINFO \u001b[0m:      \n",
            "\u001b[92mINFO \u001b[0m:      [ROUND 7]\n",
            "\u001b[92mINFO \u001b[0m:      configure_fit: strategy sampled 10 clients (out of 10)\n"
          ]
        },
        {
          "output_type": "stream",
          "name": "stdout",
          "text": [
            "Round 6 accuracy: 0.2571275397856337\n",
            "Accuracy List for Round 6 : [0.25021949078138717, 0.26953125, 0.25770308123249297, 0.22937443336355395, 0.2858555885262117, 0.2542372881355932, 0.2570093457943925, 0.2565492321589883, 0.24976958525345622, 0.26102610261026105]\n"
          ]
        },
        {
          "output_type": "stream",
          "name": "stderr",
          "text": [
            "\u001b[92mINFO \u001b[0m:      aggregate_fit: received 10 results and 0 failures\n",
            "\u001b[92mINFO \u001b[0m:      configure_evaluate: strategy sampled 10 clients (out of 10)\n",
            "\u001b[92mINFO \u001b[0m:      aggregate_evaluate: received 10 results and 0 failures\n",
            "\u001b[92mINFO \u001b[0m:      \n",
            "\u001b[92mINFO \u001b[0m:      [ROUND 8]\n",
            "\u001b[92mINFO \u001b[0m:      configure_fit: strategy sampled 10 clients (out of 10)\n"
          ]
        },
        {
          "output_type": "stream",
          "name": "stdout",
          "text": [
            "Round 7 accuracy: 0.26651781346501136\n",
            "Accuracy List for Round 7 : [0.27200791295746785, 0.2485981308411215, 0.26745240253853125, 0.28802880288028804, 0.2728110599078341, 0.2549019607843137, 0.25636523266022826, 0.2587890625, 0.2815442561205273, 0.2646793134598013]\n"
          ]
        },
        {
          "output_type": "stream",
          "name": "stderr",
          "text": [
            "\u001b[92mINFO \u001b[0m:      aggregate_fit: received 10 results and 0 failures\n",
            "\u001b[92mINFO \u001b[0m:      configure_evaluate: strategy sampled 10 clients (out of 10)\n",
            "\u001b[92mINFO \u001b[0m:      aggregate_evaluate: received 10 results and 0 failures\n",
            "\u001b[92mINFO \u001b[0m:      \n",
            "\u001b[92mINFO \u001b[0m:      [ROUND 9]\n",
            "\u001b[92mINFO \u001b[0m:      configure_fit: strategy sampled 10 clients (out of 10)\n"
          ]
        },
        {
          "output_type": "stream",
          "name": "stdout",
          "text": [
            "Round 8 accuracy: 0.2819363610239626\n",
            "Accuracy List for Round 8 : [0.26635514018691586, 0.2969187675070028, 0.2629193109700816, 0.2857142857142857, 0.2889288928892889, 0.2935862691960253, 0.2617702448210923, 0.294921875, 0.26953467954345917, 0.2987141444114738]\n"
          ]
        },
        {
          "output_type": "stream",
          "name": "stderr",
          "text": [
            "\u001b[92mINFO \u001b[0m:      aggregate_fit: received 10 results and 0 failures\n",
            "\u001b[92mINFO \u001b[0m:      configure_evaluate: strategy sampled 10 clients (out of 10)\n",
            "\u001b[92mINFO \u001b[0m:      aggregate_evaluate: received 10 results and 0 failures\n",
            "\u001b[92mINFO \u001b[0m:      \n",
            "\u001b[92mINFO \u001b[0m:      [ROUND 10]\n",
            "\u001b[92mINFO \u001b[0m:      configure_fit: strategy sampled 10 clients (out of 10)\n"
          ]
        },
        {
          "output_type": "stream",
          "name": "stdout",
          "text": [
            "Round 9 accuracy: 0.2866260375058009\n",
            "Accuracy List for Round 9 : [0.2757009345794392, 0.28884986830553117, 0.28944911297852477, 0.26175115207373273, 0.29772502472799206, 0.28532853285328535, 0.28125, 0.3088512241054614, 0.2944896115627823, 0.2828649138712602]\n"
          ]
        },
        {
          "output_type": "stream",
          "name": "stderr",
          "text": [
            "\u001b[92mINFO \u001b[0m:      aggregate_fit: received 10 results and 0 failures\n",
            "\u001b[92mINFO \u001b[0m:      configure_evaluate: strategy sampled 10 clients (out of 10)\n",
            "\u001b[92mINFO \u001b[0m:      aggregate_evaluate: received 10 results and 0 failures\n",
            "\u001b[92mINFO \u001b[0m:      \n",
            "\u001b[92mINFO \u001b[0m:      [ROUND 11]\n",
            "\u001b[92mINFO \u001b[0m:      configure_fit: strategy sampled 10 clients (out of 10)\n"
          ]
        },
        {
          "output_type": "stream",
          "name": "stdout",
          "text": [
            "Round 10 accuracy: 0.2981645174280595\n",
            "Accuracy List for Round 10 : [0.2824858757062147, 0.3177317731773177, 0.3056640625, 0.3037752414398595, 0.31092436974789917, 0.2838709677419355, 0.2953271028037383, 0.27101879327398615, 0.3019038984587489, 0.3089430894308943]\n"
          ]
        },
        {
          "output_type": "stream",
          "name": "stderr",
          "text": [
            "\u001b[92mINFO \u001b[0m:      aggregate_fit: received 10 results and 0 failures\n",
            "\u001b[92mINFO \u001b[0m:      configure_evaluate: strategy sampled 10 clients (out of 10)\n",
            "\u001b[92mINFO \u001b[0m:      aggregate_evaluate: received 10 results and 0 failures\n",
            "\u001b[92mINFO \u001b[0m:      \n",
            "\u001b[92mINFO \u001b[0m:      [ROUND 12]\n",
            "\u001b[92mINFO \u001b[0m:      configure_fit: strategy sampled 10 clients (out of 10)\n"
          ]
        },
        {
          "output_type": "stream",
          "name": "stdout",
          "text": [
            "Round 11 accuracy: 0.30907685880270525\n",
            "Accuracy List for Round 11 : [0.327683615819209, 0.3257243195785777, 0.2981029810298103, 0.28982898289828984, 0.3076162215628091, 0.2921658986175115, 0.3202614379084967, 0.31588785046728973, 0.30099728014505894, 0.3125]\n"
          ]
        },
        {
          "output_type": "stream",
          "name": "stderr",
          "text": [
            "\u001b[92mINFO \u001b[0m:      aggregate_fit: received 10 results and 0 failures\n",
            "\u001b[92mINFO \u001b[0m:      configure_evaluate: strategy sampled 10 clients (out of 10)\n",
            "\u001b[92mINFO \u001b[0m:      aggregate_evaluate: received 10 results and 0 failures\n",
            "\u001b[92mINFO \u001b[0m:      \n",
            "\u001b[92mINFO \u001b[0m:      [ROUND 13]\n",
            "\u001b[92mINFO \u001b[0m:      configure_fit: strategy sampled 10 clients (out of 10)\n"
          ]
        },
        {
          "output_type": "stream",
          "name": "stdout",
          "text": [
            "Round 12 accuracy: 0.3221827114751748\n",
            "Accuracy List for Round 12 : [0.3313550939663699, 0.3512241054613936, 0.3297199638663053, 0.33362598770851626, 0.3082502266545784, 0.326171875, 0.31588785046728973, 0.3195319531953195, 0.32679738562091504, 0.27926267281105993]\n"
          ]
        },
        {
          "output_type": "stream",
          "name": "stderr",
          "text": [
            "\u001b[92mINFO \u001b[0m:      aggregate_fit: received 10 results and 0 failures\n",
            "\u001b[92mINFO \u001b[0m:      configure_evaluate: strategy sampled 10 clients (out of 10)\n",
            "\u001b[92mINFO \u001b[0m:      aggregate_evaluate: received 10 results and 0 failures\n",
            "\u001b[92mINFO \u001b[0m:      \n",
            "\u001b[92mINFO \u001b[0m:      [ROUND 14]\n",
            "\u001b[92mINFO \u001b[0m:      configure_fit: strategy sampled 10 clients (out of 10)\n"
          ]
        },
        {
          "output_type": "stream",
          "name": "stdout",
          "text": [
            "Round 13 accuracy: 0.3321814328374719\n",
            "Accuracy List for Round 13 : [0.35553555355535554, 0.3229755178907721, 0.3224932249322493, 0.33613445378151263, 0.345703125, 0.3555750658472344, 0.32710280373831774, 0.3327289211242067, 0.3050691244239631, 0.31849653808110784]\n"
          ]
        },
        {
          "output_type": "stream",
          "name": "stderr",
          "text": [
            "\u001b[92mINFO \u001b[0m:      aggregate_fit: received 10 results and 0 failures\n",
            "\u001b[92mINFO \u001b[0m:      configure_evaluate: strategy sampled 10 clients (out of 10)\n",
            "\u001b[92mINFO \u001b[0m:      aggregate_evaluate: received 10 results and 0 failures\n",
            "\u001b[92mINFO \u001b[0m:      \n",
            "\u001b[92mINFO \u001b[0m:      [ROUND 15]\n",
            "\u001b[92mINFO \u001b[0m:      configure_fit: strategy sampled 10 clients (out of 10)\n"
          ]
        },
        {
          "output_type": "stream",
          "name": "stdout",
          "text": [
            "Round 14 accuracy: 0.3464719986369923\n",
            "Accuracy List for Round 14 : [0.3634651600753296, 0.3486901535682023, 0.34619188921859545, 0.3272892112420671, 0.33483348334833485, 0.357609710550887, 0.3671875, 0.33274802458296754, 0.3383177570093458, 0.34838709677419355]\n"
          ]
        },
        {
          "output_type": "stream",
          "name": "stderr",
          "text": [
            "\u001b[92mINFO \u001b[0m:      aggregate_fit: received 10 results and 0 failures\n",
            "\u001b[92mINFO \u001b[0m:      configure_evaluate: strategy sampled 10 clients (out of 10)\n",
            "\u001b[92mINFO \u001b[0m:      aggregate_evaluate: received 10 results and 0 failures\n",
            "\u001b[92mINFO \u001b[0m:      \n",
            "\u001b[92mINFO \u001b[0m:      [ROUND 16]\n",
            "\u001b[92mINFO \u001b[0m:      configure_fit: strategy sampled 10 clients (out of 10)\n"
          ]
        },
        {
          "output_type": "stream",
          "name": "stdout",
          "text": [
            "Round 15 accuracy: 0.3561713582093516\n",
            "Accuracy List for Round 15 : [0.3644605621033545, 0.35118525021949076, 0.375, 0.3456221198156682, 0.34817012858555885, 0.3546354635463546, 0.36728971962616824, 0.3436911487758945, 0.3557422969187675, 0.35591689250225833]\n"
          ]
        },
        {
          "output_type": "stream",
          "name": "stderr",
          "text": [
            "\u001b[92mINFO \u001b[0m:      aggregate_fit: received 10 results and 0 failures\n",
            "\u001b[92mINFO \u001b[0m:      configure_evaluate: strategy sampled 10 clients (out of 10)\n",
            "\u001b[92mINFO \u001b[0m:      aggregate_evaluate: received 10 results and 0 failures\n",
            "\u001b[92mINFO \u001b[0m:      \n",
            "\u001b[92mINFO \u001b[0m:      [ROUND 17]\n",
            "\u001b[92mINFO \u001b[0m:      configure_fit: strategy sampled 10 clients (out of 10)\n"
          ]
        },
        {
          "output_type": "stream",
          "name": "stdout",
          "text": [
            "Round 16 accuracy: 0.3620448431411776\n",
            "Accuracy List for Round 16 : [0.36633663366336633, 0.34064969271290607, 0.3559322033898305, 0.3955078125, 0.3535811423390752, 0.3604336043360434, 0.3566760037348273, 0.36993076162215627, 0.3813084112149533, 0.3400921658986175]\n"
          ]
        },
        {
          "output_type": "stream",
          "name": "stderr",
          "text": [
            "\u001b[92mINFO \u001b[0m:      aggregate_fit: received 10 results and 0 failures\n",
            "\u001b[92mINFO \u001b[0m:      configure_evaluate: strategy sampled 10 clients (out of 10)\n",
            "\u001b[92mINFO \u001b[0m:      aggregate_evaluate: received 10 results and 0 failures\n",
            "\u001b[92mINFO \u001b[0m:      \n",
            "\u001b[92mINFO \u001b[0m:      [ROUND 18]\n",
            "\u001b[92mINFO \u001b[0m:      configure_fit: strategy sampled 10 clients (out of 10)\n"
          ]
        },
        {
          "output_type": "stream",
          "name": "stdout",
          "text": [
            "Round 17 accuracy: 0.3761598218281993\n",
            "Accuracy List for Round 17 : [0.3474654377880184, 0.37353735373537356, 0.3713784021071115, 0.36224028906955735, 0.37190900098911966, 0.37080689029918407, 0.4140625, 0.3860640301318267, 0.3878504672897196, 0.37628384687208216]\n"
          ]
        },
        {
          "output_type": "stream",
          "name": "stderr",
          "text": [
            "\u001b[92mINFO \u001b[0m:      aggregate_fit: received 10 results and 0 failures\n",
            "\u001b[92mINFO \u001b[0m:      configure_evaluate: strategy sampled 10 clients (out of 10)\n",
            "\u001b[92mINFO \u001b[0m:      aggregate_evaluate: received 10 results and 0 failures\n",
            "\u001b[92mINFO \u001b[0m:      \n",
            "\u001b[92mINFO \u001b[0m:      [ROUND 19]\n",
            "\u001b[92mINFO \u001b[0m:      configure_fit: strategy sampled 10 clients (out of 10)\n"
          ]
        },
        {
          "output_type": "stream",
          "name": "stdout",
          "text": [
            "Round 18 accuracy: 0.3787862965014355\n",
            "Accuracy List for Round 18 : [0.39532710280373834, 0.3653671804170444, 0.3845478489903424, 0.3695852534562212, 0.3662109375, 0.38343834383438347, 0.38935574229691877, 0.390702274975272, 0.3747645951035782, 0.3685636856368564]\n"
          ]
        },
        {
          "output_type": "stream",
          "name": "stderr",
          "text": [
            "\u001b[92mINFO \u001b[0m:      aggregate_fit: received 10 results and 0 failures\n",
            "\u001b[92mINFO \u001b[0m:      configure_evaluate: strategy sampled 10 clients (out of 10)\n",
            "\u001b[92mINFO \u001b[0m:      aggregate_evaluate: received 10 results and 0 failures\n",
            "\u001b[92mINFO \u001b[0m:      \n",
            "\u001b[92mINFO \u001b[0m:      [ROUND 20]\n",
            "\u001b[92mINFO \u001b[0m:      configure_fit: strategy sampled 10 clients (out of 10)\n"
          ]
        },
        {
          "output_type": "stream",
          "name": "stdout",
          "text": [
            "Round 19 accuracy: 0.38458200951902277\n",
            "Accuracy List for Round 19 : [0.391705069124424, 0.3501350135013501, 0.39402427637721754, 0.3720703125, 0.3758654797230465, 0.37262012692656393, 0.41553748870822044, 0.3822429906542056, 0.3851224105461394, 0.4064969271290606]\n"
          ]
        },
        {
          "output_type": "stream",
          "name": "stderr",
          "text": [
            "\u001b[92mINFO \u001b[0m:      aggregate_fit: received 10 results and 0 failures\n",
            "\u001b[92mINFO \u001b[0m:      configure_evaluate: strategy sampled 10 clients (out of 10)\n",
            "\u001b[92mINFO \u001b[0m:      aggregate_evaluate: received 10 results and 0 failures\n",
            "\u001b[92mINFO \u001b[0m:      \n",
            "\u001b[92mINFO \u001b[0m:      [ROUND 21]\n",
            "\u001b[92mINFO \u001b[0m:      configure_fit: strategy sampled 10 clients (out of 10)\n"
          ]
        },
        {
          "output_type": "stream",
          "name": "stdout",
          "text": [
            "Round 20 accuracy: 0.4067874166631829\n",
            "Accuracy List for Round 20 : [0.39775910364145656, 0.414041404140414, 0.42054433713784023, 0.4130859375, 0.3956639566395664, 0.40921658986175113, 0.4011299435028249, 0.40654205607476634, 0.4043517679057117, 0.4055390702274975]\n"
          ]
        },
        {
          "output_type": "stream",
          "name": "stderr",
          "text": [
            "\u001b[92mINFO \u001b[0m:      aggregate_fit: received 10 results and 0 failures\n",
            "\u001b[92mINFO \u001b[0m:      configure_evaluate: strategy sampled 10 clients (out of 10)\n",
            "\u001b[92mINFO \u001b[0m:      aggregate_evaluate: received 10 results and 0 failures\n",
            "\u001b[92mINFO \u001b[0m:      \n",
            "\u001b[92mINFO \u001b[0m:      [ROUND 22]\n",
            "\u001b[92mINFO \u001b[0m:      configure_fit: strategy sampled 10 clients (out of 10)\n"
          ]
        },
        {
          "output_type": "stream",
          "name": "stdout",
          "text": [
            "Round 21 accuracy: 0.39880833291216955\n",
            "Accuracy List for Round 21 : [0.3851224105461394, 0.398595258999122, 0.3955078125, 0.4158415841584158, 0.37880184331797234, 0.4092140921409214, 0.4046728971962617, 0.40072529465095197, 0.37289812067260136, 0.42670401493930904]\n"
          ]
        },
        {
          "output_type": "stream",
          "name": "stderr",
          "text": [
            "\u001b[92mINFO \u001b[0m:      aggregate_fit: received 10 results and 0 failures\n",
            "\u001b[92mINFO \u001b[0m:      configure_evaluate: strategy sampled 10 clients (out of 10)\n",
            "\u001b[92mINFO \u001b[0m:      aggregate_evaluate: received 10 results and 0 failures\n",
            "\u001b[92mINFO \u001b[0m:      \n",
            "\u001b[92mINFO \u001b[0m:      [ROUND 23]\n",
            "\u001b[92mINFO \u001b[0m:      configure_fit: strategy sampled 10 clients (out of 10)\n"
          ]
        },
        {
          "output_type": "stream",
          "name": "stdout",
          "text": [
            "Round 22 accuracy: 0.4088060563725202\n",
            "Accuracy List for Round 22 : [0.40684068406840684, 0.4042950513538749, 0.4125113327289211, 0.45257452574525747, 0.38279192273924495, 0.4114737883283877, 0.39631336405529954, 0.3984375, 0.4274952919020716, 0.39532710280373834]\n"
          ]
        },
        {
          "output_type": "stream",
          "name": "stderr",
          "text": [
            "\u001b[92mINFO \u001b[0m:      aggregate_fit: received 10 results and 0 failures\n",
            "\u001b[92mINFO \u001b[0m:      configure_evaluate: strategy sampled 10 clients (out of 10)\n",
            "\u001b[92mINFO \u001b[0m:      aggregate_evaluate: received 10 results and 0 failures\n",
            "\u001b[92mINFO \u001b[0m:      \n",
            "\u001b[92mINFO \u001b[0m:      [ROUND 24]\n",
            "\u001b[92mINFO \u001b[0m:      configure_fit: strategy sampled 10 clients (out of 10)\n"
          ]
        },
        {
          "output_type": "stream",
          "name": "stdout",
          "text": [
            "Round 23 accuracy: 0.4073054733963333\n",
            "Accuracy List for Round 23 : [0.4046973803071364, 0.38562091503267976, 0.4188576609247507, 0.408203125, 0.38433179723502303, 0.4143126177024482, 0.4302019315188762, 0.41641938674579626, 0.3747663551401869, 0.43564356435643564]\n"
          ]
        },
        {
          "output_type": "stream",
          "name": "stderr",
          "text": [
            "\u001b[92mINFO \u001b[0m:      aggregate_fit: received 10 results and 0 failures\n",
            "\u001b[92mINFO \u001b[0m:      configure_evaluate: strategy sampled 10 clients (out of 10)\n",
            "\u001b[92mINFO \u001b[0m:      aggregate_evaluate: received 10 results and 0 failures\n",
            "\u001b[92mINFO \u001b[0m:      \n",
            "\u001b[92mINFO \u001b[0m:      [ROUND 25]\n",
            "\u001b[92mINFO \u001b[0m:      configure_fit: strategy sampled 10 clients (out of 10)\n"
          ]
        },
        {
          "output_type": "stream",
          "name": "stdout",
          "text": [
            "Round 24 accuracy: 0.4257327696398522\n",
            "Accuracy List for Round 24 : [0.4443359375, 0.4352126607319486, 0.417910447761194, 0.41363211951447243, 0.3992773261065944, 0.4442429737080689, 0.4439252336448598, 0.4239423942394239, 0.4265536723163842, 0.40829493087557606]\n"
          ]
        },
        {
          "output_type": "stream",
          "name": "stderr",
          "text": [
            "\u001b[92mINFO \u001b[0m:      aggregate_fit: received 10 results and 0 failures\n",
            "\u001b[92mINFO \u001b[0m:      configure_evaluate: strategy sampled 10 clients (out of 10)\n",
            "\u001b[92mINFO \u001b[0m:      aggregate_evaluate: received 10 results and 0 failures\n",
            "\u001b[92mINFO \u001b[0m:      \n",
            "\u001b[92mINFO \u001b[0m:      [ROUND 26]\n",
            "\u001b[92mINFO \u001b[0m:      configure_fit: strategy sampled 10 clients (out of 10)\n"
          ]
        },
        {
          "output_type": "stream",
          "name": "stdout",
          "text": [
            "Round 25 accuracy: 0.4364716415876425\n",
            "Accuracy List for Round 25 : [0.4401582591493571, 0.45004500450045004, 0.42296918767507, 0.451171875, 0.44242973708068906, 0.4363143631436314, 0.41382488479262675, 0.4308411214953271, 0.437225636523266, 0.4397363465160075]\n"
          ]
        },
        {
          "output_type": "stream",
          "name": "stderr",
          "text": [
            "\u001b[92mINFO \u001b[0m:      aggregate_fit: received 10 results and 0 failures\n",
            "\u001b[92mINFO \u001b[0m:      configure_evaluate: strategy sampled 10 clients (out of 10)\n",
            "\u001b[92mINFO \u001b[0m:      aggregate_evaluate: received 10 results and 0 failures\n",
            "\u001b[92mINFO \u001b[0m:      \n",
            "\u001b[92mINFO \u001b[0m:      [ROUND 27]\n",
            "\u001b[92mINFO \u001b[0m:      configure_fit: strategy sampled 10 clients (out of 10)\n"
          ]
        },
        {
          "output_type": "stream",
          "name": "stdout",
          "text": [
            "Round 26 accuracy: 0.43057310205141713\n",
            "Accuracy List for Round 26 : [0.42484248424842486, 0.423963133640553, 0.4491525423728814, 0.41083099906629317, 0.4372177055103884, 0.4457943925233645, 0.43064369900271987, 0.4541015625, 0.42532146389713155, 0.4038630377524144]\n"
          ]
        },
        {
          "output_type": "stream",
          "name": "stderr",
          "text": [
            "\u001b[92mINFO \u001b[0m:      aggregate_fit: received 10 results and 0 failures\n",
            "\u001b[92mINFO \u001b[0m:      configure_evaluate: strategy sampled 10 clients (out of 10)\n",
            "\u001b[92mINFO \u001b[0m:      aggregate_evaluate: received 10 results and 0 failures\n",
            "\u001b[92mINFO \u001b[0m:      \n",
            "\u001b[92mINFO \u001b[0m:      [ROUND 28]\n",
            "\u001b[92mINFO \u001b[0m:      configure_fit: strategy sampled 10 clients (out of 10)\n"
          ]
        },
        {
          "output_type": "stream",
          "name": "stdout",
          "text": [
            "Round 27 accuracy: 0.4235851525470843\n",
            "Accuracy List for Round 27 : [0.4240561896400351, 0.40625, 0.4270172257479601, 0.43604108309990663, 0.44205607476635517, 0.4128274616079494, 0.4045499505440158, 0.4406779661016949, 0.4239423942394239, 0.4184331797235023]\n"
          ]
        },
        {
          "output_type": "stream",
          "name": "stderr",
          "text": [
            "\u001b[92mINFO \u001b[0m:      aggregate_fit: received 10 results and 0 failures\n",
            "\u001b[92mINFO \u001b[0m:      configure_evaluate: strategy sampled 10 clients (out of 10)\n",
            "\u001b[92mINFO \u001b[0m:      aggregate_evaluate: received 10 results and 0 failures\n",
            "\u001b[92mINFO \u001b[0m:      \n",
            "\u001b[92mINFO \u001b[0m:      [ROUND 29]\n",
            "\u001b[92mINFO \u001b[0m:      configure_fit: strategy sampled 10 clients (out of 10)\n"
          ]
        },
        {
          "output_type": "stream",
          "name": "stdout",
          "text": [
            "Round 28 accuracy: 0.44239549173144316\n",
            "Accuracy List for Round 28 : [0.4496826835902085, 0.44914491449144917, 0.432258064516129, 0.4326171875, 0.4310798946444249, 0.42149532710280374, 0.453781512605042, 0.44411473788328387, 0.4472693032015066, 0.46251129177958444]\n"
          ]
        },
        {
          "output_type": "stream",
          "name": "stderr",
          "text": [
            "\u001b[92mINFO \u001b[0m:      aggregate_fit: received 10 results and 0 failures\n",
            "\u001b[92mINFO \u001b[0m:      configure_evaluate: strategy sampled 10 clients (out of 10)\n",
            "\u001b[92mINFO \u001b[0m:      aggregate_evaluate: received 10 results and 0 failures\n",
            "\u001b[92mINFO \u001b[0m:      \n",
            "\u001b[92mINFO \u001b[0m:      [ROUND 30]\n",
            "\u001b[92mINFO \u001b[0m:      configure_fit: strategy sampled 10 clients (out of 10)\n"
          ]
        },
        {
          "output_type": "stream",
          "name": "stdout",
          "text": [
            "Round 29 accuracy: 0.44218216846286545\n",
            "Accuracy List for Round 29 : [0.4717514124293785, 0.41944194419441944, 0.4323062558356676, 0.42532146389713155, 0.44152311876699907, 0.42230026338893767, 0.46070460704607047, 0.4462890625, 0.44423963133640554, 0.45794392523364486]\n"
          ]
        },
        {
          "output_type": "stream",
          "name": "stderr",
          "text": [
            "\u001b[92mINFO \u001b[0m:      aggregate_fit: received 10 results and 0 failures\n",
            "\u001b[92mINFO \u001b[0m:      configure_evaluate: strategy sampled 10 clients (out of 10)\n",
            "\u001b[92mINFO \u001b[0m:      aggregate_evaluate: received 10 results and 0 failures\n",
            "\u001b[92mINFO \u001b[0m:      \n",
            "\u001b[92mINFO \u001b[0m:      [ROUND 31]\n",
            "\u001b[92mINFO \u001b[0m:      configure_fit: strategy sampled 10 clients (out of 10)\n"
          ]
        },
        {
          "output_type": "stream",
          "name": "stdout",
          "text": [
            "Round 30 accuracy: 0.4582524323721621\n",
            "Accuracy List for Round 30 : [0.4560546875, 0.4751580849141825, 0.4603174603174603, 0.4439252336448598, 0.44510385756676557, 0.5009416195856874, 0.44516129032258067, 0.44161545215100967, 0.44824482448244823, 0.46600181323662737]\n"
          ]
        },
        {
          "output_type": "stream",
          "name": "stderr",
          "text": [
            "\u001b[92mINFO \u001b[0m:      aggregate_fit: received 10 results and 0 failures\n",
            "\u001b[92mINFO \u001b[0m:      configure_evaluate: strategy sampled 10 clients (out of 10)\n",
            "\u001b[92mINFO \u001b[0m:      aggregate_evaluate: received 10 results and 0 failures\n",
            "\u001b[92mINFO \u001b[0m:      \n",
            "\u001b[92mINFO \u001b[0m:      [ROUND 32]\n",
            "\u001b[92mINFO \u001b[0m:      configure_fit: strategy sampled 10 clients (out of 10)\n"
          ]
        },
        {
          "output_type": "stream",
          "name": "stdout",
          "text": [
            "Round 31 accuracy: 0.4587779632113273\n",
            "Accuracy List for Round 31 : [0.46872082166199813, 0.4932249322493225, 0.4411214953271028, 0.4768812330009066, 0.4629080118694362, 0.4375, 0.4503950834064969, 0.43384338433843384, 0.4632768361581921, 0.4599078341013825]\n"
          ]
        },
        {
          "output_type": "stream",
          "name": "stderr",
          "text": [
            "\u001b[92mINFO \u001b[0m:      aggregate_fit: received 10 results and 0 failures\n",
            "\u001b[92mINFO \u001b[0m:      configure_evaluate: strategy sampled 10 clients (out of 10)\n",
            "\u001b[92mINFO \u001b[0m:      aggregate_evaluate: received 10 results and 0 failures\n",
            "\u001b[92mINFO \u001b[0m:      \n",
            "\u001b[92mINFO \u001b[0m:      [ROUND 33]\n",
            "\u001b[92mINFO \u001b[0m:      configure_fit: strategy sampled 10 clients (out of 10)\n"
          ]
        },
        {
          "output_type": "stream",
          "name": "stdout",
          "text": [
            "Round 32 accuracy: 0.4650201179497492\n",
            "Accuracy List for Round 32 : [0.4716796875, 0.4603174603174603, 0.4691588785046729, 0.4783410138248848, 0.47058823529411764, 0.457842248413418, 0.44194419441944194, 0.4764595103578154, 0.4658753709198813, 0.45799457994579945]\n"
          ]
        },
        {
          "output_type": "stream",
          "name": "stderr",
          "text": [
            "\u001b[92mINFO \u001b[0m:      aggregate_fit: received 10 results and 0 failures\n",
            "\u001b[92mINFO \u001b[0m:      configure_evaluate: strategy sampled 10 clients (out of 10)\n",
            "\u001b[92mINFO \u001b[0m:      aggregate_evaluate: received 10 results and 0 failures\n",
            "\u001b[92mINFO \u001b[0m:      \n",
            "\u001b[92mINFO \u001b[0m:      [ROUND 34]\n",
            "\u001b[92mINFO \u001b[0m:      configure_fit: strategy sampled 10 clients (out of 10)\n"
          ]
        },
        {
          "output_type": "stream",
          "name": "stdout",
          "text": [
            "Round 33 accuracy: 0.46853837971309487\n",
            "Accuracy List for Round 33 : [0.4524025385312783, 0.46264626462646263, 0.4668534080298786, 0.48419150858175247, 0.4784899034240562, 0.4755859375, 0.47477744807121663, 0.4651600753295669, 0.46359447004608295, 0.4616822429906542]\n"
          ]
        },
        {
          "output_type": "stream",
          "name": "stderr",
          "text": [
            "\u001b[92mINFO \u001b[0m:      aggregate_fit: received 10 results and 0 failures\n",
            "\u001b[92mINFO \u001b[0m:      configure_evaluate: strategy sampled 10 clients (out of 10)\n",
            "\u001b[92mINFO \u001b[0m:      aggregate_evaluate: received 10 results and 0 failures\n",
            "\u001b[92mINFO \u001b[0m:      \n",
            "\u001b[92mINFO \u001b[0m:      [ROUND 35]\n",
            "\u001b[92mINFO \u001b[0m:      configure_fit: strategy sampled 10 clients (out of 10)\n"
          ]
        },
        {
          "output_type": "stream",
          "name": "stdout",
          "text": [
            "Round 34 accuracy: 0.4662927367206862\n",
            "Accuracy List for Round 34 : [0.45714285714285713, 0.4638971315529179, 0.48878504672897194, 0.46872166817769717, 0.45094509450945097, 0.46251129177958444, 0.46093064091308167, 0.4717514124293785, 0.4519140989729225, 0.486328125]\n"
          ]
        },
        {
          "output_type": "stream",
          "name": "stderr",
          "text": [
            "\u001b[92mINFO \u001b[0m:      aggregate_fit: received 10 results and 0 failures\n",
            "\u001b[92mINFO \u001b[0m:      configure_evaluate: strategy sampled 10 clients (out of 10)\n",
            "\u001b[92mINFO \u001b[0m:      aggregate_evaluate: received 10 results and 0 failures\n",
            "\u001b[92mINFO \u001b[0m:      \n",
            "\u001b[92mINFO \u001b[0m:      [ROUND 36]\n",
            "\u001b[92mINFO \u001b[0m:      configure_fit: strategy sampled 10 clients (out of 10)\n"
          ]
        },
        {
          "output_type": "stream",
          "name": "stdout",
          "text": [
            "Round 35 accuracy: 0.4739777253420696\n",
            "Accuracy List for Round 35 : [0.49159248269040556, 0.49864986498649866, 0.4783410138248848, 0.4654205607476635, 0.47244805781391147, 0.44776119402985076, 0.4821092278719397, 0.48739495798319327, 0.4551223934723481, 0.4609375]\n"
          ]
        },
        {
          "output_type": "stream",
          "name": "stderr",
          "text": [
            "\u001b[92mINFO \u001b[0m:      aggregate_fit: received 10 results and 0 failures\n",
            "\u001b[92mINFO \u001b[0m:      configure_evaluate: strategy sampled 10 clients (out of 10)\n",
            "\u001b[92mINFO \u001b[0m:      aggregate_evaluate: received 10 results and 0 failures\n",
            "\u001b[92mINFO \u001b[0m:      \n",
            "\u001b[92mINFO \u001b[0m:      [ROUND 37]\n",
            "\u001b[92mINFO \u001b[0m:      configure_fit: strategy sampled 10 clients (out of 10)\n"
          ]
        },
        {
          "output_type": "stream",
          "name": "stdout",
          "text": [
            "Round 36 accuracy: 0.4688331243955847\n",
            "Accuracy List for Round 36 : [0.4678536102868447, 0.4689265536723164, 0.46261682242990654, 0.46354635463546356, 0.4774193548387097, 0.4551223934723481, 0.46093064091308167, 0.47245564892623715, 0.4760614272809395, 0.4833984375]\n"
          ]
        },
        {
          "output_type": "stream",
          "name": "stderr",
          "text": [
            "\u001b[92mINFO \u001b[0m:      aggregate_fit: received 10 results and 0 failures\n",
            "\u001b[92mINFO \u001b[0m:      configure_evaluate: strategy sampled 10 clients (out of 10)\n",
            "\u001b[92mINFO \u001b[0m:      aggregate_evaluate: received 10 results and 0 failures\n",
            "\u001b[92mINFO \u001b[0m:      \n",
            "\u001b[92mINFO \u001b[0m:      [ROUND 38]\n",
            "\u001b[92mINFO \u001b[0m:      configure_fit: strategy sampled 10 clients (out of 10)\n"
          ]
        },
        {
          "output_type": "stream",
          "name": "stdout",
          "text": [
            "Round 37 accuracy: 0.4755056181209586\n",
            "Accuracy List for Round 37 : [0.4986175115207373, 0.4717514124293785, 0.486646884272997, 0.48509485094850946, 0.4828797190517998, 0.45938375350140054, 0.46875, 0.4869158878504673, 0.44786944696282865, 0.4671467146714671]\n"
          ]
        },
        {
          "output_type": "stream",
          "name": "stderr",
          "text": [
            "\u001b[92mINFO \u001b[0m:      aggregate_fit: received 10 results and 0 failures\n",
            "\u001b[92mINFO \u001b[0m:      configure_evaluate: strategy sampled 10 clients (out of 10)\n",
            "\u001b[92mINFO \u001b[0m:      aggregate_evaluate: received 10 results and 0 failures\n",
            "\u001b[92mINFO \u001b[0m:      \n",
            "\u001b[92mINFO \u001b[0m:      [ROUND 39]\n",
            "\u001b[92mINFO \u001b[0m:      configure_fit: strategy sampled 10 clients (out of 10)\n"
          ]
        },
        {
          "output_type": "stream",
          "name": "stdout",
          "text": [
            "Round 38 accuracy: 0.4735746882545221\n",
            "Accuracy List for Round 38 : [0.455743879472693, 0.47164716471647167, 0.4914182475158085, 0.477124183006536, 0.48024582967515367, 0.4807121661721068, 0.4921875, 0.45607476635514016, 0.46912442396313364, 0.4614687216681777]\n"
          ]
        },
        {
          "output_type": "stream",
          "name": "stderr",
          "text": [
            "\u001b[92mINFO \u001b[0m:      aggregate_fit: received 10 results and 0 failures\n",
            "\u001b[92mINFO \u001b[0m:      configure_evaluate: strategy sampled 10 clients (out of 10)\n",
            "\u001b[92mINFO \u001b[0m:      aggregate_evaluate: received 10 results and 0 failures\n",
            "\u001b[92mINFO \u001b[0m:      \n",
            "\u001b[92mINFO \u001b[0m:      [ROUND 40]\n",
            "\u001b[92mINFO \u001b[0m:      configure_fit: strategy sampled 10 clients (out of 10)\n"
          ]
        },
        {
          "output_type": "stream",
          "name": "stdout",
          "text": [
            "Round 39 accuracy: 0.4875236796376322\n",
            "Accuracy List for Round 39 : [0.4785046728971963, 0.46591970121381887, 0.4959202175883953, 0.48110599078341015, 0.5074183976261127, 0.4921875, 0.4971751412429379, 0.45994599459945995, 0.47673397717295873, 0.5203252032520326]\n"
          ]
        },
        {
          "output_type": "stream",
          "name": "stderr",
          "text": [
            "\u001b[92mINFO \u001b[0m:      aggregate_fit: received 10 results and 0 failures\n",
            "\u001b[92mINFO \u001b[0m:      configure_evaluate: strategy sampled 10 clients (out of 10)\n",
            "\u001b[92mINFO \u001b[0m:      aggregate_evaluate: received 10 results and 0 failures\n",
            "\u001b[92mINFO \u001b[0m:      \n",
            "\u001b[92mINFO \u001b[0m:      [ROUND 41]\n",
            "\u001b[92mINFO \u001b[0m:      configure_fit: strategy sampled 10 clients (out of 10)\n"
          ]
        },
        {
          "output_type": "stream",
          "name": "stdout",
          "text": [
            "Round 40 accuracy: 0.48103985827052725\n",
            "Accuracy List for Round 40 : [0.5085817524841915, 0.5112994350282486, 0.4939309056956116, 0.4863915715539947, 0.4626728110599078, 0.45994599459945995, 0.4836795252225519, 0.4658203125, 0.47570093457943924, 0.46237533998186764]\n"
          ]
        },
        {
          "output_type": "stream",
          "name": "stderr",
          "text": [
            "\u001b[92mINFO \u001b[0m:      aggregate_fit: received 10 results and 0 failures\n",
            "\u001b[92mINFO \u001b[0m:      configure_evaluate: strategy sampled 10 clients (out of 10)\n",
            "\u001b[92mINFO \u001b[0m:      aggregate_evaluate: received 10 results and 0 failures\n",
            "\u001b[92mINFO \u001b[0m:      \n",
            "\u001b[92mINFO \u001b[0m:      [ROUND 42]\n",
            "\u001b[92mINFO \u001b[0m:      configure_fit: strategy sampled 10 clients (out of 10)\n"
          ]
        },
        {
          "output_type": "stream",
          "name": "stdout",
          "text": [
            "Round 41 accuracy: 0.47933670377860904\n",
            "Accuracy List for Round 41 : [0.4892623716153128, 0.4697102721685689, 0.46600181323662737, 0.49950544015825915, 0.4924670433145009, 0.44921875, 0.47434743474347435, 0.4785046728971963, 0.48202764976958523, 0.49232158988256547]\n"
          ]
        },
        {
          "output_type": "stream",
          "name": "stderr",
          "text": [
            "\u001b[92mINFO \u001b[0m:      aggregate_fit: received 10 results and 0 failures\n",
            "\u001b[92mINFO \u001b[0m:      configure_evaluate: strategy sampled 10 clients (out of 10)\n",
            "\u001b[92mINFO \u001b[0m:      aggregate_evaluate: received 10 results and 0 failures\n",
            "\u001b[92mINFO \u001b[0m:      \n",
            "\u001b[92mINFO \u001b[0m:      [ROUND 43]\n",
            "\u001b[92mINFO \u001b[0m:      configure_fit: strategy sampled 10 clients (out of 10)\n"
          ]
        },
        {
          "output_type": "stream",
          "name": "stdout",
          "text": [
            "Round 42 accuracy: 0.48887037549568985\n",
            "Accuracy List for Round 42 : [0.484593837535014, 0.47704770477047703, 0.4697102721685689, 0.485040797824116, 0.45981308411214955, 0.48663594470046084, 0.5004945598417408, 0.5141242937853108, 0.5239385727190605, 0.4873046875]\n"
          ]
        },
        {
          "output_type": "stream",
          "name": "stderr",
          "text": [
            "\u001b[92mINFO \u001b[0m:      aggregate_fit: received 10 results and 0 failures\n",
            "\u001b[92mINFO \u001b[0m:      configure_evaluate: strategy sampled 10 clients (out of 10)\n",
            "\u001b[92mINFO \u001b[0m:      aggregate_evaluate: received 10 results and 0 failures\n",
            "\u001b[92mINFO \u001b[0m:      \n",
            "\u001b[92mINFO \u001b[0m:      [ROUND 44]\n",
            "\u001b[92mINFO \u001b[0m:      configure_fit: strategy sampled 10 clients (out of 10)\n"
          ]
        },
        {
          "output_type": "stream",
          "name": "stdout",
          "text": [
            "Round 43 accuracy: 0.4942789033530476\n",
            "Accuracy List for Round 43 : [0.5107376283846872, 0.4715447154471545, 0.5188323917137476, 0.5224609375, 0.49851632047477745, 0.49054905490549056, 0.48202764976958523, 0.4741613780598368, 0.49078138718173836, 0.48317757009345796]\n"
          ]
        },
        {
          "output_type": "stream",
          "name": "stderr",
          "text": [
            "\u001b[92mINFO \u001b[0m:      aggregate_fit: received 10 results and 0 failures\n",
            "\u001b[92mINFO \u001b[0m:      configure_evaluate: strategy sampled 10 clients (out of 10)\n",
            "\u001b[92mINFO \u001b[0m:      aggregate_evaluate: received 10 results and 0 failures\n",
            "\u001b[92mINFO \u001b[0m:      \n",
            "\u001b[92mINFO \u001b[0m:      [ROUND 45]\n",
            "\u001b[92mINFO \u001b[0m:      configure_fit: strategy sampled 10 clients (out of 10)\n"
          ]
        },
        {
          "output_type": "stream",
          "name": "stdout",
          "text": [
            "Round 44 accuracy: 0.49900220817432483\n",
            "Accuracy List for Round 44 : [0.5185856754306437, 0.5263653483992468, 0.51171875, 0.4588785046728972, 0.5194218608852755, 0.5291790306627102, 0.47974797479747977, 0.480184331797235, 0.47761194029850745, 0.488328664799253]\n"
          ]
        },
        {
          "output_type": "stream",
          "name": "stderr",
          "text": [
            "\u001b[92mINFO \u001b[0m:      aggregate_fit: received 10 results and 0 failures\n",
            "\u001b[92mINFO \u001b[0m:      configure_evaluate: strategy sampled 10 clients (out of 10)\n",
            "\u001b[92mINFO \u001b[0m:      aggregate_evaluate: received 10 results and 0 failures\n",
            "\u001b[92mINFO \u001b[0m:      \n",
            "\u001b[92mINFO \u001b[0m:      [ROUND 46]\n",
            "\u001b[92mINFO \u001b[0m:      configure_fit: strategy sampled 10 clients (out of 10)\n"
          ]
        },
        {
          "output_type": "stream",
          "name": "stdout",
          "text": [
            "Round 45 accuracy: 0.5020701458160046\n",
            "Accuracy List for Round 45 : [0.5065847234416154, 0.48514851485148514, 0.5121495327102804, 0.4877606527651859, 0.48847926267281105, 0.5004945598417408, 0.5172735760971056, 0.5176151761517616, 0.5178907721280602, 0.4873046875]\n"
          ]
        },
        {
          "output_type": "stream",
          "name": "stderr",
          "text": [
            "\u001b[92mINFO \u001b[0m:      aggregate_fit: received 10 results and 0 failures\n",
            "\u001b[92mINFO \u001b[0m:      configure_evaluate: strategy sampled 10 clients (out of 10)\n",
            "\u001b[92mINFO \u001b[0m:      aggregate_evaluate: received 10 results and 0 failures\n",
            "\u001b[92mINFO \u001b[0m:      \n",
            "\u001b[92mINFO \u001b[0m:      [ROUND 47]\n",
            "\u001b[92mINFO \u001b[0m:      configure_fit: strategy sampled 10 clients (out of 10)\n"
          ]
        },
        {
          "output_type": "stream",
          "name": "stdout",
          "text": [
            "Round 46 accuracy: 0.49704268113519634\n",
            "Accuracy List for Round 46 : [0.49692712906057945, 0.49019607843137253, 0.4986175115207373, 0.51953125, 0.4905838041431262, 0.49752720079129575, 0.5202520252025202, 0.4823209428830462, 0.4950316169828365, 0.4794392523364486]\n"
          ]
        },
        {
          "output_type": "stream",
          "name": "stderr",
          "text": [
            "\u001b[92mINFO \u001b[0m:      aggregate_fit: received 10 results and 0 failures\n",
            "\u001b[92mINFO \u001b[0m:      configure_evaluate: strategy sampled 10 clients (out of 10)\n",
            "\u001b[92mINFO \u001b[0m:      aggregate_evaluate: received 10 results and 0 failures\n",
            "\u001b[92mINFO \u001b[0m:      \n",
            "\u001b[92mINFO \u001b[0m:      [ROUND 48]\n",
            "\u001b[92mINFO \u001b[0m:      configure_fit: strategy sampled 10 clients (out of 10)\n"
          ]
        },
        {
          "output_type": "stream",
          "name": "stdout",
          "text": [
            "Round 47 accuracy: 0.5106903699780079\n",
            "Accuracy List for Round 47 : [0.49684968496849685, 0.5133531157270029, 0.49692712906057945, 0.5051353874883286, 0.5271889400921659, 0.5167118337850045, 0.4853515625, 0.514018691588785, 0.5231187669990934, 0.5282485875706214]\n"
          ]
        },
        {
          "output_type": "stream",
          "name": "stderr",
          "text": [
            "\u001b[92mINFO \u001b[0m:      aggregate_fit: received 10 results and 0 failures\n",
            "\u001b[92mINFO \u001b[0m:      configure_evaluate: strategy sampled 10 clients (out of 10)\n",
            "\u001b[92mINFO \u001b[0m:      aggregate_evaluate: received 10 results and 0 failures\n",
            "\u001b[92mINFO \u001b[0m:      \n",
            "\u001b[92mINFO \u001b[0m:      [ROUND 49]\n",
            "\u001b[92mINFO \u001b[0m:      configure_fit: strategy sampled 10 clients (out of 10)\n"
          ]
        },
        {
          "output_type": "stream",
          "name": "stdout",
          "text": [
            "Round 48 accuracy: 0.5059277612596463\n",
            "Accuracy List for Round 48 : [0.49752720079129575, 0.48179271708683474, 0.5262672811059907, 0.51171875, 0.49229374433363554, 0.49692712906057945, 0.5065420560747663, 0.5230352303523035, 0.5254237288135594, 0.4977497749774977]\n"
          ]
        },
        {
          "output_type": "stream",
          "name": "stderr",
          "text": [
            "\u001b[92mINFO \u001b[0m:      aggregate_fit: received 10 results and 0 failures\n",
            "\u001b[92mINFO \u001b[0m:      configure_evaluate: strategy sampled 10 clients (out of 10)\n",
            "\u001b[92mINFO \u001b[0m:      aggregate_evaluate: received 10 results and 0 failures\n",
            "\u001b[92mINFO \u001b[0m:      \n",
            "\u001b[92mINFO \u001b[0m:      [ROUND 50]\n",
            "\u001b[92mINFO \u001b[0m:      configure_fit: strategy sampled 10 clients (out of 10)\n"
          ]
        },
        {
          "output_type": "stream",
          "name": "stdout",
          "text": [
            "Round 49 accuracy: 0.5117243649722342\n",
            "Accuracy List for Round 49 : [0.5202520252025202, 0.5191409897292251, 0.5291902071563088, 0.4912109375, 0.5158084914182475, 0.5327188940092166, 0.471441523118767, 0.5341246290801187, 0.5046728971962616, 0.4986830553116769]\n"
          ]
        },
        {
          "output_type": "stream",
          "name": "stderr",
          "text": [
            "\u001b[92mINFO \u001b[0m:      aggregate_fit: received 10 results and 0 failures\n",
            "\u001b[92mINFO \u001b[0m:      configure_evaluate: strategy sampled 10 clients (out of 10)\n",
            "\u001b[92mINFO \u001b[0m:      aggregate_evaluate: received 10 results and 0 failures\n",
            "\u001b[92mINFO \u001b[0m:      \n",
            "\u001b[92mINFO \u001b[0m:      [ROUND 51]\n",
            "\u001b[92mINFO \u001b[0m:      configure_fit: strategy sampled 10 clients (out of 10)\n"
          ]
        },
        {
          "output_type": "stream",
          "name": "stdout",
          "text": [
            "Round 50 accuracy: 0.5140638269350071\n",
            "Accuracy List for Round 50 : [0.504708097928437, 0.5291790306627102, 0.514959202175884, 0.5029296875, 0.5492321589882565, 0.5070028011204482, 0.5148514851485149, 0.5087557603686635, 0.4978050921861282, 0.5112149532710281]\n"
          ]
        },
        {
          "output_type": "stream",
          "name": "stderr",
          "text": [
            "\u001b[92mINFO \u001b[0m:      aggregate_fit: received 10 results and 0 failures\n",
            "\u001b[92mINFO \u001b[0m:      configure_evaluate: strategy sampled 10 clients (out of 10)\n",
            "\u001b[92mINFO \u001b[0m:      aggregate_evaluate: received 10 results and 0 failures\n",
            "\u001b[92mINFO \u001b[0m:      \n",
            "\u001b[92mINFO \u001b[0m:      [ROUND 52]\n",
            "\u001b[92mINFO \u001b[0m:      configure_fit: strategy sampled 10 clients (out of 10)\n"
          ]
        },
        {
          "output_type": "stream",
          "name": "stdout",
          "text": [
            "Round 51 accuracy: 0.5177264392396128\n",
            "Accuracy List for Round 51 : [0.49455984174085066, 0.5179723502304148, 0.528558476881233, 0.5230352303523035, 0.5350140056022409, 0.5131826741996234, 0.5118525021949079, 0.5166516651665166, 0.521484375, 0.5149532710280373]\n"
          ]
        },
        {
          "output_type": "stream",
          "name": "stderr",
          "text": [
            "\u001b[92mINFO \u001b[0m:      aggregate_fit: received 10 results and 0 failures\n",
            "\u001b[92mINFO \u001b[0m:      configure_evaluate: strategy sampled 10 clients (out of 10)\n",
            "\u001b[92mINFO \u001b[0m:      aggregate_evaluate: received 10 results and 0 failures\n",
            "\u001b[92mINFO \u001b[0m:      \n",
            "\u001b[92mINFO \u001b[0m:      [ROUND 53]\n",
            "\u001b[92mINFO \u001b[0m:      configure_fit: strategy sampled 10 clients (out of 10)\n"
          ]
        },
        {
          "output_type": "stream",
          "name": "stdout",
          "text": [
            "Round 52 accuracy: 0.5146246369143581\n",
            "Accuracy List for Round 52 : [0.5040797824116047, 0.5192878338278932, 0.513671875, 0.5102803738317757, 0.5447154471544715, 0.5210084033613446, 0.5254237288135594, 0.48514851485148514, 0.5267778753292361, 0.49585253456221196]\n"
          ]
        },
        {
          "output_type": "stream",
          "name": "stderr",
          "text": [
            "\u001b[92mINFO \u001b[0m:      aggregate_fit: received 10 results and 0 failures\n",
            "\u001b[92mINFO \u001b[0m:      configure_evaluate: strategy sampled 10 clients (out of 10)\n",
            "\u001b[92mINFO \u001b[0m:      aggregate_evaluate: received 10 results and 0 failures\n",
            "\u001b[92mINFO \u001b[0m:      \n",
            "\u001b[92mINFO \u001b[0m:      [ROUND 54]\n",
            "\u001b[92mINFO \u001b[0m:      configure_fit: strategy sampled 10 clients (out of 10)\n"
          ]
        },
        {
          "output_type": "stream",
          "name": "stdout",
          "text": [
            "Round 53 accuracy: 0.5164567155263248\n",
            "Accuracy List for Round 53 : [0.5299539170506913, 0.5087890625, 0.5256769374416433, 0.5085817524841915, 0.5018691588785047, 0.4904805077062557, 0.5250219490781387, 0.5263653483992468, 0.5364536453645364, 0.5113748763600395]\n"
          ]
        },
        {
          "output_type": "stream",
          "name": "stderr",
          "text": [
            "\u001b[92mINFO \u001b[0m:      aggregate_fit: received 10 results and 0 failures\n",
            "\u001b[92mINFO \u001b[0m:      configure_evaluate: strategy sampled 10 clients (out of 10)\n",
            "\u001b[92mINFO \u001b[0m:      aggregate_evaluate: received 10 results and 0 failures\n",
            "\u001b[92mINFO \u001b[0m:      \n",
            "\u001b[92mINFO \u001b[0m:      [ROUND 55]\n",
            "\u001b[92mINFO \u001b[0m:      configure_fit: strategy sampled 10 clients (out of 10)\n"
          ]
        },
        {
          "output_type": "stream",
          "name": "stdout",
          "text": [
            "Round 54 accuracy: 0.517970034605409\n",
            "Accuracy List for Round 54 : [0.4932003626473255, 0.5230352303523035, 0.5410484668644906, 0.5158878504672897, 0.5396825396825397, 0.504050405040504, 0.513671875, 0.5235023041474655, 0.5348399246704332, 0.49078138718173836]\n"
          ]
        },
        {
          "output_type": "stream",
          "name": "stderr",
          "text": [
            "\u001b[92mINFO \u001b[0m:      aggregate_fit: received 10 results and 0 failures\n",
            "\u001b[92mINFO \u001b[0m:      configure_evaluate: strategy sampled 10 clients (out of 10)\n",
            "\u001b[92mINFO \u001b[0m:      aggregate_evaluate: received 10 results and 0 failures\n",
            "\u001b[92mINFO \u001b[0m:      \n",
            "\u001b[92mINFO \u001b[0m:      [ROUND 56]\n",
            "\u001b[92mINFO \u001b[0m:      configure_fit: strategy sampled 10 clients (out of 10)\n"
          ]
        },
        {
          "output_type": "stream",
          "name": "stdout",
          "text": [
            "Round 55 accuracy: 0.5260116001150026\n",
            "Accuracy List for Round 55 : [0.5233644859813084, 0.5074626865671642, 0.5536723163841808, 0.5382538253825383, 0.5293586269196026, 0.5321463897131553, 0.5060690943043884, 0.5205078125, 0.5198156682027649, 0.5294650951949229]\n"
          ]
        },
        {
          "output_type": "stream",
          "name": "stderr",
          "text": [
            "\u001b[92mINFO \u001b[0m:      aggregate_fit: received 10 results and 0 failures\n",
            "\u001b[92mINFO \u001b[0m:      configure_evaluate: strategy sampled 10 clients (out of 10)\n",
            "\u001b[92mINFO \u001b[0m:      aggregate_evaluate: received 10 results and 0 failures\n",
            "\u001b[92mINFO \u001b[0m:      \n",
            "\u001b[92mINFO \u001b[0m:      [ROUND 57]\n",
            "\u001b[92mINFO \u001b[0m:      configure_fit: strategy sampled 10 clients (out of 10)\n"
          ]
        },
        {
          "output_type": "stream",
          "name": "stdout",
          "text": [
            "Round 56 accuracy: 0.5325142805904621\n",
            "Accuracy List for Round 56 : [0.5373134328358209, 0.5483288166214996, 0.5499058380414312, 0.49673202614379086, 0.5311572700296736, 0.5445544554455446, 0.5625, 0.49400921658986174, 0.5420560747663551, 0.5185856754306437]\n"
          ]
        },
        {
          "output_type": "stream",
          "name": "stderr",
          "text": [
            "\u001b[92mINFO \u001b[0m:      aggregate_fit: received 10 results and 0 failures\n",
            "\u001b[92mINFO \u001b[0m:      configure_evaluate: strategy sampled 10 clients (out of 10)\n",
            "\u001b[92mINFO \u001b[0m:      aggregate_evaluate: received 10 results and 0 failures\n",
            "\u001b[92mINFO \u001b[0m:      \n",
            "\u001b[92mINFO \u001b[0m:      [ROUND 58]\n",
            "\u001b[92mINFO \u001b[0m:      configure_fit: strategy sampled 10 clients (out of 10)\n"
          ]
        },
        {
          "output_type": "stream",
          "name": "stdout",
          "text": [
            "Round 57 accuracy: 0.5397400725260015\n",
            "Accuracy List for Round 57 : [0.5440158259149357, 0.5621468926553672, 0.5267452402538532, 0.5401987353206865, 0.5535553555355536, 0.5485981308411215, 0.5340802987861811, 0.5170506912442396, 0.5380859375, 0.5329236172080772]\n"
          ]
        },
        {
          "output_type": "stream",
          "name": "stderr",
          "text": [
            "\u001b[92mINFO \u001b[0m:      aggregate_fit: received 10 results and 0 failures\n",
            "\u001b[92mINFO \u001b[0m:      configure_evaluate: strategy sampled 10 clients (out of 10)\n",
            "\u001b[92mINFO \u001b[0m:      aggregate_evaluate: received 10 results and 0 failures\n",
            "\u001b[92mINFO \u001b[0m:      \n",
            "\u001b[92mINFO \u001b[0m:      [ROUND 59]\n",
            "\u001b[92mINFO \u001b[0m:      configure_fit: strategy sampled 10 clients (out of 10)\n"
          ]
        },
        {
          "output_type": "stream",
          "name": "stdout",
          "text": [
            "Round 58 accuracy: 0.5345384633400401\n",
            "Accuracy List for Round 58 : [0.5203989120580236, 0.5239385727190605, 0.5424836601307189, 0.5474654377880185, 0.5625, 0.5233644859813084, 0.544256120527307, 0.5489614243323442, 0.5153643546971027, 0.5166516651665166]\n"
          ]
        },
        {
          "output_type": "stream",
          "name": "stderr",
          "text": [
            "\u001b[92mINFO \u001b[0m:      aggregate_fit: received 10 results and 0 failures\n",
            "\u001b[92mINFO \u001b[0m:      configure_evaluate: strategy sampled 10 clients (out of 10)\n",
            "\u001b[92mINFO \u001b[0m:      aggregate_evaluate: received 10 results and 0 failures\n",
            "\u001b[92mINFO \u001b[0m:      \n",
            "\u001b[92mINFO \u001b[0m:      [ROUND 60]\n",
            "\u001b[92mINFO \u001b[0m:      configure_fit: strategy sampled 10 clients (out of 10)\n"
          ]
        },
        {
          "output_type": "stream",
          "name": "stdout",
          "text": [
            "Round 59 accuracy: 0.5408885639711647\n",
            "Accuracy List for Round 59 : [0.5321463897131553, 0.5399473222124671, 0.5631336405529954, 0.5412511332728921, 0.5328532853285328, 0.5433145009416196, 0.5429906542056074, 0.5424836601307189, 0.5365853658536586, 0.5341796875]\n"
          ]
        },
        {
          "output_type": "stream",
          "name": "stderr",
          "text": [
            "\u001b[92mINFO \u001b[0m:      aggregate_fit: received 10 results and 0 failures\n",
            "\u001b[92mINFO \u001b[0m:      configure_evaluate: strategy sampled 10 clients (out of 10)\n",
            "\u001b[92mINFO \u001b[0m:      aggregate_evaluate: received 10 results and 0 failures\n",
            "\u001b[92mINFO \u001b[0m:      \n",
            "\u001b[92mINFO \u001b[0m:      [ROUND 61]\n",
            "\u001b[92mINFO \u001b[0m:      configure_fit: strategy sampled 10 clients (out of 10)\n"
          ]
        },
        {
          "output_type": "stream",
          "name": "stdout",
          "text": [
            "Round 60 accuracy: 0.538455992392713\n",
            "Accuracy List for Round 60 : [0.5258386219401632, 0.5566286215978928, 0.5548961424332344, 0.53515625, 0.5256769374416433, 0.5224299065420561, 0.5253456221198156, 0.5429087624209575, 0.5589558955895589, 0.536723163841808]\n"
          ]
        },
        {
          "output_type": "stream",
          "name": "stderr",
          "text": [
            "\u001b[92mINFO \u001b[0m:      aggregate_fit: received 10 results and 0 failures\n",
            "\u001b[92mINFO \u001b[0m:      configure_evaluate: strategy sampled 10 clients (out of 10)\n",
            "\u001b[92mINFO \u001b[0m:      aggregate_evaluate: received 10 results and 0 failures\n",
            "\u001b[92mINFO \u001b[0m:      \n",
            "\u001b[92mINFO \u001b[0m:      [ROUND 62]\n",
            "\u001b[92mINFO \u001b[0m:      configure_fit: strategy sampled 10 clients (out of 10)\n"
          ]
        },
        {
          "output_type": "stream",
          "name": "stdout",
          "text": [
            "Round 61 accuracy: 0.5323362675214061\n",
            "Accuracy List for Round 61 : [0.5410484668644906, 0.5200746965452848, 0.5065420560747663, 0.5327188940092166, 0.5703125, 0.5013599274705349, 0.5162423178226514, 0.5257452574525745, 0.549054905490549, 0.5602636534839924]\n"
          ]
        },
        {
          "output_type": "stream",
          "name": "stderr",
          "text": [
            "\u001b[92mINFO \u001b[0m:      aggregate_fit: received 10 results and 0 failures\n",
            "\u001b[92mINFO \u001b[0m:      configure_evaluate: strategy sampled 10 clients (out of 10)\n",
            "\u001b[92mINFO \u001b[0m:      aggregate_evaluate: received 10 results and 0 failures\n",
            "\u001b[92mINFO \u001b[0m:      \n",
            "\u001b[92mINFO \u001b[0m:      [ROUND 63]\n",
            "\u001b[92mINFO \u001b[0m:      configure_fit: strategy sampled 10 clients (out of 10)\n"
          ]
        },
        {
          "output_type": "stream",
          "name": "stdout",
          "text": [
            "Round 62 accuracy: 0.5344994719682536\n",
            "Accuracy List for Round 62 : [0.5271889400921659, 0.5, 0.52734375, 0.5329719963866305, 0.5351137487636004, 0.5508474576271186, 0.5350140056022409, 0.5358114233907525, 0.5607560756075608, 0.5399473222124671]\n"
          ]
        },
        {
          "output_type": "stream",
          "name": "stderr",
          "text": [
            "\u001b[92mINFO \u001b[0m:      aggregate_fit: received 10 results and 0 failures\n",
            "\u001b[92mINFO \u001b[0m:      configure_evaluate: strategy sampled 10 clients (out of 10)\n",
            "\u001b[92mINFO \u001b[0m:      aggregate_evaluate: received 10 results and 0 failures\n",
            "\u001b[92mINFO \u001b[0m:      \n",
            "\u001b[92mINFO \u001b[0m:      [ROUND 64]\n",
            "\u001b[92mINFO \u001b[0m:      configure_fit: strategy sampled 10 clients (out of 10)\n"
          ]
        },
        {
          "output_type": "stream",
          "name": "stdout",
          "text": [
            "Round 63 accuracy: 0.5410202712043718\n",
            "Accuracy List for Round 63 : [0.5390702274975272, 0.559322033898305, 0.5382488479262673, 0.5376246600181324, 0.5564892623716153, 0.5618789521228545, 0.525233644859813, 0.5162423178226514, 0.5526552655265526, 0.5234375]\n"
          ]
        },
        {
          "output_type": "stream",
          "name": "stderr",
          "text": [
            "\u001b[92mINFO \u001b[0m:      aggregate_fit: received 10 results and 0 failures\n",
            "\u001b[92mINFO \u001b[0m:      configure_evaluate: strategy sampled 10 clients (out of 10)\n",
            "\u001b[92mINFO \u001b[0m:      aggregate_evaluate: received 10 results and 0 failures\n",
            "\u001b[92mINFO \u001b[0m:      \n",
            "\u001b[92mINFO \u001b[0m:      [ROUND 65]\n",
            "\u001b[92mINFO \u001b[0m:      configure_fit: strategy sampled 10 clients (out of 10)\n"
          ]
        },
        {
          "output_type": "stream",
          "name": "stdout",
          "text": [
            "Round 64 accuracy: 0.5389841245936999\n",
            "Accuracy List for Round 64 : [0.5456187895212286, 0.5772128060263654, 0.5308411214953271, 0.5373271889400921, 0.53515625, 0.5303717135086129, 0.5373537353735374, 0.5284780578898226, 0.5373134328358209, 0.5301681503461919]\n"
          ]
        },
        {
          "output_type": "stream",
          "name": "stderr",
          "text": [
            "\u001b[92mINFO \u001b[0m:      aggregate_fit: received 10 results and 0 failures\n",
            "\u001b[92mINFO \u001b[0m:      configure_evaluate: strategy sampled 10 clients (out of 10)\n",
            "\u001b[92mINFO \u001b[0m:      aggregate_evaluate: received 10 results and 0 failures\n",
            "\u001b[92mINFO \u001b[0m:      \n",
            "\u001b[92mINFO \u001b[0m:      [ROUND 66]\n",
            "\u001b[92mINFO \u001b[0m:      configure_fit: strategy sampled 10 clients (out of 10)\n"
          ]
        },
        {
          "output_type": "stream",
          "name": "stdout",
          "text": [
            "Round 65 accuracy: 0.5502542568545513\n",
            "Accuracy List for Round 65 : [0.5539947322212467, 0.5517578125, 0.5361028684470821, 0.5612903225806452, 0.5271028037383177, 0.5654923215898826, 0.5527544351073763, 0.5555555555555556, 0.5530371713508613, 0.5454545454545454]\n"
          ]
        },
        {
          "output_type": "stream",
          "name": "stderr",
          "text": [
            "\u001b[92mINFO \u001b[0m:      aggregate_fit: received 10 results and 0 failures\n",
            "\u001b[92mINFO \u001b[0m:      configure_evaluate: strategy sampled 10 clients (out of 10)\n",
            "\u001b[92mINFO \u001b[0m:      aggregate_evaluate: received 10 results and 0 failures\n",
            "\u001b[92mINFO \u001b[0m:      \n",
            "\u001b[92mINFO \u001b[0m:      [ROUND 67]\n",
            "\u001b[92mINFO \u001b[0m:      configure_fit: strategy sampled 10 clients (out of 10)\n"
          ]
        },
        {
          "output_type": "stream",
          "name": "stdout",
          "text": [
            "Round 66 accuracy: 0.5422450897756768\n",
            "Accuracy List for Round 66 : [0.5302734375, 0.5573622402890696, 0.5494106980961015, 0.5717111770524234, 0.583804143126177, 0.5107376283846872, 0.5329236172080772, 0.5256525652565257, 0.5456221198156682, 0.5149532710280373]\n"
          ]
        },
        {
          "output_type": "stream",
          "name": "stderr",
          "text": [
            "\u001b[92mINFO \u001b[0m:      aggregate_fit: received 10 results and 0 failures\n",
            "\u001b[92mINFO \u001b[0m:      configure_evaluate: strategy sampled 10 clients (out of 10)\n",
            "\u001b[92mINFO \u001b[0m:      aggregate_evaluate: received 10 results and 0 failures\n",
            "\u001b[92mINFO \u001b[0m:      \n",
            "\u001b[92mINFO \u001b[0m:      [ROUND 68]\n",
            "\u001b[92mINFO \u001b[0m:      configure_fit: strategy sampled 10 clients (out of 10)\n"
          ]
        },
        {
          "output_type": "stream",
          "name": "stdout",
          "text": [
            "Round 67 accuracy: 0.5407441002059821\n",
            "Accuracy List for Round 67 : [0.5727002967359051, 0.5627822944896116, 0.5493087557603686, 0.5461393596986818, 0.505607476635514, 0.5256769374416433, 0.541015625, 0.5329236172080772, 0.5463546354635463, 0.5249320036264733]\n"
          ]
        },
        {
          "output_type": "stream",
          "name": "stderr",
          "text": [
            "\u001b[92mINFO \u001b[0m:      aggregate_fit: received 10 results and 0 failures\n",
            "\u001b[92mINFO \u001b[0m:      configure_evaluate: strategy sampled 10 clients (out of 10)\n",
            "\u001b[92mINFO \u001b[0m:      aggregate_evaluate: received 10 results and 0 failures\n",
            "\u001b[92mINFO \u001b[0m:      \n",
            "\u001b[92mINFO \u001b[0m:      [ROUND 69]\n",
            "\u001b[92mINFO \u001b[0m:      configure_fit: strategy sampled 10 clients (out of 10)\n"
          ]
        },
        {
          "output_type": "stream",
          "name": "stdout",
          "text": [
            "Round 68 accuracy: 0.5577938393643295\n",
            "Accuracy List for Round 68 : [0.5427542754275427, 0.5564588979223125, 0.587890625, 0.5551401869158878, 0.5608308605341247, 0.5285338015803336, 0.5530371713508613, 0.5539170506912442, 0.5536881419234361, 0.5856873822975518]\n"
          ]
        },
        {
          "output_type": "stream",
          "name": "stderr",
          "text": [
            "\u001b[92mINFO \u001b[0m:      aggregate_fit: received 10 results and 0 failures\n",
            "\u001b[92mINFO \u001b[0m:      configure_evaluate: strategy sampled 10 clients (out of 10)\n",
            "\u001b[92mINFO \u001b[0m:      aggregate_evaluate: received 10 results and 0 failures\n",
            "\u001b[92mINFO \u001b[0m:      \n",
            "\u001b[92mINFO \u001b[0m:      [ROUND 70]\n",
            "\u001b[92mINFO \u001b[0m:      configure_fit: strategy sampled 10 clients (out of 10)\n"
          ]
        },
        {
          "output_type": "stream",
          "name": "stdout",
          "text": [
            "Round 69 accuracy: 0.5550920901824874\n",
            "Accuracy List for Round 69 : [0.5478515625, 0.5781391147244805, 0.5465437788018433, 0.5476635514018692, 0.5667655786350149, 0.5481548154815482, 0.5725047080979284, 0.5503173164097914, 0.5574229691876751, 0.5355575065847235]\n"
          ]
        },
        {
          "output_type": "stream",
          "name": "stderr",
          "text": [
            "\u001b[92mINFO \u001b[0m:      aggregate_fit: received 10 results and 0 failures\n",
            "\u001b[92mINFO \u001b[0m:      configure_evaluate: strategy sampled 10 clients (out of 10)\n",
            "\u001b[92mINFO \u001b[0m:      aggregate_evaluate: received 10 results and 0 failures\n",
            "\u001b[92mINFO \u001b[0m:      \n",
            "\u001b[92mINFO \u001b[0m:      [ROUND 71]\n",
            "\u001b[92mINFO \u001b[0m:      configure_fit: strategy sampled 10 clients (out of 10)\n"
          ]
        },
        {
          "output_type": "stream",
          "name": "stdout",
          "text": [
            "Round 70 accuracy: 0.5624527937901725\n",
            "Accuracy List for Round 70 : [0.5813084112149532, 0.5330915684496826, 0.5601404741000878, 0.58984375, 0.5294117647058824, 0.5828625235404896, 0.5709123757904245, 0.5585253456221199, 0.5526552655265526, 0.5657764589515332]\n"
          ]
        },
        {
          "output_type": "stream",
          "name": "stderr",
          "text": [
            "\u001b[92mINFO \u001b[0m:      aggregate_fit: received 10 results and 0 failures\n",
            "\u001b[92mINFO \u001b[0m:      configure_evaluate: strategy sampled 10 clients (out of 10)\n",
            "\u001b[92mINFO \u001b[0m:      aggregate_evaluate: received 10 results and 0 failures\n",
            "\u001b[92mINFO \u001b[0m:      \n",
            "\u001b[92mINFO \u001b[0m:      [ROUND 72]\n",
            "\u001b[92mINFO \u001b[0m:      configure_fit: strategy sampled 10 clients (out of 10)\n"
          ]
        },
        {
          "output_type": "stream",
          "name": "stdout",
          "text": [
            "Round 71 accuracy: 0.5560750885458982\n",
            "Accuracy List for Round 71 : [0.5350140056022409, 0.5222121486854034, 0.5636523266022827, 0.5707220573689417, 0.552073732718894, 0.5743879472693032, 0.577570093457944, 0.5478515625, 0.5709123757904245, 0.5463546354635463]\n"
          ]
        },
        {
          "output_type": "stream",
          "name": "stderr",
          "text": [
            "\u001b[92mINFO \u001b[0m:      aggregate_fit: received 10 results and 0 failures\n",
            "\u001b[92mINFO \u001b[0m:      configure_evaluate: strategy sampled 10 clients (out of 10)\n",
            "\u001b[92mINFO \u001b[0m:      aggregate_evaluate: received 10 results and 0 failures\n",
            "\u001b[92mINFO \u001b[0m:      \n",
            "\u001b[92mINFO \u001b[0m:      [ROUND 73]\n",
            "\u001b[92mINFO \u001b[0m:      configure_fit: strategy sampled 10 clients (out of 10)\n"
          ]
        },
        {
          "output_type": "stream",
          "name": "stdout",
          "text": [
            "Round 72 accuracy: 0.5661190324937104\n",
            "Accuracy List for Round 72 : [0.5772357723577236, 0.5450049455984174, 0.5715571557155715, 0.5394378966455122, 0.56640625, 0.5610184372256365, 0.5620915032679739, 0.5769585253456221, 0.5635514018691589, 0.5979284369114878]\n"
          ]
        },
        {
          "output_type": "stream",
          "name": "stderr",
          "text": [
            "\u001b[92mINFO \u001b[0m:      aggregate_fit: received 10 results and 0 failures\n",
            "\u001b[92mINFO \u001b[0m:      configure_evaluate: strategy sampled 10 clients (out of 10)\n",
            "\u001b[92mINFO \u001b[0m:      aggregate_evaluate: received 10 results and 0 failures\n",
            "\u001b[92mINFO \u001b[0m:      \n",
            "\u001b[92mINFO \u001b[0m:      [ROUND 74]\n",
            "\u001b[92mINFO \u001b[0m:      configure_fit: strategy sampled 10 clients (out of 10)\n"
          ]
        },
        {
          "output_type": "stream",
          "name": "stdout",
          "text": [
            "Round 73 accuracy: 0.5633335712536832\n",
            "Accuracy List for Round 73 : [0.5602240896358543, 0.5539170506912442, 0.5537488708220416, 0.5809792843691148, 0.5662862159789289, 0.5607476635514018, 0.5888671875, 0.5553555355535553, 0.5746785361028685, 0.5385312783318223]\n"
          ]
        },
        {
          "output_type": "stream",
          "name": "stderr",
          "text": [
            "\u001b[92mINFO \u001b[0m:      aggregate_fit: received 10 results and 0 failures\n",
            "\u001b[92mINFO \u001b[0m:      configure_evaluate: strategy sampled 10 clients (out of 10)\n",
            "\u001b[92mINFO \u001b[0m:      aggregate_evaluate: received 10 results and 0 failures\n",
            "\u001b[92mINFO \u001b[0m:      \n",
            "\u001b[92mINFO \u001b[0m:      [ROUND 75]\n",
            "\u001b[92mINFO \u001b[0m:      configure_fit: strategy sampled 10 clients (out of 10)\n"
          ]
        },
        {
          "output_type": "stream",
          "name": "stdout",
          "text": [
            "Round 74 accuracy: 0.5536564942088129\n",
            "Accuracy List for Round 74 : [0.5394378966455122, 0.5504828797190519, 0.6016949152542372, 0.5558852621167161, 0.5401869158878505, 0.5537488708220416, 0.5592903828197946, 0.5493087557603686, 0.5562556255625563, 0.5302734375]\n"
          ]
        },
        {
          "output_type": "stream",
          "name": "stderr",
          "text": [
            "\u001b[92mINFO \u001b[0m:      aggregate_fit: received 10 results and 0 failures\n",
            "\u001b[92mINFO \u001b[0m:      configure_evaluate: strategy sampled 10 clients (out of 10)\n",
            "\u001b[92mINFO \u001b[0m:      aggregate_evaluate: received 10 results and 0 failures\n",
            "\u001b[92mINFO \u001b[0m:      \n",
            "\u001b[92mINFO \u001b[0m:      [ROUND 76]\n",
            "\u001b[92mINFO \u001b[0m:      configure_fit: strategy sampled 10 clients (out of 10)\n"
          ]
        },
        {
          "output_type": "stream",
          "name": "stdout",
          "text": [
            "Round 75 accuracy: 0.5661483041010654\n",
            "Accuracy List for Round 75 : [0.5625562556255626, 0.5578635014836796, 0.5809792843691148, 0.5695611577964519, 0.58203125, 0.5852534562211982, 0.5591689250225835, 0.5521305530371714, 0.5579439252336449, 0.5539947322212467]\n"
          ]
        },
        {
          "output_type": "stream",
          "name": "stderr",
          "text": [
            "\u001b[92mINFO \u001b[0m:      aggregate_fit: received 10 results and 0 failures\n",
            "\u001b[92mINFO \u001b[0m:      configure_evaluate: strategy sampled 10 clients (out of 10)\n",
            "\u001b[92mINFO \u001b[0m:      aggregate_evaluate: received 10 results and 0 failures\n",
            "\u001b[92mINFO \u001b[0m:      \n",
            "\u001b[92mINFO \u001b[0m:      [ROUND 77]\n",
            "\u001b[92mINFO \u001b[0m:      configure_fit: strategy sampled 10 clients (out of 10)\n"
          ]
        },
        {
          "output_type": "stream",
          "name": "stdout",
          "text": [
            "Round 76 accuracy: 0.5695057357034629\n",
            "Accuracy List for Round 76 : [0.5609756097560976, 0.582591493570722, 0.5598130841121496, 0.57243195785777, 0.5571557155715572, 0.5443510737628384, 0.5941619585687382, 0.5880184331797235, 0.5888671875, 0.5466908431550317]\n"
          ]
        },
        {
          "output_type": "stream",
          "name": "stderr",
          "text": [
            "\u001b[92mINFO \u001b[0m:      aggregate_fit: received 10 results and 0 failures\n",
            "\u001b[92mINFO \u001b[0m:      configure_evaluate: strategy sampled 10 clients (out of 10)\n",
            "\u001b[92mINFO \u001b[0m:      aggregate_evaluate: received 10 results and 0 failures\n",
            "\u001b[92mINFO \u001b[0m:      \n",
            "\u001b[92mINFO \u001b[0m:      [ROUND 78]\n",
            "\u001b[92mINFO \u001b[0m:      configure_fit: strategy sampled 10 clients (out of 10)\n"
          ]
        },
        {
          "output_type": "stream",
          "name": "stdout",
          "text": [
            "Round 77 accuracy: 0.569449097242269\n",
            "Accuracy List for Round 77 : [0.6054613935969868, 0.5469710272168569, 0.5901027077497666, 0.5529953917050692, 0.5528455284552846, 0.5639165911151405, 0.5728971962616822, 0.5756676557863502, 0.580078125, 0.5535553555355536]\n"
          ]
        },
        {
          "output_type": "stream",
          "name": "stderr",
          "text": [
            "\u001b[92mINFO \u001b[0m:      aggregate_fit: received 10 results and 0 failures\n",
            "\u001b[92mINFO \u001b[0m:      configure_evaluate: strategy sampled 10 clients (out of 10)\n",
            "\u001b[92mINFO \u001b[0m:      aggregate_evaluate: received 10 results and 0 failures\n",
            "\u001b[92mINFO \u001b[0m:      \n",
            "\u001b[92mINFO \u001b[0m:      [ROUND 79]\n",
            "\u001b[92mINFO \u001b[0m:      configure_fit: strategy sampled 10 clients (out of 10)\n"
          ]
        },
        {
          "output_type": "stream",
          "name": "stdout",
          "text": [
            "Round 78 accuracy: 0.5694871721914094\n",
            "Accuracy List for Round 78 : [0.6016949152542372, 0.560546875, 0.5870967741935483, 0.5680421422300264, 0.5618199802176064, 0.5465221318879856, 0.5686274509803921, 0.5551401869158878, 0.5805580558055805, 0.5648232094288305]\n"
          ]
        },
        {
          "output_type": "stream",
          "name": "stderr",
          "text": [
            "\u001b[92mINFO \u001b[0m:      aggregate_fit: received 10 results and 0 failures\n",
            "\u001b[92mINFO \u001b[0m:      configure_evaluate: strategy sampled 10 clients (out of 10)\n",
            "\u001b[92mINFO \u001b[0m:      aggregate_evaluate: received 10 results and 0 failures\n",
            "\u001b[92mINFO \u001b[0m:      \n",
            "\u001b[92mINFO \u001b[0m:      [ROUND 80]\n",
            "\u001b[92mINFO \u001b[0m:      configure_fit: strategy sampled 10 clients (out of 10)\n"
          ]
        },
        {
          "output_type": "stream",
          "name": "stdout",
          "text": [
            "Round 79 accuracy: 0.5844618412759265\n",
            "Accuracy List for Round 79 : [0.6, 0.5741935483870968, 0.576957695769577, 0.5869140625, 0.5715539947322212, 0.592482690405539, 0.6186440677966102, 0.5682023486901535, 0.5845004668534081, 0.57116953762466]\n"
          ]
        },
        {
          "output_type": "stream",
          "name": "stderr",
          "text": [
            "\u001b[92mINFO \u001b[0m:      aggregate_fit: received 10 results and 0 failures\n",
            "\u001b[92mINFO \u001b[0m:      configure_evaluate: strategy sampled 10 clients (out of 10)\n",
            "\u001b[92mINFO \u001b[0m:      aggregate_evaluate: received 10 results and 0 failures\n",
            "\u001b[92mINFO \u001b[0m:      \n",
            "\u001b[92mINFO \u001b[0m:      [ROUND 81]\n",
            "\u001b[92mINFO \u001b[0m:      configure_fit: strategy sampled 10 clients (out of 10)\n"
          ]
        },
        {
          "output_type": "stream",
          "name": "stdout",
          "text": [
            "Round 80 accuracy: 0.5779071704361289\n",
            "Accuracy List for Round 80 : [0.6167608286252354, 0.5675430643699003, 0.5566286215978928, 0.560546875, 0.5934579439252337, 0.5895153313550939, 0.5779645191409897, 0.5745257452574526, 0.5688568856885688, 0.5732718894009217]\n"
          ]
        },
        {
          "output_type": "stream",
          "name": "stderr",
          "text": [
            "\u001b[92mINFO \u001b[0m:      aggregate_fit: received 10 results and 0 failures\n",
            "\u001b[92mINFO \u001b[0m:      configure_evaluate: strategy sampled 10 clients (out of 10)\n",
            "\u001b[92mINFO \u001b[0m:      aggregate_evaluate: received 10 results and 0 failures\n",
            "\u001b[92mINFO \u001b[0m:      \n",
            "\u001b[92mINFO \u001b[0m:      [ROUND 82]\n",
            "\u001b[92mINFO \u001b[0m:      configure_fit: strategy sampled 10 clients (out of 10)\n"
          ]
        },
        {
          "output_type": "stream",
          "name": "stdout",
          "text": [
            "Round 81 accuracy: 0.5845607838249723\n",
            "Accuracy List for Round 81 : [0.6003956478733927, 0.5648926237161531, 0.5796579657965797, 0.5847234416154522, 0.5962059620596206, 0.5969868173258004, 0.5966796875, 0.5926267281105991, 0.5521305530371714, 0.5813084112149532]\n"
          ]
        },
        {
          "output_type": "stream",
          "name": "stderr",
          "text": [
            "\u001b[92mINFO \u001b[0m:      aggregate_fit: received 10 results and 0 failures\n",
            "\u001b[92mINFO \u001b[0m:      configure_evaluate: strategy sampled 10 clients (out of 10)\n",
            "\u001b[92mINFO \u001b[0m:      aggregate_evaluate: received 10 results and 0 failures\n",
            "\u001b[92mINFO \u001b[0m:      \n",
            "\u001b[92mINFO \u001b[0m:      [ROUND 83]\n",
            "\u001b[92mINFO \u001b[0m:      configure_fit: strategy sampled 10 clients (out of 10)\n"
          ]
        },
        {
          "output_type": "stream",
          "name": "stdout",
          "text": [
            "Round 82 accuracy: 0.5810506760004145\n",
            "Accuracy List for Round 82 : [0.5830078125, 0.5551401869158878, 0.6132542037586548, 0.6012601260126013, 0.6016949152542372, 0.5934959349593496, 0.5566820276497696, 0.5901027077497666, 0.5610184372256365, 0.5548504079782411]\n"
          ]
        },
        {
          "output_type": "stream",
          "name": "stderr",
          "text": [
            "\u001b[92mINFO \u001b[0m:      aggregate_fit: received 10 results and 0 failures\n",
            "\u001b[92mINFO \u001b[0m:      configure_evaluate: strategy sampled 10 clients (out of 10)\n",
            "\u001b[92mINFO \u001b[0m:      aggregate_evaluate: received 10 results and 0 failures\n",
            "\u001b[92mINFO \u001b[0m:      \n",
            "\u001b[92mINFO \u001b[0m:      [ROUND 84]\n",
            "\u001b[92mINFO \u001b[0m:      configure_fit: strategy sampled 10 clients (out of 10)\n"
          ]
        },
        {
          "output_type": "stream",
          "name": "stdout",
          "text": [
            "Round 83 accuracy: 0.5898626760243599\n",
            "Accuracy List for Round 83 : [0.5905044510385756, 0.5766092475067996, 0.5574229691876751, 0.6049165935030729, 0.6119815668202765, 0.5712890625, 0.603578154425612, 0.5841584158415841, 0.577570093457944, 0.6205962059620597]\n"
          ]
        },
        {
          "output_type": "stream",
          "name": "stderr",
          "text": [
            "\u001b[92mINFO \u001b[0m:      aggregate_fit: received 10 results and 0 failures\n",
            "\u001b[92mINFO \u001b[0m:      configure_evaluate: strategy sampled 10 clients (out of 10)\n",
            "\u001b[92mINFO \u001b[0m:      aggregate_evaluate: received 10 results and 0 failures\n",
            "\u001b[92mINFO \u001b[0m:      \n",
            "\u001b[92mINFO \u001b[0m:      [ROUND 85]\n",
            "\u001b[92mINFO \u001b[0m:      configure_fit: strategy sampled 10 clients (out of 10)\n"
          ]
        },
        {
          "output_type": "stream",
          "name": "stdout",
          "text": [
            "Round 84 accuracy: 0.5887865819002853\n",
            "Accuracy List for Round 84 : [0.5666364460562103, 0.5849609375, 0.6022408963585434, 0.5904590459045904, 0.609297725024728, 0.5576036866359447, 0.6079494128274616, 0.6092278719397364, 0.5747663551401869, 0.5847234416154522]\n"
          ]
        },
        {
          "output_type": "stream",
          "name": "stderr",
          "text": [
            "\u001b[92mINFO \u001b[0m:      aggregate_fit: received 10 results and 0 failures\n",
            "\u001b[92mINFO \u001b[0m:      configure_evaluate: strategy sampled 10 clients (out of 10)\n",
            "\u001b[92mINFO \u001b[0m:      aggregate_evaluate: received 10 results and 0 failures\n",
            "\u001b[92mINFO \u001b[0m:      \n",
            "\u001b[92mINFO \u001b[0m:      [ROUND 86]\n",
            "\u001b[92mINFO \u001b[0m:      configure_fit: strategy sampled 10 clients (out of 10)\n"
          ]
        },
        {
          "output_type": "stream",
          "name": "stdout",
          "text": [
            "Round 85 accuracy: 0.5909452705851931\n",
            "Accuracy List for Round 85 : [0.5868586858685868, 0.585981308411215, 0.5964391691394659, 0.6142728093947606, 0.5835667600373483, 0.5766092475067996, 0.5645302897278315, 0.6120527306967984, 0.59375, 0.5953917050691244]\n"
          ]
        },
        {
          "output_type": "stream",
          "name": "stderr",
          "text": [
            "\u001b[92mINFO \u001b[0m:      aggregate_fit: received 10 results and 0 failures\n",
            "\u001b[92mINFO \u001b[0m:      configure_evaluate: strategy sampled 10 clients (out of 10)\n",
            "\u001b[92mINFO \u001b[0m:      aggregate_evaluate: received 10 results and 0 failures\n",
            "\u001b[92mINFO \u001b[0m:      \n",
            "\u001b[92mINFO \u001b[0m:      [ROUND 87]\n",
            "\u001b[92mINFO \u001b[0m:      configure_fit: strategy sampled 10 clients (out of 10)\n"
          ]
        },
        {
          "output_type": "stream",
          "name": "stdout",
          "text": [
            "Round 86 accuracy: 0.5930982507763647\n",
            "Accuracy List for Round 86 : [0.5976597659765976, 0.6046082949308755, 0.6177024482109228, 0.587890625, 0.6009345794392523, 0.5838454784899034, 0.5654923215898826, 0.6033630069238378, 0.5919701213818861, 0.5775158658204895]\n"
          ]
        },
        {
          "output_type": "stream",
          "name": "stderr",
          "text": [
            "\u001b[92mINFO \u001b[0m:      aggregate_fit: received 10 results and 0 failures\n",
            "\u001b[92mINFO \u001b[0m:      configure_evaluate: strategy sampled 10 clients (out of 10)\n",
            "\u001b[92mINFO \u001b[0m:      aggregate_evaluate: received 10 results and 0 failures\n",
            "\u001b[92mINFO \u001b[0m:      \n",
            "\u001b[92mINFO \u001b[0m:      [ROUND 88]\n",
            "\u001b[92mINFO \u001b[0m:      configure_fit: strategy sampled 10 clients (out of 10)\n"
          ]
        },
        {
          "output_type": "stream",
          "name": "stdout",
          "text": [
            "Round 87 accuracy: 0.5920912087730865\n",
            "Accuracy List for Round 87 : [0.5803336259877085, 0.5757026291931097, 0.5875706214689266, 0.5954500494559841, 0.5849609375, 0.5962059620596206, 0.5695611577964519, 0.6129032258064516, 0.5962616822429907, 0.621962196219622]\n"
          ]
        },
        {
          "output_type": "stream",
          "name": "stderr",
          "text": [
            "\u001b[92mINFO \u001b[0m:      aggregate_fit: received 10 results and 0 failures\n",
            "\u001b[92mINFO \u001b[0m:      configure_evaluate: strategy sampled 10 clients (out of 10)\n",
            "\u001b[92mINFO \u001b[0m:      aggregate_evaluate: received 10 results and 0 failures\n",
            "\u001b[92mINFO \u001b[0m:      \n",
            "\u001b[92mINFO \u001b[0m:      [ROUND 89]\n",
            "\u001b[92mINFO \u001b[0m:      configure_fit: strategy sampled 10 clients (out of 10)\n"
          ]
        },
        {
          "output_type": "stream",
          "name": "stdout",
          "text": [
            "Round 88 accuracy: 0.594081346516518\n",
            "Accuracy List for Round 88 : [0.59765625, 0.5738893925657298, 0.5732959850606909, 0.6183618361836184, 0.5905044510385756, 0.5972350230414747, 0.5971093044263776, 0.5908691834942933, 0.628060263653484, 0.5738317757009346]\n"
          ]
        },
        {
          "output_type": "stream",
          "name": "stderr",
          "text": [
            "\u001b[92mINFO \u001b[0m:      aggregate_fit: received 10 results and 0 failures\n",
            "\u001b[92mINFO \u001b[0m:      configure_evaluate: strategy sampled 10 clients (out of 10)\n",
            "\u001b[92mINFO \u001b[0m:      aggregate_evaluate: received 10 results and 0 failures\n",
            "\u001b[92mINFO \u001b[0m:      \n",
            "\u001b[92mINFO \u001b[0m:      [ROUND 90]\n",
            "\u001b[92mINFO \u001b[0m:      configure_fit: strategy sampled 10 clients (out of 10)\n"
          ]
        },
        {
          "output_type": "stream",
          "name": "stdout",
          "text": [
            "Round 89 accuracy: 0.5905875808605731\n",
            "Accuracy List for Round 89 : [0.6009345794392523, 0.5760576057605761, 0.5779645191409897, 0.5838621940163191, 0.5953026196928636, 0.6016949152542372, 0.5964391691394659, 0.591796875, 0.568920105355575, 0.6129032258064516]\n"
          ]
        },
        {
          "output_type": "stream",
          "name": "stderr",
          "text": [
            "\u001b[92mINFO \u001b[0m:      aggregate_fit: received 10 results and 0 failures\n",
            "\u001b[92mINFO \u001b[0m:      configure_evaluate: strategy sampled 10 clients (out of 10)\n",
            "\u001b[92mINFO \u001b[0m:      aggregate_evaluate: received 10 results and 0 failures\n",
            "\u001b[92mINFO \u001b[0m:      \n",
            "\u001b[92mINFO \u001b[0m:      [ROUND 91]\n",
            "\u001b[92mINFO \u001b[0m:      configure_fit: strategy sampled 10 clients (out of 10)\n"
          ]
        },
        {
          "output_type": "stream",
          "name": "stdout",
          "text": [
            "Round 90 accuracy: 0.5914222689460208\n",
            "Accuracy List for Round 90 : [0.5980126467931346, 0.592482690405539, 0.6082949308755761, 0.5830078125, 0.5856014047410009, 0.5766355140186916, 0.6186440677966102, 0.5976597659765976, 0.5684496826835902, 0.5854341736694678]\n"
          ]
        },
        {
          "output_type": "stream",
          "name": "stderr",
          "text": [
            "\u001b[92mINFO \u001b[0m:      aggregate_fit: received 10 results and 0 failures\n",
            "\u001b[92mINFO \u001b[0m:      configure_evaluate: strategy sampled 10 clients (out of 10)\n",
            "\u001b[92mINFO \u001b[0m:      aggregate_evaluate: received 10 results and 0 failures\n",
            "\u001b[92mINFO \u001b[0m:      \n",
            "\u001b[92mINFO \u001b[0m:      [ROUND 92]\n",
            "\u001b[92mINFO \u001b[0m:      configure_fit: strategy sampled 10 clients (out of 10)\n"
          ]
        },
        {
          "output_type": "stream",
          "name": "stdout",
          "text": [
            "Round 91 accuracy: 0.5986415449172097\n",
            "Accuracy List for Round 91 : [0.5873015873015873, 0.5990654205607476, 0.608286252354049, 0.6019945602901179, 0.59375, 0.5885262116716122, 0.5864793678665496, 0.6046082949308755, 0.6061427280939476, 0.6102610261026102]\n"
          ]
        },
        {
          "output_type": "stream",
          "name": "stderr",
          "text": [
            "\u001b[92mINFO \u001b[0m:      aggregate_fit: received 10 results and 0 failures\n",
            "\u001b[92mINFO \u001b[0m:      configure_evaluate: strategy sampled 10 clients (out of 10)\n",
            "\u001b[92mINFO \u001b[0m:      aggregate_evaluate: received 10 results and 0 failures\n",
            "\u001b[92mINFO \u001b[0m:      \n",
            "\u001b[92mINFO \u001b[0m:      [ROUND 93]\n",
            "\u001b[92mINFO \u001b[0m:      configure_fit: strategy sampled 10 clients (out of 10)\n"
          ]
        },
        {
          "output_type": "stream",
          "name": "stdout",
          "text": [
            "Round 92 accuracy: 0.6038652394429704\n",
            "Accuracy List for Round 92 : [0.6043360433604336, 0.5648926237161531, 0.6167608286252354, 0.6158878504672897, 0.6103515625, 0.6033630069238378, 0.6073732718894009, 0.6119673617407072, 0.5952589991220368, 0.6084608460846085]\n"
          ]
        },
        {
          "output_type": "stream",
          "name": "stderr",
          "text": [
            "\u001b[92mINFO \u001b[0m:      aggregate_fit: received 10 results and 0 failures\n",
            "\u001b[92mINFO \u001b[0m:      configure_evaluate: strategy sampled 10 clients (out of 10)\n",
            "\u001b[92mINFO \u001b[0m:      aggregate_evaluate: received 10 results and 0 failures\n",
            "\u001b[92mINFO \u001b[0m:      \n",
            "\u001b[92mINFO \u001b[0m:      [ROUND 94]\n",
            "\u001b[92mINFO \u001b[0m:      configure_fit: strategy sampled 10 clients (out of 10)\n"
          ]
        },
        {
          "output_type": "stream",
          "name": "stdout",
          "text": [
            "Round 93 accuracy: 0.6027664153214339\n",
            "Accuracy List for Round 93 : [0.5929283771532184, 0.5742296918767507, 0.599609375, 0.5970149253731343, 0.5962616822429907, 0.6267281105990783, 0.6147614761476148, 0.60075329566855, 0.6160794941282746, 0.609297725024728]\n"
          ]
        },
        {
          "output_type": "stream",
          "name": "stderr",
          "text": [
            "\u001b[92mINFO \u001b[0m:      aggregate_fit: received 10 results and 0 failures\n",
            "\u001b[92mINFO \u001b[0m:      configure_evaluate: strategy sampled 10 clients (out of 10)\n",
            "\u001b[92mINFO \u001b[0m:      aggregate_evaluate: received 10 results and 0 failures\n",
            "\u001b[92mINFO \u001b[0m:      \n",
            "\u001b[92mINFO \u001b[0m:      [ROUND 95]\n",
            "\u001b[92mINFO \u001b[0m:      configure_fit: strategy sampled 10 clients (out of 10)\n"
          ]
        },
        {
          "output_type": "stream",
          "name": "stdout",
          "text": [
            "Round 94 accuracy: 0.6028413277269564\n",
            "Accuracy List for Round 94 : [0.6102803738317757, 0.6122650840751731, 0.6026365348399246, 0.5931593159315932, 0.5901027077497666, 0.5996488147497805, 0.5784224841341795, 0.6151761517615176, 0.6064453125, 0.6202764976958526]\n"
          ]
        },
        {
          "output_type": "stream",
          "name": "stderr",
          "text": [
            "\u001b[92mINFO \u001b[0m:      aggregate_fit: received 10 results and 0 failures\n",
            "\u001b[92mINFO \u001b[0m:      configure_evaluate: strategy sampled 10 clients (out of 10)\n",
            "\u001b[92mINFO \u001b[0m:      aggregate_evaluate: received 10 results and 0 failures\n",
            "\u001b[92mINFO \u001b[0m:      \n",
            "\u001b[92mINFO \u001b[0m:      [ROUND 96]\n",
            "\u001b[92mINFO \u001b[0m:      configure_fit: strategy sampled 10 clients (out of 10)\n"
          ]
        },
        {
          "output_type": "stream",
          "name": "stdout",
          "text": [
            "Round 95 accuracy: 0.6058367480633997\n",
            "Accuracy List for Round 95 : [0.5967596759675967, 0.6260162601626016, 0.6320474777448071, 0.5935483870967742, 0.6120527306967984, 0.5965548504079783, 0.6031606672519754, 0.6025390625, 0.5822429906542056, 0.6134453781512605]\n"
          ]
        },
        {
          "output_type": "stream",
          "name": "stderr",
          "text": [
            "\u001b[92mINFO \u001b[0m:      aggregate_fit: received 10 results and 0 failures\n",
            "\u001b[92mINFO \u001b[0m:      configure_evaluate: strategy sampled 10 clients (out of 10)\n",
            "\u001b[92mINFO \u001b[0m:      aggregate_evaluate: received 10 results and 0 failures\n",
            "\u001b[92mINFO \u001b[0m:      \n",
            "\u001b[92mINFO \u001b[0m:      [ROUND 97]\n",
            "\u001b[92mINFO \u001b[0m:      configure_fit: strategy sampled 10 clients (out of 10)\n"
          ]
        },
        {
          "output_type": "stream",
          "name": "stdout",
          "text": [
            "Round 96 accuracy: 0.6117515914958256\n",
            "Accuracy List for Round 96 : [0.6350230414746544, 0.6073194856577646, 0.5994397759103641, 0.6009345794392523, 0.5996488147497805, 0.6242937853107344, 0.6012601260126013, 0.6061427280939476, 0.6165004533091568, 0.626953125]\n"
          ]
        },
        {
          "output_type": "stream",
          "name": "stderr",
          "text": [
            "\u001b[92mINFO \u001b[0m:      aggregate_fit: received 10 results and 0 failures\n",
            "\u001b[92mINFO \u001b[0m:      configure_evaluate: strategy sampled 10 clients (out of 10)\n",
            "\u001b[92mINFO \u001b[0m:      aggregate_evaluate: received 10 results and 0 failures\n",
            "\u001b[92mINFO \u001b[0m:      \n",
            "\u001b[92mINFO \u001b[0m:      [ROUND 98]\n",
            "\u001b[92mINFO \u001b[0m:      configure_fit: strategy sampled 10 clients (out of 10)\n"
          ]
        },
        {
          "output_type": "stream",
          "name": "stdout",
          "text": [
            "Round 97 accuracy: 0.6219076325994675\n",
            "Accuracy List for Round 97 : [0.5956482320942883, 0.6075607560756076, 0.623046875, 0.6066725197541704, 0.5994397759103641, 0.5962616822429907, 0.6581920903954802, 0.6330365974282888, 0.6470046082949309, 0.6522131887985546]\n"
          ]
        },
        {
          "output_type": "stream",
          "name": "stderr",
          "text": [
            "\u001b[92mINFO \u001b[0m:      aggregate_fit: received 10 results and 0 failures\n",
            "\u001b[92mINFO \u001b[0m:      configure_evaluate: strategy sampled 10 clients (out of 10)\n",
            "\u001b[92mINFO \u001b[0m:      aggregate_evaluate: received 10 results and 0 failures\n",
            "\u001b[92mINFO \u001b[0m:      \n",
            "\u001b[92mINFO \u001b[0m:      [ROUND 99]\n",
            "\u001b[92mINFO \u001b[0m:      configure_fit: strategy sampled 10 clients (out of 10)\n"
          ]
        },
        {
          "output_type": "stream",
          "name": "stdout",
          "text": [
            "Round 98 accuracy: 0.5989584494052959\n",
            "Accuracy List for Round 98 : [0.5742296918767507, 0.6018691588785047, 0.5882352941176471, 0.6147465437788019, 0.6052393857271906, 0.585958595859586, 0.5938349954669084, 0.6224105461393596, 0.5927734375, 0.6102868447082097]\n"
          ]
        },
        {
          "output_type": "stream",
          "name": "stderr",
          "text": [
            "\u001b[92mINFO \u001b[0m:      aggregate_fit: received 10 results and 0 failures\n",
            "\u001b[92mINFO \u001b[0m:      configure_evaluate: strategy sampled 10 clients (out of 10)\n",
            "\u001b[92mINFO \u001b[0m:      aggregate_evaluate: received 10 results and 0 failures\n",
            "\u001b[92mINFO \u001b[0m:      \n",
            "\u001b[92mINFO \u001b[0m:      [ROUND 100]\n",
            "\u001b[92mINFO \u001b[0m:      configure_fit: strategy sampled 10 clients (out of 10)\n"
          ]
        },
        {
          "output_type": "stream",
          "name": "stdout",
          "text": [
            "Round 99 accuracy: 0.600319630953447\n",
            "Accuracy List for Round 99 : [0.5812115891132572, 0.6021602160216022, 0.6294930875576037, 0.5889792231255646, 0.620527306967985, 0.591588785046729, 0.6181998021760633, 0.5791015625, 0.5845004668534081, 0.6074342701722575]\n"
          ]
        },
        {
          "output_type": "stream",
          "name": "stderr",
          "text": [
            "\u001b[92mINFO \u001b[0m:      aggregate_fit: received 10 results and 0 failures\n",
            "\u001b[92mINFO \u001b[0m:      configure_evaluate: strategy sampled 10 clients (out of 10)\n",
            "\u001b[92mINFO \u001b[0m:      aggregate_evaluate: received 10 results and 0 failures\n",
            "\u001b[92mINFO \u001b[0m:      \n",
            "\u001b[92mINFO \u001b[0m:      [SUMMARY]\n",
            "\u001b[92mINFO \u001b[0m:      Run finished 100 round(s) in 7679.09s\n",
            "\u001b[92mINFO \u001b[0m:      \tHistory (loss, distributed):\n",
            "\u001b[92mINFO \u001b[0m:      \t\tround 1: 2.299668293169335\n",
            "\u001b[92mINFO \u001b[0m:      \t\tround 2: 2.2914812838720557\n",
            "\u001b[92mINFO \u001b[0m:      \t\tround 3: 2.2726917883506585\n",
            "\u001b[92mINFO \u001b[0m:      \t\tround 4: 2.2130174535219833\n",
            "\u001b[92mINFO \u001b[0m:      \t\tround 5: 2.1053064052619685\n",
            "\u001b[92mINFO \u001b[0m:      \t\tround 6: 2.0566827261168856\n",
            "\u001b[92mINFO \u001b[0m:      \t\tround 7: 2.0142492184509075\n",
            "\u001b[92mINFO \u001b[0m:      \t\tround 8: 1.967278967761017\n",
            "\u001b[92mINFO \u001b[0m:      \t\tround 9: 1.9586689611651815\n",
            "\u001b[92mINFO \u001b[0m:      \t\tround 10: 1.9297499043454538\n",
            "\u001b[92mINFO \u001b[0m:      \t\tround 11: 1.8974424077208218\n",
            "\u001b[92mINFO \u001b[0m:      \t\tround 12: 1.8782423070517023\n",
            "\u001b[92mINFO \u001b[0m:      \t\tround 13: 1.8447599915752566\n",
            "\u001b[92mINFO \u001b[0m:      \t\tround 14: 1.8192948615584819\n",
            "\u001b[92mINFO \u001b[0m:      \t\tround 15: 1.778203028294286\n",
            "\u001b[92mINFO \u001b[0m:      \t\tround 16: 1.7716956188556072\n",
            "\u001b[92mINFO \u001b[0m:      \t\tround 17: 1.7285824092843318\n",
            "\u001b[92mINFO \u001b[0m:      \t\tround 18: 1.7125009219226222\n",
            "\u001b[92mINFO \u001b[0m:      \t\tround 19: 1.6799706967891042\n",
            "\u001b[92mINFO \u001b[0m:      \t\tround 20: 1.6628752134533038\n",
            "\u001b[92mINFO \u001b[0m:      \t\tround 21: 1.649975579745407\n",
            "\u001b[92mINFO \u001b[0m:      \t\tround 22: 1.616757631536523\n",
            "\u001b[92mINFO \u001b[0m:      \t\tround 23: 1.6170826560643226\n",
            "\u001b[92mINFO \u001b[0m:      \t\tround 24: 1.586960623871304\n",
            "\u001b[92mINFO \u001b[0m:      \t\tround 25: 1.5658335702742086\n",
            "\u001b[92mINFO \u001b[0m:      \t\tround 26: 1.555317579565675\n",
            "\u001b[92mINFO \u001b[0m:      \t\tround 27: 1.5697099377217252\n",
            "\u001b[92mINFO \u001b[0m:      \t\tround 28: 1.5406465522812316\n",
            "\u001b[92mINFO \u001b[0m:      \t\tround 29: 1.5270994051588813\n",
            "\u001b[92mINFO \u001b[0m:      \t\tround 30: 1.507524147081855\n",
            "\u001b[92mINFO \u001b[0m:      \t\tround 31: 1.4990493477457483\n",
            "\u001b[92mINFO \u001b[0m:      \t\tround 32: 1.4769622605993757\n",
            "\u001b[92mINFO \u001b[0m:      \t\tround 33: 1.4783055109477223\n",
            "\u001b[92mINFO \u001b[0m:      \t\tround 34: 1.470551895362971\n",
            "\u001b[92mINFO \u001b[0m:      \t\tround 35: 1.451781802681508\n",
            "\u001b[92mINFO \u001b[0m:      \t\tround 36: 1.4753881190932103\n",
            "\u001b[92mINFO \u001b[0m:      \t\tround 37: 1.4550721338205828\n",
            "\u001b[92mINFO \u001b[0m:      \t\tround 38: 1.4535096389615798\n",
            "\u001b[92mINFO \u001b[0m:      \t\tround 39: 1.4233095275875316\n",
            "\u001b[92mINFO \u001b[0m:      \t\tround 40: 1.4376405482334023\n",
            "\u001b[92mINFO \u001b[0m:      \t\tround 41: 1.4340914309151147\n",
            "\u001b[92mINFO \u001b[0m:      \t\tround 42: 1.4138106648198254\n",
            "\u001b[92mINFO \u001b[0m:      \t\tround 43: 1.4110361047447881\n",
            "\u001b[92mINFO \u001b[0m:      \t\tround 44: 1.3896811625900596\n",
            "\u001b[92mINFO \u001b[0m:      \t\tround 45: 1.390950520095595\n",
            "\u001b[92mINFO \u001b[0m:      \t\tround 46: 1.393278821653957\n",
            "\u001b[92mINFO \u001b[0m:      \t\tround 47: 1.3753046931158017\n",
            "\u001b[92mINFO \u001b[0m:      \t\tround 48: 1.3657297791834317\n",
            "\u001b[92mINFO \u001b[0m:      \t\tround 49: 1.359062302454414\n",
            "\u001b[92mINFO \u001b[0m:      \t\tround 50: 1.3595129005012216\n",
            "\u001b[92mINFO \u001b[0m:      \t\tround 51: 1.358270875118041\n",
            "\u001b[92mINFO \u001b[0m:      \t\tround 52: 1.3469478051687114\n",
            "\u001b[92mINFO \u001b[0m:      \t\tround 53: 1.350637978605942\n",
            "\u001b[92mINFO \u001b[0m:      \t\tround 54: 1.3307019813763963\n",
            "\u001b[92mINFO \u001b[0m:      \t\tround 55: 1.3210536669974642\n",
            "\u001b[92mINFO \u001b[0m:      \t\tround 56: 1.3132340080328149\n",
            "\u001b[92mINFO \u001b[0m:      \t\tround 57: 1.2923014926613736\n",
            "\u001b[92mINFO \u001b[0m:      \t\tround 58: 1.3012589168493094\n",
            "\u001b[92mINFO \u001b[0m:      \t\tround 59: 1.288516820486974\n",
            "\u001b[92mINFO \u001b[0m:      \t\tround 60: 1.2912674506949047\n",
            "\u001b[92mINFO \u001b[0m:      \t\tround 61: 1.2941215282751177\n",
            "\u001b[92mINFO \u001b[0m:      \t\tround 62: 1.2903119475228646\n",
            "\u001b[92mINFO \u001b[0m:      \t\tround 63: 1.2817308786370873\n",
            "\u001b[92mINFO \u001b[0m:      \t\tround 64: 1.2816436380945162\n",
            "\u001b[92mINFO \u001b[0m:      \t\tround 65: 1.2588803594490254\n",
            "\u001b[92mINFO \u001b[0m:      \t\tround 66: 1.2777308117994237\n",
            "\u001b[92mINFO \u001b[0m:      \t\tround 67: 1.2665367420789364\n",
            "\u001b[92mINFO \u001b[0m:      \t\tround 68: 1.2436703219650878\n",
            "\u001b[92mINFO \u001b[0m:      \t\tround 69: 1.2472884959522057\n",
            "\u001b[92mINFO \u001b[0m:      \t\tround 70: 1.2442576931594038\n",
            "\u001b[92mINFO \u001b[0m:      \t\tround 71: 1.2395573095035493\n",
            "\u001b[92mINFO \u001b[0m:      \t\tround 72: 1.2170947766645104\n",
            "\u001b[92mINFO \u001b[0m:      \t\tround 73: 1.236883198449004\n",
            "\u001b[92mINFO \u001b[0m:      \t\tround 74: 1.243519873021077\n",
            "\u001b[92mINFO \u001b[0m:      \t\tround 75: 1.2257098350069513\n",
            "\u001b[92mINFO \u001b[0m:      \t\tround 76: 1.2187679681044852\n",
            "\u001b[92mINFO \u001b[0m:      \t\tround 77: 1.2060630694854573\n",
            "\u001b[92mINFO \u001b[0m:      \t\tround 78: 1.2154228880658002\n",
            "\u001b[92mINFO \u001b[0m:      \t\tround 79: 1.1917565403208654\n",
            "\u001b[92mINFO \u001b[0m:      \t\tround 80: 1.1934242882565755\n",
            "\u001b[92mINFO \u001b[0m:      \t\tround 81: 1.1797334600719154\n",
            "\u001b[92mINFO \u001b[0m:      \t\tround 82: 1.182078094711887\n",
            "\u001b[92mINFO \u001b[0m:      \t\tround 83: 1.186273572488306\n",
            "\u001b[92mINFO \u001b[0m:      \t\tround 84: 1.1716935274566833\n",
            "\u001b[92mINFO \u001b[0m:      \t\tround 85: 1.1780988520674238\n",
            "\u001b[92mINFO \u001b[0m:      \t\tround 86: 1.1585869271536289\n",
            "\u001b[92mINFO \u001b[0m:      \t\tround 87: 1.164486900806479\n",
            "\u001b[92mINFO \u001b[0m:      \t\tround 88: 1.148809794176552\n"
          ]
        },
        {
          "output_type": "stream",
          "name": "stdout",
          "text": [
            "Round 100 accuracy: 0.6129711349749842\n",
            "Accuracy List for Round 100 : [0.615819209039548, 0.6065420560747663, 0.6145741878841089, 0.6310583580613254, 0.607421875, 0.6110599078341014, 0.6022408963585434, 0.6010879419764279, 0.6057605760576058, 0.6341463414634146]\n"
          ]
        },
        {
          "output_type": "stream",
          "name": "stderr",
          "text": [
            "\u001b[92mINFO \u001b[0m:      \t\tround 89: 1.158032457892029\n",
            "\u001b[92mINFO \u001b[0m:      \t\tround 90: 1.1583098417593984\n",
            "\u001b[92mINFO \u001b[0m:      \t\tround 91: 1.1377240935995165\n",
            "\u001b[92mINFO \u001b[0m:      \t\tround 92: 1.1387669350918803\n",
            "\u001b[92mINFO \u001b[0m:      \t\tround 93: 1.1299932421736334\n",
            "\u001b[92mINFO \u001b[0m:      \t\tround 94: 1.1327513751048488\n",
            "\u001b[92mINFO \u001b[0m:      \t\tround 95: 1.1279608625754258\n",
            "\u001b[92mINFO \u001b[0m:      \t\tround 96: 1.106998534590681\n",
            "\u001b[92mINFO \u001b[0m:      \t\tround 97: 1.0967260367683984\n",
            "\u001b[92mINFO \u001b[0m:      \t\tround 98: 1.123763053468633\n",
            "\u001b[92mINFO \u001b[0m:      \t\tround 99: 1.1188964831211274\n",
            "\u001b[92mINFO \u001b[0m:      \t\tround 100: 1.1084146726702848\n",
            "\u001b[92mINFO \u001b[0m:      \tHistory (metrics, distributed, evaluate):\n",
            "\u001b[92mINFO \u001b[0m:      \t{'accuracy': [(1, 0.147069217810153),\n",
            "\u001b[92mINFO \u001b[0m:      \t              (2, 0.16971204062171968),\n",
            "\u001b[92mINFO \u001b[0m:      \t              (3, 0.2016369944048468),\n",
            "\u001b[92mINFO \u001b[0m:      \t              (4, 0.21165053449559526),\n",
            "\u001b[92mINFO \u001b[0m:      \t              (5, 0.24524728427015202),\n",
            "\u001b[92mINFO \u001b[0m:      \t              (6, 0.256774130791081),\n",
            "\u001b[92mINFO \u001b[0m:      \t              (7, 0.2665318287723988),\n",
            "\u001b[92mINFO \u001b[0m:      \t              (8, 0.2816879605321602),\n",
            "\u001b[92mINFO \u001b[0m:      \t              (9, 0.2866137404616267),\n",
            "\u001b[92mINFO \u001b[0m:      \t              (10, 0.29841260838105255),\n",
            "\u001b[92mINFO \u001b[0m:      \t              (11, 0.3090506669590161),\n",
            "\u001b[92mINFO \u001b[0m:      \t              (12, 0.3221461058145452),\n",
            "\u001b[92mINFO \u001b[0m:      \t              (13, 0.3323612776242948),\n",
            "\u001b[92mINFO \u001b[0m:      \t              (14, 0.34618777025062974),\n",
            "\u001b[92mINFO \u001b[0m:      \t              (15, 0.35609766848269603),\n",
            "\u001b[92mINFO \u001b[0m:      \t              (16, 0.3616598835352503),\n",
            "\u001b[92mINFO \u001b[0m:      \t              (17, 0.3758701987006682),\n",
            "\u001b[92mINFO \u001b[0m:      \t              (18, 0.37876826772259975),\n",
            "\u001b[92mINFO \u001b[0m:      \t              (19, 0.38478973060239274),\n",
            "\u001b[92mINFO \u001b[0m:      \t              (20, 0.40681999253075823),\n",
            "\u001b[92mINFO \u001b[0m:      \t              (21, 0.3990644950520263),\n",
            "\u001b[92mINFO \u001b[0m:      \t              (22, 0.4088321025748422),\n",
            "\u001b[92mINFO \u001b[0m:      \t              (23, 0.4074903765392604),\n",
            "\u001b[92mINFO \u001b[0m:      \t              (24, 0.42549363070575463),\n",
            "\u001b[92mINFO \u001b[0m:      \t              (25, 0.4364250388541672),\n",
            "\u001b[92mINFO \u001b[0m:      \t              (26, 0.43031213668314927),\n",
            "\u001b[92mINFO \u001b[0m:      \t              (27, 0.42378079597007645),\n",
            "\u001b[92mINFO \u001b[0m:      \t              (28, 0.4424765455046165),\n",
            "\u001b[92mINFO \u001b[0m:      \t              (29, 0.44212605988670195),\n",
            "\u001b[92mINFO \u001b[0m:      \t              (30, 0.4582878168426301),\n",
            "\u001b[92mINFO \u001b[0m:      \t              (31, 0.4589103553798064),\n",
            "\u001b[92mINFO \u001b[0m:      \t              (32, 0.4648993767725567),\n",
            "\u001b[92mINFO \u001b[0m:      \t              (33, 0.4685001244865028),\n",
            "\u001b[92mINFO \u001b[0m:      \t              (34, 0.4661088542763061),\n",
            "\u001b[92mINFO \u001b[0m:      \t              (35, 0.47380970485412116),\n",
            "\u001b[92mINFO \u001b[0m:      \t              (36, 0.46867257963677433),\n",
            "\u001b[92mINFO \u001b[0m:      \t              (37, 0.47544570921778984),\n",
            "\u001b[92mINFO \u001b[0m:      \t              (38, 0.4734739603150853),\n",
            "\u001b[92mINFO \u001b[0m:      \t              (39, 0.48735630103028904),\n",
            "\u001b[92mINFO \u001b[0m:      \t              (40, 0.48110920342143015),\n",
            "\u001b[92mINFO \u001b[0m:      \t              (41, 0.4793229392569219),\n",
            "\u001b[92mINFO \u001b[0m:      \t              (42, 0.48875594367595854),\n",
            "\u001b[92mINFO \u001b[0m:      \t              (43, 0.49393164383244165),\n",
            "\u001b[92mINFO \u001b[0m:      \t              (44, 0.4986860252482565),\n",
            "\u001b[92mINFO \u001b[0m:      \t              (45, 0.5021464659044275),\n",
            "\u001b[92mINFO \u001b[0m:      \t              (46, 0.4969262566791018),\n",
            "\u001b[92mINFO \u001b[0m:      \t              (47, 0.5107561612315027),\n",
            "\u001b[92mINFO \u001b[0m:      \t              (48, 0.5058764807462809),\n",
            "\u001b[92mINFO \u001b[0m:      \t              (49, 0.5115556630726168),\n",
            "\u001b[92mINFO \u001b[0m:      \t              (50, 0.5140531869567797),\n",
            "\u001b[92mINFO \u001b[0m:      \t              (51, 0.5178500037676731),\n",
            "\u001b[92mINFO \u001b[0m:      \t              (52, 0.5146450341005924),\n",
            "\u001b[92mINFO \u001b[0m:      \t              (53, 0.5165411003077467),\n",
            "\u001b[92mINFO \u001b[0m:      \t              (54, 0.5176018177551721),\n",
            "\u001b[92mINFO \u001b[0m:      \t              (55, 0.5259549517750908),\n",
            "\u001b[92mINFO \u001b[0m:      \t              (56, 0.5324153568148595),\n",
            "\u001b[92mINFO \u001b[0m:      \t              (57, 0.5396884683212225),\n",
            "\u001b[92mINFO \u001b[0m:      \t              (58, 0.5340524121591986),\n",
            "\u001b[92mINFO \u001b[0m:      \t              (59, 0.540938545526832),\n",
            "\u001b[92mINFO \u001b[0m:      \t              (60, 0.5385216807970745),\n",
            "\u001b[92mINFO \u001b[0m:      \t              (61, 0.5319069024915192),\n",
            "\u001b[92mINFO \u001b[0m:      \t              (62, 0.5346461572184427),\n",
            "\u001b[92mINFO \u001b[0m:      \t              (63, 0.5410748394950271),\n",
            "\u001b[92mINFO \u001b[0m:      \t              (64, 0.5390379022441074),\n",
            "\u001b[92mINFO \u001b[0m:      \t              (65, 0.5503891480102377),\n",
            "\u001b[92mINFO \u001b[0m:      \t              (66, 0.5421044986295691),\n",
            "\u001b[92mINFO \u001b[0m:      \t              (67, 0.5405439249107269),\n",
            "\u001b[92mINFO \u001b[0m:      \t              (68, 0.5573659248113347),\n",
            "\u001b[92mINFO \u001b[0m:      \t              (69, 0.5549847584737859),\n",
            "\u001b[92mINFO \u001b[0m:      \t              (70, 0.5621690604947872),\n",
            "\u001b[92mINFO \u001b[0m:      \t              (71, 0.5559975562434352),\n",
            "\u001b[92mINFO \u001b[0m:      \t              (72, 0.566181572891011),\n",
            "\u001b[92mINFO \u001b[0m:      \t              (73, 0.5630103545328793),\n",
            "\u001b[92mINFO \u001b[0m:      \t              (74, 0.5537281489273642),\n",
            "\u001b[92mINFO \u001b[0m:      \t              (75, 0.5659603492361369),\n",
            "\u001b[92mINFO \u001b[0m:      \t              (76, 0.5692044541385166),\n",
            "\u001b[92mINFO \u001b[0m:      \t              (77, 0.5691069238426347),\n",
            "\u001b[92mINFO \u001b[0m:      \t              (78, 0.5695275440358548),\n",
            "\u001b[92mINFO \u001b[0m:      \t              (79, 0.5842160413476621),\n",
            "\u001b[92mINFO \u001b[0m:      \t              (80, 0.5777492565222444),\n",
            "\u001b[92mINFO \u001b[0m:      \t              (81, 0.5843224551139825),\n",
            "\u001b[92mINFO \u001b[0m:      \t              (82, 0.5807517570411294),\n",
            "\u001b[92mINFO \u001b[0m:      \t              (83, 0.5900906741276299),\n",
            "\u001b[92mINFO \u001b[0m:      \t              (84, 0.5886610331644185),\n",
            "\u001b[92mINFO \u001b[0m:      \t              (85, 0.5907560556683652),\n",
            "\u001b[92mINFO \u001b[0m:      \t              (86, 0.5929010466583083),\n",
            "\u001b[92mINFO \u001b[0m:      \t              (87, 0.5920959737489303),\n",
            "\u001b[92mINFO \u001b[0m:      \t              (88, 0.594083388016725),\n",
            "\u001b[92mINFO \u001b[0m:      \t              (89, 0.590370580746325),\n",
            "\u001b[92mINFO \u001b[0m:      \t              (90, 0.5914015112632589),\n",
            "\u001b[92mINFO \u001b[0m:      \t              (91, 0.5987241346003749),\n",
            "\u001b[92mINFO \u001b[0m:      \t              (92, 0.6038182830533491),\n",
            "\u001b[92mINFO \u001b[0m:      \t              (93, 0.6027582586727667),\n",
            "\u001b[92mINFO \u001b[0m:      \t              (94, 0.602682364267864),\n",
            "\u001b[92mINFO \u001b[0m:      \t              (95, 0.605692004053104),\n",
            "\u001b[92mINFO \u001b[0m:      \t              (96, 0.61158415490962),\n",
            "\u001b[92mINFO \u001b[0m:      \t              (97, 0.6217161154118451),\n",
            "\u001b[92mINFO \u001b[0m:      \t              (98, 0.598830662166197),\n",
            "\u001b[92mINFO \u001b[0m:      \t              (99, 0.6002201427635361),\n",
            "\u001b[92mINFO \u001b[0m:      \t              (100, 0.6129131045766499)],\n",
            "\u001b[92mINFO \u001b[0m:      \t 'loss': [(1, 2.299668293169335),\n",
            "\u001b[92mINFO \u001b[0m:      \t          (2, 2.2914812838720557),\n",
            "\u001b[92mINFO \u001b[0m:      \t          (3, 2.2726917883506585),\n",
            "\u001b[92mINFO \u001b[0m:      \t          (4, 2.2130174535219833),\n",
            "\u001b[92mINFO \u001b[0m:      \t          (5, 2.1053064052619685),\n",
            "\u001b[92mINFO \u001b[0m:      \t          (6, 2.0566827261168856),\n",
            "\u001b[92mINFO \u001b[0m:      \t          (7, 2.0142492184509075),\n",
            "\u001b[92mINFO \u001b[0m:      \t          (8, 1.967278967761017),\n",
            "\u001b[92mINFO \u001b[0m:      \t          (9, 1.9586689611651815),\n",
            "\u001b[92mINFO \u001b[0m:      \t          (10, 1.9297499043454538),\n",
            "\u001b[92mINFO \u001b[0m:      \t          (11, 1.8974424077208218),\n",
            "\u001b[92mINFO \u001b[0m:      \t          (12, 1.8782423070517023),\n",
            "\u001b[92mINFO \u001b[0m:      \t          (13, 1.8447599915752566),\n",
            "\u001b[92mINFO \u001b[0m:      \t          (14, 1.8192948615584819),\n",
            "\u001b[92mINFO \u001b[0m:      \t          (15, 1.778203028294286),\n",
            "\u001b[92mINFO \u001b[0m:      \t          (16, 1.7716956188556072),\n",
            "\u001b[92mINFO \u001b[0m:      \t          (17, 1.7285824092843318),\n",
            "\u001b[92mINFO \u001b[0m:      \t          (18, 1.7125009219226222),\n",
            "\u001b[92mINFO \u001b[0m:      \t          (19, 1.6799706967891042),\n",
            "\u001b[92mINFO \u001b[0m:      \t          (20, 1.6628752134533038),\n",
            "\u001b[92mINFO \u001b[0m:      \t          (21, 1.649975579745407),\n",
            "\u001b[92mINFO \u001b[0m:      \t          (22, 1.616757631536523),\n",
            "\u001b[92mINFO \u001b[0m:      \t          (23, 1.6170826560643226),\n",
            "\u001b[92mINFO \u001b[0m:      \t          (24, 1.586960623871304),\n",
            "\u001b[92mINFO \u001b[0m:      \t          (25, 1.5658335702742086),\n",
            "\u001b[92mINFO \u001b[0m:      \t          (26, 1.555317579565675),\n",
            "\u001b[92mINFO \u001b[0m:      \t          (27, 1.5697099377217252),\n",
            "\u001b[92mINFO \u001b[0m:      \t          (28, 1.5406465522812316),\n",
            "\u001b[92mINFO \u001b[0m:      \t          (29, 1.5270994051588813),\n",
            "\u001b[92mINFO \u001b[0m:      \t          (30, 1.507524147081855),\n",
            "\u001b[92mINFO \u001b[0m:      \t          (31, 1.4990493477457483),\n",
            "\u001b[92mINFO \u001b[0m:      \t          (32, 1.4769622605993757),\n",
            "\u001b[92mINFO \u001b[0m:      \t          (33, 1.4783055109477223),\n",
            "\u001b[92mINFO \u001b[0m:      \t          (34, 1.470551895362971),\n",
            "\u001b[92mINFO \u001b[0m:      \t          (35, 1.451781802681508),\n",
            "\u001b[92mINFO \u001b[0m:      \t          (36, 1.4753881190932103),\n",
            "\u001b[92mINFO \u001b[0m:      \t          (37, 1.4550721338205828),\n",
            "\u001b[92mINFO \u001b[0m:      \t          (38, 1.4535096389615798),\n",
            "\u001b[92mINFO \u001b[0m:      \t          (39, 1.4233095275875316),\n",
            "\u001b[92mINFO \u001b[0m:      \t          (40, 1.4376405482334023),\n",
            "\u001b[92mINFO \u001b[0m:      \t          (41, 1.4340914309151147),\n",
            "\u001b[92mINFO \u001b[0m:      \t          (42, 1.4138106648198254),\n",
            "\u001b[92mINFO \u001b[0m:      \t          (43, 1.4110361047447881),\n",
            "\u001b[92mINFO \u001b[0m:      \t          (44, 1.3896811625900596),\n",
            "\u001b[92mINFO \u001b[0m:      \t          (45, 1.390950520095595),\n",
            "\u001b[92mINFO \u001b[0m:      \t          (46, 1.393278821653957),\n",
            "\u001b[92mINFO \u001b[0m:      \t          (47, 1.3753046931158017),\n",
            "\u001b[92mINFO \u001b[0m:      \t          (48, 1.3657297791834317),\n",
            "\u001b[92mINFO \u001b[0m:      \t          (49, 1.359062302454414),\n",
            "\u001b[92mINFO \u001b[0m:      \t          (50, 1.3595129005012216),\n",
            "\u001b[92mINFO \u001b[0m:      \t          (51, 1.358270875118041),\n",
            "\u001b[92mINFO \u001b[0m:      \t          (52, 1.3469478051687114),\n",
            "\u001b[92mINFO \u001b[0m:      \t          (53, 1.350637978605942),\n",
            "\u001b[92mINFO \u001b[0m:      \t          (54, 1.3307019813763963),\n",
            "\u001b[92mINFO \u001b[0m:      \t          (55, 1.3210536669974642),\n",
            "\u001b[92mINFO \u001b[0m:      \t          (56, 1.3132340080328149),\n",
            "\u001b[92mINFO \u001b[0m:      \t          (57, 1.2923014926613736),\n",
            "\u001b[92mINFO \u001b[0m:      \t          (58, 1.3012589168493094),\n",
            "\u001b[92mINFO \u001b[0m:      \t          (59, 1.288516820486974),\n",
            "\u001b[92mINFO \u001b[0m:      \t          (60, 1.2912674506949047),\n",
            "\u001b[92mINFO \u001b[0m:      \t          (61, 1.2941215282751177),\n",
            "\u001b[92mINFO \u001b[0m:      \t          (62, 1.2903119475228646),\n",
            "\u001b[92mINFO \u001b[0m:      \t          (63, 1.2817308786370873),\n",
            "\u001b[92mINFO \u001b[0m:      \t          (64, 1.2816436380945162),\n",
            "\u001b[92mINFO \u001b[0m:      \t          (65, 1.2588803594490254),\n",
            "\u001b[92mINFO \u001b[0m:      \t          (66, 1.2777308117994237),\n",
            "\u001b[92mINFO \u001b[0m:      \t          (67, 1.2665367420789364),\n",
            "\u001b[92mINFO \u001b[0m:      \t          (68, 1.2436703219650878),\n",
            "\u001b[92mINFO \u001b[0m:      \t          (69, 1.2472884959522057),\n",
            "\u001b[92mINFO \u001b[0m:      \t          (70, 1.2442576931594038),\n",
            "\u001b[92mINFO \u001b[0m:      \t          (71, 1.2395573095035493),\n",
            "\u001b[92mINFO \u001b[0m:      \t          (72, 1.2170947766645104),\n",
            "\u001b[92mINFO \u001b[0m:      \t          (73, 1.236883198449004),\n",
            "\u001b[92mINFO \u001b[0m:      \t          (74, 1.243519873021077),\n",
            "\u001b[92mINFO \u001b[0m:      \t          (75, 1.2257098350069513),\n",
            "\u001b[92mINFO \u001b[0m:      \t          (76, 1.2187679681044852),\n",
            "\u001b[92mINFO \u001b[0m:      \t          (77, 1.2060630694854573),\n",
            "\u001b[92mINFO \u001b[0m:      \t          (78, 1.2154228880658002),\n",
            "\u001b[92mINFO \u001b[0m:      \t          (79, 1.1917565403208654),\n",
            "\u001b[92mINFO \u001b[0m:      \t          (80, 1.1934242882565755),\n",
            "\u001b[92mINFO \u001b[0m:      \t          (81, 1.1797334600719154),\n",
            "\u001b[92mINFO \u001b[0m:      \t          (82, 1.182078094711887),\n",
            "\u001b[92mINFO \u001b[0m:      \t          (83, 1.186273572488306),\n",
            "\u001b[92mINFO \u001b[0m:      \t          (84, 1.1716935274566833),\n",
            "\u001b[92mINFO \u001b[0m:      \t          (85, 1.1780988520674238),\n",
            "\u001b[92mINFO \u001b[0m:      \t          (86, 1.1585869271536289),\n",
            "\u001b[92mINFO \u001b[0m:      \t          (87, 1.164486900806479),\n",
            "\u001b[92mINFO \u001b[0m:      \t          (88, 1.148809794176552),\n",
            "\u001b[92mINFO \u001b[0m:      \t          (89, 1.158032457892029),\n",
            "\u001b[92mINFO \u001b[0m:      \t          (90, 1.1583098417593984),\n",
            "\u001b[92mINFO \u001b[0m:      \t          (91, 1.1377240935995165),\n",
            "\u001b[92mINFO \u001b[0m:      \t          (92, 1.1387669350918803),\n",
            "\u001b[92mINFO \u001b[0m:      \t          (93, 1.1299932421736334),\n",
            "\u001b[92mINFO \u001b[0m:      \t          (94, 1.1327513751048488),\n",
            "\u001b[92mINFO \u001b[0m:      \t          (95, 1.1279608625754258),\n",
            "\u001b[92mINFO \u001b[0m:      \t          (96, 1.106998534590681),\n",
            "\u001b[92mINFO \u001b[0m:      \t          (97, 1.0967260367683984),\n",
            "\u001b[92mINFO \u001b[0m:      \t          (98, 1.123763053468633),\n",
            "\u001b[92mINFO \u001b[0m:      \t          (99, 1.1188964831211274),\n",
            "\u001b[92mINFO \u001b[0m:      \t          (100, 1.1084146726702848)]}\n",
            "\u001b[92mINFO \u001b[0m:      \n",
            "\u001b[36m(pid=3835)\u001b[0m 2024-10-15 04:09:07.777605: E external/local_xla/xla/stream_executor/cuda/cuda_fft.cc:485] Unable to register cuFFT factory: Attempting to register factory for plugin cuFFT when one has already been registered\n",
            "\u001b[36m(pid=3835)\u001b[0m 2024-10-15 04:09:07.825175: E external/local_xla/xla/stream_executor/cuda/cuda_dnn.cc:8454] Unable to register cuDNN factory: Attempting to register factory for plugin cuDNN when one has already been registered\n",
            "\u001b[36m(pid=3835)\u001b[0m 2024-10-15 04:09:07.837694: E external/local_xla/xla/stream_executor/cuda/cuda_blas.cc:1452] Unable to register cuBLAS factory: Attempting to register factory for plugin cuBLAS when one has already been registered\n",
            "\u001b[36m(pid=3836)\u001b[0m 2024-10-15 04:09:11.861167: W tensorflow/compiler/tf2tensorrt/utils/py_utils.cc:38] TF-TRT Warning: Could not find TensorRT\n"
          ]
        },
        {
          "output_type": "stream",
          "name": "stdout",
          "text": [
            "{'3': [(1, 0.13508612873980055), (2, 0.17225747960108795), (3, 0.19764279238440616), (4, 0.2157751586582049), (5, 0.26835902085222124), (6, 0.22937443336355395), (7, 0.26745240253853125), (8, 0.2629193109700816), (9, 0.2828649138712602), (10, 0.3019038984587489), (11, 0.30099728014505894), (12, 0.3082502266545784), (13, 0.3327289211242067), (14, 0.3272892112420671), (15, 0.3644605621033545), (16, 0.3535811423390752), (17, 0.37080689029918407), (18, 0.3653671804170444), (19, 0.37262012692656393), (20, 0.4043517679057117), (21, 0.40072529465095197), (22, 0.4125113327289211), (23, 0.4188576609247507), (24, 0.4442429737080689), (25, 0.44242973708068906), (26, 0.43064369900271987), (27, 0.4270172257479601), (28, 0.4496826835902085), (29, 0.44152311876699907), (30, 0.46600181323662737), (31, 0.4768812330009066), (32, 0.457842248413418), (33, 0.4524025385312783), (34, 0.46872166817769717), (35, 0.4551223934723481), (36, 0.4551223934723481), (37, 0.44786944696282865), (38, 0.4614687216681777), (39, 0.4959202175883953), (40, 0.46237533998186764), (41, 0.46600181323662737), (42, 0.485040797824116), (43, 0.4741613780598368), (44, 0.5185856754306437), (45, 0.4877606527651859), (46, 0.4823209428830462), (47, 0.5231187669990934), (48, 0.49229374433363554), (49, 0.471441523118767), (50, 0.514959202175884), (51, 0.528558476881233), (52, 0.5040797824116047), (53, 0.4904805077062557), (54, 0.4932003626473255), (55, 0.5294650951949229), (56, 0.5185856754306437), (57, 0.5267452402538532), (58, 0.5203989120580236), (59, 0.5412511332728921), (60, 0.5258386219401632), (61, 0.5013599274705349), (62, 0.5358114233907525), (63, 0.5376246600181324), (64, 0.5303717135086129), (65, 0.5530371713508613), (66, 0.5494106980961015), (67, 0.5249320036264733), (68, 0.5530371713508613), (69, 0.5503173164097914), (70, 0.5330915684496826), (71, 0.5222121486854034), (72, 0.5394378966455122), (73, 0.5385312783318223), (74, 0.5394378966455122), (75, 0.5521305530371714), (76, 0.5466908431550317), (77, 0.5639165911151405), (78, 0.5648232094288305), (79, 0.57116953762466), (80, 0.5675430643699003), (81, 0.5521305530371714), (82, 0.5548504079782411), (83, 0.5766092475067996), (84, 0.5666364460562103), (85, 0.5766092475067996), (86, 0.5775158658204895), (87, 0.5757026291931097), (88, 0.5738893925657298), (89, 0.5838621940163191), (90, 0.5684496826835902), (91, 0.6019945602901179), (92, 0.6119673617407072), (93, 0.5929283771532184), (94, 0.5784224841341795), (95, 0.5965548504079783), (96, 0.6165004533091568), (97, 0.5956482320942883), (98, 0.5938349954669084), (99, 0.6074342701722575), (100, 0.6010879419764279)], '8': [(1, 0.1382488479262673), (2, 0.1824884792626728), (3, 0.20184331797235022), (4, 0.22027649769585253), (5, 0.25161290322580643), (6, 0.24976958525345622), (7, 0.2728110599078341), (8, 0.2857142857142857), (9, 0.26175115207373273), (10, 0.2838709677419355), (11, 0.2921658986175115), (12, 0.27926267281105993), (13, 0.3050691244239631), (14, 0.34838709677419355), (15, 0.3456221198156682), (16, 0.3400921658986175), (17, 0.3474654377880184), (18, 0.3695852534562212), (19, 0.391705069124424), (20, 0.40921658986175113), (21, 0.37880184331797234), (22, 0.39631336405529954), (23, 0.38433179723502303), (24, 0.40829493087557606), (25, 0.41382488479262675), (26, 0.423963133640553), (27, 0.4184331797235023), (28, 0.432258064516129), (29, 0.44423963133640554), (30, 0.44516129032258067), (31, 0.4599078341013825), (32, 0.4783410138248848), (33, 0.46359447004608295), (34, 0.45714285714285713), (35, 0.4783410138248848), (36, 0.4774193548387097), (37, 0.4986175115207373), (38, 0.46912442396313364), (39, 0.48110599078341015), (40, 0.4626728110599078), (41, 0.48202764976958523), (42, 0.48663594470046084), (43, 0.48202764976958523), (44, 0.480184331797235), (45, 0.48847926267281105), (46, 0.4986175115207373), (47, 0.5271889400921659), (48, 0.5262672811059907), (49, 0.5327188940092166), (50, 0.5087557603686635), (51, 0.5179723502304148), (52, 0.49585253456221196), (53, 0.5299539170506913), (54, 0.5235023041474655), (55, 0.5198156682027649), (56, 0.49400921658986174), (57, 0.5170506912442396), (58, 0.5474654377880185), (59, 0.5631336405529954), (60, 0.5253456221198156), (61, 0.5327188940092166), (62, 0.5271889400921659), (63, 0.5382488479262673), (64, 0.5373271889400921), (65, 0.5612903225806452), (66, 0.5456221198156682), (67, 0.5493087557603686), (68, 0.5539170506912442), (69, 0.5465437788018433), (70, 0.5585253456221199), (71, 0.552073732718894), (72, 0.5769585253456221), (73, 0.5539170506912442), (74, 0.5493087557603686), (75, 0.5852534562211982), (76, 0.5880184331797235), (77, 0.5529953917050692), (78, 0.5870967741935483), (79, 0.5741935483870968), (80, 0.5732718894009217), (81, 0.5926267281105991), (82, 0.5566820276497696), (83, 0.6119815668202765), (84, 0.5576036866359447), (85, 0.5953917050691244), (86, 0.6046082949308755), (87, 0.6129032258064516), (88, 0.5972350230414747), (89, 0.6129032258064516), (90, 0.6082949308755761), (91, 0.6046082949308755), (92, 0.6073732718894009), (93, 0.6267281105990783), (94, 0.6202764976958526), (95, 0.5935483870967742), (96, 0.6350230414746544), (97, 0.6470046082949309), (98, 0.6147465437788019), (99, 0.6294930875576037), (100, 0.6110599078341014)], '1': [(1, 0.14574187884108866), (2, 0.16593503072870938), (3, 0.1957857769973661), (4, 0.2115891132572432), (5, 0.2440737489025461), (6, 0.25021949078138717), (7, 0.25636523266022826), (8, 0.26953467954345917), (9, 0.28884986830553117), (10, 0.3037752414398595), (11, 0.3257243195785777), (12, 0.33362598770851626), (13, 0.3555750658472344), (14, 0.33274802458296754), (15, 0.35118525021949076), (16, 0.34064969271290607), (17, 0.3713784021071115), (18, 0.3845478489903424), (19, 0.4064969271290606), (20, 0.42054433713784023), (21, 0.398595258999122), (22, 0.38279192273924495), (23, 0.4302019315188762), (24, 0.417910447761194), (25, 0.437225636523266), (26, 0.4038630377524144), (27, 0.4240561896400351), (28, 0.4310798946444249), (29, 0.42230026338893767), (30, 0.44161545215100967), (31, 0.4503950834064969), (32, 0.47058823529411764), (33, 0.4784899034240562), (34, 0.46093064091308167), (35, 0.44776119402985076), (36, 0.46093064091308167), (37, 0.4828797190517998), (38, 0.48024582967515367), (39, 0.47673397717295873), (40, 0.4863915715539947), (41, 0.4697102721685689), (42, 0.4697102721685689), (43, 0.49078138718173836), (44, 0.47761194029850745), (45, 0.5065847234416154), (46, 0.49692712906057945), (47, 0.49692712906057945), (48, 0.49692712906057945), (49, 0.4986830553116769), (50, 0.4978050921861282), (51, 0.5118525021949079), (52, 0.5267778753292361), (53, 0.5250219490781387), (54, 0.49078138718173836), (55, 0.5074626865671642), (56, 0.5373134328358209), (57, 0.5329236172080772), (58, 0.5153643546971027), (59, 0.5399473222124671), (60, 0.5566286215978928), (61, 0.5162423178226514), (62, 0.5399473222124671), (63, 0.5162423178226514), (64, 0.5373134328358209), (65, 0.5539947322212467), (66, 0.5329236172080772), (67, 0.5329236172080772), (68, 0.5285338015803336), (69, 0.5355575065847235), (70, 0.5601404741000878), (71, 0.5636523266022827), (72, 0.5610184372256365), (73, 0.5662862159789289), (74, 0.5504828797190519), (75, 0.5539947322212467), (76, 0.57243195785777), (77, 0.5469710272168569), (78, 0.5680421422300264), (79, 0.5715539947322212), (80, 0.5566286215978928), (81, 0.5847234416154522), (82, 0.5610184372256365), (83, 0.6049165935030729), (84, 0.5847234416154522), (85, 0.5645302897278315), (86, 0.5838454784899034), (87, 0.5803336259877085), (88, 0.5908691834942933), (89, 0.568920105355575), (90, 0.5856014047410009), (91, 0.5864793678665496), (92, 0.5952589991220368), (93, 0.5970149253731343), (94, 0.5996488147497805), (95, 0.6031606672519754), (96, 0.5996488147497805), (97, 0.6066725197541704), (98, 0.5882352941176471), (99, 0.5812115891132572), (100, 0.6145741878841089)], '2': [(1, 0.1503461918892186), (2, 0.17309594460929772), (3, 0.21266073194856577), (4, 0.21068249258160238), (5, 0.2274975272007913), (6, 0.2858555885262117), (7, 0.27200791295746785), (8, 0.2987141444114738), (9, 0.29772502472799206), (10, 0.27101879327398615), (11, 0.3076162215628091), (12, 0.3313550939663699), (13, 0.31849653808110784), (14, 0.34619188921859545), (15, 0.34817012858555885), (16, 0.36993076162215627), (17, 0.37190900098911966), (18, 0.390702274975272), (19, 0.3758654797230465), (20, 0.4055390702274975), (21, 0.37289812067260136), (22, 0.4114737883283877), (23, 0.41641938674579626), (24, 0.4352126607319486), (25, 0.4401582591493571), (26, 0.42532146389713155), (27, 0.4045499505440158), (28, 0.44411473788328387), (29, 0.42532146389713155), (30, 0.44510385756676557), (31, 0.4629080118694362), (32, 0.4658753709198813), (33, 0.47477744807121663), (34, 0.4638971315529179), (35, 0.49159248269040556), (36, 0.4678536102868447), (37, 0.486646884272997), (38, 0.4807121661721068), (39, 0.5074183976261127), (40, 0.4836795252225519), (41, 0.49950544015825915), (42, 0.5004945598417408), (43, 0.49851632047477745), (44, 0.5291790306627102), (45, 0.5004945598417408), (46, 0.49752720079129575), (47, 0.5133531157270029), (48, 0.49752720079129575), (49, 0.5341246290801187), (50, 0.5291790306627102), (51, 0.49455984174085066), (52, 0.5192878338278932), (53, 0.5113748763600395), (54, 0.5410484668644906), (55, 0.5321463897131553), (56, 0.5311572700296736), (57, 0.5440158259149357), (58, 0.5489614243323442), (59, 0.5321463897131553), (60, 0.5548961424332344), (61, 0.5410484668644906), (62, 0.5351137487636004), (63, 0.5390702274975272), (64, 0.5301681503461919), (65, 0.5361028684470821), (66, 0.5717111770524234), (67, 0.5727002967359051), (68, 0.5608308605341247), (69, 0.5667655786350149), (70, 0.5657764589515332), (71, 0.5707220573689417), (72, 0.5450049455984174), (73, 0.5746785361028685), (74, 0.5558852621167161), (75, 0.5578635014836796), (76, 0.582591493570722), (77, 0.5756676557863502), (78, 0.5618199802176064), (79, 0.592482690405539), (80, 0.5895153313550939), (81, 0.6003956478733927), (82, 0.6132542037586548), (83, 0.5905044510385756), (84, 0.609297725024728), (85, 0.5964391691394659), (86, 0.6033630069238378), (87, 0.5954500494559841), (88, 0.5905044510385756), (89, 0.5964391691394659), (90, 0.592482690405539), (91, 0.5885262116716122), (92, 0.6033630069238378), (93, 0.609297725024728), (94, 0.6122650840751731), (95, 0.6320474777448071), (96, 0.6073194856577646), (97, 0.6330365974282888), (98, 0.6102868447082097), (99, 0.6181998021760633), (100, 0.6310583580613254)], '0': [(1, 0.1476147614761476), (2, 0.18091809180918092), (3, 0.1926192619261926), (4, 0.21422142214221424), (5, 0.24212421242124213), (6, 0.26102610261026105), (7, 0.28802880288028804), (8, 0.2889288928892889), (9, 0.28532853285328535), (10, 0.3177317731773177), (11, 0.28982898289828984), (12, 0.3195319531953195), (13, 0.35553555355535554), (14, 0.33483348334833485), (15, 0.3546354635463546), (16, 0.36633663366336633), (17, 0.37353735373537356), (18, 0.38343834383438347), (19, 0.3501350135013501), (20, 0.414041404140414), (21, 0.4158415841584158), (22, 0.40684068406840684), (23, 0.43564356435643564), (24, 0.4239423942394239), (25, 0.45004500450045004), (26, 0.42484248424842486), (27, 0.4239423942394239), (28, 0.44914491449144917), (29, 0.41944194419441944), (30, 0.44824482448244823), (31, 0.43384338433843384), (32, 0.44194419441944194), (33, 0.46264626462646263), (34, 0.45094509450945097), (35, 0.49864986498649866), (36, 0.46354635463546356), (37, 0.4671467146714671), (38, 0.47164716471647167), (39, 0.45994599459945995), (40, 0.45994599459945995), (41, 0.47434743474347435), (42, 0.47704770477047703), (43, 0.49054905490549056), (44, 0.47974797479747977), (45, 0.48514851485148514), (46, 0.5202520252025202), (47, 0.49684968496849685), (48, 0.4977497749774977), (49, 0.5202520252025202), (50, 0.5148514851485149), (51, 0.5166516651665166), (52, 0.48514851485148514), (53, 0.5364536453645364), (54, 0.504050405040504), (55, 0.5382538253825383), (56, 0.5445544554455446), (57, 0.5535553555355536), (58, 0.5166516651665166), (59, 0.5328532853285328), (60, 0.5589558955895589), (61, 0.549054905490549), (62, 0.5607560756075608), (63, 0.5526552655265526), (64, 0.5373537353735374), (65, 0.5454545454545454), (66, 0.5256525652565257), (67, 0.5463546354635463), (68, 0.5427542754275427), (69, 0.5481548154815482), (70, 0.5526552655265526), (71, 0.5463546354635463), (72, 0.5715571557155715), (73, 0.5553555355535553), (74, 0.5562556255625563), (75, 0.5625562556255626), (76, 0.5571557155715572), (77, 0.5535553555355536), (78, 0.5805580558055805), (79, 0.576957695769577), (80, 0.5688568856885688), (81, 0.5796579657965797), (82, 0.6012601260126013), (83, 0.5841584158415841), (84, 0.5904590459045904), (85, 0.5868586858685868), (86, 0.5976597659765976), (87, 0.621962196219622), (88, 0.6183618361836184), (89, 0.5760576057605761), (90, 0.5976597659765976), (91, 0.6102610261026102), (92, 0.6084608460846085), (93, 0.6147614761476148), (94, 0.5931593159315932), (95, 0.5967596759675967), (96, 0.6012601260126013), (97, 0.6075607560756076), (98, 0.585958595859586), (99, 0.6021602160216022), (100, 0.6057605760576058)], '4': [(1, 0.16074766355140188), (2, 0.15233644859813084), (3, 0.22429906542056074), (4, 0.20841121495327103), (5, 0.24485981308411214), (6, 0.2570093457943925), (7, 0.2485981308411215), (8, 0.26635514018691586), (9, 0.2757009345794392), (10, 0.2953271028037383), (11, 0.31588785046728973), (12, 0.31588785046728973), (13, 0.32710280373831774), (14, 0.3383177570093458), (15, 0.36728971962616824), (16, 0.3813084112149533), (17, 0.3878504672897196), (18, 0.39532710280373834), (19, 0.3822429906542056), (20, 0.40654205607476634), (21, 0.4046728971962617), (22, 0.39532710280373834), (23, 0.3747663551401869), (24, 0.4439252336448598), (25, 0.4308411214953271), (26, 0.4457943925233645), (27, 0.44205607476635517), (28, 0.42149532710280374), (29, 0.45794392523364486), (30, 0.4439252336448598), (31, 0.4411214953271028), (32, 0.4691588785046729), (33, 0.4616822429906542), (34, 0.48878504672897194), (35, 0.4654205607476635), (36, 0.46261682242990654), (37, 0.4869158878504673), (38, 0.45607476635514016), (39, 0.4785046728971963), (40, 0.47570093457943924), (41, 0.4785046728971963), (42, 0.45981308411214955), (43, 0.48317757009345796), (44, 0.4588785046728972), (45, 0.5121495327102804), (46, 0.4794392523364486), (47, 0.514018691588785), (48, 0.5065420560747663), (49, 0.5046728971962616), (50, 0.5112149532710281), (51, 0.5149532710280373), (52, 0.5102803738317757), (53, 0.5018691588785047), (54, 0.5158878504672897), (55, 0.5233644859813084), (56, 0.5420560747663551), (57, 0.5485981308411215), (58, 0.5233644859813084), (59, 0.5429906542056074), (60, 0.5224299065420561), (61, 0.5065420560747663), (62, 0.5), (63, 0.525233644859813), (64, 0.5308411214953271), (65, 0.5271028037383177), (66, 0.5149532710280373), (67, 0.505607476635514), (68, 0.5551401869158878), (69, 0.5476635514018692), (70, 0.5813084112149532), (71, 0.577570093457944), (72, 0.5635514018691589), (73, 0.5607476635514018), (74, 0.5401869158878505), (75, 0.5579439252336449), (76, 0.5598130841121496), (77, 0.5728971962616822), (78, 0.5551401869158878), (79, 0.6), (80, 0.5934579439252337), (81, 0.5813084112149532), (82, 0.5551401869158878), (83, 0.577570093457944), (84, 0.5747663551401869), (85, 0.585981308411215), (86, 0.6009345794392523), (87, 0.5962616822429907), (88, 0.5738317757009346), (89, 0.6009345794392523), (90, 0.5766355140186916), (91, 0.5990654205607476), (92, 0.6158878504672897), (93, 0.5962616822429907), (94, 0.6102803738317757), (95, 0.5822429906542056), (96, 0.6009345794392523), (97, 0.5962616822429907), (98, 0.6018691588785047), (99, 0.591588785046729), (100, 0.6065420560747663)], '5': [(1, 0.1484375), (2, 0.193359375), (3, 0.1865234375), (4, 0.234375), (5, 0.255859375), (6, 0.26953125), (7, 0.2587890625), (8, 0.294921875), (9, 0.28125), (10, 0.3056640625), (11, 0.3125), (12, 0.326171875), (13, 0.345703125), (14, 0.3671875), (15, 0.375), (16, 0.3955078125), (17, 0.4140625), (18, 0.3662109375), (19, 0.3720703125), (20, 0.4130859375), (21, 0.3955078125), (22, 0.3984375), (23, 0.408203125), (24, 0.4443359375), (25, 0.451171875), (26, 0.4541015625), (27, 0.40625), (28, 0.4326171875), (29, 0.4462890625), (30, 0.4560546875), (31, 0.4375), (32, 0.4716796875), (33, 0.4755859375), (34, 0.486328125), (35, 0.4609375), (36, 0.4833984375), (37, 0.46875), (38, 0.4921875), (39, 0.4921875), (40, 0.4658203125), (41, 0.44921875), (42, 0.4873046875), (43, 0.5224609375), (44, 0.51171875), (45, 0.4873046875), (46, 0.51953125), (47, 0.4853515625), (48, 0.51171875), (49, 0.4912109375), (50, 0.5029296875), (51, 0.521484375), (52, 0.513671875), (53, 0.5087890625), (54, 0.513671875), (55, 0.5205078125), (56, 0.5625), (57, 0.5380859375), (58, 0.5625), (59, 0.5341796875), (60, 0.53515625), (61, 0.5703125), (62, 0.52734375), (63, 0.5234375), (64, 0.53515625), (65, 0.5517578125), (66, 0.5302734375), (67, 0.541015625), (68, 0.587890625), (69, 0.5478515625), (70, 0.58984375), (71, 0.5478515625), (72, 0.56640625), (73, 0.5888671875), (74, 0.5302734375), (75, 0.58203125), (76, 0.5888671875), (77, 0.580078125), (78, 0.560546875), (79, 0.5869140625), (80, 0.560546875), (81, 0.5966796875), (82, 0.5830078125), (83, 0.5712890625), (84, 0.5849609375), (85, 0.59375), (86, 0.587890625), (87, 0.5849609375), (88, 0.59765625), (89, 0.591796875), (90, 0.5830078125), (91, 0.59375), (92, 0.6103515625), (93, 0.599609375), (94, 0.6064453125), (95, 0.6025390625), (96, 0.626953125), (97, 0.623046875), (98, 0.5927734375), (99, 0.5791015625), (100, 0.607421875)], '7': [(1, 0.15406162464985995), (2, 0.17273576097105509), (3, 0.20915032679738563), (4, 0.21008403361344538), (5, 0.24556489262371614), (6, 0.25770308123249297), (7, 0.2549019607843137), (8, 0.2969187675070028), (9, 0.28944911297852477), (10, 0.31092436974789917), (11, 0.3202614379084967), (12, 0.32679738562091504), (13, 0.33613445378151263), (14, 0.357609710550887), (15, 0.3557422969187675), (16, 0.3566760037348273), (17, 0.37628384687208216), (18, 0.38935574229691877), (19, 0.39402427637721754), (20, 0.39775910364145656), (21, 0.42670401493930904), (22, 0.4042950513538749), (23, 0.38562091503267976), (24, 0.41363211951447243), (25, 0.42296918767507), (26, 0.41083099906629317), (27, 0.43604108309990663), (28, 0.453781512605042), (29, 0.4323062558356676), (30, 0.4603174603174603), (31, 0.46872082166199813), (32, 0.4603174603174603), (33, 0.4668534080298786), (34, 0.4519140989729225), (35, 0.48739495798319327), (36, 0.47245564892623715), (37, 0.45938375350140054), (38, 0.477124183006536), (39, 0.46591970121381887), (40, 0.4939309056956116), (41, 0.4892623716153128), (42, 0.484593837535014), (43, 0.5107376283846872), (44, 0.488328664799253), (45, 0.5172735760971056), (46, 0.49019607843137253), (47, 0.5051353874883286), (48, 0.48179271708683474), (49, 0.5191409897292251), (50, 0.5070028011204482), (51, 0.5350140056022409), (52, 0.5210084033613446), (53, 0.5256769374416433), (54, 0.5396825396825397), (55, 0.5060690943043884), (56, 0.49673202614379086), (57, 0.5340802987861811), (58, 0.5424836601307189), (59, 0.5424836601307189), (60, 0.5256769374416433), (61, 0.5200746965452848), (62, 0.5350140056022409), (63, 0.5564892623716153), (64, 0.5284780578898226), (65, 0.5527544351073763), (66, 0.5107376283846872), (67, 0.5256769374416433), (68, 0.5536881419234361), (69, 0.5574229691876751), (70, 0.5294117647058824), (71, 0.5350140056022409), (72, 0.5620915032679739), (73, 0.5602240896358543), (74, 0.5592903828197946), (75, 0.5695611577964519), (76, 0.5443510737628384), (77, 0.5901027077497666), (78, 0.5686274509803921), (79, 0.5845004668534081), (80, 0.5779645191409897), (81, 0.5648926237161531), (82, 0.5901027077497666), (83, 0.5574229691876751), (84, 0.6022408963585434), (85, 0.5835667600373483), (86, 0.5919701213818861), (87, 0.5695611577964519), (88, 0.5732959850606909), (89, 0.5779645191409897), (90, 0.5854341736694678), (91, 0.5873015873015873), (92, 0.5648926237161531), (93, 0.5742296918767507), (94, 0.5901027077497666), (95, 0.6134453781512605), (96, 0.5994397759103641), (97, 0.5994397759103641), (98, 0.5742296918767507), (99, 0.5845004668534081), (100, 0.6022408963585434)], '9': [(1, 0.12617702448210924), (2, 0.1337099811676083), (3, 0.19303201506591336), (4, 0.1817325800376648), (5, 0.21563088512241055), (6, 0.2542372881355932), (7, 0.2815442561205273), (8, 0.2617702448210923), (9, 0.3088512241054614), (10, 0.2824858757062147), (11, 0.327683615819209), (12, 0.3512241054613936), (13, 0.3229755178907721), (14, 0.3634651600753296), (15, 0.3436911487758945), (16, 0.3559322033898305), (17, 0.3860640301318267), (18, 0.3747645951035782), (19, 0.3851224105461394), (20, 0.4011299435028249), (21, 0.3851224105461394), (22, 0.4274952919020716), (23, 0.4143126177024482), (24, 0.4265536723163842), (25, 0.4397363465160075), (26, 0.4491525423728814), (27, 0.4406779661016949), (28, 0.4472693032015066), (29, 0.4717514124293785), (30, 0.5009416195856874), (31, 0.4632768361581921), (32, 0.4764595103578154), (33, 0.4651600753295669), (34, 0.4717514124293785), (35, 0.4821092278719397), (36, 0.4689265536723164), (37, 0.4717514124293785), (38, 0.455743879472693), (39, 0.4971751412429379), (40, 0.5112994350282486), (41, 0.4924670433145009), (42, 0.5141242937853108), (43, 0.5188323917137476), (44, 0.5263653483992468), (45, 0.5178907721280602), (46, 0.4905838041431262), (47, 0.5282485875706214), (48, 0.5254237288135594), (49, 0.5291902071563088), (50, 0.504708097928437), (51, 0.5131826741996234), (52, 0.5254237288135594), (53, 0.5263653483992468), (54, 0.5348399246704332), (55, 0.5536723163841808), (56, 0.5499058380414312), (57, 0.5621468926553672), (58, 0.544256120527307), (59, 0.5433145009416196), (60, 0.536723163841808), (61, 0.5602636534839924), (62, 0.5508474576271186), (63, 0.559322033898305), (64, 0.5772128060263654), (65, 0.5555555555555556), (66, 0.583804143126177), (67, 0.5461393596986818), (68, 0.5856873822975518), (69, 0.5725047080979284), (70, 0.5828625235404896), (71, 0.5743879472693032), (72, 0.5979284369114878), (73, 0.5809792843691148), (74, 0.6016949152542372), (75, 0.5809792843691148), (76, 0.5941619585687382), (77, 0.6054613935969868), (78, 0.6016949152542372), (79, 0.6186440677966102), (80, 0.6167608286252354), (81, 0.5969868173258004), (82, 0.6016949152542372), (83, 0.603578154425612), (84, 0.6092278719397364), (85, 0.6120527306967984), (86, 0.6177024482109228), (87, 0.5875706214689266), (88, 0.628060263653484), (89, 0.6016949152542372), (90, 0.6186440677966102), (91, 0.608286252354049), (92, 0.6167608286252354), (93, 0.60075329566855), (94, 0.6026365348399246), (95, 0.6120527306967984), (96, 0.6242937853107344), (97, 0.6581920903954802), (98, 0.6224105461393596), (99, 0.620527306967985), (100, 0.615819209039548)], '6': [(1, 0.16440831074977416), (2, 0.17163504968383017), (3, 0.2032520325203252), (4, 0.2104787714543812), (5, 0.25564588979223124), (6, 0.2565492321589883), (7, 0.2646793134598013), (8, 0.2935862691960253), (9, 0.2944896115627823), (10, 0.3089430894308943), (11, 0.2981029810298103), (12, 0.3297199638663053), (13, 0.3224932249322493), (14, 0.3486901535682023), (15, 0.35591689250225833), (16, 0.3604336043360434), (17, 0.36224028906955735), (18, 0.3685636856368564), (19, 0.41553748870822044), (20, 0.3956639566395664), (21, 0.4092140921409214), (22, 0.45257452574525747), (23, 0.4046973803071364), (24, 0.3992773261065944), (25, 0.4363143631436314), (26, 0.4372177055103884), (27, 0.4128274616079494), (28, 0.46251129177958444), (29, 0.46070460704607047), (30, 0.4751580849141825), (31, 0.4932249322493225), (32, 0.45799457994579945), (33, 0.48419150858175247), (34, 0.46251129177958444), (35, 0.47244805781391147), (36, 0.4760614272809395), (37, 0.48509485094850946), (38, 0.4914182475158085), (39, 0.5203252032520326), (40, 0.5085817524841915), (41, 0.49232158988256547), (42, 0.5239385727190605), (43, 0.4715447154471545), (44, 0.5194218608852755), (45, 0.5176151761517616), (46, 0.4950316169828365), (47, 0.5167118337850045), (48, 0.5230352303523035), (49, 0.5158084914182475), (50, 0.5492321589882565), (51, 0.5230352303523035), (52, 0.5447154471544715), (53, 0.5085817524841915), (54, 0.5230352303523035), (55, 0.5293586269196026), (56, 0.5483288166214996), (57, 0.5401987353206865), (58, 0.5239385727190605), (59, 0.5365853658536586), (60, 0.5429087624209575), (61, 0.5257452574525745), (62, 0.5329719963866305), (63, 0.5618789521228545), (64, 0.5456187895212286), (65, 0.5654923215898826), (66, 0.5573622402890696), (67, 0.5627822944896116), (68, 0.5564588979223125), (69, 0.5781391147244805), (70, 0.5709123757904245), (71, 0.5709123757904245), (72, 0.5772357723577236), (73, 0.5537488708220416), (74, 0.5537488708220416), (75, 0.5591689250225835), (76, 0.5609756097560976), (77, 0.5528455284552846), (78, 0.5465221318879856), (79, 0.5682023486901535), (80, 0.5745257452574526), (81, 0.5962059620596206), (82, 0.5934959349593496), (83, 0.6205962059620597), (84, 0.6079494128274616), (85, 0.6142728093947606), (86, 0.5654923215898826), (87, 0.5962059620596206), (88, 0.5971093044263776), (89, 0.5953026196928636), (90, 0.5980126467931346), (91, 0.6061427280939476), (92, 0.6043360433604336), (93, 0.6160794941282746), (94, 0.6151761517615176), (95, 0.6260162601626016), (96, 0.6061427280939476), (97, 0.6522131887985546), (98, 0.6052393857271906), (99, 0.5889792231255646), (100, 0.6341463414634146)]}\n",
            "{'3': [(1, 2.299077385464043), (2, 2.290607618615504), (3, 2.2734865029076503), (4, 2.212514871699315), (5, 2.100221054400516), (6, 2.0860799056015984), (7, 2.0073352458794766), (8, 1.9951783884468666), (9, 1.9666819371424906), (10, 1.9359875409471266), (11, 1.9083128765509114), (12, 1.9033080662582964), (13, 1.8622565688810235), (14, 1.8656700590147501), (15, 1.7773667531778676), (16, 1.8136715776576633), (17, 1.7387084202234677), (18, 1.7230775527054898), (19, 1.7162342645423798), (20, 1.6697096660368462), (21, 1.685504158842272), (22, 1.6446601438824955), (23, 1.6092129326471931), (24, 1.5850731899602135), (25, 1.592886593486651), (26, 1.581026903197426), (27, 1.6060165574306373), (28, 1.5282653901972558), (29, 1.5738955897195492), (30, 1.473712535414605), (31, 1.5064184906692366), (32, 1.4951326433140262), (33, 1.5100352492855553), (34, 1.4479788501805213), (35, 1.506839075741288), (36, 1.4922911783617838), (37, 1.4677183129845808), (38, 1.4540126082687517), (39, 1.4435958719642619), (40, 1.4549940043109606), (41, 1.4652306480182915), (42, 1.4174593433075782), (43, 1.4465838559410946), (44, 1.375871316476616), (45, 1.4072024331564053), (46, 1.4096046545671963), (47, 1.3662167102341638), (48, 1.3546997956114257), (49, 1.4128045460795233), (50, 1.3731087485120606), (51, 1.3091698385646748), (52, 1.358283760757308), (53, 1.4016244587634545), (54, 1.3438051512105187), (55, 1.3256681650633826), (56, 1.3242166525433523), (57, 1.337008969954545), (58, 1.3223520739988532), (59, 1.2958552019226475), (60, 1.3076887030225393), (61, 1.2881136376103377), (62, 1.3001581587147302), (63, 1.2971002393058506), (64, 1.2886087481043929), (65, 1.246523552879029), (66, 1.264356056182685), (67, 1.2470211713614512), (68, 1.2504197554164656), (69, 1.2537336205744463), (70, 1.2801569392220713), (71, 1.2788386492975603), (72, 1.2677702070471382), (73, 1.2916167624301513), (74, 1.292684062004954), (75, 1.2354790157117523), (76, 1.268045949373911), (77, 1.2187286877999604), (78, 1.2281645618561496), (79, 1.246427186488673), (80, 1.2146884633104906), (81, 1.1995832512622948), (82, 1.207760241392625), (83, 1.2089108456726627), (84, 1.2013001467894124), (85, 1.186883584110713), (86, 1.1976768037782186), (87, 1.1705990559603017), (88, 1.1795267904766666), (89, 1.1572288905396206), (90, 1.2023159092594469), (91, 1.154271765503144), (92, 1.1370938005819173), (93, 1.1377259392362233), (94, 1.2081543065587284), (95, 1.173156075172822), (96, 1.0894760297626553), (97, 1.1481742461162163), (98, 1.1287635329735894), (99, 1.0952832078458175), (100, 1.115931514599922)], '8': [(1, 2.2990448844048283), (2, 2.2917895380802418), (3, 2.272223926139867), (4, 2.2163458547284525), (5, 2.1068847788094374), (6, 2.0635599079219977), (7, 2.0067227667927194), (8, 1.9675619074825867), (9, 1.983206839715281), (10, 1.9633555278250698), (11, 1.9190176406763666), (12, 1.9255990579930318), (13, 1.9029336139353739), (14, 1.824991699078116), (15, 1.8051629028012675), (16, 1.7894397890512845), (17, 1.7751883227704308), (18, 1.7187477054683844), (19, 1.6922206367765154), (20, 1.6700511712632422), (21, 1.656875379184424), (22, 1.6229897215619065), (23, 1.622314291286029), (24, 1.6412581514103621), (25, 1.5667613708478514), (26, 1.5783167885195823), (27, 1.5601603233319823), (28, 1.5568758428371448), (29, 1.517780798261616), (30, 1.5280088549934774), (31, 1.5132594293163668), (32, 1.4738167386999876), (33, 1.4654402820745371), (34, 1.5304150378099783), (35, 1.435465021506982), (36, 1.478177813560732), (37, 1.430694514815159), (38, 1.462585890238186), (39, 1.4441486708030173), (40, 1.4759970274938417), (41, 1.4346455418019801), (42, 1.4296715844062067), (43, 1.4602274740895917), (44, 1.404312194327605), (45, 1.4224818297794888), (46, 1.3842366979968164), (47, 1.3981982379465059), (48, 1.3830230199796263), (49, 1.3408518649466026), (50, 1.388973275637297), (51, 1.3777849898360293), (52, 1.3697583328194332), (53, 1.3320112312993695), (54, 1.3424867252051007), (55, 1.3484832436258343), (56, 1.3737388087857154), (57, 1.3786062502091931), (58, 1.3062779760580459), (59, 1.253521338805625), (60, 1.3017267778721822), (61, 1.289608758166089), (62, 1.3440092651525402), (63, 1.2952804602785595), (64, 1.280404912931029), (65, 1.2702032769330636), (66, 1.282912843458114), (67, 1.2443133742029215), (68, 1.24491781650051), (69, 1.2639506043377011), (70, 1.2471949599305605), (71, 1.2743724617540562), (72, 1.2191710402888636), (73, 1.2473751240611626), (74, 1.2704416387092132), (75, 1.2198442320669851), (76, 1.1998633871430076), (77, 1.2479258008816274), (78, 1.189175967796607), (79, 1.200395370518557), (80, 1.2149625776000836), (81, 1.1695820727106614), (82, 1.2471737950078903), (83, 1.1601147323160128), (84, 1.2185816550584432), (85, 1.1653212523130778), (86, 1.14381924345746), (87, 1.1354548805869669), (88, 1.1620120222118044), (89, 1.1266426554473314), (90, 1.1361757656396259), (91, 1.1695175414810532), (92, 1.1391534265834615), (93, 1.098317175966254), (94, 1.1395875010072911), (95, 1.1581053162500057), (96, 1.0942357419273272), (97, 1.0413828764642987), (98, 1.1089210842062251), (99, 1.0967592815100322), (100, 1.1379446766892887)], '1': [(1, 2.299809078044071), (2, 2.291085276088765), (3, 2.273032095476239), (4, 2.21491908440996), (5, 2.1212002850081233), (6, 2.0710093376404157), (7, 2.0394051619220765), (8, 1.9889267627558653), (9, 1.9791008148201732), (10, 1.9573649875525323), (11, 1.8646484580973557), (12, 1.8692186427179192), (13, 1.8136279958711579), (14, 1.8474775271210575), (15, 1.808294726736824), (16, 1.7726159576159806), (17, 1.732613714354618), (18, 1.7284787401386894), (19, 1.642111506349063), (20, 1.6686276456993645), (21, 1.6716501479404238), (22, 1.646576609184493), (23, 1.5909446548013126), (24, 1.6077903974883068), (25, 1.5813677304663922), (26, 1.561789337745144), (27, 1.5835551462014377), (28, 1.5549915272274804), (29, 1.5515817091902482), (30, 1.5491010919802015), (31, 1.543837856262582), (32, 1.4912626907634987), (33, 1.468078393178409), (34, 1.4860361491095297), (35, 1.4902936774874278), (36, 1.4813568546020535), (37, 1.4763215576168527), (38, 1.4987397200188373), (39, 1.4285105484635083), (40, 1.4643243218431146), (41, 1.4468646704679629), (42, 1.4669242586557858), (43, 1.4559276911959091), (44, 1.4557668677121531), (45, 1.3911221304726873), (46, 1.446252917071201), (47, 1.3968510792064919), (48, 1.3678730839276334), (49, 1.4238959948570713), (50, 1.3780390869848973), (51, 1.4069155553017298), (52, 1.363815092328769), (53, 1.3422596561898257), (54, 1.3815400486352467), (55, 1.3896910887836258), (56, 1.3086127710509865), (57, 1.3133806855768566), (58, 1.3314207849845854), (59, 1.2984285859082014), (60, 1.2718633421687728), (61, 1.3589341438475986), (62, 1.2811046533149204), (63, 1.2999592615492623), (64, 1.2880018139429736), (65, 1.272400904999583), (66, 1.287630645406152), (67, 1.2916474116277652), (68, 1.2916758278150953), (69, 1.3010278088257332), (70, 1.2539742763258053), (71, 1.2670634012666053), (72, 1.2403267176136623), (73, 1.2463932508329638), (74, 1.242286342293469), (75, 1.2438220192299694), (76, 1.2179537208798268), (77, 1.231401929110158), (78, 1.250876730947352), (79, 1.2350879882489305), (80, 1.2202849727225367), (81, 1.2101448681189158), (82, 1.2356773205657503), (83, 1.1694833077915516), (84, 1.1809720535671846), (85, 1.2309404364586713), (86, 1.1461832708596555), (87, 1.1648455554712644), (88, 1.1735580245897999), (89, 1.2291750081073203), (90, 1.1896028788703068), (91, 1.1609038022445732), (92, 1.1795509675807132), (93, 1.124163681420451), (94, 1.1364267905413634), (95, 1.1302423200343552), (96, 1.1242866575770256), (97, 1.1493642965464135), (98, 1.1513151825259296), (99, 1.1121692650144408), (100, 1.1048294164508554)], '2': [(1, 2.299157300405757), (2, 2.291119095361787), (3, 2.272234758920415), (4, 2.212274755379802), (5, 2.1172813511979567), (6, 2.0252421364468236), (7, 2.0181407751598415), (8, 1.9569033607177282), (9, 1.9497791401356548), (10, 1.9403734428828359), (11, 1.9173105740523597), (12, 1.872413462040804), (13, 1.8354693721946693), (14, 1.8055547183392429), (15, 1.8031226227946144), (16, 1.7619068248807264), (17, 1.7321474799770276), (18, 1.6911263023710392), (19, 1.6971463852890876), (20, 1.6618353623664697), (21, 1.6930699612573157), (22, 1.6057060564307148), (23, 1.598212097330216), (24, 1.570502677020404), (25, 1.5221547925979282), (26, 1.5548276072321967), (27, 1.5685630335180507), (28, 1.5439550170323026), (29, 1.5341904038373606), (30, 1.5235081327421376), (31, 1.451002493220668), (32, 1.4750141156533352), (33, 1.4491731029825559), (34, 1.4385071260639044), (35, 1.3906191608672327), (36, 1.4868934001224567), (37, 1.445932932588632), (38, 1.4489341628775516), (39, 1.3951710186655515), (40, 1.4109450911202133), (41, 1.424693571589703), (42, 1.4069114238406972), (43, 1.422929256889162), (44, 1.3565083098340813), (45, 1.416601929301442), (46, 1.374712442903679), (47, 1.3777784260043286), (48, 1.382459647106016), (49, 1.3208121722812822), (50, 1.3413867034261233), (51, 1.4026849717933512), (52, 1.356764070829699), (53, 1.38902654598304), (54, 1.2915570528405829), (55, 1.3038543093687938), (56, 1.342764061471239), (57, 1.2858018326830085), (58, 1.3062869154734853), (59, 1.3173946751803012), (60, 1.2705832103121764), (61, 1.2691251119685338), (62, 1.2637321977304068), (63, 1.2957560966559616), (64, 1.2803036659572764), (65, 1.2550793234129924), (66, 1.1947979054512303), (67, 1.2055942604261147), (68, 1.2563533564821312), (69, 1.233465039883358), (70, 1.2617875187852146), (71, 1.2049736198402654), (72, 1.2462037002297466), (73, 1.234141127881617), (74, 1.2659116181610364), (75, 1.2376456668657554), (76, 1.2037374314167615), (77, 1.1886135008403502), (78, 1.2148887426044301), (79, 1.1743107231151457), (80, 1.1912641750480961), (81, 1.1737678547405466), (82, 1.1378439360627082), (83, 1.1754133907081348), (84, 1.160199102261182), (85, 1.156303408119964), (86, 1.1590095523792723), (87, 1.2024164163276303), (88, 1.1645062055833026), (89, 1.187030051629456), (90, 1.1288875429849596), (91, 1.16365479762665), (92, 1.1550273664155652), (93, 1.1424012034394504), (94, 1.1037982659806838), (95, 1.097039336030962), (96, 1.1123659215742239), (97, 1.0723458772597043), (98, 1.1043100454922836), (99, 1.1166854956501433), (100, 1.0394265522588961)], '0': [(1, 2.2992425490670327), (2, 2.290982116352428), (3, 2.2753613630358323), (4, 2.2196692031959926), (5, 2.1031135961239023), (6, 2.029364859489146), (7, 1.9956897820147386), (8, 1.9388091523404813), (9, 1.9577393911638097), (10, 1.9048889851806188), (11, 1.9400080168815907), (12, 1.8689487613502866), (13, 1.8206520721141977), (14, 1.8348268933600933), (15, 1.7701344367730307), (16, 1.7855128775192315), (17, 1.7298901033873606), (18, 1.7038392536710985), (19, 1.6973846348205415), (20, 1.6526866405531697), (21, 1.635977058449272), (22, 1.6346806635414557), (23, 1.5768777442128674), (24, 1.5707851623651898), (25, 1.5632910712359727), (26, 1.5730534398158749), (27, 1.5713417924920468), (28, 1.5011956767924297), (29, 1.5419795751357057), (30, 1.4990496980940082), (31, 1.5060604145460361), (32, 1.5043689879504116), (33, 1.5237289266903908), (34, 1.479529205578925), (35, 1.4628746680157556), (36, 1.459630659633022), (37, 1.4632623913479108), (38, 1.4719778075076566), (39, 1.4749507358973355), (40, 1.4700363012823727), (41, 1.4575048521979235), (42, 1.40816429302995), (43, 1.4297834545722639), (44, 1.424303078093473), (45, 1.4362610370376752), (46, 1.3618694055627638), (47, 1.391696418222278), (48, 1.3914426372031925), (49, 1.3400352294116702), (50, 1.3523034088038626), (51, 1.3506623300531766), (52, 1.4261854545797559), (53, 1.2958100857120929), (54, 1.3273968027047913), (55, 1.298570077769076), (56, 1.2985588464513755), (57, 1.2572697154258845), (58, 1.3278091844409357), (59, 1.318924509330873), (60, 1.2810893386039082), (61, 1.2919906620288304), (62, 1.2357931604908996), (63, 1.275632593569511), (64, 1.3124270251374541), (65, 1.265546554815222), (66, 1.33093695400214), (67, 1.2884708723433913), (68, 1.2594070493584812), (69, 1.2726991435196033), (70, 1.2668695938039964), (71, 1.2401054079311586), (72, 1.2140642106264803), (73, 1.2615429229504562), (74, 1.2501279531997351), (75, 1.2194604773869073), (76, 1.2447288018105591), (77, 1.2659753524538206), (78, 1.2264831837612054), (79, 1.1826868302965894), (80, 1.2185494160459023), (81, 1.1891226840384044), (82, 1.1703856937741504), (83, 1.2134221376973588), (84, 1.212299283939262), (85, 1.2059752652497038), (86, 1.1627400074854937), (87, 1.1255041070074567), (88, 1.1161124425144693), (89, 1.1919731510103984), (90, 1.1423369900907727), (91, 1.1233934405470194), (92, 1.1260694034672556), (93, 1.1104661116291015), (94, 1.152121046767591), (95, 1.1461600822762903), (96, 1.1272819951029107), (97, 1.1199082787459653), (98, 1.1675313681122637), (99, 1.10567235978845), (100, 1.118344654594854)], '4': [(1, 2.2985883325059837), (2, 2.292304707464771), (3, 2.2712697568340836), (4, 2.2141641910945142), (5, 2.0942712012852462), (6, 2.079662166131991), (7, 2.041580197075817), (8, 1.961225709291262), (9, 1.9693145444460005), (10, 1.9450419512864585), (11, 1.8921433364119484), (12, 1.8722610039131664), (13, 1.8782852371162344), (14, 1.8259589580731972), (15, 1.761323221376009), (16, 1.742534246622959), (17, 1.725257191256942), (18, 1.694491113012082), (19, 1.7028260300092608), (20, 1.6605420792214225), (21, 1.6386824612305544), (22, 1.643507657764114), (23, 1.6837705527510598), (24, 1.550991192933555), (25, 1.5626946320043547), (26, 1.5640317295199242), (27, 1.5752376739109788), (28, 1.5921474189401787), (29, 1.5201604836455016), (30, 1.5292799305693012), (31, 1.5047029296928478), (32, 1.448738825209787), (33, 1.494967993174758), (34, 1.4653689841243709), (35, 1.4623945124795503), (36, 1.5131855530159495), (37, 1.4544657134564123), (38, 1.4725385342802957), (39, 1.445342220101401), (40, 1.434623900306559), (41, 1.4418906929336976), (42, 1.4186324075003651), (43, 1.4264464427377577), (44, 1.4428229394360124), (45, 1.3564653915779612), (46, 1.4227652939680582), (47, 1.3684458944285027), (48, 1.3707363837233213), (49, 1.3808641865988758), (50, 1.365489146085543), (51, 1.3587119365406928), (52, 1.3248458806599412), (53, 1.37050683988589), (54, 1.3302113900674837), (55, 1.3214960434726466), (56, 1.316745166689436), (57, 1.2564412462377104), (58, 1.3141722211213869), (59, 1.3050907063707013), (60, 1.293393511415642), (61, 1.3392550160951704), (62, 1.3310271425781963), (63, 1.3001324192385808), (64, 1.2596006986136747), (65, 1.2855417494461916), (66, 1.3276598535965536), (67, 1.3285270078159939), (68, 1.2278349820698533), (69, 1.278133168844419), (70, 1.2070532526925346), (71, 1.1877680644810757), (72, 1.2226542441644401), (73, 1.2258926199975415), (74, 1.2376405187856372), (75, 1.2421215293563415), (76, 1.214814414265), (77, 1.1954189904382295), (78, 1.2261095777850284), (79, 1.16753584625565), (80, 1.1305129026698175), (81, 1.1963658644774249), (82, 1.2112127515757196), (83, 1.1746334187338285), (84, 1.1728624595659916), (85, 1.1880348242331888), (86, 1.1331636814313515), (87, 1.1523614253953238), (88, 1.1425463022472702), (89, 1.1170385494410435), (90, 1.1578711647853672), (91, 1.115975806869079), (92, 1.083067416253491), (93, 1.1536742293946096), (94, 1.093385412537049), (95, 1.1414314089534439), (96, 1.088239437731627), (97, 1.146595190284408), (98, 1.0918980700947414), (99, 1.1202776800806278), (100, 1.1006175579311692)], '5': [(1, 2.299160733819008), (2, 2.290111266076565), (3, 2.272599972784519), (4, 2.202342852950096), (5, 2.104239232838154), (6, 2.0505124367773533), (7, 2.0333531722426414), (8, 1.9937120079994202), (9, 1.9712528847157955), (10, 1.896154846996069), (11, 1.8974835351109505), (12, 1.858417335897684), (13, 1.8222425617277622), (14, 1.801275834441185), (15, 1.7566418088972569), (16, 1.7564832344651222), (17, 1.7158428989350796), (18, 1.7319822683930397), (19, 1.690471462905407), (20, 1.6723240725696087), (21, 1.6631334535777569), (22, 1.6084173955023289), (23, 1.6293875500559807), (24, 1.5713827051222324), (25, 1.5562868006527424), (26, 1.5076818987727165), (27, 1.5845325365662575), (28, 1.5561539977788925), (29, 1.5532897226512432), (30, 1.5267126448452473), (31, 1.5356963202357292), (32, 1.4624038487672806), (33, 1.466530054807663), (34, 1.4203729629516602), (35, 1.485957071185112), (36, 1.4454359337687492), (37, 1.4439838640391827), (38, 1.383962120860815), (39, 1.3811719380319118), (40, 1.457666203379631), (41, 1.40878439322114), (42, 1.4185004122555256), (43, 1.3894152976572514), (44, 1.3429360799491405), (45, 1.3893828354775906), (46, 1.3331050835549831), (47, 1.4012816846370697), (48, 1.355646751821041), (49, 1.3823471181094646), (50, 1.3746674172580242), (51, 1.346747886389494), (52, 1.3581337444484234), (53, 1.3590040765702724), (54, 1.3561621829867363), (55, 1.3194463457912207), (56, 1.2821111362427473), (57, 1.3008829392492771), (58, 1.2430853359401226), (59, 1.3008948899805546), (60, 1.2903724983334541), (61, 1.269489685073495), (62, 1.3083462417125702), (63, 1.2840601541101933), (64, 1.3006885517388582), (65, 1.2521013636142015), (66, 1.2765638213604689), (67, 1.2777455896139145), (68, 1.1963375341147184), (69, 1.2436995413154364), (70, 1.2031201720237732), (71, 1.2591063398867846), (72, 1.2025822028517723), (73, 1.1642653979361057), (74, 1.2845823746174574), (75, 1.1879385653883219), (76, 1.1960894856601954), (77, 1.2221130263060331), (78, 1.203104430809617), (79, 1.2024467326700687), (80, 1.2410212457180023), (81, 1.1701508834958076), (82, 1.1893982850015163), (83, 1.2309270445257425), (84, 1.1792777255177498), (85, 1.1929721292108297), (86, 1.173621665686369), (87, 1.2265859860926867), (88, 1.1582096070051193), (89, 1.172323951497674), (90, 1.1927372850477695), (91, 1.1470559611916542), (92, 1.148702435195446), (93, 1.1453537214547396), (94, 1.1596772447228432), (95, 1.1484375353902578), (96, 1.1038107071071863), (97, 1.1154660936444998), (98, 1.112057313323021), (99, 1.159400662407279), (100, 1.134154349565506)], '7': [(1, 2.3001313222890474), (2, 2.2921709952011606), (3, 2.271493036206029), (4, 2.2068172373802835), (5, 2.112481850869849), (6, 2.0539179491618325), (7, 2.0183935966812263), (8, 1.9573098857418385), (9, 1.9571218427155865), (10, 1.9299782503441492), (11, 1.8749832795336356), (12, 1.8666125059573033), (13, 1.8501210798179848), (14, 1.827427234970221), (15, 1.7650967865319702), (16, 1.7650112284331763), (17, 1.7351422742857876), (18, 1.7312814048469678), (19, 1.681216074082475), (20, 1.6700853713754178), (21, 1.5991915424330896), (22, 1.60071128823844), (23, 1.6515577930250978), (24, 1.600415243488066), (25, 1.6060671304343017), (26, 1.5478974769985865), (27, 1.5323779930253656), (28, 1.5366654135599858), (29, 1.528665805508554), (30, 1.5102961855887476), (31, 1.4853926949363017), (32, 1.4847280993626342), (33, 1.4666893267386656), (34, 1.4882781304119905), (35, 1.4311194964149754), (36, 1.4682387612224403), (37, 1.500268203537671), (38, 1.4059133630952025), (39, 1.4522070318154372), (40, 1.414281656094292), (41, 1.3967441668808738), (42, 1.412809288134428), (43, 1.3381349019754947), (44, 1.40289796845697), (45, 1.36596292752623), (46, 1.410695354255085), (47, 1.396628134390887), (48, 1.3783544701577124), (49, 1.345799322555713), (50, 1.3549121545921632), (51, 1.3388034895577239), (52, 1.346227442517), (53, 1.3122655033063488), (54, 1.3028468368879331), (55, 1.3414472197952056), (56, 1.3572595652634578), (57, 1.275142824839032), (58, 1.2917564411679792), (59, 1.242639302873478), (60, 1.3228492262650604), (61, 1.33191158858334), (62, 1.2685038102886368), (63, 1.2843174997831928), (64, 1.2885985747327546), (65, 1.2658709110666055), (66, 1.322002772857495), (67, 1.278095298677154), (68, 1.2445686603683273), (69, 1.212059434388532), (70, 1.2962396452072955), (71, 1.2879012500315932), (72, 1.2394133099432196), (73, 1.230110387118702), (74, 1.2390347350767903), (75, 1.2173686141059512), (76, 1.2435823917722835), (77, 1.1597603743149787), (78, 1.1966486769675317), (79, 1.1873364870399097), (80, 1.1843038766212712), (81, 1.2013312692847016), (82, 1.1422626864231156), (83, 1.2419993919707368), (84, 1.1629472068266598), (85, 1.1756405411870763), (86, 1.1427309877064382), (87, 1.1309355321495917), (88, 1.1895072399512503), (89, 1.1630909912615153), (90, 1.1471412349927104), (91, 1.129310852561901), (92, 1.1688357055131573), (93, 1.135138384323049), (94, 1.1172179561369227), (95, 1.096340013707942), (96, 1.1118265322499137), (97, 1.0974541557491884), (98, 1.1505672996228928), (99, 1.1421096009923186), (100, 1.115158463615218)], '9': [(1, 2.303085183019692), (2, 2.2927406247277267), (3, 2.2725724657601107), (4, 2.2201122550641075), (5, 2.1071155915377053), (6, 2.0548099519618264), (7, 1.9710977896907684), (8, 1.965984589635989), (9, 1.9077164922505898), (10, 1.9218481675828694), (11, 1.8549264981472784), (12, 1.8526323360238373), (13, 1.8180105109223763), (14, 1.7756551984564284), (15, 1.766691341687506), (16, 1.7549376097102622), (17, 1.6673984356968192), (18, 1.6799730610263774), (19, 1.641530625115231), (20, 1.6254876200986672), (21, 1.6484089048119812), (22, 1.6041076160869132), (23, 1.5943717442438876), (24, 1.5551745743401306), (25, 1.559350371697528), (26, 1.5384171004573728), (27, 1.5498335891299777), (28, 1.5159915508299), (29, 1.458308667898627), (30, 1.45536618829896), (31, 1.4840625773715435), (32, 1.428061757384047), (33, 1.477078608200375), (34, 1.4735109601766152), (35, 1.3984943832605796), (36, 1.4829219671741494), (37, 1.405301655304185), (38, 1.4742115659677826), (39, 1.4052796314440654), (40, 1.3788492223861752), (41, 1.42078250747616), (42, 1.393321840776562), (43, 1.3384276038060305), (44, 1.3570870491070937), (45, 1.3787449284012934), (46, 1.4139066665186046), (47, 1.318114021066892), (48, 1.3363754666233243), (49, 1.3185498159933), (50, 1.365361948471285), (51, 1.371679526039885), (52, 1.284714821592787), (53, 1.3556160711299228), (54, 1.3037074439494174), (55, 1.2366036578535808), (56, 1.2492614331218483), (57, 1.241102060355709), (58, 1.2675179265537728), (59, 1.2702059626803783), (60, 1.2970096056968703), (61, 1.2260168312633104), (62, 1.292138874194043), (63, 1.2309047740282537), (64, 1.2476265093701033), (65, 1.245308397179943), (66, 1.2057021272609014), (67, 1.2488372637951666), (68, 1.2053933850789473), (69, 1.2106186719488514), (70, 1.2086687599871793), (71, 1.1909808573749778), (72, 1.1403129491428872), (73, 1.2135435845667808), (74, 1.1363088561541168), (75, 1.2146780359542977), (76, 1.1756972334928206), (77, 1.139675693996882), (78, 1.1703436793356068), (79, 1.1359178737058477), (80, 1.1253085069063693), (81, 1.119178292329253), (82, 1.1204642668057745), (83, 1.1551979055063424), (84, 1.1228356839573317), (85, 1.1476174925231215), (86, 1.1253010382535542), (87, 1.1784019490419808), (88, 1.0864574688078095), (89, 1.109280581528184), (90, 1.1264050226876066), (91, 1.1171839383137878), (92, 1.0976311344435885), (93, 1.1360578020638217), (94, 1.1096602374101987), (95, 1.09804731686012), (96, 1.0839221012794364), (97, 1.0435206136910031), (98, 1.0793284465139643), (99, 1.1077275026989521), (100, 1.1330560461500494)], '6': [(1, 2.2993570229117677), (2, 2.2918524612902305), (3, 2.2724955822824895), (4, 2.2101346920930056), (5, 2.086722460327217), (6, 2.0497560335260956), (7, 2.0114773560345656), (8, 1.9474490767895045), (9, 1.9440138482142917), (10, 1.900925189714337), (11, 1.90684194616509), (12, 1.8911889809795404), (13, 1.8441728552720948), (14, 1.7799217346668674), (15, 1.7672084126261407), (16, 1.7716776004436323), (17, 1.7324095937510062), (18, 1.72066415928459), (19, 1.6419596089472508), (20, 1.677235076205625), (21, 1.6098438201988723), (22, 1.5538274873562945), (23, 1.616752193549138), (24, 1.612891781620863), (25, 1.5433703070841291), (26, 1.5420347722457568), (27, 1.5645079231520655), (28, 1.5225435954122362), (29, 1.490909289430689), (30, 1.4818289247631704), (31, 1.4575526165122261), (32, 1.5021999353961892), (33, 1.4578605349686302), (34, 1.470184694999171), (35, 1.4480715943761204), (36, 1.4451679886195072), (37, 1.459586755800807), (38, 1.4546095231899616), (39, 1.3580807551889669), (40, 1.4120162236550529), (41, 1.4392249575583054), (42, 1.3639818073503585), (43, 1.398056995793302), (44, 1.326950279354726), (45, 1.3461921170905784), (46, 1.369048108145689), (47, 1.3390927050925636), (48, 1.3373541768435002), (49, 1.3200938121197776), (50, 1.3011512208221836), (51, 1.3213746581081882), (52, 1.2802892964276087), (53, 1.3515836043517226), (54, 1.3234362427781268), (55, 1.3206696052646034), (56, 1.2803262593838796), (57, 1.2764427614513558), (58, 1.295770031111458), (59, 1.2831057757004598), (60, 1.2762290317945473), (61, 1.2709586677404816), (62, 1.279963177609465), (63, 1.2545809088899083), (64, 1.2700733887578521), (65, 1.2298316245910383), (66, 1.2780352763044156), (67, 1.2510955824761534), (68, 1.2539685321694145), (69, 1.1997731073331273), (70, 1.2146999900580098), (71, 1.2018968524863942), (72, 1.177698600313743), (73, 1.2463450711809414), (74, 1.2190647034248794), (75, 1.235756038973325), (76, 1.218783229347167), (77, 1.1878456497580054), (78, 1.2440497487541136), (79, 1.1814363961189636), (80, 1.19308504761073), (81, 1.1649780661109987), (82, 1.1537008273676912), (83, 1.135634158361895), (84, 1.1047869195998414), (85, 1.1281741763302735), (86, 1.2007499630642884), (87, 1.1645907666517359), (88, 1.1166853897724478), (89, 1.1249021101127148), (90, 1.1572839437353795), (91, 1.097793023114605), (92, 1.1517212292904668), (93, 1.1192727301071221), (94, 1.1051732314634453), (95, 1.089176780701545), (96, 1.1328110853184852), (97, 1.0294055997948444), (98, 1.1376420293397052), (99, 1.136105344547489), (100, 1.082596579972106)]}\n",
            "[{'accuracy': 0.147069217810153, 'loss': 2.299668293169335}, {'accuracy': 0.16971204062171968, 'loss': 2.2914812838720557}, {'accuracy': 0.2016369944048468, 'loss': 2.2726917883506585}, {'accuracy': 0.21165053449559526, 'loss': 2.2130174535219833}, {'accuracy': 0.24524728427015202, 'loss': 2.1053064052619685}, {'accuracy': 0.256774130791081, 'loss': 2.0566827261168856}, {'accuracy': 0.2665318287723988, 'loss': 2.0142492184509075}, {'accuracy': 0.2816879605321602, 'loss': 1.967278967761017}, {'accuracy': 0.2866137404616267, 'loss': 1.9586689611651815}, {'accuracy': 0.29841260838105255, 'loss': 1.9297499043454538}, {'accuracy': 0.3090506669590161, 'loss': 1.8974424077208218}, {'accuracy': 0.3221461058145452, 'loss': 1.8782423070517023}, {'accuracy': 0.3323612776242948, 'loss': 1.8447599915752566}, {'accuracy': 0.34618777025062974, 'loss': 1.8192948615584819}, {'accuracy': 0.35609766848269603, 'loss': 1.778203028294286}, {'accuracy': 0.3616598835352503, 'loss': 1.7716956188556072}, {'accuracy': 0.3758701987006682, 'loss': 1.7285824092843318}, {'accuracy': 0.37876826772259975, 'loss': 1.7125009219226222}, {'accuracy': 0.38478973060239274, 'loss': 1.6799706967891042}, {'accuracy': 0.40681999253075823, 'loss': 1.6628752134533038}, {'accuracy': 0.3990644950520263, 'loss': 1.649975579745407}, {'accuracy': 0.4088321025748422, 'loss': 1.616757631536523}, {'accuracy': 0.4074903765392604, 'loss': 1.6170826560643226}, {'accuracy': 0.42549363070575463, 'loss': 1.586960623871304}, {'accuracy': 0.4364250388541672, 'loss': 1.5658335702742086}, {'accuracy': 0.43031213668314927, 'loss': 1.555317579565675}, {'accuracy': 0.42378079597007645, 'loss': 1.5697099377217252}, {'accuracy': 0.4424765455046165, 'loss': 1.5406465522812316}, {'accuracy': 0.44212605988670195, 'loss': 1.5270994051588813}, {'accuracy': 0.4582878168426301, 'loss': 1.507524147081855}, {'accuracy': 0.4589103553798064, 'loss': 1.4990493477457483}, {'accuracy': 0.4648993767725567, 'loss': 1.4769622605993757}, {'accuracy': 0.4685001244865028, 'loss': 1.4783055109477223}, {'accuracy': 0.4661088542763061, 'loss': 1.470551895362971}, {'accuracy': 0.47380970485412116, 'loss': 1.451781802681508}, {'accuracy': 0.46867257963677433, 'loss': 1.4753881190932103}, {'accuracy': 0.47544570921778984, 'loss': 1.4550721338205828}, {'accuracy': 0.4734739603150853, 'loss': 1.4535096389615798}, {'accuracy': 0.48735630103028904, 'loss': 1.4233095275875316}, {'accuracy': 0.48110920342143015, 'loss': 1.4376405482334023}, {'accuracy': 0.4793229392569219, 'loss': 1.4340914309151147}, {'accuracy': 0.48875594367595854, 'loss': 1.4138106648198254}, {'accuracy': 0.49393164383244165, 'loss': 1.4110361047447881}, {'accuracy': 0.4986860252482565, 'loss': 1.3896811625900596}, {'accuracy': 0.5021464659044275, 'loss': 1.390950520095595}, {'accuracy': 0.4969262566791018, 'loss': 1.393278821653957}, {'accuracy': 0.5107561612315027, 'loss': 1.3753046931158017}, {'accuracy': 0.5058764807462809, 'loss': 1.3657297791834317}, {'accuracy': 0.5115556630726168, 'loss': 1.359062302454414}, {'accuracy': 0.5140531869567797, 'loss': 1.3595129005012216}, {'accuracy': 0.5178500037676731, 'loss': 1.358270875118041}, {'accuracy': 0.5146450341005924, 'loss': 1.3469478051687114}, {'accuracy': 0.5165411003077467, 'loss': 1.350637978605942}, {'accuracy': 0.5176018177551721, 'loss': 1.3307019813763963}, {'accuracy': 0.5259549517750908, 'loss': 1.3210536669974642}, {'accuracy': 0.5324153568148595, 'loss': 1.3132340080328149}, {'accuracy': 0.5396884683212225, 'loss': 1.2923014926613736}, {'accuracy': 0.5340524121591986, 'loss': 1.3012589168493094}, {'accuracy': 0.540938545526832, 'loss': 1.288516820486974}, {'accuracy': 0.5385216807970745, 'loss': 1.2912674506949047}, {'accuracy': 0.5319069024915192, 'loss': 1.2941215282751177}, {'accuracy': 0.5346461572184427, 'loss': 1.2903119475228646}, {'accuracy': 0.5410748394950271, 'loss': 1.2817308786370873}, {'accuracy': 0.5390379022441074, 'loss': 1.2816436380945162}, {'accuracy': 0.5503891480102377, 'loss': 1.2588803594490254}, {'accuracy': 0.5421044986295691, 'loss': 1.2777308117994237}, {'accuracy': 0.5405439249107269, 'loss': 1.2665367420789364}, {'accuracy': 0.5573659248113347, 'loss': 1.2436703219650878}, {'accuracy': 0.5549847584737859, 'loss': 1.2472884959522057}, {'accuracy': 0.5621690604947872, 'loss': 1.2442576931594038}, {'accuracy': 0.5559975562434352, 'loss': 1.2395573095035493}, {'accuracy': 0.566181572891011, 'loss': 1.2170947766645104}, {'accuracy': 0.5630103545328793, 'loss': 1.236883198449004}, {'accuracy': 0.5537281489273642, 'loss': 1.243519873021077}, {'accuracy': 0.5659603492361369, 'loss': 1.2257098350069513}, {'accuracy': 0.5692044541385166, 'loss': 1.2187679681044852}, {'accuracy': 0.5691069238426347, 'loss': 1.2060630694854573}, {'accuracy': 0.5695275440358548, 'loss': 1.2154228880658002}, {'accuracy': 0.5842160413476621, 'loss': 1.1917565403208654}, {'accuracy': 0.5777492565222444, 'loss': 1.1934242882565755}, {'accuracy': 0.5843224551139825, 'loss': 1.1797334600719154}, {'accuracy': 0.5807517570411294, 'loss': 1.182078094711887}, {'accuracy': 0.5900906741276299, 'loss': 1.186273572488306}, {'accuracy': 0.5886610331644185, 'loss': 1.1716935274566833}, {'accuracy': 0.5907560556683652, 'loss': 1.1780988520674238}, {'accuracy': 0.5929010466583083, 'loss': 1.1585869271536289}, {'accuracy': 0.5920959737489303, 'loss': 1.164486900806479}, {'accuracy': 0.594083388016725, 'loss': 1.148809794176552}, {'accuracy': 0.590370580746325, 'loss': 1.158032457892029}, {'accuracy': 0.5914015112632589, 'loss': 1.1583098417593984}, {'accuracy': 0.5987241346003749, 'loss': 1.1377240935995165}, {'accuracy': 0.6038182830533491, 'loss': 1.1387669350918803}, {'accuracy': 0.6027582586727667, 'loss': 1.1299932421736334}, {'accuracy': 0.602682364267864, 'loss': 1.1327513751048488}, {'accuracy': 0.605692004053104, 'loss': 1.1279608625754258}, {'accuracy': 0.61158415490962, 'loss': 1.106998534590681}, {'accuracy': 0.6217161154118451, 'loss': 1.0967260367683984}, {'accuracy': 0.598830662166197, 'loss': 1.123763053468633}, {'accuracy': 0.6002201427635361, 'loss': 1.1188964831211274}, {'accuracy': 0.6129131045766499, 'loss': 1.1084146726702848}]\n"
          ]
        }
      ]
    },
    {
      "cell_type": "code",
      "source": [
        "import pickle"
      ],
      "metadata": {
        "colab": {
          "base_uri": "https://localhost:8080/"
        },
        "id": "xyCFprY-1xDf",
        "outputId": "08f524ba-1cfa-47da-955f-45e6bd79cf6d"
      },
      "execution_count": null,
      "outputs": [
        {
          "output_type": "stream",
          "name": "stderr",
          "text": [
            "/usr/local/lib/python3.10/dist-packages/ipykernel/ipkernel.py:283: DeprecationWarning: `should_run_async` will not call `transform_cell` automatically in the future. Please pass the result to `transformed_cell` argument and any exception that happen during thetransform in `preprocessing_exc_tuple` in IPython 7.17 and above.\n",
            "  and should_run_async(code)\n"
          ]
        }
      ]
    },
    {
      "cell_type": "code",
      "source": [
        "# Saving the metric files to disk using pickle\n",
        "with open('accuracy_per_client_per_round.pkl', 'wb') as f:\n",
        "    pickle.dump(accuracy_per_client_per_round, f)\n",
        "with open('loss_per_client_per_round.pkl','wb') as f:\n",
        "    pickle.dump(loss_per_client_per_round,f)\n",
        "with open('aggregate_metric_list.pkl','wb') as f:\n",
        "    pickle.dump(aggregate_metric_list,f)"
      ],
      "metadata": {
        "id": "GHz6EM7w3zla"
      },
      "execution_count": null,
      "outputs": []
    }
  ]
}