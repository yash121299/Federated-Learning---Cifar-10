{
  "nbformat": 4,
  "nbformat_minor": 0,
  "metadata": {
    "colab": {
      "provenance": []
    },
    "kernelspec": {
      "name": "python3",
      "display_name": "Python 3"
    },
    "language_info": {
      "name": "python"
    }
  },
  "cells": [
    {
      "cell_type": "code",
      "source": [
        "## Script to split the data into a federated Dataset\n",
        "\n",
        "import numpy as np\n",
        "import torch\n",
        "from torchvision import datasets, transforms\n",
        "from torch.utils.data import DataLoader, Dataset\n",
        "import os\n",
        "\n",
        "\n",
        "\n",
        "def split_data(dataset, num_clients, deviation_factor=0.1):\n",
        "    \"\"\"\n",
        "    Splits data across clients with slight deviation\n",
        "    \"\"\"\n",
        "    client_indices = {i: [] for i in range(num_clients)}\n",
        "\n",
        "    # Split indices based on classes\n",
        "    for class_idx in range(10):\n",
        "        class_indices = np.where(np.array(dataset.targets) == class_idx)[0]\n",
        "        np.random.shuffle(class_indices)\n",
        "\n",
        "        # Calculate the number of samples\n",
        "        total_samples = len(class_indices)\n",
        "        avg_samples_per_client = total_samples // num_clients\n",
        "\n",
        "\n",
        "        splits = []\n",
        "        remaining_samples = total_samples\n",
        "        for client in range(num_clients):\n",
        "            # Apply deviation to the average samples\n",
        "            deviation = np.random.randint(-int(avg_samples_per_client * deviation_factor),\n",
        "                                          int(avg_samples_per_client * deviation_factor) + 1)\n",
        "            client_sample_count = avg_samples_per_client + deviation\n",
        "\n",
        "            if client == num_clients - 1:\n",
        "                client_sample_count = remaining_samples\n",
        "            else:\n",
        "                client_sample_count = min(client_sample_count, remaining_samples)\n",
        "\n",
        "            remaining_samples -= client_sample_count\n",
        "            splits.append(client_sample_count)\n",
        "\n",
        "        split_class_indices = np.split(class_indices, np.cumsum(splits[:-1]))\n",
        "\n",
        "        for client, indices in enumerate(split_class_indices):\n",
        "            client_indices[client].extend(indices)\n",
        "\n",
        "    return client_indices\n",
        "\n",
        "\n",
        "\n",
        "# Function to save client data as jpg\n",
        "def save_client_data_as_jpg(dataset, indices, client_dir, client_id):\n",
        "    client_path = os.path.join(client_dir, f'client_{client_id}')\n",
        "    os.makedirs(client_path, exist_ok=True)\n",
        "\n",
        "\n",
        "    for idx in indices:\n",
        "        img, label = dataset[idx]\n",
        "        label_folder = os.path.join(client_path, f'label_{label}')\n",
        "        os.makedirs(label_folder, exist_ok=True)\n",
        "\n",
        "        # Save the image as a .jpg\n",
        "        img_path = os.path.join(label_folder, f'{idx}.jpg')\n",
        "\n",
        "        img_pil = transforms.ToPILImage()(img)\n",
        "        img_pil.save(img_path)\n",
        "\n",
        "\n",
        "\n",
        "\n",
        "\n",
        "def main():\n",
        "    transform = transforms.Compose([\n",
        "                                transforms.RandomHorizontalFlip(p=0.3),\n",
        "                                transforms.RandomApply([transforms.RandomRotation(10)], p=0.3),\n",
        "                                transforms.RandomResizedCrop(32, scale=(0.8, 1.0)),\n",
        "                                # transforms.RandomApply([transforms.GaussianBlur(kernel_size=(3, 3), sigma=(0.1, 2.0))], p=0.2),\n",
        "                                transforms.ToTensor(),\n",
        "                                # transforms.Normalize((0.5, 0.5, 0.5), (0.5, 0.5, 0.5))\n",
        "                                ])\n",
        "\n",
        "    train_dataset = datasets.CIFAR10(root='./data', train=True, download=True, transform=transform)\n",
        "    test_dataset = datasets.CIFAR10(root='./data', train=False, download=True, transform=transform)\n",
        "\n",
        "    num_clients = 10\n",
        "    client_dir = './federated_clients_data/'\n",
        "\n",
        "    # Spliting data for training and testing\n",
        "    train_indices = split_data(train_dataset, num_clients, deviation_factor=0.2)\n",
        "    test_indices = split_data(test_dataset, num_clients, deviation_factor=0.2)\n",
        "\n",
        "    # Saving the  data for each client\n",
        "    for client_id in range(num_clients):\n",
        "        save_client_data_as_jpg(train_dataset, train_indices[client_id], client_dir, client_id)\n",
        "        save_client_data_as_jpg(test_dataset, test_indices[client_id], client_dir, client_id)\n",
        "\n",
        "    print(f\"Data has been split and saved into '{client_dir}' for {num_clients} clients.\")\n",
        "\n",
        "if __name__ == '__main__':\n",
        "    main()"
      ],
      "metadata": {
        "colab": {
          "base_uri": "https://localhost:8080/"
        },
        "id": "nbva9R86xLdR",
        "outputId": "55c27d9d-2d49-4ccb-c4a0-202d23dea9f4"
      },
      "execution_count": 47,
      "outputs": [
        {
          "output_type": "stream",
          "name": "stdout",
          "text": [
            "Files already downloaded and verified\n",
            "Files already downloaded and verified\n",
            "Data has been split and saved into './federated_clients_data/' for 10 clients.\n"
          ]
        }
      ]
    },
    {
      "cell_type": "code",
      "execution_count": 48,
      "metadata": {
        "id": "5WL8aE5_UtSG"
      },
      "outputs": [],
      "source": [
        "import torch\n",
        "import numpy as np\n",
        "import matplotlib.pyplot as plt"
      ]
    },
    {
      "cell_type": "code",
      "source": [
        "print(torch.__version__)"
      ],
      "metadata": {
        "colab": {
          "base_uri": "https://localhost:8080/"
        },
        "id": "q_FeIr0HU1v4",
        "outputId": "48f93446-b6bb-45ba-a5eb-74422122d796"
      },
      "execution_count": 49,
      "outputs": [
        {
          "output_type": "stream",
          "name": "stdout",
          "text": [
            "2.4.1+cu121\n"
          ]
        }
      ]
    },
    {
      "cell_type": "code",
      "source": [
        "!pip install -q flwr[simulation] flwr-datasets[vision]"
      ],
      "metadata": {
        "id": "G05TjlLPU3aP"
      },
      "execution_count": 50,
      "outputs": []
    },
    {
      "cell_type": "code",
      "source": [
        "from collections import OrderedDict\n",
        "from typing import List, Tuple\n",
        "\n",
        "import matplotlib.pyplot as plt\n",
        "import numpy as np\n",
        "import torch\n",
        "import torch.nn as nn\n",
        "import torch.nn.functional as F\n",
        "import torchvision.transforms as transforms\n",
        "from datasets.utils.logging import disable_progress_bar\n",
        "from torch.utils.data import DataLoader\n",
        "\n",
        "import flwr\n",
        "from flwr.client import Client, ClientApp, NumPyClient\n",
        "from flwr.common import Metrics, Context\n",
        "from flwr.server import ServerApp, ServerConfig, ServerAppComponents\n",
        "from flwr.server.strategy import FedAvg\n",
        "from flwr.simulation import run_simulation\n",
        "from flwr_datasets import FederatedDataset\n",
        "\n",
        "DEVICE = torch.device(\"cpu\")  # Try \"cuda\" to train on GPU\n",
        "print(f\"Training on {DEVICE}\")\n",
        "print(f\"Flower {flwr.__version__} / PyTorch {torch.__version__}\")\n",
        "disable_progress_bar()"
      ],
      "metadata": {
        "colab": {
          "base_uri": "https://localhost:8080/"
        },
        "id": "OnfApDW_VD07",
        "outputId": "bf23f2ab-919f-4c0c-f72c-28780c9cac63"
      },
      "execution_count": 51,
      "outputs": [
        {
          "output_type": "stream",
          "name": "stdout",
          "text": [
            "Training on cpu\n",
            "Flower 1.12.0 / PyTorch 2.4.1+cu121\n"
          ]
        }
      ]
    },
    {
      "cell_type": "code",
      "source": [
        "NUM_CLIENTS = 10\n",
        "BATCH_SIZE = 32"
      ],
      "metadata": {
        "id": "4r99Q2VvWWO1"
      },
      "execution_count": 52,
      "outputs": []
    },
    {
      "cell_type": "code",
      "source": [
        "NUM_CLIENTS,BATCH_SIZE"
      ],
      "metadata": {
        "colab": {
          "base_uri": "https://localhost:8080/"
        },
        "id": "qZ3NjMa6Wgyp",
        "outputId": "93d1702d-52da-4820-c602-7d7ef6b05e77"
      },
      "execution_count": 53,
      "outputs": [
        {
          "output_type": "execute_result",
          "data": {
            "text/plain": [
              "(10, 32)"
            ]
          },
          "metadata": {},
          "execution_count": 53
        }
      ]
    },
    {
      "cell_type": "code",
      "source": [
        "import os\n",
        "from torch.utils.data import Dataset, DataLoader, random_split\n",
        "from torchvision import transforms\n",
        "from PIL import Image"
      ],
      "metadata": {
        "id": "4zbqNxh3ZwNz"
      },
      "execution_count": 54,
      "outputs": []
    },
    {
      "cell_type": "code",
      "source": [
        "class ClientDataset(Dataset):\n",
        "  def __init__(self,root_dir,client_id,transform=None):\n",
        "    self.client_dir = os.path.join(root_dir,client_id)\n",
        "    self.transform = transform\n",
        "    self.images = []\n",
        "    self.labels = []\n",
        "    self._load_data()\n",
        "    print(f\"Loading data for {client_id}\")\n",
        "  def _load_data(self):\n",
        "    for label in os.listdir(self.client_dir):\n",
        "            label_dir = os.path.join(self.client_dir, label)\n",
        "            if os.path.isdir(label_dir):\n",
        "                for img_file in os.listdir(label_dir):\n",
        "                    img_path = os.path.join(label_dir, img_file)\n",
        "                    self.images.append(img_path)\n",
        "                    self.labels.append(int(label[-1]))\n",
        "\n",
        "  def __len__(self):\n",
        "    return len(self.images)\n",
        "\n",
        "  def __getitem__(self, idx):\n",
        "    img_path = self.images[idx]\n",
        "    image = Image.open(img_path)\n",
        "    label = self.labels[idx]\n",
        "    if self.transform:\n",
        "        image = self.transform(image)\n",
        "    return image, label\n"
      ],
      "metadata": {
        "id": "9Dls9bbRZdeS"
      },
      "execution_count": 55,
      "outputs": []
    },
    {
      "cell_type": "code",
      "source": [
        "def load_datasets(partition_id:int):\n",
        "    root_dir = \"/content/federated_clients_data\"\n",
        "    client_id = \"client_\" + str(partition_id)\n",
        "    transform = transforms.Compose([\n",
        "    transforms.Resize((32, 32)),  # Resize to match CIFAR-10 dimensions\n",
        "    transforms.ToTensor(),\n",
        "    transforms.Normalize((0.5, 0.5, 0.5), (0.5, 0.5, 0.5))\n",
        "    ])\n",
        "\n",
        "    client_dataset = ClientDataset(root_dir=root_dir, client_id=client_id, transform=transform)\n",
        "\n",
        "    train_size = int(0.8 * len(client_dataset))\n",
        "    test_size = len(client_dataset) - train_size\n",
        "\n",
        "    train_dataset, test_dataset = random_split(client_dataset, [train_size, test_size])\n",
        "\n",
        "    train_size = int(0.8 * len(train_dataset))\n",
        "    val_size = len(train_dataset) - train_size\n",
        "    train_dataset, val_dataset = random_split(train_dataset,[train_size,val_size])\n",
        "    trainloader = DataLoader(train_dataset, batch_size=BATCH_SIZE, shuffle=True)\n",
        "    valloader = DataLoader(val_dataset,batch_size=BATCH_SIZE,shuffle=False)\n",
        "    testloader = DataLoader(test_dataset, batch_size=BATCH_SIZE, shuffle=False)\n",
        "\n",
        "    return trainloader,valloader,testloader\n",
        "\n",
        "\n"
      ],
      "metadata": {
        "id": "XkEcV0kDb8_0"
      },
      "execution_count": 56,
      "outputs": []
    },
    {
      "cell_type": "code",
      "source": [
        "class Net(nn.Module):\n",
        "    def __init__(self):\n",
        "        super(Net, self).__init__()\n",
        "        # convolutional layer (sees 32x32x3 image tensor)\n",
        "        self.conv1 = nn.Conv2d(3, 16, 3, padding=1)\n",
        "        # convolutional layer (sees 16x16x16 tensor)\n",
        "        self.conv2 = nn.Conv2d(16, 32, 3, padding=1)\n",
        "        # convolutional layer (sees 8x8x32 tensor)\n",
        "        self.conv3 = nn.Conv2d(32, 64, 3, padding=1)\n",
        "        # max pooling layer\n",
        "        self.pool = nn.MaxPool2d(2, 2)\n",
        "        # linear layer (64 * 4 * 4 -> 500)\n",
        "        self.fc1 = nn.Linear(64 * 4 * 4, 500)\n",
        "        # linear layer (500 -> 10)\n",
        "        self.fc2 = nn.Linear(500, 10)\n",
        "        # dropout layer (p=0.25)\n",
        "        self.dropout = nn.Dropout(0.25)\n",
        "\n",
        "    def forward(self, x):\n",
        "        # add sequence of convolutional and max pooling layers\n",
        "        x = self.pool(F.relu(self.conv1(x)))\n",
        "        x = self.pool(F.relu(self.conv2(x)))\n",
        "        x = self.pool(F.relu(self.conv3(x)))\n",
        "        # flatten image input\n",
        "        x = x.view(-1, 64 * 4 * 4)\n",
        "        # add dropout layer\n",
        "        x = self.dropout(x)\n",
        "        # add 1st hidden layer, with relu activation function\n",
        "        x = F.relu(self.fc1(x))\n",
        "        # add dropout layer\n",
        "        x = self.dropout(x)\n",
        "        # add 2nd hidden layer, with relu activation function\n",
        "        x = self.fc2(x)\n",
        "        return x"
      ],
      "metadata": {
        "id": "psdENk20iaIq"
      },
      "execution_count": 57,
      "outputs": []
    },
    {
      "cell_type": "code",
      "source": [
        "import torch.optim as optim"
      ],
      "metadata": {
        "id": "14DpbdpeqRTn"
      },
      "execution_count": 58,
      "outputs": []
    },
    {
      "cell_type": "code",
      "source": [
        "def train(net, trainloader, epochs: int, verbose=False):\n",
        "    \"\"\"Train the network on the training set.\"\"\"\n",
        "    criterion = torch.nn.CrossEntropyLoss()\n",
        "    optimizer = optim.SGD(net.parameters(), lr=0.01)\n",
        "    net.train()\n",
        "    for epoch in range(epochs):\n",
        "        correct, total, epoch_loss = 0, 0, 0.0\n",
        "        for batch in trainloader:\n",
        "            images, labels = batch\n",
        "            optimizer.zero_grad()\n",
        "            outputs = net(images)\n",
        "            loss = criterion(outputs, labels)\n",
        "            loss.backward()\n",
        "            optimizer.step()\n",
        "            # Metrics\n",
        "            epoch_loss += loss.item()*labels.size(0)\n",
        "            total += labels.size(0)\n",
        "            correct += (torch.max(outputs.data, 1)[1] == labels).sum().item()\n",
        "        epoch_loss /= len(trainloader.dataset)\n",
        "        epoch_acc = correct / total\n",
        "        if verbose:\n",
        "            print(f\"Epoch {epoch+1}: train loss {epoch_loss}, accuracy {epoch_acc}\")\n",
        "\n",
        "\n",
        "def test(net, testloader):\n",
        "    \"\"\"Evaluate the network on the entire test set.\"\"\"\n",
        "    criterion = torch.nn.CrossEntropyLoss()\n",
        "    correct, total, loss = 0, 0, 0.0\n",
        "    net.eval()\n",
        "    with torch.no_grad():\n",
        "        for batch in testloader:\n",
        "            images, labels = batch\n",
        "            outputs = net(images)\n",
        "            loss += criterion(outputs, labels).item()*labels.size(0)\n",
        "            _, predicted = torch.max(outputs.data, 1)\n",
        "            total += labels.size(0)\n",
        "            correct += (predicted == labels).sum().item()\n",
        "    loss /= len(testloader.dataset)\n",
        "    accuracy = correct / total\n",
        "\n",
        "    return loss, accuracy"
      ],
      "metadata": {
        "id": "7B47I9unqFMC"
      },
      "execution_count": 59,
      "outputs": []
    },
    {
      "cell_type": "code",
      "source": [
        "def set_parameters(net, parameters: List[np.ndarray]):\n",
        "    params_dict = zip(net.state_dict().keys(), parameters)\n",
        "    state_dict = OrderedDict({k: torch.Tensor(v) for k, v in params_dict})\n",
        "    net.load_state_dict(state_dict, strict=True)\n",
        "\n",
        "\n",
        "def get_parameters(net) -> List[np.ndarray]:\n",
        "    return [val.cpu().numpy() for _, val in net.state_dict().items()]"
      ],
      "metadata": {
        "id": "YS3jY27-qIPo"
      },
      "execution_count": 60,
      "outputs": []
    },
    {
      "cell_type": "code",
      "source": [
        "metrics_globally_stored = {}"
      ],
      "metadata": {
        "id": "bXrZIjgXWVlg"
      },
      "execution_count": 61,
      "outputs": []
    },
    {
      "cell_type": "code",
      "source": [
        "\n",
        "class FlowerClient(NumPyClient):\n",
        "    def __init__(self, net, trainloader, valloader,partitionId):\n",
        "        self.net = net\n",
        "        self.trainloader = trainloader\n",
        "        self.valloader = valloader\n",
        "        self.id = partitionId\n",
        "        self.metrics_list = []\n",
        "\n",
        "    def get_parameters(self, config):\n",
        "        return get_parameters(self.net)\n",
        "\n",
        "    def fit(self, parameters, config):\n",
        "        set_parameters(self.net, parameters)\n",
        "        train(self.net, self.trainloader, epochs=3)\n",
        "        return get_parameters(self.net), len(self.trainloader), {}\n",
        "\n",
        "    def evaluate(self, parameters, config):\n",
        "        set_parameters(self.net, parameters)\n",
        "        loss, accuracy = test(self.net, self.valloader)\n",
        "        self.metrics_list.append((loss,accuracy))\n",
        "        print(\"Adding into global\")\n",
        "        print(f\"Global dict {metrics_globally_stored}\")\n",
        "        print(f\"Metric List for client {self.id} : {self.metrics_list}: \")\n",
        "        return float(loss), len(self.valloader), {\"accuracy\": float(accuracy)}"
      ],
      "metadata": {
        "id": "HLh92L9xqbzg"
      },
      "execution_count": 62,
      "outputs": []
    },
    {
      "cell_type": "code",
      "source": [
        "clients_cache = {}\n",
        "\n",
        "def client_fn(context: Context) -> Client:\n",
        "    \"\"\"Create a Flower client representing a single organization.\"\"\"\n",
        "\n",
        "    # Load model\n",
        "    net = Net().to(DEVICE)\n",
        "\n",
        "    # Load data (CIFAR-10)\n",
        "    # Note: each client gets a different trainloader/valloader, so each client\n",
        "    # will train and evaluate on their own unique data partition\n",
        "    # Read the node_config to fetch data partition associated to this node\n",
        "    partition_id = context.node_config[\"partition-id\"]\n",
        "    if partition_id not in clients_cache:\n",
        "      trainloader, valloader, _ = load_datasets(partition_id=partition_id)\n",
        "      clients_cache[partition_id] = FlowerClient(net, trainloader, valloader,partition_id).to_client()\n",
        "\n",
        "    # Create a single Flower client representing a single organization\n",
        "    # FlowerClient is a subclass of NumPyClient, so we need to call .to_client()\n",
        "    # to convert it to a subclass of `flwr.client.Client`\n",
        "    return clients_cache[partition_id]\n",
        "\n",
        "\n",
        "# Create the ClientApp\n",
        "client = ClientApp(client_fn=client_fn)"
      ],
      "metadata": {
        "id": "QJ2G3rUyqfB4"
      },
      "execution_count": 63,
      "outputs": []
    },
    {
      "cell_type": "markdown",
      "source": [],
      "metadata": {
        "id": "q07VjqTLxKSv"
      }
    },
    {
      "cell_type": "code",
      "source": [
        "from flwr.server.strategy import FedAvg\n",
        "\n",
        "class CustomStrategy(FedAvg):\n",
        "  def aggregate_evaluate(self,rnd,results,failure):\n",
        "    if failure:\n",
        "      print(f\"Round {rnd} had {len(failure)} failures\")\n",
        "    accuracy_list = [r.metrics[\"accuracy\"] for _, r in results]\n",
        "    big_list = [(_.cid,r.metrics[\"accuracy\"]) for _, r in results]\n",
        "    average_accuracy = sum(accuracy_list) / len(accuracy_list)\n",
        "    print(f\"Round {rnd} accuracy: {average_accuracy}\")\n",
        "    print(f\"Accuracy List for Round {rnd} : {accuracy_list}\")\n",
        "    for id,accuracy in big_list:\n",
        "      if id not in metrics_globally_stored:\n",
        "        metrics_globally_stored[id] = []\n",
        "    for id,accuracy in big_list:\n",
        "      metrics_globally_stored[id].append((rnd,accuracy))\n",
        "\n",
        "    print(f\"Big List for Round {rnd} : {big_list}\")\n",
        "\n",
        "    return super().aggregate_evaluate(rnd, results, failure)"
      ],
      "metadata": {
        "id": "wOGDY1G7t8zA"
      },
      "execution_count": 64,
      "outputs": []
    },
    {
      "cell_type": "code",
      "source": [
        "# # Create FedAvg strategy\n",
        "# strategy = FedAvg(\n",
        "#     fraction_fit=1.0,  # Sample 100% of available clients for training\n",
        "#     fraction_evaluate=1.0,  # Sample 50% of available clients for evaluation\n",
        "#     min_fit_clients=10,  # Never sample less than 10 clients for training\n",
        "#     min_evaluate_clients=10,  # Never sample less than 5 clients for evaluation\n",
        "#     min_available_clients=10,  # Wait until all 10 clients are available\n",
        "# )"
      ],
      "metadata": {
        "id": "KS72ZXg7qh4k"
      },
      "execution_count": 65,
      "outputs": []
    },
    {
      "cell_type": "code",
      "source": [],
      "metadata": {
        "id": "CmzFzkWVqlJ8"
      },
      "execution_count": 65,
      "outputs": []
    },
    {
      "cell_type": "code",
      "source": [
        "# Specify the resources each of your clients need\n",
        "# By default, each client will be allocated 1x CPU and 0x GPUs\n",
        "backend_config = {\"client_resources\": {\"num_cpus\": 1, \"num_gpus\": 0.0}}\n",
        "\n",
        "# When running on GPU, assign an entire GPU for each client\n",
        "if DEVICE.type == \"cuda\":\n",
        "    backend_config = {\"client_resources\": {\"num_cpus\": 1, \"num_gpus\": 1.0}}\n",
        "    # Refer to our Flower framework documentation for more details about Flower simulations\n",
        "    # and how to set up the `backend_config`"
      ],
      "metadata": {
        "id": "oa9bzhR-qnjp"
      },
      "execution_count": 66,
      "outputs": []
    },
    {
      "cell_type": "code",
      "source": [],
      "metadata": {
        "id": "nPV_dKVHqtHS"
      },
      "execution_count": 66,
      "outputs": []
    },
    {
      "cell_type": "code",
      "source": [
        "def weighted_average(metrics: List[Tuple[int, Metrics]]) -> Metrics:\n",
        "    # Multiply accuracy of each client by number of examples used\n",
        "    accuracies = [num_examples * m[\"accuracy\"] for num_examples, m in metrics]\n",
        "    examples = [num_examples for num_examples, _ in metrics]\n",
        "\n",
        "    # Aggregate and return custom metric (weighted average)\n",
        "    return {\"accuracy\": sum(accuracies) / sum(examples)}"
      ],
      "metadata": {
        "id": "qDNW6OUdrco7"
      },
      "execution_count": 67,
      "outputs": []
    },
    {
      "cell_type": "code",
      "source": [
        "def server_fn(context: Context) -> ServerAppComponents:\n",
        "    \"\"\"Construct components that set the ServerApp behaviour.\n",
        "\n",
        "    You can use settings in `context.run_config` to parameterize the\n",
        "    construction of all elements (e.g the strategy or the number of rounds)\n",
        "    wrapped in the returned ServerAppComponents object.\n",
        "    \"\"\"\n",
        "\n",
        "    # Create FedAvg strategy\n",
        "    # strategy = FedAvg(\n",
        "    #     fraction_fit=1.0,\n",
        "    #     fraction_evaluate=1.0,\n",
        "    #     min_fit_clients=10,\n",
        "    #     min_evaluate_clients=10,\n",
        "    #     min_available_clients=10,\n",
        "    #     evaluate_metrics_aggregation_fn=weighted_average,  # <-- pass the metric aggregation function\n",
        "    # )\n",
        "\n",
        "    strategy = CustomStrategy(\n",
        "        fraction_fit=1.0,\n",
        "        fraction_evaluate=1.0,\n",
        "        min_fit_clients=10,\n",
        "        min_evaluate_clients=10,\n",
        "        min_available_clients=10,\n",
        "        evaluate_metrics_aggregation_fn=weighted_average,  # <-- pass the metric aggregation function\n",
        "    )\n",
        "\n",
        "    # Configure the server for 5 rounds of training\n",
        "    config = ServerConfig(num_rounds=5)\n",
        "\n",
        "    return ServerAppComponents(strategy=strategy, config=config)"
      ],
      "metadata": {
        "id": "yRcWLOxBvNC5"
      },
      "execution_count": 68,
      "outputs": []
    },
    {
      "cell_type": "code",
      "source": [
        "import os\n",
        "os.environ[\"RAY_DEDUP_LOGS\"] = \"0\"\n",
        "\n",
        "# Create a new server instance with the updated FedAvg strategy\n",
        "server = ServerApp(server_fn=server_fn)\n",
        "\n",
        "# Run simulation\n",
        "run_simulation(\n",
        "    server_app=server,\n",
        "    client_app=client,\n",
        "    num_supernodes=NUM_CLIENTS,\n",
        "    backend_config=backend_config,\n",
        ")\n",
        "\n",
        "print(metrics_globally_stored)"
      ],
      "metadata": {
        "colab": {
          "base_uri": "https://localhost:8080/"
        },
        "id": "5EWBcuQb1_U9",
        "outputId": "b46d3843-fedc-446d-f94c-25b7eb9c61f5"
      },
      "execution_count": 69,
      "outputs": [
        {
          "output_type": "stream",
          "name": "stderr",
          "text": [
            "\u001b[92mINFO \u001b[0m:      Starting Flower ServerApp, config: num_rounds=5, no round_timeout\n",
            "\u001b[92mINFO \u001b[0m:      \n",
            "\u001b[92mINFO \u001b[0m:      [INIT]\n",
            "\u001b[92mINFO \u001b[0m:      Requesting initial parameters from one random client\n",
            "\u001b[36m(pid=9672)\u001b[0m 2024-10-14 21:42:20.094827: E external/local_xla/xla/stream_executor/cuda/cuda_fft.cc:485] Unable to register cuFFT factory: Attempting to register factory for plugin cuFFT when one has already been registered\n",
            "\u001b[36m(pid=9672)\u001b[0m 2024-10-14 21:42:20.147876: E external/local_xla/xla/stream_executor/cuda/cuda_dnn.cc:8454] Unable to register cuDNN factory: Attempting to register factory for plugin cuDNN when one has already been registered\n",
            "\u001b[36m(pid=9672)\u001b[0m 2024-10-14 21:42:20.164571: E external/local_xla/xla/stream_executor/cuda/cuda_blas.cc:1452] Unable to register cuBLAS factory: Attempting to register factory for plugin cuBLAS when one has already been registered\n",
            "\u001b[36m(pid=9671)\u001b[0m 2024-10-14 21:42:24.001048: W tensorflow/compiler/tf2tensorrt/utils/py_utils.cc:38] TF-TRT Warning: Could not find TensorRT\n",
            "\u001b[92mINFO \u001b[0m:      Received initial parameters from one random client\n",
            "\u001b[92mINFO \u001b[0m:      Starting evaluation of initial global parameters\n",
            "\u001b[92mINFO \u001b[0m:      Evaluation returned no results (`None`)\n",
            "\u001b[92mINFO \u001b[0m:      \n",
            "\u001b[92mINFO \u001b[0m:      [ROUND 1]\n",
            "\u001b[92mINFO \u001b[0m:      configure_fit: strategy sampled 10 clients (out of 10)\n"
          ]
        },
        {
          "output_type": "stream",
          "name": "stdout",
          "text": [
            "\u001b[36m(ClientAppActor pid=9672)\u001b[0m Loading data for client_8\n",
            "\u001b[36m(ClientAppActor pid=9672)\u001b[0m Loading data for client_7\n",
            "\u001b[36m(ClientAppActor pid=9671)\u001b[0m Loading data for client_8\n",
            "\u001b[36m(ClientAppActor pid=9672)\u001b[0m Loading data for client_2\n",
            "\u001b[36m(ClientAppActor pid=9672)\u001b[0m Loading data for client_5\u001b[32m [repeated 2x across cluster]\u001b[0m\n",
            "\u001b[36m(ClientAppActor pid=9671)\u001b[0m Loading data for client_4\n",
            "\u001b[36m(ClientAppActor pid=9672)\u001b[0m Loading data for client_9\n",
            "\u001b[36m(ClientAppActor pid=9671)\u001b[0m Loading data for client_1\n",
            "\u001b[36m(ClientAppActor pid=9672)\u001b[0m Loading data for client_0\n",
            "\u001b[36m(ClientAppActor pid=9671)\u001b[0m Loading data for client_6\n"
          ]
        },
        {
          "output_type": "stream",
          "name": "stderr",
          "text": [
            "\u001b[92mINFO \u001b[0m:      aggregate_fit: received 10 results and 0 failures\n",
            "\u001b[93mWARNING \u001b[0m:   No fit_metrics_aggregation_fn provided\n",
            "\u001b[92mINFO \u001b[0m:      configure_evaluate: strategy sampled 10 clients (out of 10)\n"
          ]
        },
        {
          "output_type": "stream",
          "name": "stdout",
          "text": [
            "\u001b[36m(ClientAppActor pid=9672)\u001b[0m Loading data for client_6\n",
            "\u001b[36m(ClientAppActor pid=9671)\u001b[0m Adding into global\n",
            "\u001b[36m(ClientAppActor pid=9671)\u001b[0m Global dict {}\n",
            "\u001b[36m(ClientAppActor pid=9671)\u001b[0m Metric List for client 0 : [(2.260071405543935, 0.22484881803188564)]: \n",
            "\u001b[36m(ClientAppActor pid=9672)\u001b[0m Loading data for client_4\u001b[32m [repeated 3x across cluster]\u001b[0m\n",
            "\u001b[36m(ClientAppActor pid=9672)\u001b[0m Adding into global\u001b[32m [repeated 4x across cluster]\u001b[0m\n",
            "\u001b[36m(ClientAppActor pid=9672)\u001b[0m Global dict {}\u001b[32m [repeated 4x across cluster]\u001b[0m\n",
            "\u001b[36m(ClientAppActor pid=9672)\u001b[0m Metric List for client 8 : [(2.2625038871552023, 0.21508379888268156)]: \u001b[32m [repeated 4x across cluster]\u001b[0m\n",
            "\u001b[36m(ClientAppActor pid=9671)\u001b[0m Loading data for client_2\u001b[32m [repeated 4x across cluster]\u001b[0m\n",
            "\u001b[36m(ClientAppActor pid=9672)\u001b[0m Adding into global\u001b[32m [repeated 4x across cluster]\u001b[0m\n",
            "\u001b[36m(ClientAppActor pid=9672)\u001b[0m Global dict {}\u001b[32m [repeated 4x across cluster]\u001b[0m\n",
            "\u001b[36m(ClientAppActor pid=9672)\u001b[0m Metric List for client 5 : [(2.2638427913355894, 0.20728291316526612)]: \u001b[32m [repeated 4x across cluster]\u001b[0m\n"
          ]
        },
        {
          "output_type": "stream",
          "name": "stderr",
          "text": [
            "\u001b[92mINFO \u001b[0m:      aggregate_evaluate: received 10 results and 0 failures\n",
            "\u001b[92mINFO \u001b[0m:      \n",
            "\u001b[92mINFO \u001b[0m:      [ROUND 2]\n",
            "\u001b[92mINFO \u001b[0m:      configure_fit: strategy sampled 10 clients (out of 10)\n"
          ]
        },
        {
          "output_type": "stream",
          "name": "stdout",
          "text": [
            "Round 1 accuracy: 0.2178186235249925\n",
            "Accuracy List for Round 1 : [0.21389496717724288, 0.22484881803188564, 0.19915029208709506, 0.20728291316526612, 0.2294816414686825, 0.23111612175873733, 0.21508379888268156, 0.20512820512820512, 0.22320441988950276, 0.22899505766062603]\n",
            "Big List for Round 1 : [('12245189676292809591', 0.21389496717724288), ('9301257855516925193', 0.22484881803188564), ('9392099085599778965', 0.19915029208709506), ('8061912160097829685', 0.20728291316526612), ('9620330208725875134', 0.2294816414686825), ('4799881870640953848', 0.23111612175873733), ('10822315389268395931', 0.21508379888268156), ('2204578931904311408', 0.20512820512820512), ('1294640040899982045', 0.22320441988950276), ('7789576785706923716', 0.22899505766062603)]\n",
            "\u001b[36m(ClientAppActor pid=9672)\u001b[0m Loading data for client_8\u001b[32m [repeated 5x across cluster]\u001b[0m\n",
            "\u001b[36m(ClientAppActor pid=9671)\u001b[0m Adding into global\n",
            "\u001b[36m(ClientAppActor pid=9671)\u001b[0m Global dict {}\n",
            "\u001b[36m(ClientAppActor pid=9671)\u001b[0m Metric List for client 9 : [(2.2659168510568692, 0.19915029208709506)]: \n",
            "\u001b[36m(ClientAppActor pid=9672)\u001b[0m Loading data for client_5\u001b[32m [repeated 2x across cluster]\u001b[0m\n",
            "\u001b[36m(ClientAppActor pid=9672)\u001b[0m Loading data for client_6\u001b[32m [repeated 2x across cluster]\u001b[0m\n",
            "\u001b[36m(ClientAppActor pid=9672)\u001b[0m Loading data for client_7\u001b[32m [repeated 2x across cluster]\u001b[0m\n",
            "\u001b[36m(ClientAppActor pid=9671)\u001b[0m Loading data for client_0\n"
          ]
        },
        {
          "output_type": "stream",
          "name": "stderr",
          "text": [
            "\u001b[92mINFO \u001b[0m:      aggregate_fit: received 10 results and 0 failures\n",
            "\u001b[92mINFO \u001b[0m:      configure_evaluate: strategy sampled 10 clients (out of 10)\n"
          ]
        },
        {
          "output_type": "stream",
          "name": "stdout",
          "text": [
            "\u001b[36m(ClientAppActor pid=9672)\u001b[0m Loading data for client_3\n",
            "\u001b[36m(ClientAppActor pid=9672)\u001b[0m Adding into global\n",
            "\u001b[36m(ClientAppActor pid=9672)\u001b[0m Global dict {'12245189676292809591': [(1, 0.21389496717724288)], '9301257855516925193': [(1, 0.22484881803188564)], '9392099085599778965': [(1, 0.19915029208709506)], '8061912160097829685': [(1, 0.20728291316526612)], '9620330208725875134': [(1, 0.2294816414686825)], '4799881870640953848': [(1, 0.23111612175873733)], '10822315389268395931': [(1, 0.21508379888268156)], '2204578931904311408': [(1, 0.20512820512820512)], '1294640040899982045': [(1, 0.22320441988950276)], '7789576785706923716': [(1, 0.22899505766062603)]}\n",
            "\u001b[36m(ClientAppActor pid=9672)\u001b[0m Metric List for client 3 : [(1.9788643793531668, 0.2896890343698854)]: \n",
            "\u001b[36m(ClientAppActor pid=9671)\u001b[0m Loading data for client_4\u001b[32m [repeated 3x across cluster]\u001b[0m\n",
            "\u001b[36m(ClientAppActor pid=9672)\u001b[0m Adding into global\u001b[32m [repeated 4x across cluster]\u001b[0m\n",
            "\u001b[36m(ClientAppActor pid=9672)\u001b[0m Global dict {'12245189676292809591': [(1, 0.21389496717724288)], '9301257855516925193': [(1, 0.22484881803188564)], '9392099085599778965': [(1, 0.19915029208709506)], '8061912160097829685': [(1, 0.20728291316526612)], '9620330208725875134': [(1, 0.2294816414686825)], '4799881870640953848': [(1, 0.23111612175873733)], '10822315389268395931': [(1, 0.21508379888268156)], '2204578931904311408': [(1, 0.20512820512820512)], '1294640040899982045': [(1, 0.22320441988950276)], '7789576785706923716': [(1, 0.22899505766062603)]}\u001b[32m [repeated 4x across cluster]\u001b[0m\n",
            "\u001b[36m(ClientAppActor pid=9672)\u001b[0m Metric List for client 8 : [(1.976785053753986, 0.2927374301675978)]: \u001b[32m [repeated 4x across cluster]\u001b[0m\n",
            "\u001b[36m(ClientAppActor pid=9671)\u001b[0m Loading data for client_2\u001b[32m [repeated 4x across cluster]\u001b[0m\n",
            "\u001b[36m(ClientAppActor pid=9672)\u001b[0m Adding into global\u001b[32m [repeated 2x across cluster]\u001b[0m\n",
            "\u001b[36m(ClientAppActor pid=9672)\u001b[0m Global dict {'12245189676292809591': [(1, 0.21389496717724288)], '9301257855516925193': [(1, 0.22484881803188564)], '9392099085599778965': [(1, 0.19915029208709506)], '8061912160097829685': [(1, 0.20728291316526612)], '9620330208725875134': [(1, 0.2294816414686825)], '4799881870640953848': [(1, 0.23111612175873733)], '10822315389268395931': [(1, 0.21508379888268156)], '2204578931904311408': [(1, 0.20512820512820512)], '1294640040899982045': [(1, 0.22320441988950276)], '7789576785706923716': [(1, 0.22899505766062603)]}\u001b[32m [repeated 2x across cluster]\u001b[0m\n",
            "\u001b[36m(ClientAppActor pid=9672)\u001b[0m Metric List for client 1 : [(1.993602543103772, 0.30345572354211664)]: \u001b[32m [repeated 2x across cluster]\u001b[0m\n"
          ]
        },
        {
          "output_type": "stream",
          "name": "stderr",
          "text": [
            "\u001b[92mINFO \u001b[0m:      aggregate_evaluate: received 10 results and 0 failures\n",
            "\u001b[92mINFO \u001b[0m:      \n",
            "\u001b[92mINFO \u001b[0m:      [ROUND 3]\n",
            "\u001b[92mINFO \u001b[0m:      configure_fit: strategy sampled 10 clients (out of 10)\n"
          ]
        },
        {
          "output_type": "stream",
          "name": "stdout",
          "text": [
            "Round 2 accuracy: 0.30040827644069923\n",
            "Accuracy List for Round 2 : [0.2896890343698854, 0.27987254381306426, 0.2927374301675978, 0.30883977900552484, 0.3173618940248027, 0.31017505470459517, 0.3086216364634816, 0.30196078431372547, 0.30345572354211664, 0.291368884002199]\n",
            "Big List for Round 2 : [('2204578931904311408', 0.2896890343698854), ('9392099085599778965', 0.27987254381306426), ('10822315389268395931', 0.2927374301675978), ('1294640040899982045', 0.30883977900552484), ('4799881870640953848', 0.3173618940248027), ('12245189676292809591', 0.31017505470459517), ('7789576785706923716', 0.3086216364634816), ('8061912160097829685', 0.30196078431372547), ('9620330208725875134', 0.30345572354211664), ('9301257855516925193', 0.291368884002199)]\n",
            "\u001b[36m(ClientAppActor pid=9672)\u001b[0m Loading data for client_2\u001b[32m [repeated 5x across cluster]\u001b[0m\n",
            "\u001b[36m(ClientAppActor pid=9671)\u001b[0m Adding into global\u001b[32m [repeated 3x across cluster]\u001b[0m\n",
            "\u001b[36m(ClientAppActor pid=9671)\u001b[0m Global dict {'12245189676292809591': [(1, 0.21389496717724288)], '9301257855516925193': [(1, 0.22484881803188564)], '9392099085599778965': [(1, 0.19915029208709506)], '8061912160097829685': [(1, 0.20728291316526612)], '9620330208725875134': [(1, 0.2294816414686825)], '4799881870640953848': [(1, 0.23111612175873733)], '10822315389268395931': [(1, 0.21508379888268156)], '2204578931904311408': [(1, 0.20512820512820512)], '1294640040899982045': [(1, 0.22320441988950276)], '7789576785706923716': [(1, 0.22899505766062603)]}\u001b[32m [repeated 3x across cluster]\u001b[0m\n",
            "\u001b[36m(ClientAppActor pid=9671)\u001b[0m Metric List for client 7 : [(1.943917285170023, 0.31017505470459517)]: \u001b[32m [repeated 3x across cluster]\u001b[0m\n",
            "\u001b[36m(ClientAppActor pid=9672)\u001b[0m Loading data for client_6\u001b[32m [repeated 2x across cluster]\u001b[0m\n",
            "\u001b[36m(ClientAppActor pid=9672)\u001b[0m Loading data for client_9\u001b[32m [repeated 2x across cluster]\u001b[0m\n",
            "\u001b[36m(ClientAppActor pid=9671)\u001b[0m Loading data for client_7\n",
            "\u001b[36m(ClientAppActor pid=9672)\u001b[0m Loading data for client_0\n",
            "\u001b[36m(ClientAppActor pid=9671)\u001b[0m Loading data for client_5\n"
          ]
        },
        {
          "output_type": "stream",
          "name": "stderr",
          "text": [
            "\u001b[92mINFO \u001b[0m:      aggregate_fit: received 10 results and 0 failures\n",
            "\u001b[92mINFO \u001b[0m:      configure_evaluate: strategy sampled 10 clients (out of 10)\n"
          ]
        },
        {
          "output_type": "stream",
          "name": "stdout",
          "text": [
            "\u001b[36m(ClientAppActor pid=9672)\u001b[0m Loading data for client_1\n",
            "\u001b[36m(ClientAppActor pid=9672)\u001b[0m Adding into global\n",
            "\u001b[36m(ClientAppActor pid=9672)\u001b[0m Global dict {'12245189676292809591': [(1, 0.21389496717724288), (2, 0.31017505470459517)], '9301257855516925193': [(1, 0.22484881803188564), (2, 0.291368884002199)], '9392099085599778965': [(1, 0.19915029208709506), (2, 0.27987254381306426)], '8061912160097829685': [(1, 0.20728291316526612), (2, 0.30196078431372547)], '9620330208725875134': [(1, 0.2294816414686825), (2, 0.30345572354211664)], '4799881870640953848': [(1, 0.23111612175873733), (2, 0.3173618940248027)], '10822315389268395931': [(1, 0.21508379888268156), (2, 0.2927374301675978)], '2204578931904311408': [(1, 0.20512820512820512), (2, 0.2896890343698854)], '1294640040899982045': [(1, 0.22320441988950276), (2, 0.30883977900552484)], '7789576785706923716': [(1, 0.22899505766062603), (2, 0.3086216364634816)]}\n",
            "\u001b[36m(ClientAppActor pid=9672)\u001b[0m Metric List for client 1 : [(1.799838385365694, 0.37634989200863933)]: \n",
            "\u001b[36m(ClientAppActor pid=9671)\u001b[0m Loading data for client_4\u001b[32m [repeated 3x across cluster]\u001b[0m\n",
            "\u001b[36m(ClientAppActor pid=9672)\u001b[0m Adding into global\u001b[32m [repeated 4x across cluster]\u001b[0m\n",
            "\u001b[36m(ClientAppActor pid=9672)\u001b[0m Global dict {'12245189676292809591': [(1, 0.21389496717724288), (2, 0.31017505470459517)], '9301257855516925193': [(1, 0.22484881803188564), (2, 0.291368884002199)], '9392099085599778965': [(1, 0.19915029208709506), (2, 0.27987254381306426)], '8061912160097829685': [(1, 0.20728291316526612), (2, 0.30196078431372547)], '9620330208725875134': [(1, 0.2294816414686825), (2, 0.30345572354211664)], '4799881870640953848': [(1, 0.23111612175873733), (2, 0.3173618940248027)], '10822315389268395931': [(1, 0.21508379888268156), (2, 0.2927374301675978)], '2204578931904311408': [(1, 0.20512820512820512), (2, 0.2896890343698854)], '1294640040899982045': [(1, 0.22320441988950276), (2, 0.30883977900552484)], '7789576785706923716': [(1, 0.22899505766062603), (2, 0.3086216364634816)]}\u001b[32m [repeated 4x across cluster]\u001b[0m\n",
            "\u001b[36m(ClientAppActor pid=9672)\u001b[0m Metric List for client 8 : [(1.8296028893753138, 0.35977653631284917)]: \u001b[32m [repeated 4x across cluster]\u001b[0m\n",
            "\u001b[36m(ClientAppActor pid=9671)\u001b[0m Loading data for client_9\u001b[32m [repeated 2x across cluster]\u001b[0m\n"
          ]
        },
        {
          "output_type": "stream",
          "name": "stderr",
          "text": [
            "\u001b[92mINFO \u001b[0m:      aggregate_evaluate: received 10 results and 0 failures\n",
            "\u001b[92mINFO \u001b[0m:      \n",
            "\u001b[92mINFO \u001b[0m:      [ROUND 4]\n",
            "\u001b[92mINFO \u001b[0m:      configure_fit: strategy sampled 10 clients (out of 10)\n"
          ]
        },
        {
          "output_type": "stream",
          "name": "stdout",
          "text": [
            "\u001b[36m(ClientAppActor pid=9672)\u001b[0m Adding into global\u001b[32m [repeated 4x across cluster]\u001b[0m\n",
            "\u001b[36m(ClientAppActor pid=9672)\u001b[0m Global dict {'12245189676292809591': [(1, 0.21389496717724288), (2, 0.31017505470459517)], '9301257855516925193': [(1, 0.22484881803188564), (2, 0.291368884002199)], '9392099085599778965': [(1, 0.19915029208709506), (2, 0.27987254381306426)], '8061912160097829685': [(1, 0.20728291316526612), (2, 0.30196078431372547)], '9620330208725875134': [(1, 0.2294816414686825), (2, 0.30345572354211664)], '4799881870640953848': [(1, 0.23111612175873733), (2, 0.3173618940248027)], '10822315389268395931': [(1, 0.21508379888268156), (2, 0.2927374301675978)], '2204578931904311408': [(1, 0.20512820512820512), (2, 0.2896890343698854)], '1294640040899982045': [(1, 0.22320441988950276), (2, 0.30883977900552484)], '7789576785706923716': [(1, 0.22899505766062603), (2, 0.3086216364634816)]}\u001b[32m [repeated 4x across cluster]\u001b[0m\n",
            "\u001b[36m(ClientAppActor pid=9672)\u001b[0m Metric List for client 7 : [(1.8335832250457362, 0.3435448577680525)]: \u001b[32m [repeated 4x across cluster]\u001b[0m\n",
            "\u001b[36m(ClientAppActor pid=9671)\u001b[0m Loading data for client_2\u001b[32m [repeated 4x across cluster]\u001b[0m\n",
            "Round 3 accuracy: 0.34776829347797117\n",
            "Accuracy List for Round 3 : [0.36189402480270577, 0.37634989200863933, 0.35294117647058826, 0.31917153478491767, 0.3435448577680525, 0.34102141680395387, 0.33987997817785054, 0.3366946778711485, 0.34640883977900555, 0.35977653631284917]\n",
            "Big List for Round 3 : [('4799881870640953848', 0.36189402480270577), ('9620330208725875134', 0.37634989200863933), ('9301257855516925193', 0.35294117647058826), ('9392099085599778965', 0.31917153478491767), ('12245189676292809591', 0.3435448577680525), ('7789576785706923716', 0.34102141680395387), ('2204578931904311408', 0.33987997817785054), ('8061912160097829685', 0.3366946778711485), ('1294640040899982045', 0.34640883977900555), ('10822315389268395931', 0.35977653631284917)]\n",
            "\u001b[36m(ClientAppActor pid=9671)\u001b[0m Adding into global\n",
            "\u001b[36m(ClientAppActor pid=9671)\u001b[0m Global dict {'12245189676292809591': [(1, 0.21389496717724288), (2, 0.31017505470459517)], '9301257855516925193': [(1, 0.22484881803188564), (2, 0.291368884002199)], '9392099085599778965': [(1, 0.19915029208709506), (2, 0.27987254381306426)], '8061912160097829685': [(1, 0.20728291316526612), (2, 0.30196078431372547)], '9620330208725875134': [(1, 0.2294816414686825), (2, 0.30345572354211664)], '4799881870640953848': [(1, 0.23111612175873733), (2, 0.3173618940248027)], '10822315389268395931': [(1, 0.21508379888268156), (2, 0.2927374301675978)], '2204578931904311408': [(1, 0.20512820512820512), (2, 0.2896890343698854)], '1294640040899982045': [(1, 0.22320441988950276), (2, 0.30883977900552484)], '7789576785706923716': [(1, 0.22899505766062603), (2, 0.3086216364634816)]}\n",
            "\u001b[36m(ClientAppActor pid=9671)\u001b[0m Metric List for client 2 : [(1.8446996622981287, 0.34640883977900555)]: \n",
            "\u001b[36m(ClientAppActor pid=9672)\u001b[0m Loading data for client_6\u001b[32m [repeated 3x across cluster]\u001b[0m\n",
            "\u001b[36m(ClientAppActor pid=9672)\u001b[0m Loading data for client_1\u001b[32m [repeated 2x across cluster]\u001b[0m\n",
            "\u001b[36m(ClientAppActor pid=9672)\u001b[0m Loading data for client_3\u001b[32m [repeated 2x across cluster]\u001b[0m\n",
            "\u001b[36m(ClientAppActor pid=9672)\u001b[0m Loading data for client_8\u001b[32m [repeated 2x across cluster]\u001b[0m\n"
          ]
        },
        {
          "output_type": "stream",
          "name": "stderr",
          "text": [
            "\u001b[92mINFO \u001b[0m:      aggregate_fit: received 10 results and 0 failures\n",
            "\u001b[92mINFO \u001b[0m:      configure_evaluate: strategy sampled 10 clients (out of 10)\n"
          ]
        },
        {
          "output_type": "stream",
          "name": "stdout",
          "text": [
            "\u001b[36m(ClientAppActor pid=9671)\u001b[0m Loading data for client_5\u001b[32m [repeated 2x across cluster]\u001b[0m\n",
            "\u001b[36m(ClientAppActor pid=9671)\u001b[0m Adding into global\n",
            "\u001b[36m(ClientAppActor pid=9671)\u001b[0m Global dict {'12245189676292809591': [(1, 0.21389496717724288), (2, 0.31017505470459517), (3, 0.3435448577680525)], '9301257855516925193': [(1, 0.22484881803188564), (2, 0.291368884002199), (3, 0.35294117647058826)], '9392099085599778965': [(1, 0.19915029208709506), (2, 0.27987254381306426), (3, 0.31917153478491767)], '8061912160097829685': [(1, 0.20728291316526612), (2, 0.30196078431372547), (3, 0.3366946778711485)], '9620330208725875134': [(1, 0.2294816414686825), (2, 0.30345572354211664), (3, 0.37634989200863933)], '4799881870640953848': [(1, 0.23111612175873733), (2, 0.3173618940248027), (3, 0.36189402480270577)], '10822315389268395931': [(1, 0.21508379888268156), (2, 0.2927374301675978), (3, 0.35977653631284917)], '2204578931904311408': [(1, 0.20512820512820512), (2, 0.2896890343698854), (3, 0.33987997817785054)], '1294640040899982045': [(1, 0.22320441988950276), (2, 0.30883977900552484), (3, 0.34640883977900555)], '7789576785706923716': [(1, 0.22899505766062603), (2, 0.3086216364634816), (3, 0.34102141680395387)]}\n",
            "\u001b[36m(ClientAppActor pid=9671)\u001b[0m Metric List for client 5 : [(1.6731908818920787, 0.3938375350140056)]: \n",
            "\u001b[36m(ClientAppActor pid=9672)\u001b[0m Loading data for client_3\u001b[32m [repeated 3x across cluster]\u001b[0m\n",
            "\u001b[36m(ClientAppActor pid=9671)\u001b[0m Adding into global\u001b[32m [repeated 4x across cluster]\u001b[0m\n",
            "\u001b[36m(ClientAppActor pid=9671)\u001b[0m Global dict {'12245189676292809591': [(1, 0.21389496717724288), (2, 0.31017505470459517), (3, 0.3435448577680525)], '9301257855516925193': [(1, 0.22484881803188564), (2, 0.291368884002199), (3, 0.35294117647058826)], '9392099085599778965': [(1, 0.19915029208709506), (2, 0.27987254381306426), (3, 0.31917153478491767)], '8061912160097829685': [(1, 0.20728291316526612), (2, 0.30196078431372547), (3, 0.3366946778711485)], '9620330208725875134': [(1, 0.2294816414686825), (2, 0.30345572354211664), (3, 0.37634989200863933)], '4799881870640953848': [(1, 0.23111612175873733), (2, 0.3173618940248027), (3, 0.36189402480270577)], '10822315389268395931': [(1, 0.21508379888268156), (2, 0.2927374301675978), (3, 0.35977653631284917)], '2204578931904311408': [(1, 0.20512820512820512), (2, 0.2896890343698854), (3, 0.33987997817785054)], '1294640040899982045': [(1, 0.22320441988950276), (2, 0.30883977900552484), (3, 0.34640883977900555)], '7789576785706923716': [(1, 0.22899505766062603), (2, 0.3086216364634816), (3, 0.34102141680395387)]}\u001b[32m [repeated 4x across cluster]\u001b[0m\n",
            "\u001b[36m(ClientAppActor pid=9671)\u001b[0m Metric List for client 4 : [(1.665771339896745, 0.3904448105436573)]: \u001b[32m [repeated 4x across cluster]\u001b[0m\n",
            "\u001b[36m(ClientAppActor pid=9672)\u001b[0m Loading data for client_8\u001b[32m [repeated 4x across cluster]\u001b[0m\n",
            "\u001b[36m(ClientAppActor pid=9671)\u001b[0m Adding into global\u001b[32m [repeated 2x across cluster]\u001b[0m\n",
            "\u001b[36m(ClientAppActor pid=9671)\u001b[0m Global dict {'12245189676292809591': [(1, 0.21389496717724288), (2, 0.31017505470459517), (3, 0.3435448577680525)], '9301257855516925193': [(1, 0.22484881803188564), (2, 0.291368884002199), (3, 0.35294117647058826)], '9392099085599778965': [(1, 0.19915029208709506), (2, 0.27987254381306426), (3, 0.31917153478491767)], '8061912160097829685': [(1, 0.20728291316526612), (2, 0.30196078431372547), (3, 0.3366946778711485)], '9620330208725875134': [(1, 0.2294816414686825), (2, 0.30345572354211664), (3, 0.37634989200863933)], '4799881870640953848': [(1, 0.23111612175873733), (2, 0.3173618940248027), (3, 0.36189402480270577)], '10822315389268395931': [(1, 0.21508379888268156), (2, 0.2927374301675978), (3, 0.35977653631284917)], '2204578931904311408': [(1, 0.20512820512820512), (2, 0.2896890343698854), (3, 0.33987997817785054)], '1294640040899982045': [(1, 0.22320441988950276), (2, 0.30883977900552484), (3, 0.34640883977900555)], '7789576785706923716': [(1, 0.22899505766062603), (2, 0.3086216364634816), (3, 0.34102141680395387)]}\u001b[32m [repeated 2x across cluster]\u001b[0m\n",
            "\u001b[36m(ClientAppActor pid=9671)\u001b[0m Metric List for client 7 : [(1.6924925153051997, 0.3862144420131291)]: \u001b[32m [repeated 2x across cluster]\u001b[0m\n"
          ]
        },
        {
          "output_type": "stream",
          "name": "stderr",
          "text": [
            "\u001b[92mINFO \u001b[0m:      aggregate_evaluate: received 10 results and 0 failures\n",
            "\u001b[92mINFO \u001b[0m:      \n",
            "\u001b[92mINFO \u001b[0m:      [ROUND 5]\n",
            "\u001b[92mINFO \u001b[0m:      configure_fit: strategy sampled 10 clients (out of 10)\n"
          ]
        },
        {
          "output_type": "stream",
          "name": "stdout",
          "text": [
            "Round 4 accuracy: 0.3864601008889635\n",
            "Accuracy List for Round 4 : [0.3906426155580609, 0.4005586592178771, 0.3779697624190065, 0.3938375350140056, 0.3840698308783415, 0.3862144420131291, 0.3904448105436573, 0.37758895379713225, 0.38592633315008246, 0.37734806629834255]\n",
            "Big List for Round 4 : [('4799881870640953848', 0.3906426155580609), ('10822315389268395931', 0.4005586592178771), ('9620330208725875134', 0.3779697624190065), ('8061912160097829685', 0.3938375350140056), ('2204578931904311408', 0.3840698308783415), ('12245189676292809591', 0.3862144420131291), ('7789576785706923716', 0.3904448105436573), ('9392099085599778965', 0.37758895379713225), ('9301257855516925193', 0.38592633315008246), ('1294640040899982045', 0.37734806629834255)]\n",
            "\u001b[36m(ClientAppActor pid=9671)\u001b[0m Loading data for client_5\u001b[32m [repeated 5x across cluster]\u001b[0m\n",
            "\u001b[36m(ClientAppActor pid=9672)\u001b[0m Adding into global\u001b[32m [repeated 3x across cluster]\u001b[0m\n",
            "\u001b[36m(ClientAppActor pid=9672)\u001b[0m Global dict {'12245189676292809591': [(1, 0.21389496717724288), (2, 0.31017505470459517), (3, 0.3435448577680525)], '9301257855516925193': [(1, 0.22484881803188564), (2, 0.291368884002199), (3, 0.35294117647058826)], '9392099085599778965': [(1, 0.19915029208709506), (2, 0.27987254381306426), (3, 0.31917153478491767)], '8061912160097829685': [(1, 0.20728291316526612), (2, 0.30196078431372547), (3, 0.3366946778711485)], '9620330208725875134': [(1, 0.2294816414686825), (2, 0.30345572354211664), (3, 0.37634989200863933)], '4799881870640953848': [(1, 0.23111612175873733), (2, 0.3173618940248027), (3, 0.36189402480270577)], '10822315389268395931': [(1, 0.21508379888268156), (2, 0.2927374301675978), (3, 0.35977653631284917)], '2204578931904311408': [(1, 0.20512820512820512), (2, 0.2896890343698854), (3, 0.33987997817785054)], '1294640040899982045': [(1, 0.22320441988950276), (2, 0.30883977900552484), (3, 0.34640883977900555)], '7789576785706923716': [(1, 0.22899505766062603), (2, 0.3086216364634816), (3, 0.34102141680395387)]}\u001b[32m [repeated 3x across cluster]\u001b[0m\n",
            "\u001b[36m(ClientAppActor pid=9672)\u001b[0m Metric List for client 2 : [(1.713812152852011, 0.37734806629834255)]: \u001b[32m [repeated 3x across cluster]\u001b[0m\n",
            "\u001b[36m(ClientAppActor pid=9672)\u001b[0m Loading data for client_8\u001b[32m [repeated 2x across cluster]\u001b[0m\n",
            "\u001b[36m(ClientAppActor pid=9672)\u001b[0m Loading data for client_1\u001b[32m [repeated 2x across cluster]\u001b[0m\n",
            "\u001b[36m(ClientAppActor pid=9672)\u001b[0m Loading data for client_7\u001b[32m [repeated 2x across cluster]\u001b[0m\n"
          ]
        },
        {
          "output_type": "stream",
          "name": "stderr",
          "text": [
            "\u001b[92mINFO \u001b[0m:      aggregate_fit: received 10 results and 0 failures\n",
            "\u001b[92mINFO \u001b[0m:      configure_evaluate: strategy sampled 10 clients (out of 10)\n"
          ]
        },
        {
          "output_type": "stream",
          "name": "stdout",
          "text": [
            "\u001b[36m(ClientAppActor pid=9672)\u001b[0m Loading data for client_2\u001b[32m [repeated 2x across cluster]\u001b[0m\n",
            "\u001b[36m(ClientAppActor pid=9672)\u001b[0m Adding into global\n",
            "\u001b[36m(ClientAppActor pid=9672)\u001b[0m Global dict {'12245189676292809591': [(1, 0.21389496717724288), (2, 0.31017505470459517), (3, 0.3435448577680525), (4, 0.3862144420131291)], '9301257855516925193': [(1, 0.22484881803188564), (2, 0.291368884002199), (3, 0.35294117647058826), (4, 0.38592633315008246)], '9392099085599778965': [(1, 0.19915029208709506), (2, 0.27987254381306426), (3, 0.31917153478491767), (4, 0.37758895379713225)], '8061912160097829685': [(1, 0.20728291316526612), (2, 0.30196078431372547), (3, 0.3366946778711485), (4, 0.3938375350140056)], '9620330208725875134': [(1, 0.2294816414686825), (2, 0.30345572354211664), (3, 0.37634989200863933), (4, 0.3779697624190065)], '4799881870640953848': [(1, 0.23111612175873733), (2, 0.3173618940248027), (3, 0.36189402480270577), (4, 0.3906426155580609)], '10822315389268395931': [(1, 0.21508379888268156), (2, 0.2927374301675978), (3, 0.35977653631284917), (4, 0.4005586592178771)], '2204578931904311408': [(1, 0.20512820512820512), (2, 0.2896890343698854), (3, 0.33987997817785054), (4, 0.3840698308783415)], '1294640040899982045': [(1, 0.22320441988950276), (2, 0.30883977900552484), (3, 0.34640883977900555), (4, 0.37734806629834255)], '7789576785706923716': [(1, 0.22899505766062603), (2, 0.3086216364634816), (3, 0.34102141680395387), (4, 0.3904448105436573)]}\n",
            "\u001b[36m(ClientAppActor pid=9672)\u001b[0m Metric List for client 2 : [(1.5930710473771912, 0.430939226519337)]: \n",
            "\u001b[36m(ClientAppActor pid=9671)\u001b[0m Loading data for client_5\u001b[32m [repeated 3x across cluster]\u001b[0m\n",
            "\u001b[36m(ClientAppActor pid=9671)\u001b[0m Adding into global\u001b[32m [repeated 4x across cluster]\u001b[0m\n",
            "\u001b[36m(ClientAppActor pid=9671)\u001b[0m Global dict {'12245189676292809591': [(1, 0.21389496717724288), (2, 0.31017505470459517), (3, 0.3435448577680525), (4, 0.3862144420131291)], '9301257855516925193': [(1, 0.22484881803188564), (2, 0.291368884002199), (3, 0.35294117647058826), (4, 0.38592633315008246)], '9392099085599778965': [(1, 0.19915029208709506), (2, 0.27987254381306426), (3, 0.31917153478491767), (4, 0.37758895379713225)], '8061912160097829685': [(1, 0.20728291316526612), (2, 0.30196078431372547), (3, 0.3366946778711485), (4, 0.3938375350140056)], '9620330208725875134': [(1, 0.2294816414686825), (2, 0.30345572354211664), (3, 0.37634989200863933), (4, 0.3779697624190065)], '4799881870640953848': [(1, 0.23111612175873733), (2, 0.3173618940248027), (3, 0.36189402480270577), (4, 0.3906426155580609)], '10822315389268395931': [(1, 0.21508379888268156), (2, 0.2927374301675978), (3, 0.35977653631284917), (4, 0.4005586592178771)], '2204578931904311408': [(1, 0.20512820512820512), (2, 0.2896890343698854), (3, 0.33987997817785054), (4, 0.3840698308783415)], '1294640040899982045': [(1, 0.22320441988950276), (2, 0.30883977900552484), (3, 0.34640883977900555), (4, 0.37734806629834255)], '7789576785706923716': [(1, 0.22899505766062603), (2, 0.3086216364634816), (3, 0.34102141680395387), (4, 0.3904448105436573)]}\u001b[32m [repeated 4x across cluster]\u001b[0m\n",
            "\u001b[36m(ClientAppActor pid=9671)\u001b[0m Metric List for client 6 : [(1.577055354935475, 0.43122886133032695)]: \u001b[32m [repeated 4x across cluster]\u001b[0m\n",
            "\u001b[36m(ClientAppActor pid=9672)\u001b[0m Loading data for client_8\u001b[32m [repeated 4x across cluster]\u001b[0m\n"
          ]
        },
        {
          "output_type": "stream",
          "name": "stderr",
          "text": [
            "\u001b[92mINFO \u001b[0m:      aggregate_evaluate: received 10 results and 0 failures\n",
            "\u001b[92mINFO \u001b[0m:      \n",
            "\u001b[92mINFO \u001b[0m:      [SUMMARY]\n",
            "\u001b[92mINFO \u001b[0m:      Run finished 5 round(s) in 1720.60s\n"
          ]
        },
        {
          "output_type": "stream",
          "name": "stdout",
          "text": [
            "\u001b[36m(ClientAppActor pid=9671)\u001b[0m Adding into global\u001b[32m [repeated 4x across cluster]\u001b[0m\n",
            "\u001b[36m(ClientAppActor pid=9671)\u001b[0m Global dict {'12245189676292809591': [(1, 0.21389496717724288), (2, 0.31017505470459517), (3, 0.3435448577680525), (4, 0.3862144420131291)], '9301257855516925193': [(1, 0.22484881803188564), (2, 0.291368884002199), (3, 0.35294117647058826), (4, 0.38592633315008246)], '9392099085599778965': [(1, 0.19915029208709506), (2, 0.27987254381306426), (3, 0.31917153478491767), (4, 0.37758895379713225)], '8061912160097829685': [(1, 0.20728291316526612), (2, 0.30196078431372547), (3, 0.3366946778711485), (4, 0.3938375350140056)], '9620330208725875134': [(1, 0.2294816414686825), (2, 0.30345572354211664), (3, 0.37634989200863933), (4, 0.3779697624190065)], '4799881870640953848': [(1, 0.23111612175873733), (2, 0.3173618940248027), (3, 0.36189402480270577), (4, 0.3906426155580609)], '10822315389268395931': [(1, 0.21508379888268156), (2, 0.2927374301675978), (3, 0.35977653631284917), (4, 0.4005586592178771)], '2204578931904311408': [(1, 0.20512820512820512), (2, 0.2896890343698854), (3, 0.33987997817785054), (4, 0.3840698308783415)], '1294640040899982045': [(1, 0.22320441988950276), (2, 0.30883977900552484), (3, 0.34640883977900555), (4, 0.37734806629834255)], '7789576785706923716': [(1, 0.22899505766062603), (2, 0.3086216364634816), (3, 0.34102141680395387), (4, 0.3904448105436573)]}\u001b[32m [repeated 4x across cluster]\u001b[0m\n",
            "\u001b[36m(ClientAppActor pid=9671)\u001b[0m Metric List for client 4 : [(1.585092322895777, 0.42504118616144976)]: \u001b[32m [repeated 4x across cluster]\u001b[0m\n",
            "Round 5 accuracy: 0.42991085663555995\n",
            "Accuracy List for Round 5 : [0.4380952380952381, 0.4435754189944134, 0.4288052373158756, 0.43122886133032695, 0.4142326075411577, 0.4403518416712479, 0.41576673866090713, 0.4310722100656455, 0.430939226519337, 0.42504118616144976]\n",
            "Big List for Round 5 : [('8061912160097829685', 0.4380952380952381), ('10822315389268395931', 0.4435754189944134), ('2204578931904311408', 0.4288052373158756), ('4799881870640953848', 0.43122886133032695), ('9392099085599778965', 0.4142326075411577), ('9301257855516925193', 0.4403518416712479), ('9620330208725875134', 0.41576673866090713), ('12245189676292809591', 0.4310722100656455), ('1294640040899982045', 0.430939226519337), ('7789576785706923716', 0.42504118616144976)]\n"
          ]
        },
        {
          "output_type": "stream",
          "name": "stderr",
          "text": [
            "\u001b[92mINFO \u001b[0m:      \tHistory (loss, distributed):\n",
            "\u001b[92mINFO \u001b[0m:      \t\tround 1: 2.2637362612560388\n",
            "\u001b[92mINFO \u001b[0m:      \t\tround 2: 1.9590754944978435\n",
            "\u001b[92mINFO \u001b[0m:      \t\tround 3: 1.829113985346162\n",
            "\u001b[92mINFO \u001b[0m:      \t\tround 4: 1.691438128520647\n",
            "\u001b[92mINFO \u001b[0m:      \t\tround 5: 1.584078641776395\n",
            "\u001b[92mINFO \u001b[0m:      \tHistory (metrics, distributed, evaluate):\n",
            "\u001b[92mINFO \u001b[0m:      \t{'accuracy': [(1, 0.21774464680662126),\n",
            "\u001b[92mINFO \u001b[0m:      \t              (2, 0.3003211929421944),\n",
            "\u001b[92mINFO \u001b[0m:      \t              (3, 0.34767076895276433),\n",
            "\u001b[92mINFO \u001b[0m:      \t              (4, 0.38636477384584617),\n",
            "\u001b[92mINFO \u001b[0m:      \t              (5, 0.4297909058828216)]}\n",
            "\u001b[92mINFO \u001b[0m:      \n"
          ]
        },
        {
          "output_type": "stream",
          "name": "stdout",
          "text": [
            "\u001b[36m(ClientAppActor pid=9672)\u001b[0m Loading data for client_9\u001b[32m [repeated 2x across cluster]\u001b[0m\n",
            "\u001b[36m(ClientAppActor pid=9672)\u001b[0m Adding into global\n",
            "\u001b[36m(ClientAppActor pid=9672)\u001b[0m Global dict {'12245189676292809591': [(1, 0.21389496717724288), (2, 0.31017505470459517), (3, 0.3435448577680525), (4, 0.3862144420131291)], '9301257855516925193': [(1, 0.22484881803188564), (2, 0.291368884002199), (3, 0.35294117647058826), (4, 0.38592633315008246)], '9392099085599778965': [(1, 0.19915029208709506), (2, 0.27987254381306426), (3, 0.31917153478491767), (4, 0.37758895379713225)], '8061912160097829685': [(1, 0.20728291316526612), (2, 0.30196078431372547), (3, 0.3366946778711485), (4, 0.3938375350140056)], '9620330208725875134': [(1, 0.2294816414686825), (2, 0.30345572354211664), (3, 0.37634989200863933), (4, 0.3779697624190065)], '4799881870640953848': [(1, 0.23111612175873733), (2, 0.3173618940248027), (3, 0.36189402480270577), (4, 0.3906426155580609)], '10822315389268395931': [(1, 0.21508379888268156), (2, 0.2927374301675978), (3, 0.35977653631284917), (4, 0.4005586592178771)], '2204578931904311408': [(1, 0.20512820512820512), (2, 0.2896890343698854), (3, 0.33987997817785054), (4, 0.3840698308783415)], '1294640040899982045': [(1, 0.22320441988950276), (2, 0.30883977900552484), (3, 0.34640883977900555), (4, 0.37734806629834255)], '7789576785706923716': [(1, 0.22899505766062603), (2, 0.3086216364634816), (3, 0.34102141680395387), (4, 0.3904448105436573)]}\n",
            "\u001b[36m(ClientAppActor pid=9672)\u001b[0m Metric List for client 9 : [(1.6032818403259212, 0.4142326075411577)]: \n"
          ]
        },
        {
          "output_type": "stream",
          "name": "stderr",
          "text": [
            "\u001b[36m(pid=9671)\u001b[0m 2024-10-14 21:42:20.094827: E external/local_xla/xla/stream_executor/cuda/cuda_fft.cc:485] Unable to register cuFFT factory: Attempting to register factory for plugin cuFFT when one has already been registered\n",
            "\u001b[36m(pid=9671)\u001b[0m 2024-10-14 21:42:20.147891: E external/local_xla/xla/stream_executor/cuda/cuda_dnn.cc:8454] Unable to register cuDNN factory: Attempting to register factory for plugin cuDNN when one has already been registered\n",
            "\u001b[36m(pid=9671)\u001b[0m 2024-10-14 21:42:20.167154: E external/local_xla/xla/stream_executor/cuda/cuda_blas.cc:1452] Unable to register cuBLAS factory: Attempting to register factory for plugin cuBLAS when one has already been registered\n",
            "\u001b[36m(pid=9672)\u001b[0m 2024-10-14 21:42:24.065241: W tensorflow/compiler/tf2tensorrt/utils/py_utils.cc:38] TF-TRT Warning: Could not find TensorRT\n"
          ]
        },
        {
          "output_type": "stream",
          "name": "stdout",
          "text": [
            "{'12245189676292809591': [(1, 0.21389496717724288), (2, 0.31017505470459517), (3, 0.3435448577680525), (4, 0.3862144420131291), (5, 0.4310722100656455)], '9301257855516925193': [(1, 0.22484881803188564), (2, 0.291368884002199), (3, 0.35294117647058826), (4, 0.38592633315008246), (5, 0.4403518416712479)], '9392099085599778965': [(1, 0.19915029208709506), (2, 0.27987254381306426), (3, 0.31917153478491767), (4, 0.37758895379713225), (5, 0.4142326075411577)], '8061912160097829685': [(1, 0.20728291316526612), (2, 0.30196078431372547), (3, 0.3366946778711485), (4, 0.3938375350140056), (5, 0.4380952380952381)], '9620330208725875134': [(1, 0.2294816414686825), (2, 0.30345572354211664), (3, 0.37634989200863933), (4, 0.3779697624190065), (5, 0.41576673866090713)], '4799881870640953848': [(1, 0.23111612175873733), (2, 0.3173618940248027), (3, 0.36189402480270577), (4, 0.3906426155580609), (5, 0.43122886133032695)], '10822315389268395931': [(1, 0.21508379888268156), (2, 0.2927374301675978), (3, 0.35977653631284917), (4, 0.4005586592178771), (5, 0.4435754189944134)], '2204578931904311408': [(1, 0.20512820512820512), (2, 0.2896890343698854), (3, 0.33987997817785054), (4, 0.3840698308783415), (5, 0.4288052373158756)], '1294640040899982045': [(1, 0.22320441988950276), (2, 0.30883977900552484), (3, 0.34640883977900555), (4, 0.37734806629834255), (5, 0.430939226519337)], '7789576785706923716': [(1, 0.22899505766062603), (2, 0.3086216364634816), (3, 0.34102141680395387), (4, 0.3904448105436573), (5, 0.42504118616144976)]}\n"
          ]
        }
      ]
    },
    {
      "cell_type": "code",
      "source": [
        "print(metrics_globally_stored.items())\n"
      ],
      "metadata": {
        "id": "I-TyfZ1Da53b"
      },
      "execution_count": null,
      "outputs": []
    },
    {
      "cell_type": "code",
      "source": [
        "strategy = CustomStrategy(\n",
        "        fraction_fit=1.0,\n",
        "        fraction_evaluate=1.0,\n",
        "        min_fit_clients=10,\n",
        "        min_evaluate_clients=10,\n",
        "        min_available_clients=10,\n",
        "        evaluate_metrics_aggregation_fn=weighted_average,  # <-- pass the metric aggregation function\n",
        "    )"
      ],
      "metadata": {
        "id": "VFy1qFqLi3NX"
      },
      "execution_count": null,
      "outputs": []
    },
    {
      "cell_type": "code",
      "source": [
        "strategy = CustomStrategy(\n",
        "        fraction_fit=1.0,\n",
        "        fraction_evaluate=1.0,\n",
        "        min_fit_clients=10,\n",
        "        min_evaluate_clients=10,\n",
        "        min_available_clients=10,\n",
        "        evaluate_metrics_aggregation_fn=weighted_average,  # <-- pass the metric aggregation function\n",
        "    )\n",
        "\n",
        "    # Configure the server for 5 rounds of training\n",
        "config = ServerConfig(num_rounds=30)\n",
        "\n",
        "serverac = ServerAppComponents(strategy=strategy, config=config)\n",
        "\n",
        "server_config = ServerConfig(num_rounds=10)\n",
        "\n"
      ],
      "metadata": {
        "id": "P7FnM7UEju9S"
      },
      "execution_count": null,
      "outputs": []
    },
    {
      "cell_type": "code",
      "source": [
        "from flwr.simulation import start_simulation\n",
        "\n",
        "import os\n",
        "os.environ[\"RAY_DEDUP_LOGS\"] = \"0\"\n",
        "\n",
        "start_simulation(\n",
        "    client_fn=client_fn,   # Function to create client instances\n",
        "    strategy = strategy,\n",
        "    num_clients=NUM_CLIENTS,\n",
        "    # Number of clients to simulate\n",
        "    # server = server_config,\n",
        "    # config={\"num_rounds\": 10},# Number of federated learning rounds (optional, adjust as needed)\n",
        ")"
      ],
      "metadata": {
        "colab": {
          "base_uri": "https://localhost:8080/"
        },
        "id": "oPKSD4lO2BWd",
        "outputId": "ff9fe42a-b130-4e39-de0c-046d6a29006a",
        "collapsed": true
      },
      "execution_count": null,
      "outputs": [
        {
          "output_type": "stream",
          "name": "stderr",
          "text": [
            "\u001b[92mINFO \u001b[0m:      Starting Flower simulation, config: num_rounds=1, no round_timeout\n",
            "2024-10-14 05:46:47,261\tINFO worker.py:1752 -- Started a local Ray instance.\n",
            "\u001b[92mINFO \u001b[0m:      Flower VCE: Ray initialized with resources: {'node:172.28.0.12': 1.0, 'node:__internal_head__': 1.0, 'memory': 7969249691.0, 'object_store_memory': 3984624844.0, 'CPU': 2.0}\n",
            "\u001b[92mINFO \u001b[0m:      Optimize your simulation with Flower VCE: https://flower.ai/docs/framework/how-to-run-simulations.html\n",
            "\u001b[92mINFO \u001b[0m:      No `client_resources` specified. Using minimal resources for clients.\n",
            "\u001b[92mINFO \u001b[0m:      Flower VCE: Resources for each Virtual Client: {'num_cpus': 1, 'num_gpus': 0.0}\n",
            "\u001b[92mINFO \u001b[0m:      Flower VCE: Creating VirtualClientEngineActorPool with 2 actors\n",
            "\u001b[92mINFO \u001b[0m:      [INIT]\n",
            "\u001b[92mINFO \u001b[0m:      Requesting initial parameters from one random client\n",
            "\u001b[36m(pid=13675)\u001b[0m 2024-10-14 05:46:52.584481: E external/local_xla/xla/stream_executor/cuda/cuda_fft.cc:485] Unable to register cuFFT factory: Attempting to register factory for plugin cuFFT when one has already been registered\n",
            "\u001b[36m(pid=13675)\u001b[0m 2024-10-14 05:46:52.672631: E external/local_xla/xla/stream_executor/cuda/cuda_dnn.cc:8454] Unable to register cuDNN factory: Attempting to register factory for plugin cuDNN when one has already been registered\n",
            "\u001b[36m(pid=13675)\u001b[0m 2024-10-14 05:46:52.686282: E external/local_xla/xla/stream_executor/cuda/cuda_blas.cc:1452] Unable to register cuBLAS factory: Attempting to register factory for plugin cuBLAS when one has already been registered\n",
            "\u001b[36m(pid=13677)\u001b[0m 2024-10-14 05:46:57.930804: W tensorflow/compiler/tf2tensorrt/utils/py_utils.cc:38] TF-TRT Warning: Could not find TensorRT\n",
            "\u001b[36m(pid=13677)\u001b[0m 2024-10-14 05:46:52.791585: E external/local_xla/xla/stream_executor/cuda/cuda_fft.cc:485] Unable to register cuFFT factory: Attempting to register factory for plugin cuFFT when one has already been registered\n",
            "\u001b[36m(pid=13677)\u001b[0m 2024-10-14 05:46:52.835613: E external/local_xla/xla/stream_executor/cuda/cuda_dnn.cc:8454] Unable to register cuDNN factory: Attempting to register factory for plugin cuDNN when one has already been registered\n",
            "\u001b[36m(pid=13677)\u001b[0m 2024-10-14 05:46:52.848102: E external/local_xla/xla/stream_executor/cuda/cuda_blas.cc:1452] Unable to register cuBLAS factory: Attempting to register factory for plugin cuBLAS when one has already been registered\n",
            "\u001b[92mINFO \u001b[0m:      Received initial parameters from one random client\n",
            "\u001b[92mINFO \u001b[0m:      Starting evaluation of initial global parameters\n",
            "\u001b[92mINFO \u001b[0m:      Evaluation returned no results (`None`)\n",
            "\u001b[92mINFO \u001b[0m:      \n",
            "\u001b[92mINFO \u001b[0m:      [ROUND 1]\n",
            "\u001b[92mINFO \u001b[0m:      configure_fit: strategy sampled 10 clients (out of 10)\n"
          ]
        },
        {
          "output_type": "stream",
          "name": "stdout",
          "text": [
            "\u001b[36m(ClientAppActor pid=13677)\u001b[0m Loading data for client_3\n",
            "\u001b[36m(ClientAppActor pid=13677)\u001b[0m Loading data for client_9\n",
            "\u001b[36m(ClientAppActor pid=13675)\u001b[0m Loading data for client_5\n",
            "\u001b[36m(ClientAppActor pid=13677)\u001b[0m Loading data for client_7\n",
            "\u001b[36m(ClientAppActor pid=13675)\u001b[0m Loading data for client_0\n",
            "\u001b[36m(ClientAppActor pid=13677)\u001b[0m Loading data for client_1\n",
            "\u001b[36m(ClientAppActor pid=13675)\u001b[0m Loading data for client_4\n",
            "\u001b[36m(ClientAppActor pid=13677)\u001b[0m Loading data for client_6\n",
            "\u001b[36m(ClientAppActor pid=13675)\u001b[0m Loading data for client_2\n",
            "\u001b[36m(ClientAppActor pid=13677)\u001b[0m Loading data for client_8\n",
            "\u001b[36m(ClientAppActor pid=13675)\u001b[0m Loading data for client_3\n"
          ]
        },
        {
          "output_type": "stream",
          "name": "stderr",
          "text": [
            "\u001b[92mINFO \u001b[0m:      aggregate_fit: received 10 results and 0 failures\n",
            "\u001b[93mWARNING \u001b[0m:   No fit_metrics_aggregation_fn provided\n",
            "\u001b[92mINFO \u001b[0m:      configure_evaluate: strategy sampled 10 clients (out of 10)\n"
          ]
        },
        {
          "output_type": "stream",
          "name": "stdout",
          "text": [
            "\u001b[36m(ClientAppActor pid=13675)\u001b[0m Loading data for client_7\n",
            "\u001b[36m(ClientAppActor pid=13675)\u001b[0m Metric List for client 7 : [(0.07221347790259819, 0.12337662337662338)]: \n",
            "\u001b[36m(ClientAppActor pid=13677)\u001b[0m Loading data for client_9\u001b[32m [repeated 5x across cluster]\u001b[0m\n",
            "\u001b[36m(ClientAppActor pid=13675)\u001b[0m Metric List for client 6 : [(0.07313690422955206, 0.11228813559322035)]: \u001b[32m [repeated 4x across cluster]\u001b[0m\n"
          ]
        },
        {
          "output_type": "stream",
          "name": "stderr",
          "text": [
            "\u001b[92mINFO \u001b[0m:      aggregate_evaluate: received 10 results and 0 failures\n",
            "\u001b[92mINFO \u001b[0m:      \n",
            "\u001b[92mINFO \u001b[0m:      [SUMMARY]\n",
            "\u001b[92mINFO \u001b[0m:      Run finished 1 round(s) in 82.00s\n",
            "\u001b[92mINFO \u001b[0m:      \tHistory (loss, distributed):\n",
            "\u001b[92mINFO \u001b[0m:      \t\tround 1: 0.0724840299472361\n",
            "\u001b[92mINFO \u001b[0m:      \tHistory (metrics, distributed, evaluate):\n",
            "\u001b[92mINFO \u001b[0m:      \t{'accuracy': [(1, 0.11558737948525408)]}\n",
            "\u001b[92mINFO \u001b[0m:      \n"
          ]
        },
        {
          "output_type": "stream",
          "name": "stdout",
          "text": [
            "Round 1 accuracy: 0.11560796491104978\n",
            "Accuracy List for Round 1 : [0.10228509249183895, 0.17395833333333333, 0.11979695431472082, 0.1099476439790576, 0.12337662337662338, 0.08481675392670157, 0.11228813559322035, 0.10122699386503067, 0.11356466876971609, 0.11481844946025516]\n",
            "Big List for Round 1 : [('7306461449108323292', 0.10228509249183895), ('5039418663426602635', 0.17395833333333333), ('246721759113017047', 0.11979695431472082), ('-4310606299311021011', 0.1099476439790576), ('5256554666922738489', 0.12337662337662338), ('6165841709946672229', 0.08481675392670157), ('-2251380921068617213', 0.11228813559322035), ('4856979522770448443', 0.10122699386503067), ('-1394596644972081091', 0.11356466876971609), ('-7577731239845339981', 0.11481844946025516)]\n"
          ]
        },
        {
          "output_type": "execute_result",
          "data": {
            "text/plain": [
              "History (loss, distributed):\n",
              "\tround 1: 0.0724840299472361\n",
              "History (metrics, distributed, evaluate):\n",
              "{'accuracy': [(1, 0.11558737948525408)]}"
            ]
          },
          "metadata": {},
          "execution_count": 61
        }
      ]
    },
    {
      "cell_type": "code",
      "source": [],
      "metadata": {
        "id": "znaUIFDeeB9-"
      },
      "execution_count": null,
      "outputs": []
    }
  ]
}