{
  "nbformat": 4,
  "nbformat_minor": 0,
  "metadata": {
    "colab": {
      "provenance": []
    },
    "kernelspec": {
      "name": "python3",
      "display_name": "Python 3"
    },
    "language_info": {
      "name": "python"
    }
  },
  "cells": [
    {
      "cell_type": "code",
      "execution_count": 1,
      "metadata": {
        "colab": {
          "base_uri": "https://localhost:8080/"
        },
        "id": "IIX3ikEVE_wB",
        "outputId": "34c7c02c-3c57-4c63-b6a5-a83bdb2a30eb"
      },
      "outputs": [
        {
          "output_type": "stream",
          "name": "stdout",
          "text": [
            "Downloading https://www.cs.toronto.edu/~kriz/cifar-10-python.tar.gz to ./data/cifar-10-python.tar.gz\n"
          ]
        },
        {
          "output_type": "stream",
          "name": "stderr",
          "text": [
            "100%|██████████| 170498071/170498071 [00:15<00:00, 11174824.06it/s]\n"
          ]
        },
        {
          "output_type": "stream",
          "name": "stdout",
          "text": [
            "Extracting ./data/cifar-10-python.tar.gz to ./data\n",
            "Files already downloaded and verified\n",
            "Data has been split and saved into './federated_clients_data/' for 10 clients.\n"
          ]
        }
      ],
      "source": [
        "## Script to split the data into a federated Dataset\n",
        "## Code from the same partitiondata.py file that was submitted in Part 1\n",
        "## This will just create the dataset directory in the structure that we want and load the images\n",
        "\n",
        "import numpy as np\n",
        "import torch\n",
        "from torchvision import datasets, transforms\n",
        "from torch.utils.data import DataLoader, Dataset\n",
        "import os\n",
        "\n",
        "\n",
        "\n",
        "def split_data(dataset, num_clients, deviation_factor=0.1):\n",
        "    \"\"\"\n",
        "    Splits data across clients with slight deviation\n",
        "    \"\"\"\n",
        "    client_indices = {i: [] for i in range(num_clients)}\n",
        "\n",
        "    # Split indices based on classes\n",
        "    for class_idx in range(10):\n",
        "        class_indices = np.where(np.array(dataset.targets) == class_idx)[0]\n",
        "        np.random.shuffle(class_indices)\n",
        "\n",
        "        # Calculate the number of samples\n",
        "        total_samples = len(class_indices)\n",
        "        avg_samples_per_client = total_samples // num_clients\n",
        "\n",
        "\n",
        "        splits = []\n",
        "        remaining_samples = total_samples\n",
        "        for client in range(num_clients):\n",
        "            # Apply deviation to the average samples\n",
        "            deviation = np.random.randint(-int(avg_samples_per_client * deviation_factor),\n",
        "                                          int(avg_samples_per_client * deviation_factor) + 1)\n",
        "            client_sample_count = avg_samples_per_client + deviation\n",
        "\n",
        "            if client == num_clients - 1:\n",
        "                client_sample_count = remaining_samples\n",
        "            else:\n",
        "                client_sample_count = min(client_sample_count, remaining_samples)\n",
        "\n",
        "            remaining_samples -= client_sample_count\n",
        "            splits.append(client_sample_count)\n",
        "\n",
        "        split_class_indices = np.split(class_indices, np.cumsum(splits[:-1]))\n",
        "\n",
        "        for client, indices in enumerate(split_class_indices):\n",
        "            client_indices[client].extend(indices)\n",
        "\n",
        "    return client_indices\n",
        "\n",
        "\n",
        "\n",
        "# Function to save client data as jpg\n",
        "def save_client_data_as_jpg(dataset, indices, client_dir, client_id):\n",
        "    client_path = os.path.join(client_dir, f'client_{client_id}')\n",
        "    os.makedirs(client_path, exist_ok=True)\n",
        "\n",
        "\n",
        "    for idx in indices:\n",
        "        img, label = dataset[idx]\n",
        "        label_folder = os.path.join(client_path, f'label_{label}')\n",
        "        os.makedirs(label_folder, exist_ok=True)\n",
        "\n",
        "        # Save the image as a .jpg\n",
        "        img_path = os.path.join(label_folder, f'{idx}.jpg')\n",
        "\n",
        "        img_pil = transforms.ToPILImage()(img)\n",
        "        img_pil.save(img_path)\n",
        "\n",
        "\n",
        "\n",
        "\n",
        "\n",
        "def main():\n",
        "    transform = transforms.Compose([\n",
        "                                transforms.RandomHorizontalFlip(p=0.3),\n",
        "                                transforms.RandomApply([transforms.RandomRotation(10)], p=0.3),\n",
        "                                transforms.RandomResizedCrop(32, scale=(0.8, 1.0)),\n",
        "                                # transforms.RandomApply([transforms.GaussianBlur(kernel_size=(3, 3), sigma=(0.1, 2.0))], p=0.2),\n",
        "                                transforms.ToTensor(),\n",
        "                                # transforms.Normalize((0.5, 0.5, 0.5), (0.5, 0.5, 0.5))\n",
        "                                ])\n",
        "\n",
        "    train_dataset = datasets.CIFAR10(root='./data', train=True, download=True, transform=transform)\n",
        "    test_dataset = datasets.CIFAR10(root='./data', train=False, download=True, transform=transform)\n",
        "\n",
        "    num_clients = 10\n",
        "    client_dir = './federated_clients_data/'\n",
        "\n",
        "    # Spliting data for training and testing\n",
        "    train_indices = split_data(train_dataset, num_clients, deviation_factor=0.2)\n",
        "    test_indices = split_data(test_dataset, num_clients, deviation_factor=0.2)\n",
        "\n",
        "    # Saving the  data for each client\n",
        "    for client_id in range(num_clients):\n",
        "        save_client_data_as_jpg(train_dataset, train_indices[client_id], client_dir, client_id)\n",
        "        save_client_data_as_jpg(test_dataset, test_indices[client_id], client_dir, client_id)\n",
        "\n",
        "    print(f\"Data has been split and saved into '{client_dir}' for {num_clients} clients.\")\n",
        "\n",
        "if __name__ == '__main__':\n",
        "    main()"
      ]
    },
    {
      "cell_type": "code",
      "source": [
        "### Script to poison one of the clients\n",
        "import os\n",
        "import random\n",
        "from PIL import Image\n",
        "\n",
        "NUM_CLASSES = 10\n",
        "\n",
        "def flip_label_per_image(original_label):\n",
        "    available_labels = list(range(NUM_CLASSES))\n",
        "    available_labels.remove(original_label)\n",
        "    new_label = random.choice(available_labels)  # Randomly select a new label from remaining labels\n",
        "    return new_label\n",
        "\n",
        "def poison_client_data_per_image(original_dir, poisoned_dir, num_clients_to_poison):\n",
        "\n",
        "    os.makedirs(poisoned_dir, exist_ok=True)\n",
        "\n",
        "\n",
        "    client_dirs = [d for d in os.listdir(original_dir) if d.startswith('client_')]\n",
        "\n",
        "    # Selecting client to poison\n",
        "    random.shuffle(client_dirs)\n",
        "    clients_to_poison = client_dirs[:num_clients_to_poison]\n",
        "\n",
        "    print(f\"Poisoning the following clients: {clients_to_poison}\")\n",
        "\n",
        "    for client in clients_to_poison:\n",
        "\n",
        "        client_path = os.path.join(original_dir, client)\n",
        "\n",
        "\n",
        "        poisoned_client_path = os.path.join(poisoned_dir, f'poisoned_{client}')\n",
        "        os.makedirs(poisoned_client_path, exist_ok=True)\n",
        "\n",
        "        for label_folder in os.listdir(client_path):\n",
        "            original_label_path = os.path.join(client_path, label_folder)\n",
        "\n",
        "            if os.path.isdir(original_label_path):\n",
        "                original_label = int(label_folder.split(\"_\")[1])\n",
        "\n",
        "                for img_file in os.listdir(original_label_path):\n",
        "                    img_path = os.path.join(original_label_path, img_file)\n",
        "\n",
        "                    # Determine the new flipped label for this image\n",
        "                    new_label = flip_label_per_image(original_label)\n",
        "\n",
        "                    poisoned_label_path = os.path.join(poisoned_client_path, f'label_{new_label}')\n",
        "                    os.makedirs(poisoned_label_path, exist_ok=True)\n",
        "\n",
        "                    img = Image.open(img_path)\n",
        "                    img.save(os.path.join(poisoned_label_path, img_file))\n",
        "\n",
        "    print(f\"Poisoning complete. Poisoned data saved in: {poisoned_dir}\")\n",
        "\n",
        "\n",
        "original_data_dir = './federated_clients_data'\n",
        "poisoned_data_dir = './poisoned_clients_data'   # new directory to save poisoned data\n",
        "num_clients_to_poison = 1  # No of cleints to poison\n",
        "\n",
        "\n",
        "poison_client_data_per_image(original_data_dir, poisoned_data_dir, num_clients_to_poison)"
      ],
      "metadata": {
        "colab": {
          "base_uri": "https://localhost:8080/"
        },
        "id": "QPxHyAoRJoMF",
        "outputId": "100834e8-1a85-4173-8324-70271edaa7cb"
      },
      "execution_count": 2,
      "outputs": [
        {
          "output_type": "stream",
          "name": "stdout",
          "text": [
            "Poisoning the following clients: ['client_8']\n",
            "Poisoning complete. Poisoned data saved in: ./poisoned_clients_data\n"
          ]
        }
      ]
    },
    {
      "cell_type": "code",
      "source": [
        "# These commands will move the poisoned client data to the original directory so that we have one poisoned client\n",
        "!cd federated_clients_data/\n",
        "!rm -r client_2\n",
        "!mv poisoned_client_2 client_2\n",
        "# Move the directory to the ./federated_clients_data"
      ],
      "metadata": {
        "colab": {
          "base_uri": "https://localhost:8080/"
        },
        "id": "l4enzQ5sKH8d",
        "outputId": "179b429d-11b9-441f-c026-04243b1ca658"
      },
      "execution_count": null,
      "outputs": [
        {
          "output_type": "stream",
          "name": "stdout",
          "text": [
            "rm: cannot remove 'client_2': No such file or directory\n"
          ]
        }
      ]
    },
    {
      "cell_type": "code",
      "source": [
        "import torch\n",
        "import numpy as np\n",
        "import matplotlib.pyplot as plt"
      ],
      "metadata": {
        "id": "uhBDsGQAKmcK"
      },
      "execution_count": 3,
      "outputs": []
    },
    {
      "cell_type": "code",
      "source": [
        "print(torch.__version__)"
      ],
      "metadata": {
        "colab": {
          "base_uri": "https://localhost:8080/"
        },
        "id": "G5DmRUPxMBVc",
        "outputId": "59cbfeac-e71f-4f12-b7c6-4907f069acdd"
      },
      "execution_count": 4,
      "outputs": [
        {
          "output_type": "stream",
          "name": "stdout",
          "text": [
            "2.4.1+cu121\n"
          ]
        }
      ]
    },
    {
      "cell_type": "code",
      "source": [
        "!pip install -q flwr[simulation] flwr-datasets[vision]"
      ],
      "metadata": {
        "id": "JFvkV_EEMCxL",
        "colab": {
          "base_uri": "https://localhost:8080/"
        },
        "outputId": "f0c7482f-970d-4b75-dfa5-29de80429edf"
      },
      "execution_count": 5,
      "outputs": [
        {
          "output_type": "stream",
          "name": "stdout",
          "text": [
            "\u001b[2K   \u001b[90m━━━━━━━━━━━━━━━━━━━━━━━━━━━━━━━━━━━━━━━━\u001b[0m \u001b[32m65.1/65.1 MB\u001b[0m \u001b[31m8.8 MB/s\u001b[0m eta \u001b[36m0:00:00\u001b[0m\n",
            "\u001b[2K   \u001b[90m━━━━━━━━━━━━━━━━━━━━━━━━━━━━━━━━━━━━━━━━\u001b[0m \u001b[32m3.9/3.9 MB\u001b[0m \u001b[31m58.9 MB/s\u001b[0m eta \u001b[36m0:00:00\u001b[0m\n",
            "\u001b[2K   \u001b[90m━━━━━━━━━━━━━━━━━━━━━━━━━━━━━━━━━━━━━━━━\u001b[0m \u001b[32m542.1/542.1 kB\u001b[0m \u001b[31m29.9 MB/s\u001b[0m eta \u001b[36m0:00:00\u001b[0m\n",
            "\u001b[2K   \u001b[90m━━━━━━━━━━━━━━━━━━━━━━━━━━━━━━━━━━━━━━━━\u001b[0m \u001b[32m8.3/8.3 MB\u001b[0m \u001b[31m89.0 MB/s\u001b[0m eta \u001b[36m0:00:00\u001b[0m\n",
            "\u001b[2K   \u001b[90m━━━━━━━━━━━━━━━━━━━━━━━━━━━━━━━━━━━━━━━━\u001b[0m \u001b[32m294.6/294.6 kB\u001b[0m \u001b[31m19.5 MB/s\u001b[0m eta \u001b[36m0:00:00\u001b[0m\n",
            "\u001b[2K   \u001b[90m━━━━━━━━━━━━━━━━━━━━━━━━━━━━━━━━━━━━━━━━\u001b[0m \u001b[32m2.3/2.3 MB\u001b[0m \u001b[31m72.9 MB/s\u001b[0m eta \u001b[36m0:00:00\u001b[0m\n",
            "\u001b[2K   \u001b[90m━━━━━━━━━━━━━━━━━━━━━━━━━━━━━━━━━━━━━━━━\u001b[0m \u001b[32m478.6/478.6 kB\u001b[0m \u001b[31m26.5 MB/s\u001b[0m eta \u001b[36m0:00:00\u001b[0m\n",
            "\u001b[2K   \u001b[90m━━━━━━━━━━━━━━━━━━━━━━━━━━━━━━━━━━━━━━━━\u001b[0m \u001b[32m73.0/73.0 kB\u001b[0m \u001b[31m5.0 MB/s\u001b[0m eta \u001b[36m0:00:00\u001b[0m\n",
            "\u001b[2K   \u001b[90m━━━━━━━━━━━━━━━━━━━━━━━━━━━━━━━━━━━━━━━━\u001b[0m \u001b[32m116.3/116.3 kB\u001b[0m \u001b[31m8.5 MB/s\u001b[0m eta \u001b[36m0:00:00\u001b[0m\n",
            "\u001b[2K   \u001b[90m━━━━━━━━━━━━━━━━━━━━━━━━━━━━━━━━━━━━━━━━\u001b[0m \u001b[32m172.0/172.0 kB\u001b[0m \u001b[31m12.0 MB/s\u001b[0m eta \u001b[36m0:00:00\u001b[0m\n",
            "\u001b[2K   \u001b[90m━━━━━━━━━━━━━━━━━━━━━━━━━━━━━━━━━━━━━━━━\u001b[0m \u001b[32m134.8/134.8 kB\u001b[0m \u001b[31m8.9 MB/s\u001b[0m eta \u001b[36m0:00:00\u001b[0m\n",
            "\u001b[2K   \u001b[90m━━━━━━━━━━━━━━━━━━━━━━━━━━━━━━━━━━━━━━━━\u001b[0m \u001b[32m194.1/194.1 kB\u001b[0m \u001b[31m13.2 MB/s\u001b[0m eta \u001b[36m0:00:00\u001b[0m\n",
            "\u001b[?25h\u001b[31mERROR: pip's dependency resolver does not currently take into account all the packages that are installed. This behaviour is the source of the following dependency conflicts.\n",
            "gcsfs 2024.6.1 requires fsspec==2024.6.1, but you have fsspec 2024.3.1 which is incompatible.\n",
            "tensorflow-metadata 1.16.1 requires protobuf<4.21,>=3.20.3; python_version < \"3.11\", but you have protobuf 4.25.5 which is incompatible.\u001b[0m\u001b[31m\n",
            "\u001b[0m"
          ]
        }
      ]
    },
    {
      "cell_type": "code",
      "source": [
        "from collections import OrderedDict\n",
        "from typing import List, Tuple\n",
        "\n",
        "import matplotlib.pyplot as plt\n",
        "import numpy as np\n",
        "import torch\n",
        "import torch.nn as nn\n",
        "import torch.nn.functional as F\n",
        "import torchvision.transforms as transforms\n",
        "from datasets.utils.logging import disable_progress_bar\n",
        "from torch.utils.data import DataLoader\n",
        "\n",
        "import flwr\n",
        "from flwr.client import Client, ClientApp, NumPyClient\n",
        "from flwr.common import Metrics, Context\n",
        "from flwr.server import ServerApp, ServerConfig, ServerAppComponents\n",
        "from flwr.server.strategy import FedAvg\n",
        "from flwr.simulation import run_simulation\n",
        "from flwr_datasets import FederatedDataset\n",
        "\n",
        "DEVICE = torch.device(\"cpu\")  # Try \"cuda\" to train on GPU\n",
        "print(f\"Training on {DEVICE}\")\n",
        "print(f\"Flower {flwr.__version__} / PyTorch {torch.__version__}\")\n",
        "disable_progress_bar()"
      ],
      "metadata": {
        "colab": {
          "base_uri": "https://localhost:8080/"
        },
        "id": "Qn-6UnVeMEY7",
        "outputId": "62f1ff97-8c8a-42ea-d475-44bd53c7304c"
      },
      "execution_count": 6,
      "outputs": [
        {
          "output_type": "stream",
          "name": "stdout",
          "text": [
            "Training on cpu\n",
            "Flower 1.12.0 / PyTorch 2.4.1+cu121\n"
          ]
        }
      ]
    },
    {
      "cell_type": "code",
      "source": [
        "NUM_CLIENTS = 10\n",
        "BATCH_SIZE = 32"
      ],
      "metadata": {
        "id": "wmcq4yfIN-EB"
      },
      "execution_count": 7,
      "outputs": []
    },
    {
      "cell_type": "code",
      "source": [
        "import os\n",
        "from torch.utils.data import Dataset, DataLoader, random_split\n",
        "from torchvision import transforms\n",
        "from PIL import Image"
      ],
      "metadata": {
        "id": "jH7txEXDO6PX"
      },
      "execution_count": 8,
      "outputs": []
    },
    {
      "cell_type": "code",
      "source": [
        "## Custom Dataset class that reads the data for the client from the appropriate directory based on the client ID provided\n",
        "class ClientDataset(Dataset):\n",
        "  def __init__(self,root_dir,client_id,transform=None):\n",
        "    self.client_dir = os.path.join(root_dir,client_id)\n",
        "    self.transform = transform\n",
        "    self.images = []\n",
        "    self.labels = []\n",
        "    self._load_data()\n",
        "  def _load_data(self):\n",
        "    for label in os.listdir(self.client_dir):\n",
        "            label_dir = os.path.join(self.client_dir, label)\n",
        "            if os.path.isdir(label_dir):\n",
        "                for img_file in os.listdir(label_dir):\n",
        "                    img_path = os.path.join(label_dir, img_file)\n",
        "                    self.images.append(img_path)\n",
        "                    self.labels.append(int(label[-1]))\n",
        "\n",
        "  def __len__(self):\n",
        "    return len(self.images)\n",
        "\n",
        "  def __getitem__(self, idx):\n",
        "    img_path = self.images[idx]\n",
        "    image = Image.open(img_path)\n",
        "    label = self.labels[idx]\n",
        "    if self.transform:\n",
        "        image = self.transform(image)\n",
        "    return image, label\n"
      ],
      "metadata": {
        "id": "HetxvnpiMNMG"
      },
      "execution_count": 9,
      "outputs": []
    },
    {
      "cell_type": "code",
      "source": [
        "## Function that is called by a Flower Framework Client to load the dataset\n",
        "## Uses the Client Dataset class created above to using the specified client id derived from the partition id\n",
        "def load_datasets(partition_id:int):\n",
        "    root_dir = \"/content/federated_clients_data\"\n",
        "    client_id = \"client_\" + str(partition_id)\n",
        "    transform = transforms.Compose([\n",
        "    transforms.Resize((32, 32)),  # Resize to match CIFAR-10 dimensions\n",
        "    transforms.ToTensor(),\n",
        "    transforms.Normalize((0.5, 0.5, 0.5), (0.5, 0.5, 0.5))\n",
        "    ])\n",
        "\n",
        "    client_dataset = ClientDataset(root_dir=root_dir, client_id=client_id, transform=transform)\n",
        "\n",
        "    train_size = int(0.8 * len(client_dataset))\n",
        "    test_size = len(client_dataset) - train_size\n",
        "\n",
        "    train_dataset, test_dataset = random_split(client_dataset, [train_size, test_size])\n",
        "\n",
        "    train_size = int(0.8 * len(train_dataset))\n",
        "    val_size = len(train_dataset) - train_size\n",
        "    train_dataset, val_dataset = random_split(train_dataset,[train_size,val_size])\n",
        "    trainloader = DataLoader(train_dataset, batch_size=BATCH_SIZE, shuffle=True)\n",
        "    valloader = DataLoader(val_dataset,batch_size=BATCH_SIZE,shuffle=False)\n",
        "    testloader = DataLoader(test_dataset, batch_size=BATCH_SIZE, shuffle=False)\n",
        "\n",
        "    return trainloader,valloader,testloader\n",
        "\n",
        "\n"
      ],
      "metadata": {
        "id": "d7XYNHEqMzYY"
      },
      "execution_count": 10,
      "outputs": []
    },
    {
      "cell_type": "code",
      "source": [
        "## Defines the neural network architecture that would be used by all the clients\n",
        "class Net(nn.Module):\n",
        "    def __init__(self):\n",
        "        super(Net, self).__init__()\n",
        "        # convolutional layer (sees 32x32x3 image tensor)\n",
        "        self.conv1 = nn.Conv2d(3, 16, 3, padding=1)\n",
        "        # convolutional layer (sees 16x16x16 tensor)\n",
        "        self.conv2 = nn.Conv2d(16, 32, 3, padding=1)\n",
        "        # convolutional layer (sees 8x8x32 tensor)\n",
        "        self.conv3 = nn.Conv2d(32, 64, 3, padding=1)\n",
        "        # max pooling layer\n",
        "        self.pool = nn.MaxPool2d(2, 2)\n",
        "        # linear layer (64 * 4 * 4 -> 500)\n",
        "        self.fc1 = nn.Linear(64 * 4 * 4, 500)\n",
        "        # linear layer (500 -> 10)\n",
        "        self.fc2 = nn.Linear(500, 10)\n",
        "        # dropout layer (p=0.25)\n",
        "        self.dropout = nn.Dropout(0.25)\n",
        "\n",
        "    def forward(self, x):\n",
        "        # add sequence of convolutional and max pooling layers\n",
        "        x = self.pool(F.relu(self.conv1(x)))\n",
        "        x = self.pool(F.relu(self.conv2(x)))\n",
        "        x = self.pool(F.relu(self.conv3(x)))\n",
        "        # flatten image input\n",
        "        x = x.view(-1, 64 * 4 * 4)\n",
        "        # add dropout layer\n",
        "        x = self.dropout(x)\n",
        "        # add 1st hidden layer, with relu activation function\n",
        "        x = F.relu(self.fc1(x))\n",
        "        # add dropout layer\n",
        "        x = self.dropout(x)\n",
        "        # add 2nd hidden layer, with relu activation function\n",
        "        x = self.fc2(x)\n",
        "        return x"
      ],
      "metadata": {
        "id": "p-iIHxgLM3Hn"
      },
      "execution_count": 11,
      "outputs": []
    },
    {
      "cell_type": "code",
      "source": [
        "import torch.optim as optim"
      ],
      "metadata": {
        "id": "14DpbdpeqRTn"
      },
      "execution_count": 12,
      "outputs": []
    },
    {
      "cell_type": "code",
      "source": [
        "# Train and Test functions that are used by clients fit and evaluate methods\n",
        "def train(net, trainloader, epochs: int, verbose=False):\n",
        "    \"\"\"Train the network on the training set.\"\"\"\n",
        "    criterion = torch.nn.CrossEntropyLoss()\n",
        "    optimizer = optim.SGD(net.parameters(), lr=0.01)\n",
        "    net.train()\n",
        "    for epoch in range(epochs):\n",
        "        correct, total, epoch_loss = 0, 0, 0.0\n",
        "        for batch in trainloader:\n",
        "            images, labels = batch\n",
        "            optimizer.zero_grad()\n",
        "            outputs = net(images)\n",
        "            loss = criterion(outputs, labels)\n",
        "            loss.backward()\n",
        "            optimizer.step()\n",
        "            # Metrics\n",
        "            epoch_loss += loss.item()*labels.size(0)\n",
        "            total += labels.size(0)\n",
        "            correct += (torch.max(outputs.data, 1)[1] == labels).sum().item()\n",
        "        epoch_loss /= len(trainloader.dataset)\n",
        "        epoch_acc = correct / total\n",
        "        if verbose:\n",
        "            print(f\"Epoch {epoch+1}: train loss {epoch_loss}, accuracy {epoch_acc}\")\n",
        "\n",
        "\n",
        "def test(net, testloader):\n",
        "    \"\"\"Evaluate the network on the entire test set.\"\"\"\n",
        "    criterion = torch.nn.CrossEntropyLoss()\n",
        "    correct, total, loss = 0, 0, 0.0\n",
        "    net.eval()\n",
        "    with torch.no_grad():\n",
        "        for batch in testloader:\n",
        "            images, labels = batch\n",
        "            outputs = net(images)\n",
        "            loss += criterion(outputs, labels).item()*labels.size(0)\n",
        "            _, predicted = torch.max(outputs.data, 1)\n",
        "            total += labels.size(0)\n",
        "            correct += (predicted == labels).sum().item()\n",
        "    loss /= len(testloader.dataset)\n",
        "    accuracy = correct / total\n",
        "\n",
        "    return loss, accuracy"
      ],
      "metadata": {
        "id": "eWo-Oeb9M_Nb"
      },
      "execution_count": 13,
      "outputs": []
    },
    {
      "cell_type": "code",
      "source": [
        "# Functions to get and set parameters for the model on clients\n",
        "def set_parameters(net, parameters: List[np.ndarray]):\n",
        "    params_dict = zip(net.state_dict().keys(), parameters)\n",
        "    state_dict = OrderedDict({k: torch.Tensor(v) for k, v in params_dict})\n",
        "    net.load_state_dict(state_dict, strict=True)\n",
        "\n",
        "\n",
        "def get_parameters(net) -> List[np.ndarray]:\n",
        "    return [val.cpu().numpy() for _, val in net.state_dict().items()]"
      ],
      "metadata": {
        "id": "WZTerUDoNbub"
      },
      "execution_count": 14,
      "outputs": []
    },
    {
      "cell_type": "code",
      "source": [
        "# Global dictionaries to track the metrics across rounds for each client\n",
        "accuracy_per_client_per_round = {}\n",
        "loss_per_client_per_round = {}"
      ],
      "metadata": {
        "id": "v1yMaBRoNdN_"
      },
      "execution_count": 15,
      "outputs": []
    },
    {
      "cell_type": "code",
      "source": [
        "# Defines a flower client class\n",
        "class FlowerClient(NumPyClient):\n",
        "    def __init__(self, net, trainloader, valloader,partitionId):\n",
        "        self.net = net\n",
        "        self.trainloader = trainloader\n",
        "        self.valloader = valloader\n",
        "        self.id = partitionId\n",
        "        self.metrics_list = []\n",
        "\n",
        "    def get_parameters(self, config):\n",
        "        return get_parameters(self.net)\n",
        "\n",
        "    def fit(self, parameters, config):\n",
        "        set_parameters(self.net, parameters)\n",
        "        train(self.net, self.trainloader, epochs=1)\n",
        "        return get_parameters(self.net), len(self.trainloader), {}\n",
        "\n",
        "    def evaluate(self, parameters, config):\n",
        "        set_parameters(self.net, parameters)\n",
        "        loss, accuracy = test(self.net, self.valloader)\n",
        "        self.metrics_list.append((loss,accuracy))\n",
        "        return float(loss), len(self.valloader), {\"accuracy\": float(accuracy),\"loss\": float(loss),\"partition\":str(self.id)}"
      ],
      "metadata": {
        "id": "lsHqbckqNfKX"
      },
      "execution_count": 16,
      "outputs": []
    },
    {
      "cell_type": "code",
      "source": [
        "## A global cache to store the clients\n",
        "clients_cache = {}"
      ],
      "metadata": {
        "id": "7Na88EsZexj2"
      },
      "execution_count": 17,
      "outputs": []
    },
    {
      "cell_type": "code",
      "source": [
        "# Function to create clients that will passed to the simulation so that the server can create clients as required\n",
        "def client_fn(context: Context) -> Client:\n",
        "    \"\"\"Create a Flower client representing a single organization.\"\"\"\n",
        "\n",
        "    # Load model\n",
        "    net = Net().to(DEVICE)\n",
        "\n",
        "    # Load data (CIFAR-10)\n",
        "    # Note: each client gets a different trainloader/valloader, so each client\n",
        "    # will train and evaluate on their own unique data partition\n",
        "    # Read the node_config to fetch data partition associated to this node\n",
        "    partition_id = context.node_config[\"partition-id\"]\n",
        "    if partition_id not in clients_cache:\n",
        "      trainloader, valloader, _ = load_datasets(partition_id=partition_id)\n",
        "      clients_cache[partition_id] = FlowerClient(net, trainloader, valloader,partition_id).to_client()\n",
        "\n",
        "    # Create a single Flower client representing a single organization\n",
        "    # FlowerClient is a subclass of NumPyClient, so we need to call .to_client()\n",
        "    # to convert it to a subclass of `flwr.client.Client`\n",
        "    return clients_cache[partition_id]\n",
        "\n",
        "\n",
        "# Create the ClientApp\n",
        "client = ClientApp(client_fn=client_fn)"
      ],
      "metadata": {
        "id": "tH3c2uzUNg5I"
      },
      "execution_count": 18,
      "outputs": []
    },
    {
      "cell_type": "code",
      "source": [
        "# Custom Strategy Class to store metrics for each round into the global dictonaries\n",
        "from flwr.server.strategy import FedAvg\n",
        "\n",
        "class CustomStrategy(FedAvg):\n",
        "  def aggregate_evaluate(self,rnd,results,failure):\n",
        "    if failure:\n",
        "      print(f\"Round {rnd} had {len(failure)} failures\")\n",
        "    accuracy_list = [r.metrics[\"accuracy\"] for _, r in results]\n",
        "\n",
        "    for _,r in results:\n",
        "      if r.metrics[\"partition\"] not in accuracy_per_client_per_round:\n",
        "        accuracy_per_client_per_round[r.metrics[\"partition\"]] = []\n",
        "      accuracy_per_client_per_round[r.metrics[\"partition\"]].append((rnd,r.metrics[\"accuracy\"]))\n",
        "      if r.metrics[\"partition\"] not in loss_per_client_per_round:\n",
        "        loss_per_client_per_round[r.metrics[\"partition\"]] =[]\n",
        "      loss_per_client_per_round[r.metrics[\"partition\"]].append((rnd,r.metrics[\"loss\"]))\n",
        "\n",
        "    average_accuracy = sum(accuracy_list) / len(accuracy_list)\n",
        "    print(f\"Round {rnd} accuracy: {average_accuracy}\")\n",
        "    print(f\"Accuracy List for Round {rnd} : {accuracy_list}\")\n",
        "\n",
        "\n",
        "    return super().aggregate_evaluate(rnd, results, failure)"
      ],
      "metadata": {
        "id": "hv0SY3zWNiYa"
      },
      "execution_count": 19,
      "outputs": []
    },
    {
      "cell_type": "code",
      "source": [
        "# Specify the resources each of your clients need\n",
        "# By default, each client will be allocated 1x CPU and 0x GPUs\n",
        "backend_config = {\"client_resources\": {\"num_cpus\": 1, \"num_gpus\": 0.0}}\n",
        "\n",
        "if DEVICE.type == \"cuda\":\n",
        "    backend_config = {\"client_resources\": {\"num_cpus\": 1, \"num_gpus\": 1.0}}"
      ],
      "metadata": {
        "id": "nihJF0dANj0S"
      },
      "execution_count": 20,
      "outputs": []
    },
    {
      "cell_type": "code",
      "source": [
        "# Global list for storing aggreagated metric\n",
        "aggregate_metric_list = []"
      ],
      "metadata": {
        "id": "qXfqJtSBfETC"
      },
      "execution_count": 21,
      "outputs": []
    },
    {
      "cell_type": "code",
      "source": [
        "# Function that calculates the average loss and accuracy\n",
        "def weighted_average(metrics: List[Tuple[int, Metrics]]) -> Metrics:\n",
        "    # Multiply accuracy of each client by number of examples used\n",
        "    accuracies = [num_examples * m[\"accuracy\"] for num_examples, m in metrics]\n",
        "    losses = [num_examples * m[\"loss\"] for num_examples, m in metrics]  # For weighted loss\n",
        "    examples = [num_examples for num_examples, _ in metrics]\n",
        "    accuracy = sum(accuracies) / sum(examples)\n",
        "    loss = sum(losses) / sum(examples)\n",
        "    aggregate_metric_list.append({\"accuracy\": accuracy, \"loss\": loss})\n",
        "    # Aggregate and return custom metric (weighted average)\n",
        "    return {\"accuracy\": accuracy, \"loss\": loss}"
      ],
      "metadata": {
        "id": "zVQX8cSnNpix"
      },
      "execution_count": 22,
      "outputs": []
    },
    {
      "cell_type": "code",
      "source": [
        "# Function that creates the Server object contains the Custom Stategy mentioned above\n",
        "def server_fn(context: Context) -> ServerAppComponents:\n",
        "    \"\"\"Construct components that set the ServerApp behaviour.\n",
        "    \"\"\"\n",
        "\n",
        "    strategy = CustomStrategy(\n",
        "        fraction_fit=1.0,\n",
        "        fraction_evaluate=1.0,\n",
        "        min_fit_clients=10,\n",
        "        min_evaluate_clients=10,\n",
        "        min_available_clients=10,\n",
        "        evaluate_metrics_aggregation_fn=weighted_average,  # <-- pass the metric aggregation function\n",
        "    )\n",
        "\n",
        "    # Configure the server for 100 rounds of training\n",
        "    config = ServerConfig(num_rounds=100)\n",
        "\n",
        "    return ServerAppComponents(strategy=strategy, config=config)"
      ],
      "metadata": {
        "id": "5_uAupvYNq6O"
      },
      "execution_count": 23,
      "outputs": []
    },
    {
      "cell_type": "code",
      "source": [
        "# Running the simulation\n",
        "import os\n",
        "os.environ[\"RAY_DEDUP_LOGS\"] = \"0\"\n",
        "\n",
        "# Create a new server instance with the updated FedAvg strategy\n",
        "server = ServerApp(server_fn=server_fn)\n",
        "\n",
        "# Run simulation\n",
        "run_simulation(\n",
        "    server_app=server,\n",
        "    client_app=client,\n",
        "    num_supernodes=NUM_CLIENTS,\n",
        "    backend_config=backend_config,\n",
        ")\n",
        "\n",
        "print(accuracy_per_client_per_round)\n",
        "print(loss_per_client_per_round)\n",
        "print(aggregate_metric_list)"
      ],
      "metadata": {
        "colab": {
          "base_uri": "https://localhost:8080/"
        },
        "id": "oip4QFlzNsc5",
        "outputId": "7ffe343f-f4cd-4a37-982a-0dac7dd6ba8f",
        "collapsed": true
      },
      "execution_count": 24,
      "outputs": [
        {
          "output_type": "stream",
          "name": "stderr",
          "text": [
            "DEBUG:flwr:Asyncio event loop already running.\n",
            "\u001b[92mINFO \u001b[0m:      Starting Flower ServerApp, config: num_rounds=100, no round_timeout\n",
            "\u001b[92mINFO \u001b[0m:      \n",
            "\u001b[92mINFO \u001b[0m:      [INIT]\n",
            "\u001b[92mINFO \u001b[0m:      Requesting initial parameters from one random client\n",
            "\u001b[36m(pid=2064)\u001b[0m 2024-10-15 23:47:22.130876: E external/local_xla/xla/stream_executor/cuda/cuda_fft.cc:485] Unable to register cuFFT factory: Attempting to register factory for plugin cuFFT when one has already been registered\n",
            "\u001b[36m(pid=2064)\u001b[0m 2024-10-15 23:47:22.214978: E external/local_xla/xla/stream_executor/cuda/cuda_dnn.cc:8454] Unable to register cuDNN factory: Attempting to register factory for plugin cuDNN when one has already been registered\n",
            "\u001b[36m(pid=2064)\u001b[0m 2024-10-15 23:47:22.248748: E external/local_xla/xla/stream_executor/cuda/cuda_blas.cc:1452] Unable to register cuBLAS factory: Attempting to register factory for plugin cuBLAS when one has already been registered\n",
            "\u001b[36m(pid=2064)\u001b[0m 2024-10-15 23:47:24.499198: W tensorflow/compiler/tf2tensorrt/utils/py_utils.cc:38] TF-TRT Warning: Could not find TensorRT\n",
            "\u001b[92mINFO \u001b[0m:      Received initial parameters from one random client\n",
            "\u001b[92mINFO \u001b[0m:      Starting evaluation of initial global parameters\n",
            "\u001b[92mINFO \u001b[0m:      Evaluation returned no results (`None`)\n",
            "\u001b[92mINFO \u001b[0m:      \n",
            "\u001b[92mINFO \u001b[0m:      [ROUND 1]\n",
            "\u001b[92mINFO \u001b[0m:      configure_fit: strategy sampled 10 clients (out of 10)\n",
            "\u001b[92mINFO \u001b[0m:      aggregate_fit: received 10 results and 0 failures\n",
            "\u001b[93mWARNING \u001b[0m:   No fit_metrics_aggregation_fn provided\n",
            "\u001b[92mINFO \u001b[0m:      configure_evaluate: strategy sampled 10 clients (out of 10)\n",
            "\u001b[92mINFO \u001b[0m:      aggregate_evaluate: received 10 results and 0 failures\n",
            "\u001b[92mINFO \u001b[0m:      \n",
            "\u001b[92mINFO \u001b[0m:      [ROUND 2]\n",
            "\u001b[92mINFO \u001b[0m:      configure_fit: strategy sampled 10 clients (out of 10)\n"
          ]
        },
        {
          "output_type": "stream",
          "name": "stdout",
          "text": [
            "Round 1 accuracy: 0.10740151576905403\n",
            "Accuracy List for Round 1 : [0.12021857923497267, 0.12044534412955465, 0.10899470899470899, 0.12796697626418987, 0.10961737331954498, 0.0950920245398773, 0.08981380065717415, 0.09478168264110756, 0.10618556701030928, 0.1008991008991009]\n"
          ]
        },
        {
          "output_type": "stream",
          "name": "stderr",
          "text": [
            "\u001b[92mINFO \u001b[0m:      aggregate_fit: received 10 results and 0 failures\n",
            "\u001b[92mINFO \u001b[0m:      configure_evaluate: strategy sampled 10 clients (out of 10)\n",
            "\u001b[92mINFO \u001b[0m:      aggregate_evaluate: received 10 results and 0 failures\n",
            "\u001b[92mINFO \u001b[0m:      \n",
            "\u001b[92mINFO \u001b[0m:      [ROUND 3]\n",
            "\u001b[92mINFO \u001b[0m:      configure_fit: strategy sampled 10 clients (out of 10)\n"
          ]
        },
        {
          "output_type": "stream",
          "name": "stdout",
          "text": [
            "Round 2 accuracy: 0.11523267787460453\n",
            "Accuracy List for Round 2 : [0.091005291005291, 0.10237849017580145, 0.10117145899893504, 0.1134020618556701, 0.14098360655737704, 0.12280701754385964, 0.1114519427402863, 0.08652792990142388, 0.14473684210526316, 0.13786213786213786]\n"
          ]
        },
        {
          "output_type": "stream",
          "name": "stderr",
          "text": [
            "\u001b[92mINFO \u001b[0m:      aggregate_fit: received 10 results and 0 failures\n",
            "\u001b[92mINFO \u001b[0m:      configure_evaluate: strategy sampled 10 clients (out of 10)\n",
            "\u001b[92mINFO \u001b[0m:      aggregate_evaluate: received 10 results and 0 failures\n",
            "\u001b[92mINFO \u001b[0m:      \n",
            "\u001b[92mINFO \u001b[0m:      [ROUND 4]\n",
            "\u001b[92mINFO \u001b[0m:      configure_fit: strategy sampled 10 clients (out of 10)\n"
          ]
        },
        {
          "output_type": "stream",
          "name": "stdout",
          "text": [
            "Round 3 accuracy: 0.11073030893472842\n",
            "Accuracy List for Round 3 : [0.09720785935884178, 0.10103092783505155, 0.10582010582010581, 0.13765182186234817, 0.1028971028971029, 0.12693498452012383, 0.09918200408997956, 0.14754098360655737, 0.0926517571884984, 0.0963855421686747]\n"
          ]
        },
        {
          "output_type": "stream",
          "name": "stderr",
          "text": [
            "\u001b[92mINFO \u001b[0m:      aggregate_fit: received 10 results and 0 failures\n",
            "\u001b[92mINFO \u001b[0m:      configure_evaluate: strategy sampled 10 clients (out of 10)\n",
            "\u001b[92mINFO \u001b[0m:      aggregate_evaluate: received 10 results and 0 failures\n",
            "\u001b[92mINFO \u001b[0m:      \n",
            "\u001b[92mINFO \u001b[0m:      [ROUND 5]\n",
            "\u001b[92mINFO \u001b[0m:      configure_fit: strategy sampled 10 clients (out of 10)\n"
          ]
        },
        {
          "output_type": "stream",
          "name": "stdout",
          "text": [
            "Round 4 accuracy: 0.13220881027396544\n",
            "Accuracy List for Round 4 : [0.12576687116564417, 0.11534391534391535, 0.13960703205791106, 0.18688524590163935, 0.1396761133603239, 0.12796697626418987, 0.12566560170394037, 0.1258741258741259, 0.10952902519167579, 0.12577319587628866]\n"
          ]
        },
        {
          "output_type": "stream",
          "name": "stderr",
          "text": [
            "\u001b[92mINFO \u001b[0m:      aggregate_fit: received 10 results and 0 failures\n",
            "\u001b[92mINFO \u001b[0m:      configure_evaluate: strategy sampled 10 clients (out of 10)\n",
            "\u001b[92mINFO \u001b[0m:      aggregate_evaluate: received 10 results and 0 failures\n",
            "\u001b[92mINFO \u001b[0m:      \n",
            "\u001b[92mINFO \u001b[0m:      [ROUND 6]\n",
            "\u001b[92mINFO \u001b[0m:      configure_fit: strategy sampled 10 clients (out of 10)\n"
          ]
        },
        {
          "output_type": "stream",
          "name": "stdout",
          "text": [
            "Round 5 accuracy: 0.16410920865643636\n",
            "Accuracy List for Round 5 : [0.21092896174863388, 0.17956656346749225, 0.15384615384615385, 0.16856256463288521, 0.164021164021164, 0.17791411042944785, 0.09419496166484119, 0.15228966986155484, 0.1902834008097166, 0.14948453608247422]\n"
          ]
        },
        {
          "output_type": "stream",
          "name": "stderr",
          "text": [
            "\u001b[92mINFO \u001b[0m:      aggregate_fit: received 10 results and 0 failures\n",
            "\u001b[92mINFO \u001b[0m:      configure_evaluate: strategy sampled 10 clients (out of 10)\n",
            "\u001b[92mINFO \u001b[0m:      aggregate_evaluate: received 10 results and 0 failures\n",
            "\u001b[92mINFO \u001b[0m:      \n",
            "\u001b[92mINFO \u001b[0m:      [ROUND 7]\n",
            "\u001b[92mINFO \u001b[0m:      configure_fit: strategy sampled 10 clients (out of 10)\n"
          ]
        },
        {
          "output_type": "stream",
          "name": "stdout",
          "text": [
            "Round 6 accuracy: 0.18406531654275696\n",
            "Accuracy List for Round 6 : [0.18200620475698034, 0.20330237358101136, 0.16825396825396827, 0.18210862619808307, 0.18969072164948453, 0.2034412955465587, 0.1928071928071928, 0.17893660531697342, 0.24153005464480876, 0.09857612267250822]\n"
          ]
        },
        {
          "output_type": "stream",
          "name": "stderr",
          "text": [
            "\u001b[92mINFO \u001b[0m:      aggregate_fit: received 10 results and 0 failures\n",
            "\u001b[92mINFO \u001b[0m:      configure_evaluate: strategy sampled 10 clients (out of 10)\n",
            "\u001b[92mINFO \u001b[0m:      aggregate_evaluate: received 10 results and 0 failures\n",
            "\u001b[92mINFO \u001b[0m:      \n",
            "\u001b[92mINFO \u001b[0m:      [ROUND 8]\n",
            "\u001b[92mINFO \u001b[0m:      configure_fit: strategy sampled 10 clients (out of 10)\n"
          ]
        },
        {
          "output_type": "stream",
          "name": "stdout",
          "text": [
            "Round 7 accuracy: 0.1946473334831325\n",
            "Accuracy List for Round 7 : [0.18453608247422681, 0.21938232161874335, 0.09748083242059145, 0.1998001998001998, 0.20245398773006135, 0.1902834008097166, 0.19648397104446744, 0.22394220846233232, 0.2448087431693989, 0.1873015873015873]\n"
          ]
        },
        {
          "output_type": "stream",
          "name": "stderr",
          "text": [
            "\u001b[92mINFO \u001b[0m:      aggregate_fit: received 10 results and 0 failures\n",
            "\u001b[92mINFO \u001b[0m:      configure_evaluate: strategy sampled 10 clients (out of 10)\n",
            "\u001b[92mINFO \u001b[0m:      aggregate_evaluate: received 10 results and 0 failures\n",
            "\u001b[92mINFO \u001b[0m:      \n",
            "\u001b[92mINFO \u001b[0m:      [ROUND 9]\n",
            "\u001b[92mINFO \u001b[0m:      configure_fit: strategy sampled 10 clients (out of 10)\n"
          ]
        },
        {
          "output_type": "stream",
          "name": "stdout",
          "text": [
            "Round 8 accuracy: 0.1858263866779483\n",
            "Accuracy List for Round 8 : [0.18636847710330137, 0.1925925925925926, 0.23825136612021858, 0.2047569803516029, 0.18302658486707565, 0.19484536082474227, 0.16983016983016982, 0.1811740890688259, 0.20227038183694532, 0.10514786418400876]\n"
          ]
        },
        {
          "output_type": "stream",
          "name": "stderr",
          "text": [
            "\u001b[92mINFO \u001b[0m:      aggregate_fit: received 10 results and 0 failures\n",
            "\u001b[92mINFO \u001b[0m:      configure_evaluate: strategy sampled 10 clients (out of 10)\n",
            "\u001b[92mINFO \u001b[0m:      aggregate_evaluate: received 10 results and 0 failures\n",
            "\u001b[92mINFO \u001b[0m:      \n",
            "\u001b[92mINFO \u001b[0m:      [ROUND 10]\n",
            "\u001b[92mINFO \u001b[0m:      configure_fit: strategy sampled 10 clients (out of 10)\n"
          ]
        },
        {
          "output_type": "stream",
          "name": "stdout",
          "text": [
            "Round 9 accuracy: 0.20882112169112532\n",
            "Accuracy List for Round 9 : [0.2326783867631851, 0.22044728434504793, 0.24918032786885247, 0.08433734939759036, 0.21855670103092784, 0.22773279352226722, 0.19120654396728015, 0.2260061919504644, 0.21478521478521478, 0.22328042328042327]\n"
          ]
        },
        {
          "output_type": "stream",
          "name": "stderr",
          "text": [
            "\u001b[92mINFO \u001b[0m:      aggregate_fit: received 10 results and 0 failures\n",
            "\u001b[92mINFO \u001b[0m:      configure_evaluate: strategy sampled 10 clients (out of 10)\n",
            "\u001b[92mINFO \u001b[0m:      aggregate_evaluate: received 10 results and 0 failures\n",
            "\u001b[92mINFO \u001b[0m:      \n",
            "\u001b[92mINFO \u001b[0m:      [ROUND 11]\n",
            "\u001b[92mINFO \u001b[0m:      configure_fit: strategy sampled 10 clients (out of 10)\n"
          ]
        },
        {
          "output_type": "stream",
          "name": "stdout",
          "text": [
            "Round 10 accuracy: 0.21982507915471938\n",
            "Accuracy List for Round 10 : [0.22497420020639836, 0.23517382413087934, 0.2481902792140641, 0.24262295081967214, 0.24845360824742269, 0.2328042328042328, 0.23276723276723277, 0.2268370607028754, 0.22975708502024292, 0.07667031763417305]\n"
          ]
        },
        {
          "output_type": "stream",
          "name": "stderr",
          "text": [
            "\u001b[92mINFO \u001b[0m:      aggregate_fit: received 10 results and 0 failures\n",
            "\u001b[92mINFO \u001b[0m:      configure_evaluate: strategy sampled 10 clients (out of 10)\n",
            "\u001b[92mINFO \u001b[0m:      aggregate_evaluate: received 10 results and 0 failures\n",
            "\u001b[92mINFO \u001b[0m:      \n",
            "\u001b[92mINFO \u001b[0m:      [ROUND 12]\n",
            "\u001b[92mINFO \u001b[0m:      configure_fit: strategy sampled 10 clients (out of 10)\n"
          ]
        },
        {
          "output_type": "stream",
          "name": "stdout",
          "text": [
            "Round 11 accuracy: 0.22127702578979624\n",
            "Accuracy List for Round 11 : [0.2222222222222222, 0.22577422577422576, 0.07338444687842278, 0.26666666666666666, 0.23917525773195877, 0.23681489141675285, 0.21153846153846154, 0.24920127795527156, 0.23721881390593047, 0.25077399380804954]\n"
          ]
        },
        {
          "output_type": "stream",
          "name": "stderr",
          "text": [
            "\u001b[92mINFO \u001b[0m:      aggregate_fit: received 10 results and 0 failures\n",
            "\u001b[92mINFO \u001b[0m:      configure_evaluate: strategy sampled 10 clients (out of 10)\n",
            "\u001b[92mINFO \u001b[0m:      aggregate_evaluate: received 10 results and 0 failures\n",
            "\u001b[92mINFO \u001b[0m:      \n",
            "\u001b[92mINFO \u001b[0m:      [ROUND 13]\n",
            "\u001b[92mINFO \u001b[0m:      configure_fit: strategy sampled 10 clients (out of 10)\n"
          ]
        },
        {
          "output_type": "stream",
          "name": "stdout",
          "text": [
            "Round 12 accuracy: 0.2350703163232532\n",
            "Accuracy List for Round 12 : [0.2566560170394036, 0.2328042328042328, 0.24846625766871167, 0.2388663967611336, 0.2533609100310238, 0.27759562841530055, 0.08762322015334063, 0.24475524475524477, 0.2579979360165119, 0.25257731958762886]\n"
          ]
        },
        {
          "output_type": "stream",
          "name": "stderr",
          "text": [
            "\u001b[92mINFO \u001b[0m:      aggregate_fit: received 10 results and 0 failures\n",
            "\u001b[92mINFO \u001b[0m:      configure_evaluate: strategy sampled 10 clients (out of 10)\n",
            "\u001b[92mINFO \u001b[0m:      aggregate_evaluate: received 10 results and 0 failures\n",
            "\u001b[92mINFO \u001b[0m:      \n",
            "\u001b[92mINFO \u001b[0m:      [ROUND 14]\n",
            "\u001b[92mINFO \u001b[0m:      configure_fit: strategy sampled 10 clients (out of 10)\n"
          ]
        },
        {
          "output_type": "stream",
          "name": "stdout",
          "text": [
            "Round 13 accuracy: 0.24517849080631224\n",
            "Accuracy List for Round 13 : [0.0832420591456736, 0.2939890710382514, 0.2607361963190184, 0.2673056443024494, 0.26173826173826176, 0.25077399380804954, 0.2564632885211996, 0.26082474226804125, 0.24444444444444444, 0.2722672064777328]\n"
          ]
        },
        {
          "output_type": "stream",
          "name": "stderr",
          "text": [
            "\u001b[92mINFO \u001b[0m:      aggregate_fit: received 10 results and 0 failures\n",
            "\u001b[92mINFO \u001b[0m:      configure_evaluate: strategy sampled 10 clients (out of 10)\n",
            "\u001b[92mINFO \u001b[0m:      aggregate_evaluate: received 10 results and 0 failures\n",
            "\u001b[92mINFO \u001b[0m:      \n",
            "\u001b[92mINFO \u001b[0m:      [ROUND 15]\n",
            "\u001b[92mINFO \u001b[0m:      configure_fit: strategy sampled 10 clients (out of 10)\n"
          ]
        },
        {
          "output_type": "stream",
          "name": "stdout",
          "text": [
            "Round 14 accuracy: 0.2496337446498001\n",
            "Accuracy List for Round 14 : [0.25077399380804954, 0.27319587628865977, 0.2754098360655738, 0.2520242914979757, 0.08543263964950712, 0.2727272727272727, 0.2687830687830688, 0.2792140641158221, 0.28008519701810436, 0.25869120654396727]\n"
          ]
        },
        {
          "output_type": "stream",
          "name": "stderr",
          "text": [
            "\u001b[92mINFO \u001b[0m:      aggregate_fit: received 10 results and 0 failures\n",
            "\u001b[92mINFO \u001b[0m:      configure_evaluate: strategy sampled 10 clients (out of 10)\n",
            "\u001b[92mINFO \u001b[0m:      aggregate_evaluate: received 10 results and 0 failures\n",
            "\u001b[92mINFO \u001b[0m:      \n",
            "\u001b[92mINFO \u001b[0m:      [ROUND 16]\n",
            "\u001b[92mINFO \u001b[0m:      configure_fit: strategy sampled 10 clients (out of 10)\n"
          ]
        },
        {
          "output_type": "stream",
          "name": "stdout",
          "text": [
            "Round 15 accuracy: 0.25832712195616525\n",
            "Accuracy List for Round 15 : [0.2807017543859649, 0.2965235173824131, 0.3035143769968051, 0.060240963855421686, 0.3005464480874317, 0.2761904761904762, 0.26288659793814434, 0.2564632885211996, 0.28846153846153844, 0.25774225774225773]\n"
          ]
        },
        {
          "output_type": "stream",
          "name": "stderr",
          "text": [
            "\u001b[92mINFO \u001b[0m:      aggregate_fit: received 10 results and 0 failures\n",
            "\u001b[92mINFO \u001b[0m:      configure_evaluate: strategy sampled 10 clients (out of 10)\n",
            "\u001b[92mINFO \u001b[0m:      aggregate_evaluate: received 10 results and 0 failures\n",
            "\u001b[92mINFO \u001b[0m:      \n",
            "\u001b[92mINFO \u001b[0m:      [ROUND 17]\n",
            "\u001b[92mINFO \u001b[0m:      configure_fit: strategy sampled 10 clients (out of 10)\n"
          ]
        },
        {
          "output_type": "stream",
          "name": "stdout",
          "text": [
            "Round 16 accuracy: 0.2709504204155054\n",
            "Accuracy List for Round 16 : [0.294478527607362, 0.2905894519131334, 0.2670103092783505, 0.3224043715846995, 0.28036437246963564, 0.28647497337593186, 0.27972027972027974, 0.08762322015334063, 0.30052910052910053, 0.30030959752321984]\n"
          ]
        },
        {
          "output_type": "stream",
          "name": "stderr",
          "text": [
            "\u001b[92mINFO \u001b[0m:      aggregate_fit: received 10 results and 0 failures\n",
            "\u001b[92mINFO \u001b[0m:      configure_evaluate: strategy sampled 10 clients (out of 10)\n",
            "\u001b[92mINFO \u001b[0m:      aggregate_evaluate: received 10 results and 0 failures\n",
            "\u001b[92mINFO \u001b[0m:      \n",
            "\u001b[92mINFO \u001b[0m:      [ROUND 18]\n",
            "\u001b[92mINFO \u001b[0m:      configure_fit: strategy sampled 10 clients (out of 10)\n"
          ]
        },
        {
          "output_type": "stream",
          "name": "stdout",
          "text": [
            "Round 17 accuracy: 0.2795519908792373\n",
            "Accuracy List for Round 17 : [0.0832420591456736, 0.29947089947089944, 0.3188259109311741, 0.32349726775956283, 0.2965235173824131, 0.29690721649484536, 0.2832800851970181, 0.31682146542827655, 0.2967032967032967, 0.28024819027921405]\n"
          ]
        },
        {
          "output_type": "stream",
          "name": "stderr",
          "text": [
            "\u001b[92mINFO \u001b[0m:      aggregate_fit: received 10 results and 0 failures\n",
            "\u001b[92mINFO \u001b[0m:      configure_evaluate: strategy sampled 10 clients (out of 10)\n",
            "\u001b[92mINFO \u001b[0m:      aggregate_evaluate: received 10 results and 0 failures\n",
            "\u001b[92mINFO \u001b[0m:      \n",
            "\u001b[92mINFO \u001b[0m:      [ROUND 19]\n",
            "\u001b[92mINFO \u001b[0m:      configure_fit: strategy sampled 10 clients (out of 10)\n"
          ]
        },
        {
          "output_type": "stream",
          "name": "stdout",
          "text": [
            "Round 18 accuracy: 0.28047125961653807\n",
            "Accuracy List for Round 18 : [0.3097165991902834, 0.30879345603271985, 0.07667031763417305, 0.2988624612202689, 0.30515463917525776, 0.3037037037037037, 0.3366120218579235, 0.2951496388028896, 0.26973026973026976, 0.3003194888178914]\n"
          ]
        },
        {
          "output_type": "stream",
          "name": "stderr",
          "text": [
            "\u001b[92mINFO \u001b[0m:      aggregate_fit: received 10 results and 0 failures\n",
            "\u001b[92mINFO \u001b[0m:      configure_evaluate: strategy sampled 10 clients (out of 10)\n",
            "\u001b[92mINFO \u001b[0m:      aggregate_evaluate: received 10 results and 0 failures\n",
            "\u001b[92mINFO \u001b[0m:      \n",
            "\u001b[92mINFO \u001b[0m:      [ROUND 20]\n",
            "\u001b[92mINFO \u001b[0m:      configure_fit: strategy sampled 10 clients (out of 10)\n"
          ]
        },
        {
          "output_type": "stream",
          "name": "stdout",
          "text": [
            "Round 19 accuracy: 0.2919002646490442\n",
            "Accuracy List for Round 19 : [0.2708994708994709, 0.31954498448810753, 0.30412371134020616, 0.31901840490797545, 0.06790799561883899, 0.3184238551650692, 0.3196803196803197, 0.3137254901960784, 0.33704453441295545, 0.34863387978142074]\n"
          ]
        },
        {
          "output_type": "stream",
          "name": "stderr",
          "text": [
            "\u001b[92mINFO \u001b[0m:      aggregate_fit: received 10 results and 0 failures\n",
            "\u001b[92mINFO \u001b[0m:      configure_evaluate: strategy sampled 10 clients (out of 10)\n",
            "\u001b[92mINFO \u001b[0m:      aggregate_evaluate: received 10 results and 0 failures\n",
            "\u001b[92mINFO \u001b[0m:      \n",
            "\u001b[92mINFO \u001b[0m:      [ROUND 21]\n",
            "\u001b[92mINFO \u001b[0m:      configure_fit: strategy sampled 10 clients (out of 10)\n"
          ]
        },
        {
          "output_type": "stream",
          "name": "stdout",
          "text": [
            "Round 20 accuracy: 0.31024759233169713\n",
            "Accuracy List for Round 20 : [0.3016983016983017, 0.3164426059979317, 0.34185303514376997, 0.32783505154639175, 0.3343915343915344, 0.33026584867075665, 0.33805668016194335, 0.3560371517027864, 0.07228915662650602, 0.3836065573770492]\n"
          ]
        },
        {
          "output_type": "stream",
          "name": "stderr",
          "text": [
            "\u001b[92mINFO \u001b[0m:      aggregate_fit: received 10 results and 0 failures\n",
            "\u001b[92mINFO \u001b[0m:      configure_evaluate: strategy sampled 10 clients (out of 10)\n",
            "\u001b[92mINFO \u001b[0m:      aggregate_evaluate: received 10 results and 0 failures\n",
            "\u001b[92mINFO \u001b[0m:      \n",
            "\u001b[92mINFO \u001b[0m:      [ROUND 22]\n",
            "\u001b[92mINFO \u001b[0m:      configure_fit: strategy sampled 10 clients (out of 10)\n"
          ]
        },
        {
          "output_type": "stream",
          "name": "stdout",
          "text": [
            "Round 21 accuracy: 0.2973674955930742\n",
            "Accuracy List for Round 21 : [0.31629392971246006, 0.31230610134436404, 0.30959752321981426, 0.33844580777096117, 0.32268041237113404, 0.32894736842105265, 0.33266733266733267, 0.3442622950819672, 0.06900328587075576, 0.29947089947089944]\n"
          ]
        },
        {
          "output_type": "stream",
          "name": "stderr",
          "text": [
            "\u001b[92mINFO \u001b[0m:      aggregate_fit: received 10 results and 0 failures\n",
            "\u001b[92mINFO \u001b[0m:      configure_evaluate: strategy sampled 10 clients (out of 10)\n",
            "\u001b[92mINFO \u001b[0m:      aggregate_evaluate: received 10 results and 0 failures\n",
            "\u001b[92mINFO \u001b[0m:      \n",
            "\u001b[92mINFO \u001b[0m:      [ROUND 23]\n",
            "\u001b[92mINFO \u001b[0m:      configure_fit: strategy sampled 10 clients (out of 10)\n"
          ]
        },
        {
          "output_type": "stream",
          "name": "stdout",
          "text": [
            "Round 22 accuracy: 0.3135735806965169\n",
            "Accuracy List for Round 22 : [0.3152289669861555, 0.37486338797814206, 0.0887185104052574, 0.3292433537832311, 0.3216494845360825, 0.3185108583247156, 0.36133603238866396, 0.3336663336663337, 0.3570691434468524, 0.33544973544973544]\n"
          ]
        },
        {
          "output_type": "stream",
          "name": "stderr",
          "text": [
            "\u001b[92mINFO \u001b[0m:      aggregate_fit: received 10 results and 0 failures\n",
            "\u001b[92mINFO \u001b[0m:      configure_evaluate: strategy sampled 10 clients (out of 10)\n",
            "\u001b[92mINFO \u001b[0m:      aggregate_evaluate: received 10 results and 0 failures\n",
            "\u001b[92mINFO \u001b[0m:      \n",
            "\u001b[92mINFO \u001b[0m:      [ROUND 24]\n",
            "\u001b[92mINFO \u001b[0m:      configure_fit: strategy sampled 10 clients (out of 10)\n"
          ]
        },
        {
          "output_type": "stream",
          "name": "stdout",
          "text": [
            "Round 23 accuracy: 0.31025364529444344\n",
            "Accuracy List for Round 23 : [0.33704453441295545, 0.3507157464212679, 0.32783505154639175, 0.3396825396825397, 0.34262125902992774, 0.06462212486308871, 0.34165834165834164, 0.3154084798345398, 0.33759318423855167, 0.3453551912568306]\n"
          ]
        },
        {
          "output_type": "stream",
          "name": "stderr",
          "text": [
            "\u001b[92mINFO \u001b[0m:      aggregate_fit: received 10 results and 0 failures\n",
            "\u001b[92mINFO \u001b[0m:      configure_evaluate: strategy sampled 10 clients (out of 10)\n",
            "\u001b[92mINFO \u001b[0m:      aggregate_evaluate: received 10 results and 0 failures\n",
            "\u001b[92mINFO \u001b[0m:      \n",
            "\u001b[92mINFO \u001b[0m:      [ROUND 25]\n",
            "\u001b[92mINFO \u001b[0m:      configure_fit: strategy sampled 10 clients (out of 10)\n"
          ]
        },
        {
          "output_type": "stream",
          "name": "stdout",
          "text": [
            "Round 24 accuracy: 0.33961857970100245\n",
            "Accuracy List for Round 24 : [0.37321063394683024, 0.36429308565531476, 0.3752577319587629, 0.3765182186234818, 0.3578076525336091, 0.35364635364635366, 0.07338444687842278, 0.40327868852459015, 0.34285714285714286, 0.3759318423855165]\n"
          ]
        },
        {
          "output_type": "stream",
          "name": "stderr",
          "text": [
            "\u001b[92mINFO \u001b[0m:      aggregate_fit: received 10 results and 0 failures\n",
            "\u001b[92mINFO \u001b[0m:      configure_evaluate: strategy sampled 10 clients (out of 10)\n",
            "\u001b[92mINFO \u001b[0m:      aggregate_evaluate: received 10 results and 0 failures\n",
            "\u001b[92mINFO \u001b[0m:      \n",
            "\u001b[92mINFO \u001b[0m:      [ROUND 26]\n",
            "\u001b[92mINFO \u001b[0m:      configure_fit: strategy sampled 10 clients (out of 10)\n"
          ]
        },
        {
          "output_type": "stream",
          "name": "stdout",
          "text": [
            "Round 25 accuracy: 0.3451057440588585\n",
            "Accuracy List for Round 25 : [0.40327868852459015, 0.07776560788608981, 0.3706293706293706, 0.38650306748466257, 0.35343915343915344, 0.35360824742268043, 0.38866396761133604, 0.38802889576883387, 0.36918304033092036, 0.3599574014909478]\n"
          ]
        },
        {
          "output_type": "stream",
          "name": "stderr",
          "text": [
            "\u001b[92mINFO \u001b[0m:      aggregate_fit: received 10 results and 0 failures\n",
            "\u001b[92mINFO \u001b[0m:      configure_evaluate: strategy sampled 10 clients (out of 10)\n",
            "\u001b[92mINFO \u001b[0m:      aggregate_evaluate: received 10 results and 0 failures\n",
            "\u001b[92mINFO \u001b[0m:      \n",
            "\u001b[92mINFO \u001b[0m:      [ROUND 27]\n",
            "\u001b[92mINFO \u001b[0m:      configure_fit: strategy sampled 10 clients (out of 10)\n"
          ]
        },
        {
          "output_type": "stream",
          "name": "stdout",
          "text": [
            "Round 26 accuracy: 0.3315294808290429\n",
            "Accuracy List for Round 26 : [0.3785425101214575, 0.3439153439153439, 0.36635706914344685, 0.07119386637458927, 0.3397231096911608, 0.36391752577319586, 0.3588957055214724, 0.3628415300546448, 0.3422957600827301, 0.3876123876123876]\n"
          ]
        },
        {
          "output_type": "stream",
          "name": "stderr",
          "text": [
            "\u001b[92mINFO \u001b[0m:      aggregate_fit: received 10 results and 0 failures\n",
            "\u001b[92mINFO \u001b[0m:      configure_evaluate: strategy sampled 10 clients (out of 10)\n",
            "\u001b[92mINFO \u001b[0m:      aggregate_evaluate: received 10 results and 0 failures\n",
            "\u001b[92mINFO \u001b[0m:      \n",
            "\u001b[92mINFO \u001b[0m:      [ROUND 28]\n",
            "\u001b[92mINFO \u001b[0m:      configure_fit: strategy sampled 10 clients (out of 10)\n"
          ]
        },
        {
          "output_type": "stream",
          "name": "stdout",
          "text": [
            "Round 27 accuracy: 0.35470013124666655\n",
            "Accuracy List for Round 27 : [0.06462212486308871, 0.3958762886597938, 0.3815789473684211, 0.34814814814814815, 0.4273224043715847, 0.36297828335056875, 0.41411042944785276, 0.39009287925696595, 0.37462537462537465, 0.3876464323748669]\n"
          ]
        },
        {
          "output_type": "stream",
          "name": "stderr",
          "text": [
            "\u001b[92mINFO \u001b[0m:      aggregate_fit: received 10 results and 0 failures\n",
            "\u001b[92mINFO \u001b[0m:      configure_evaluate: strategy sampled 10 clients (out of 10)\n",
            "\u001b[92mINFO \u001b[0m:      aggregate_evaluate: received 10 results and 0 failures\n",
            "\u001b[92mINFO \u001b[0m:      \n",
            "\u001b[92mINFO \u001b[0m:      [ROUND 29]\n",
            "\u001b[92mINFO \u001b[0m:      configure_fit: strategy sampled 10 clients (out of 10)\n"
          ]
        },
        {
          "output_type": "stream",
          "name": "stdout",
          "text": [
            "Round 28 accuracy: 0.35525164995584213\n",
            "Accuracy List for Round 28 : [0.45027322404371584, 0.375387797311272, 0.3544973544973545, 0.39403620873269435, 0.36945304437564497, 0.37362637362637363, 0.3885480572597137, 0.38144329896907214, 0.3896761133603239, 0.0755750273822563]\n"
          ]
        },
        {
          "output_type": "stream",
          "name": "stderr",
          "text": [
            "\u001b[92mINFO \u001b[0m:      aggregate_fit: received 10 results and 0 failures\n",
            "\u001b[92mINFO \u001b[0m:      configure_evaluate: strategy sampled 10 clients (out of 10)\n",
            "\u001b[92mINFO \u001b[0m:      aggregate_evaluate: received 10 results and 0 failures\n",
            "\u001b[92mINFO \u001b[0m:      \n",
            "\u001b[92mINFO \u001b[0m:      [ROUND 30]\n",
            "\u001b[92mINFO \u001b[0m:      configure_fit: strategy sampled 10 clients (out of 10)\n"
          ]
        },
        {
          "output_type": "stream",
          "name": "stdout",
          "text": [
            "Round 29 accuracy: 0.37144962151205546\n",
            "Accuracy List for Round 29 : [0.36597938144329895, 0.45027322404371584, 0.40537745604963804, 0.4042328042328042, 0.06900328587075576, 0.4145854145854146, 0.409919028340081, 0.401840490797546, 0.40350877192982454, 0.38977635782747605]\n"
          ]
        },
        {
          "output_type": "stream",
          "name": "stderr",
          "text": [
            "\u001b[92mINFO \u001b[0m:      aggregate_fit: received 10 results and 0 failures\n",
            "\u001b[92mINFO \u001b[0m:      configure_evaluate: strategy sampled 10 clients (out of 10)\n",
            "\u001b[92mINFO \u001b[0m:      aggregate_evaluate: received 10 results and 0 failures\n",
            "\u001b[92mINFO \u001b[0m:      \n",
            "\u001b[92mINFO \u001b[0m:      [ROUND 31]\n",
            "\u001b[92mINFO \u001b[0m:      configure_fit: strategy sampled 10 clients (out of 10)\n"
          ]
        },
        {
          "output_type": "stream",
          "name": "stdout",
          "text": [
            "Round 30 accuracy: 0.36679919742822653\n",
            "Accuracy List for Round 30 : [0.38080495356037153, 0.4222903885480573, 0.3846949327817994, 0.3780617678381257, 0.4092783505154639, 0.39979757085020245, 0.3836163836163836, 0.4, 0.4371584699453552, 0.07228915662650602]\n"
          ]
        },
        {
          "output_type": "stream",
          "name": "stderr",
          "text": [
            "\u001b[92mINFO \u001b[0m:      aggregate_fit: received 10 results and 0 failures\n",
            "\u001b[92mINFO \u001b[0m:      configure_evaluate: strategy sampled 10 clients (out of 10)\n",
            "\u001b[92mINFO \u001b[0m:      aggregate_evaluate: received 10 results and 0 failures\n",
            "\u001b[92mINFO \u001b[0m:      \n",
            "\u001b[92mINFO \u001b[0m:      [ROUND 32]\n",
            "\u001b[92mINFO \u001b[0m:      configure_fit: strategy sampled 10 clients (out of 10)\n"
          ]
        },
        {
          "output_type": "stream",
          "name": "stdout",
          "text": [
            "Round 31 accuracy: 0.37649998263541307\n",
            "Accuracy List for Round 31 : [0.4288659793814433, 0.05366922234392114, 0.40763673890608876, 0.3908413205537806, 0.4042328042328042, 0.4200404858299595, 0.39710444674250256, 0.4546448087431694, 0.38139059304703476, 0.42657342657342656]\n"
          ]
        },
        {
          "output_type": "stream",
          "name": "stderr",
          "text": [
            "\u001b[92mINFO \u001b[0m:      aggregate_fit: received 10 results and 0 failures\n",
            "\u001b[92mINFO \u001b[0m:      configure_evaluate: strategy sampled 10 clients (out of 10)\n",
            "\u001b[92mINFO \u001b[0m:      aggregate_evaluate: received 10 results and 0 failures\n",
            "\u001b[92mINFO \u001b[0m:      \n",
            "\u001b[92mINFO \u001b[0m:      [ROUND 33]\n",
            "\u001b[92mINFO \u001b[0m:      configure_fit: strategy sampled 10 clients (out of 10)\n"
          ]
        },
        {
          "output_type": "stream",
          "name": "stdout",
          "text": [
            "Round 32 accuracy: 0.381675018411122\n",
            "Accuracy List for Round 32 : [0.42611336032388664, 0.3978835978835979, 0.45792349726775955, 0.43660531697341515, 0.06571741511500548, 0.4074457083764219, 0.422680412371134, 0.37912673056443025, 0.4086687306501548, 0.4145854145854146]\n"
          ]
        },
        {
          "output_type": "stream",
          "name": "stderr",
          "text": [
            "\u001b[92mINFO \u001b[0m:      aggregate_fit: received 10 results and 0 failures\n",
            "\u001b[92mINFO \u001b[0m:      configure_evaluate: strategy sampled 10 clients (out of 10)\n",
            "\u001b[92mINFO \u001b[0m:      aggregate_evaluate: received 10 results and 0 failures\n",
            "\u001b[92mINFO \u001b[0m:      \n",
            "\u001b[92mINFO \u001b[0m:      [ROUND 34]\n",
            "\u001b[92mINFO \u001b[0m:      configure_fit: strategy sampled 10 clients (out of 10)\n"
          ]
        },
        {
          "output_type": "stream",
          "name": "stdout",
          "text": [
            "Round 33 accuracy: 0.38258461641914776\n",
            "Accuracy List for Round 33 : [0.38676318510858326, 0.4311740890688259, 0.42157842157842157, 0.43550051599587203, 0.07338444687842278, 0.45136612021857925, 0.41513292433537835, 0.40309278350515465, 0.4042328042328042, 0.4036208732694356]\n"
          ]
        },
        {
          "output_type": "stream",
          "name": "stderr",
          "text": [
            "\u001b[92mINFO \u001b[0m:      aggregate_fit: received 10 results and 0 failures\n",
            "\u001b[92mINFO \u001b[0m:      configure_evaluate: strategy sampled 10 clients (out of 10)\n",
            "\u001b[92mINFO \u001b[0m:      aggregate_evaluate: received 10 results and 0 failures\n",
            "\u001b[92mINFO \u001b[0m:      \n",
            "\u001b[92mINFO \u001b[0m:      [ROUND 35]\n",
            "\u001b[92mINFO \u001b[0m:      configure_fit: strategy sampled 10 clients (out of 10)\n"
          ]
        },
        {
          "output_type": "stream",
          "name": "stdout",
          "text": [
            "Round 34 accuracy: 0.3861009313742662\n",
            "Accuracy List for Round 34 : [0.43558282208588955, 0.4148148148148148, 0.40847983453981385, 0.409919028340081, 0.4175824175824176, 0.46120218579234973, 0.06900328587075576, 0.4148606811145511, 0.40894568690095845, 0.42061855670103093]\n"
          ]
        },
        {
          "output_type": "stream",
          "name": "stderr",
          "text": [
            "\u001b[92mINFO \u001b[0m:      aggregate_fit: received 10 results and 0 failures\n",
            "\u001b[92mINFO \u001b[0m:      configure_evaluate: strategy sampled 10 clients (out of 10)\n",
            "\u001b[92mINFO \u001b[0m:      aggregate_evaluate: received 10 results and 0 failures\n",
            "\u001b[92mINFO \u001b[0m:      \n",
            "\u001b[92mINFO \u001b[0m:      [ROUND 36]\n",
            "\u001b[92mINFO \u001b[0m:      configure_fit: strategy sampled 10 clients (out of 10)\n"
          ]
        },
        {
          "output_type": "stream",
          "name": "stdout",
          "text": [
            "Round 35 accuracy: 0.3836534884651551\n",
            "Accuracy List for Round 35 : [0.05914567360350493, 0.411340206185567, 0.4306878306878307, 0.42813765182186236, 0.4644808743169399, 0.4125874125874126, 0.42518059855521156, 0.42916235780765255, 0.39775051124744376, 0.3780617678381257]\n"
          ]
        },
        {
          "output_type": "stream",
          "name": "stderr",
          "text": [
            "\u001b[92mINFO \u001b[0m:      aggregate_fit: received 10 results and 0 failures\n",
            "\u001b[92mINFO \u001b[0m:      configure_evaluate: strategy sampled 10 clients (out of 10)\n",
            "\u001b[92mINFO \u001b[0m:      aggregate_evaluate: received 10 results and 0 failures\n",
            "\u001b[92mINFO \u001b[0m:      \n",
            "\u001b[92mINFO \u001b[0m:      [ROUND 37]\n",
            "\u001b[92mINFO \u001b[0m:      configure_fit: strategy sampled 10 clients (out of 10)\n"
          ]
        },
        {
          "output_type": "stream",
          "name": "stdout",
          "text": [
            "Round 36 accuracy: 0.39062161918812877\n",
            "Accuracy List for Round 36 : [0.4448087431693989, 0.43402061855670104, 0.4024767801857585, 0.4217252396166134, 0.42328042328042326, 0.4458077709611452, 0.07338444687842278, 0.4125874125874126, 0.42605997931747674, 0.42206477732793524]\n"
          ]
        },
        {
          "output_type": "stream",
          "name": "stderr",
          "text": [
            "\u001b[92mINFO \u001b[0m:      aggregate_fit: received 10 results and 0 failures\n",
            "\u001b[92mINFO \u001b[0m:      configure_evaluate: strategy sampled 10 clients (out of 10)\n",
            "\u001b[92mINFO \u001b[0m:      aggregate_evaluate: received 10 results and 0 failures\n",
            "\u001b[92mINFO \u001b[0m:      \n",
            "\u001b[92mINFO \u001b[0m:      [ROUND 38]\n",
            "\u001b[92mINFO \u001b[0m:      configure_fit: strategy sampled 10 clients (out of 10)\n"
          ]
        },
        {
          "output_type": "stream",
          "name": "stdout",
          "text": [
            "Round 37 accuracy: 0.393968604652906\n",
            "Accuracy List for Round 37 : [0.41675284384694933, 0.4437627811860941, 0.43218623481781376, 0.43656343656343655, 0.42598509052183176, 0.054764512595837894, 0.43137254901960786, 0.4201058201058201, 0.40824742268041236, 0.46994535519125685]\n"
          ]
        },
        {
          "output_type": "stream",
          "name": "stderr",
          "text": [
            "\u001b[92mINFO \u001b[0m:      aggregate_fit: received 10 results and 0 failures\n",
            "\u001b[92mINFO \u001b[0m:      configure_evaluate: strategy sampled 10 clients (out of 10)\n",
            "\u001b[92mINFO \u001b[0m:      aggregate_evaluate: received 10 results and 0 failures\n",
            "\u001b[92mINFO \u001b[0m:      \n",
            "\u001b[92mINFO \u001b[0m:      [ROUND 39]\n",
            "\u001b[92mINFO \u001b[0m:      configure_fit: strategy sampled 10 clients (out of 10)\n"
          ]
        },
        {
          "output_type": "stream",
          "name": "stdout",
          "text": [
            "Round 38 accuracy: 0.393690026738089\n",
            "Accuracy List for Round 38 : [0.4311740890688259, 0.41693121693121693, 0.43226473629782836, 0.45194274028629855, 0.07119386637458927, 0.4185303514376997, 0.45901639344262296, 0.4262125902992776, 0.4020618556701031, 0.4275724275724276]\n"
          ]
        },
        {
          "output_type": "stream",
          "name": "stderr",
          "text": [
            "\u001b[92mINFO \u001b[0m:      aggregate_fit: received 10 results and 0 failures\n",
            "\u001b[92mINFO \u001b[0m:      configure_evaluate: strategy sampled 10 clients (out of 10)\n",
            "\u001b[92mINFO \u001b[0m:      aggregate_evaluate: received 10 results and 0 failures\n",
            "\u001b[92mINFO \u001b[0m:      \n",
            "\u001b[92mINFO \u001b[0m:      [ROUND 40]\n",
            "\u001b[92mINFO \u001b[0m:      configure_fit: strategy sampled 10 clients (out of 10)\n"
          ]
        },
        {
          "output_type": "stream",
          "name": "stdout",
          "text": [
            "Round 39 accuracy: 0.396551867280437\n",
            "Accuracy List for Round 39 : [0.4961748633879781, 0.4446742502585315, 0.4458077709611452, 0.4222222222222222, 0.4165834165834166, 0.05147864184008762, 0.43130990415335463, 0.4, 0.4200206398348813, 0.43724696356275305]\n"
          ]
        },
        {
          "output_type": "stream",
          "name": "stderr",
          "text": [
            "\u001b[92mINFO \u001b[0m:      aggregate_fit: received 10 results and 0 failures\n",
            "\u001b[92mINFO \u001b[0m:      configure_evaluate: strategy sampled 10 clients (out of 10)\n",
            "\u001b[92mINFO \u001b[0m:      aggregate_evaluate: received 10 results and 0 failures\n",
            "\u001b[92mINFO \u001b[0m:      \n",
            "\u001b[92mINFO \u001b[0m:      [ROUND 41]\n",
            "\u001b[92mINFO \u001b[0m:      configure_fit: strategy sampled 10 clients (out of 10)\n"
          ]
        },
        {
          "output_type": "stream",
          "name": "stdout",
          "text": [
            "Round 40 accuracy: 0.4068954347671904\n",
            "Accuracy List for Round 40 : [0.4726720647773279, 0.44515441959531415, 0.434468524251806, 0.4484536082474227, 0.44555444555444557, 0.0700985761226725, 0.4325153374233129, 0.4444444444444444, 0.4557377049180328, 0.41985522233712513]\n"
          ]
        },
        {
          "output_type": "stream",
          "name": "stderr",
          "text": [
            "\u001b[92mINFO \u001b[0m:      aggregate_fit: received 10 results and 0 failures\n",
            "\u001b[92mINFO \u001b[0m:      configure_evaluate: strategy sampled 10 clients (out of 10)\n",
            "\u001b[92mINFO \u001b[0m:      aggregate_evaluate: received 10 results and 0 failures\n",
            "\u001b[92mINFO \u001b[0m:      \n",
            "\u001b[92mINFO \u001b[0m:      [ROUND 42]\n",
            "\u001b[92mINFO \u001b[0m:      configure_fit: strategy sampled 10 clients (out of 10)\n"
          ]
        },
        {
          "output_type": "stream",
          "name": "stdout",
          "text": [
            "Round 41 accuracy: 0.3973153457119992\n",
            "Accuracy List for Round 41 : [0.4355697550585729, 0.49398907103825135, 0.4175257731958763, 0.4458204334365325, 0.421923474663909, 0.4386503067484663, 0.4180161943319838, 0.42357642357642356, 0.05585980284775466, 0.4222222222222222]\n"
          ]
        },
        {
          "output_type": "stream",
          "name": "stderr",
          "text": [
            "\u001b[92mINFO \u001b[0m:      aggregate_fit: received 10 results and 0 failures\n",
            "\u001b[92mINFO \u001b[0m:      configure_evaluate: strategy sampled 10 clients (out of 10)\n",
            "\u001b[92mINFO \u001b[0m:      aggregate_evaluate: received 10 results and 0 failures\n",
            "\u001b[92mINFO \u001b[0m:      \n",
            "\u001b[92mINFO \u001b[0m:      [ROUND 43]\n",
            "\u001b[92mINFO \u001b[0m:      configure_fit: strategy sampled 10 clients (out of 10)\n"
          ]
        },
        {
          "output_type": "stream",
          "name": "stdout",
          "text": [
            "Round 42 accuracy: 0.4058071584550058\n",
            "Accuracy List for Round 42 : [0.42916235780765255, 0.4444444444444444, 0.4695562435500516, 0.46229508196721314, 0.44455544455544455, 0.43149284253578735, 0.43402061855670104, 0.4402834008097166, 0.4398296059637913, 0.0624315443592552]\n"
          ]
        },
        {
          "output_type": "stream",
          "name": "stderr",
          "text": [
            "\u001b[92mINFO \u001b[0m:      aggregate_fit: received 10 results and 0 failures\n",
            "\u001b[92mINFO \u001b[0m:      configure_evaluate: strategy sampled 10 clients (out of 10)\n",
            "\u001b[92mINFO \u001b[0m:      aggregate_evaluate: received 10 results and 0 failures\n",
            "\u001b[92mINFO \u001b[0m:      \n",
            "\u001b[92mINFO \u001b[0m:      [ROUND 44]\n",
            "\u001b[92mINFO \u001b[0m:      configure_fit: strategy sampled 10 clients (out of 10)\n"
          ]
        },
        {
          "output_type": "stream",
          "name": "stdout",
          "text": [
            "Round 43 accuracy: 0.4156615212504448\n",
            "Accuracy List for Round 43 : [0.4807692307692308, 0.4792332268370607, 0.4386503067484663, 0.060240963855421686, 0.44255744255744256, 0.46018614270941055, 0.4896174863387978, 0.4324045407636739, 0.4422680412371134, 0.4306878306878307]\n"
          ]
        },
        {
          "output_type": "stream",
          "name": "stderr",
          "text": [
            "\u001b[92mINFO \u001b[0m:      aggregate_fit: received 10 results and 0 failures\n",
            "\u001b[92mINFO \u001b[0m:      configure_evaluate: strategy sampled 10 clients (out of 10)\n",
            "\u001b[92mINFO \u001b[0m:      aggregate_evaluate: received 10 results and 0 failures\n",
            "\u001b[92mINFO \u001b[0m:      \n",
            "\u001b[92mINFO \u001b[0m:      [ROUND 45]\n",
            "\u001b[92mINFO \u001b[0m:      configure_fit: strategy sampled 10 clients (out of 10)\n"
          ]
        },
        {
          "output_type": "stream",
          "name": "stdout",
          "text": [
            "Round 44 accuracy: 0.4136992537654197\n",
            "Accuracy List for Round 44 : [0.41904761904761906, 0.06352683461117196, 0.4440894568690096, 0.4867075664621677, 0.4384694932781799, 0.4907103825136612, 0.44123711340206184, 0.4582043343653251, 0.44155844155844154, 0.4534412955465587]\n"
          ]
        },
        {
          "output_type": "stream",
          "name": "stderr",
          "text": [
            "\u001b[92mINFO \u001b[0m:      aggregate_fit: received 10 results and 0 failures\n",
            "\u001b[92mINFO \u001b[0m:      configure_evaluate: strategy sampled 10 clients (out of 10)\n",
            "\u001b[92mINFO \u001b[0m:      aggregate_evaluate: received 10 results and 0 failures\n",
            "\u001b[92mINFO \u001b[0m:      \n",
            "\u001b[92mINFO \u001b[0m:      [ROUND 46]\n",
            "\u001b[92mINFO \u001b[0m:      configure_fit: strategy sampled 10 clients (out of 10)\n"
          ]
        },
        {
          "output_type": "stream",
          "name": "stdout",
          "text": [
            "Round 45 accuracy: 0.41669863896337656\n",
            "Accuracy List for Round 45 : [0.43492063492063493, 0.4484536082474227, 0.4605263157894737, 0.4589989350372737, 0.4775224775224775, 0.47368421052631576, 0.4560327198364008, 0.050383351588170866, 0.4343329886246122, 0.4721311475409836]\n"
          ]
        },
        {
          "output_type": "stream",
          "name": "stderr",
          "text": [
            "\u001b[92mINFO \u001b[0m:      aggregate_fit: received 10 results and 0 failures\n",
            "\u001b[92mINFO \u001b[0m:      configure_evaluate: strategy sampled 10 clients (out of 10)\n",
            "\u001b[92mINFO \u001b[0m:      aggregate_evaluate: received 10 results and 0 failures\n",
            "\u001b[92mINFO \u001b[0m:      \n",
            "\u001b[92mINFO \u001b[0m:      [ROUND 47]\n",
            "\u001b[92mINFO \u001b[0m:      configure_fit: strategy sampled 10 clients (out of 10)\n"
          ]
        },
        {
          "output_type": "stream",
          "name": "stdout",
          "text": [
            "Round 46 accuracy: 0.4164261393105272\n",
            "Accuracy List for Round 46 : [0.4406604747162023, 0.4742268041237113, 0.46253746253746253, 0.43769968051118213, 0.43047034764826175, 0.4446742502585315, 0.4486772486772487, 0.05585980284775466, 0.47874493927125505, 0.4907103825136612]\n"
          ]
        },
        {
          "output_type": "stream",
          "name": "stderr",
          "text": [
            "\u001b[92mINFO \u001b[0m:      aggregate_fit: received 10 results and 0 failures\n",
            "\u001b[92mINFO \u001b[0m:      configure_evaluate: strategy sampled 10 clients (out of 10)\n",
            "\u001b[92mINFO \u001b[0m:      aggregate_evaluate: received 10 results and 0 failures\n",
            "\u001b[92mINFO \u001b[0m:      \n",
            "\u001b[92mINFO \u001b[0m:      [ROUND 48]\n",
            "\u001b[92mINFO \u001b[0m:      configure_fit: strategy sampled 10 clients (out of 10)\n"
          ]
        },
        {
          "output_type": "stream",
          "name": "stdout",
          "text": [
            "Round 47 accuracy: 0.4212761386183182\n",
            "Accuracy List for Round 47 : [0.05805038335158817, 0.4645748987854251, 0.4570552147239264, 0.4498448810754912, 0.49398907103825135, 0.47071352502662406, 0.44455544455544455, 0.45979381443298967, 0.45185185185185184, 0.46233230134158926]\n"
          ]
        },
        {
          "output_type": "stream",
          "name": "stderr",
          "text": [
            "\u001b[92mINFO \u001b[0m:      aggregate_fit: received 10 results and 0 failures\n",
            "\u001b[92mINFO \u001b[0m:      configure_evaluate: strategy sampled 10 clients (out of 10)\n",
            "\u001b[92mINFO \u001b[0m:      aggregate_evaluate: received 10 results and 0 failures\n",
            "\u001b[92mINFO \u001b[0m:      \n",
            "\u001b[92mINFO \u001b[0m:      [ROUND 49]\n",
            "\u001b[92mINFO \u001b[0m:      configure_fit: strategy sampled 10 clients (out of 10)\n"
          ]
        },
        {
          "output_type": "stream",
          "name": "stdout",
          "text": [
            "Round 48 accuracy: 0.4243475886485121\n",
            "Accuracy List for Round 48 : [0.44232804232804235, 0.5016393442622951, 0.47471620227038186, 0.050383351588170866, 0.4674250258531541, 0.4515484515484515, 0.4463917525773196, 0.4939271255060729, 0.4539877300613497, 0.46112886048988283]\n"
          ]
        },
        {
          "output_type": "stream",
          "name": "stderr",
          "text": [
            "\u001b[92mINFO \u001b[0m:      aggregate_fit: received 10 results and 0 failures\n",
            "\u001b[92mINFO \u001b[0m:      configure_evaluate: strategy sampled 10 clients (out of 10)\n",
            "\u001b[92mINFO \u001b[0m:      aggregate_evaluate: received 10 results and 0 failures\n",
            "\u001b[92mINFO \u001b[0m:      \n",
            "\u001b[92mINFO \u001b[0m:      [ROUND 50]\n",
            "\u001b[92mINFO \u001b[0m:      configure_fit: strategy sampled 10 clients (out of 10)\n"
          ]
        },
        {
          "output_type": "stream",
          "name": "stdout",
          "text": [
            "Round 49 accuracy: 0.43007167252565076\n",
            "Accuracy List for Round 49 : [0.5136612021857924, 0.4665991902834008, 0.4624338624338624, 0.46288659793814435, 0.47156153050672184, 0.4739084132055378, 0.46319018404907975, 0.04928806133625411, 0.4726522187822497, 0.4645354645354645]\n"
          ]
        },
        {
          "output_type": "stream",
          "name": "stderr",
          "text": [
            "\u001b[92mINFO \u001b[0m:      aggregate_fit: received 10 results and 0 failures\n",
            "\u001b[92mINFO \u001b[0m:      configure_evaluate: strategy sampled 10 clients (out of 10)\n",
            "\u001b[92mINFO \u001b[0m:      aggregate_evaluate: received 10 results and 0 failures\n",
            "\u001b[92mINFO \u001b[0m:      \n",
            "\u001b[92mINFO \u001b[0m:      [ROUND 51]\n",
            "\u001b[92mINFO \u001b[0m:      configure_fit: strategy sampled 10 clients (out of 10)\n"
          ]
        },
        {
          "output_type": "stream",
          "name": "stdout",
          "text": [
            "Round 50 accuracy: 0.4323629919931265\n",
            "Accuracy List for Round 50 : [0.4716599190283401, 0.4539877300613497, 0.47177848775292863, 0.4608247422680412, 0.4716202270381837, 0.5202185792349727, 0.45191313340227507, 0.48253968253968255, 0.05257393209200438, 0.4865134865134865]\n"
          ]
        },
        {
          "output_type": "stream",
          "name": "stderr",
          "text": [
            "\u001b[92mINFO \u001b[0m:      aggregate_fit: received 10 results and 0 failures\n",
            "\u001b[92mINFO \u001b[0m:      configure_evaluate: strategy sampled 10 clients (out of 10)\n",
            "\u001b[92mINFO \u001b[0m:      aggregate_evaluate: received 10 results and 0 failures\n",
            "\u001b[92mINFO \u001b[0m:      \n",
            "\u001b[92mINFO \u001b[0m:      [ROUND 52]\n",
            "\u001b[92mINFO \u001b[0m:      configure_fit: strategy sampled 10 clients (out of 10)\n"
          ]
        },
        {
          "output_type": "stream",
          "name": "stdout",
          "text": [
            "Round 51 accuracy: 0.44022562518542363\n",
            "Accuracy List for Round 51 : [0.46353646353646355, 0.48562300319488816, 0.47874493927125505, 0.47010309278350515, 0.4840041279669763, 0.4652351738241309, 0.5278688524590164, 0.44570837642192346, 0.5047619047619047, 0.07667031763417305]\n"
          ]
        },
        {
          "output_type": "stream",
          "name": "stderr",
          "text": [
            "\u001b[92mINFO \u001b[0m:      aggregate_fit: received 10 results and 0 failures\n",
            "\u001b[92mINFO \u001b[0m:      configure_evaluate: strategy sampled 10 clients (out of 10)\n",
            "\u001b[92mINFO \u001b[0m:      aggregate_evaluate: received 10 results and 0 failures\n",
            "\u001b[92mINFO \u001b[0m:      \n",
            "\u001b[92mINFO \u001b[0m:      [ROUND 53]\n",
            "\u001b[92mINFO \u001b[0m:      configure_fit: strategy sampled 10 clients (out of 10)\n"
          ]
        },
        {
          "output_type": "stream",
          "name": "stdout",
          "text": [
            "Round 52 accuracy: 0.44015999206841105\n",
            "Accuracy List for Round 52 : [0.47352647352647353, 0.4666666666666667, 0.05805038335158817, 0.5020242914979757, 0.49226006191950467, 0.5060109289617486, 0.47835051546391755, 0.4696485623003195, 0.49591002044989774, 0.4591520165460186]\n"
          ]
        },
        {
          "output_type": "stream",
          "name": "stderr",
          "text": [
            "\u001b[92mINFO \u001b[0m:      aggregate_fit: received 10 results and 0 failures\n",
            "\u001b[92mINFO \u001b[0m:      configure_evaluate: strategy sampled 10 clients (out of 10)\n",
            "\u001b[92mINFO \u001b[0m:      aggregate_evaluate: received 10 results and 0 failures\n",
            "\u001b[92mINFO \u001b[0m:      \n",
            "\u001b[92mINFO \u001b[0m:      [ROUND 54]\n",
            "\u001b[92mINFO \u001b[0m:      configure_fit: strategy sampled 10 clients (out of 10)\n"
          ]
        },
        {
          "output_type": "stream",
          "name": "stdout",
          "text": [
            "Round 53 accuracy: 0.43986054176547984\n",
            "Accuracy List for Round 53 : [0.056955093099671415, 0.4909478168264111, 0.4848178137651822, 0.46804123711340206, 0.48261758691206547, 0.4808686659772492, 0.4582043343653251, 0.4740740740740741, 0.48951048951048953, 0.512568306010929]\n"
          ]
        },
        {
          "output_type": "stream",
          "name": "stderr",
          "text": [
            "\u001b[92mINFO \u001b[0m:      aggregate_fit: received 10 results and 0 failures\n",
            "\u001b[92mINFO \u001b[0m:      configure_evaluate: strategy sampled 10 clients (out of 10)\n",
            "\u001b[92mINFO \u001b[0m:      aggregate_evaluate: received 10 results and 0 failures\n",
            "\u001b[92mINFO \u001b[0m:      \n",
            "\u001b[92mINFO \u001b[0m:      [ROUND 55]\n",
            "\u001b[92mINFO \u001b[0m:      configure_fit: strategy sampled 10 clients (out of 10)\n"
          ]
        },
        {
          "output_type": "stream",
          "name": "stdout",
          "text": [
            "Round 54 accuracy: 0.43934931375476616\n",
            "Accuracy List for Round 54 : [0.49948293691830403, 0.45854145854145856, 0.4848178137651822, 0.4550102249488753, 0.05366922234392114, 0.4556701030927835, 0.4603174603174603, 0.5355191256830601, 0.49201277955271566, 0.4984520123839009]\n"
          ]
        },
        {
          "output_type": "stream",
          "name": "stderr",
          "text": [
            "\u001b[92mINFO \u001b[0m:      aggregate_fit: received 10 results and 0 failures\n",
            "\u001b[92mINFO \u001b[0m:      configure_evaluate: strategy sampled 10 clients (out of 10)\n",
            "\u001b[92mINFO \u001b[0m:      aggregate_evaluate: received 10 results and 0 failures\n",
            "\u001b[92mINFO \u001b[0m:      \n",
            "\u001b[92mINFO \u001b[0m:      [ROUND 56]\n",
            "\u001b[92mINFO \u001b[0m:      configure_fit: strategy sampled 10 clients (out of 10)\n"
          ]
        },
        {
          "output_type": "stream",
          "name": "stdout",
          "text": [
            "Round 55 accuracy: 0.4382090118938476\n",
            "Accuracy List for Round 55 : [0.4695304695304695, 0.5047619047619047, 0.47835051546391755, 0.478844169246646, 0.4703476482617587, 0.06352683461117196, 0.45580404685835996, 0.4868421052631579, 0.5180327868852459, 0.4560496380558428]\n"
          ]
        },
        {
          "output_type": "stream",
          "name": "stderr",
          "text": [
            "\u001b[92mINFO \u001b[0m:      aggregate_fit: received 10 results and 0 failures\n",
            "\u001b[92mINFO \u001b[0m:      configure_evaluate: strategy sampled 10 clients (out of 10)\n",
            "\u001b[92mINFO \u001b[0m:      aggregate_evaluate: received 10 results and 0 failures\n",
            "\u001b[92mINFO \u001b[0m:      \n",
            "\u001b[92mINFO \u001b[0m:      [ROUND 57]\n",
            "\u001b[92mINFO \u001b[0m:      configure_fit: strategy sampled 10 clients (out of 10)\n"
          ]
        },
        {
          "output_type": "stream",
          "name": "stdout",
          "text": [
            "Round 56 accuracy: 0.4499779894513347\n",
            "Accuracy List for Round 56 : [0.5030927835051546, 0.4708994708994709, 0.46949327817993797, 0.48813209494324045, 0.4885114885114885, 0.4979757085020243, 0.5311475409836065, 0.5122699386503068, 0.483493077742279, 0.054764512595837894]\n"
          ]
        },
        {
          "output_type": "stream",
          "name": "stderr",
          "text": [
            "\u001b[92mINFO \u001b[0m:      aggregate_fit: received 10 results and 0 failures\n",
            "\u001b[92mINFO \u001b[0m:      configure_evaluate: strategy sampled 10 clients (out of 10)\n",
            "\u001b[92mINFO \u001b[0m:      aggregate_evaluate: received 10 results and 0 failures\n",
            "\u001b[92mINFO \u001b[0m:      \n",
            "\u001b[92mINFO \u001b[0m:      [ROUND 58]\n",
            "\u001b[92mINFO \u001b[0m:      configure_fit: strategy sampled 10 clients (out of 10)\n"
          ]
        },
        {
          "output_type": "stream",
          "name": "stdout",
          "text": [
            "Round 57 accuracy: 0.4404128007576701\n",
            "Accuracy List for Round 57 : [0.4484536082474227, 0.49120992761116855, 0.48380566801619435, 0.06352683461117196, 0.4871001031991744, 0.5094905094905094, 0.45580404685835996, 0.4560846560846561, 0.4775051124744376, 0.5311475409836065]\n"
          ]
        },
        {
          "output_type": "stream",
          "name": "stderr",
          "text": [
            "\u001b[92mINFO \u001b[0m:      aggregate_fit: received 10 results and 0 failures\n",
            "\u001b[92mINFO \u001b[0m:      configure_evaluate: strategy sampled 10 clients (out of 10)\n",
            "\u001b[92mINFO \u001b[0m:      aggregate_evaluate: received 10 results and 0 failures\n",
            "\u001b[92mINFO \u001b[0m:      \n",
            "\u001b[92mINFO \u001b[0m:      [ROUND 59]\n",
            "\u001b[92mINFO \u001b[0m:      configure_fit: strategy sampled 10 clients (out of 10)\n"
          ]
        },
        {
          "output_type": "stream",
          "name": "stdout",
          "text": [
            "Round 58 accuracy: 0.45210252441957366\n",
            "Accuracy List for Round 58 : [0.06571741511500548, 0.4952076677316294, 0.5, 0.4953560371517028, 0.521255060728745, 0.4613756613756614, 0.4674250258531541, 0.4995004995004995, 0.4927835051546392, 0.5224043715846994]\n"
          ]
        },
        {
          "output_type": "stream",
          "name": "stderr",
          "text": [
            "\u001b[92mINFO \u001b[0m:      aggregate_fit: received 10 results and 0 failures\n",
            "\u001b[92mINFO \u001b[0m:      configure_evaluate: strategy sampled 10 clients (out of 10)\n",
            "\u001b[92mINFO \u001b[0m:      aggregate_evaluate: received 10 results and 0 failures\n",
            "\u001b[92mINFO \u001b[0m:      \n",
            "\u001b[92mINFO \u001b[0m:      [ROUND 60]\n",
            "\u001b[92mINFO \u001b[0m:      configure_fit: strategy sampled 10 clients (out of 10)\n"
          ]
        },
        {
          "output_type": "stream",
          "name": "stdout",
          "text": [
            "Round 59 accuracy: 0.4557828906090207\n",
            "Accuracy List for Round 59 : [0.056955093099671415, 0.5182186234817814, 0.4938650306748466, 0.5134865134865135, 0.48813209494324045, 0.48881789137380194, 0.5077559462254395, 0.4666666666666667, 0.5311475409836065, 0.4927835051546392]\n"
          ]
        },
        {
          "output_type": "stream",
          "name": "stderr",
          "text": [
            "\u001b[92mINFO \u001b[0m:      aggregate_fit: received 10 results and 0 failures\n",
            "\u001b[92mINFO \u001b[0m:      configure_evaluate: strategy sampled 10 clients (out of 10)\n",
            "\u001b[92mINFO \u001b[0m:      aggregate_evaluate: received 10 results and 0 failures\n",
            "\u001b[92mINFO \u001b[0m:      \n",
            "\u001b[92mINFO \u001b[0m:      [ROUND 61]\n",
            "\u001b[92mINFO \u001b[0m:      configure_fit: strategy sampled 10 clients (out of 10)\n"
          ]
        },
        {
          "output_type": "stream",
          "name": "stdout",
          "text": [
            "Round 60 accuracy: 0.4521011345546979\n",
            "Accuracy List for Round 60 : [0.4870734229576008, 0.5079872204472844, 0.4845360824742268, 0.4945054945054945, 0.05805038335158817, 0.5182186234817814, 0.47058823529411764, 0.5015873015873016, 0.48261758691206547, 0.5158469945355191]\n"
          ]
        },
        {
          "output_type": "stream",
          "name": "stderr",
          "text": [
            "\u001b[92mINFO \u001b[0m:      aggregate_fit: received 10 results and 0 failures\n",
            "\u001b[92mINFO \u001b[0m:      configure_evaluate: strategy sampled 10 clients (out of 10)\n",
            "\u001b[92mINFO \u001b[0m:      aggregate_evaluate: received 10 results and 0 failures\n",
            "\u001b[92mINFO \u001b[0m:      \n",
            "\u001b[92mINFO \u001b[0m:      [ROUND 62]\n",
            "\u001b[92mINFO \u001b[0m:      configure_fit: strategy sampled 10 clients (out of 10)\n"
          ]
        },
        {
          "output_type": "stream",
          "name": "stdout",
          "text": [
            "Round 61 accuracy: 0.4517258199148655\n",
            "Accuracy List for Round 61 : [0.05147864184008762, 0.5014985014985015, 0.47835051546391755, 0.5079872204472844, 0.48568507157464214, 0.5158469945355191, 0.4846560846560847, 0.5010121457489879, 0.4757481940144479, 0.5149948293691831]\n"
          ]
        },
        {
          "output_type": "stream",
          "name": "stderr",
          "text": [
            "\u001b[92mINFO \u001b[0m:      aggregate_fit: received 10 results and 0 failures\n",
            "\u001b[92mINFO \u001b[0m:      configure_evaluate: strategy sampled 10 clients (out of 10)\n",
            "\u001b[92mINFO \u001b[0m:      aggregate_evaluate: received 10 results and 0 failures\n",
            "\u001b[92mINFO \u001b[0m:      \n",
            "\u001b[92mINFO \u001b[0m:      [ROUND 63]\n",
            "\u001b[92mINFO \u001b[0m:      configure_fit: strategy sampled 10 clients (out of 10)\n"
          ]
        },
        {
          "output_type": "stream",
          "name": "stdout",
          "text": [
            "Round 62 accuracy: 0.44767186672620546\n",
            "Accuracy List for Round 62 : [0.476038338658147, 0.5040485829959515, 0.5112474437627812, 0.49432404540763675, 0.4622543950361944, 0.5169398907103825, 0.4885114885114885, 0.47010309278350515, 0.4962962962962963, 0.056955093099671415]\n"
          ]
        },
        {
          "output_type": "stream",
          "name": "stderr",
          "text": [
            "\u001b[92mINFO \u001b[0m:      aggregate_fit: received 10 results and 0 failures\n",
            "\u001b[92mINFO \u001b[0m:      configure_evaluate: strategy sampled 10 clients (out of 10)\n",
            "\u001b[92mINFO \u001b[0m:      aggregate_evaluate: received 10 results and 0 failures\n",
            "\u001b[92mINFO \u001b[0m:      \n",
            "\u001b[92mINFO \u001b[0m:      [ROUND 64]\n",
            "\u001b[92mINFO \u001b[0m:      configure_fit: strategy sampled 10 clients (out of 10)\n"
          ]
        },
        {
          "output_type": "stream",
          "name": "stdout",
          "text": [
            "Round 63 accuracy: 0.4453711816278341\n",
            "Accuracy List for Round 63 : [0.5, 0.5092896174863388, 0.4871001031991744, 0.5026624068157615, 0.4613756613756614, 0.4805194805194805, 0.5087900723888314, 0.4785276073619632, 0.06462212486308871, 0.4608247422680412]\n"
          ]
        },
        {
          "output_type": "stream",
          "name": "stderr",
          "text": [
            "\u001b[92mINFO \u001b[0m:      aggregate_fit: received 10 results and 0 failures\n",
            "\u001b[92mINFO \u001b[0m:      configure_evaluate: strategy sampled 10 clients (out of 10)\n",
            "\u001b[92mINFO \u001b[0m:      aggregate_evaluate: received 10 results and 0 failures\n",
            "\u001b[92mINFO \u001b[0m:      \n",
            "\u001b[92mINFO \u001b[0m:      [ROUND 65]\n",
            "\u001b[92mINFO \u001b[0m:      configure_fit: strategy sampled 10 clients (out of 10)\n"
          ]
        },
        {
          "output_type": "stream",
          "name": "stdout",
          "text": [
            "Round 64 accuracy: 0.4600146679067604\n",
            "Accuracy List for Round 64 : [0.5174825174825175, 0.49431230610134436, 0.5015873015873016, 0.5046439628482973, 0.4775051124744376, 0.5133120340788072, 0.05914567360350493, 0.5344262295081967, 0.4865979381443299, 0.5111336032388664]\n"
          ]
        },
        {
          "output_type": "stream",
          "name": "stderr",
          "text": [
            "\u001b[92mINFO \u001b[0m:      aggregate_fit: received 10 results and 0 failures\n",
            "\u001b[92mINFO \u001b[0m:      configure_evaluate: strategy sampled 10 clients (out of 10)\n",
            "\u001b[92mINFO \u001b[0m:      aggregate_evaluate: received 10 results and 0 failures\n",
            "\u001b[92mINFO \u001b[0m:      \n",
            "\u001b[92mINFO \u001b[0m:      [ROUND 66]\n",
            "\u001b[92mINFO \u001b[0m:      configure_fit: strategy sampled 10 clients (out of 10)\n"
          ]
        },
        {
          "output_type": "stream",
          "name": "stdout",
          "text": [
            "Round 65 accuracy: 0.46689610587270264\n",
            "Accuracy List for Round 65 : [0.5551912568306011, 0.5263157894736842, 0.5214723926380368, 0.4945054945054945, 0.48279352226720645, 0.516028955532575, 0.5092783505154639, 0.056955093099671415, 0.5111821086261981, 0.49523809523809526]\n"
          ]
        },
        {
          "output_type": "stream",
          "name": "stderr",
          "text": [
            "\u001b[92mINFO \u001b[0m:      aggregate_fit: received 10 results and 0 failures\n",
            "\u001b[92mINFO \u001b[0m:      configure_evaluate: strategy sampled 10 clients (out of 10)\n",
            "\u001b[92mINFO \u001b[0m:      aggregate_evaluate: received 10 results and 0 failures\n",
            "\u001b[92mINFO \u001b[0m:      \n",
            "\u001b[92mINFO \u001b[0m:      [ROUND 67]\n",
            "\u001b[92mINFO \u001b[0m:      configure_fit: strategy sampled 10 clients (out of 10)\n"
          ]
        },
        {
          "output_type": "stream",
          "name": "stdout",
          "text": [
            "Round 66 accuracy: 0.4557913516825818\n",
            "Accuracy List for Round 66 : [0.5133120340788072, 0.5068783068783069, 0.5377049180327869, 0.4949392712550607, 0.4809081527347781, 0.060240963855421686, 0.5044955044955045, 0.49896907216494846, 0.48500517063081694, 0.4754601226993865]\n"
          ]
        },
        {
          "output_type": "stream",
          "name": "stderr",
          "text": [
            "\u001b[92mINFO \u001b[0m:      aggregate_fit: received 10 results and 0 failures\n",
            "\u001b[92mINFO \u001b[0m:      configure_evaluate: strategy sampled 10 clients (out of 10)\n",
            "\u001b[92mINFO \u001b[0m:      aggregate_evaluate: received 10 results and 0 failures\n",
            "\u001b[92mINFO \u001b[0m:      \n",
            "\u001b[92mINFO \u001b[0m:      [ROUND 68]\n",
            "\u001b[92mINFO \u001b[0m:      configure_fit: strategy sampled 10 clients (out of 10)\n"
          ]
        },
        {
          "output_type": "stream",
          "name": "stdout",
          "text": [
            "Round 67 accuracy: 0.4612936829225619\n",
            "Accuracy List for Round 67 : [0.5014985014985015, 0.4927835051546392, 0.5263157894736842, 0.5143769968051118, 0.4922440537745605, 0.4857142857142857, 0.516359918200409, 0.5333333333333333, 0.05805038335158817, 0.49226006191950467]\n"
          ]
        },
        {
          "output_type": "stream",
          "name": "stderr",
          "text": [
            "\u001b[92mINFO \u001b[0m:      aggregate_fit: received 10 results and 0 failures\n",
            "\u001b[92mINFO \u001b[0m:      configure_evaluate: strategy sampled 10 clients (out of 10)\n",
            "\u001b[92mINFO \u001b[0m:      aggregate_evaluate: received 10 results and 0 failures\n",
            "\u001b[92mINFO \u001b[0m:      \n",
            "\u001b[92mINFO \u001b[0m:      [ROUND 69]\n",
            "\u001b[92mINFO \u001b[0m:      configure_fit: strategy sampled 10 clients (out of 10)\n"
          ]
        },
        {
          "output_type": "stream",
          "name": "stdout",
          "text": [
            "Round 68 accuracy: 0.4721084231091083\n",
            "Accuracy List for Round 68 : [0.4931216931216931, 0.5398907103825137, 0.5151821862348178, 0.5408997955010225, 0.4845360824742268, 0.5294725956566702, 0.5144855144855145, 0.5175718849840255, 0.5366357069143447, 0.04928806133625411]\n"
          ]
        },
        {
          "output_type": "stream",
          "name": "stderr",
          "text": [
            "\u001b[92mINFO \u001b[0m:      aggregate_fit: received 10 results and 0 failures\n",
            "\u001b[92mINFO \u001b[0m:      configure_evaluate: strategy sampled 10 clients (out of 10)\n",
            "\u001b[92mINFO \u001b[0m:      aggregate_evaluate: received 10 results and 0 failures\n",
            "\u001b[92mINFO \u001b[0m:      \n",
            "\u001b[92mINFO \u001b[0m:      [ROUND 70]\n",
            "\u001b[92mINFO \u001b[0m:      configure_fit: strategy sampled 10 clients (out of 10)\n"
          ]
        },
        {
          "output_type": "stream",
          "name": "stdout",
          "text": [
            "Round 69 accuracy: 0.4804827545928929\n",
            "Accuracy List for Round 69 : [0.5508196721311476, 0.5350515463917526, 0.05914567360350493, 0.5069222577209798, 0.5314757481940144, 0.516028955532575, 0.5324675324675324, 0.5068783068783069, 0.541497975708502, 0.5245398773006135]\n"
          ]
        },
        {
          "output_type": "stream",
          "name": "stderr",
          "text": [
            "\u001b[92mINFO \u001b[0m:      aggregate_fit: received 10 results and 0 failures\n",
            "\u001b[92mINFO \u001b[0m:      configure_evaluate: strategy sampled 10 clients (out of 10)\n",
            "\u001b[92mINFO \u001b[0m:      aggregate_evaluate: received 10 results and 0 failures\n",
            "\u001b[92mINFO \u001b[0m:      \n",
            "\u001b[92mINFO \u001b[0m:      [ROUND 71]\n",
            "\u001b[92mINFO \u001b[0m:      configure_fit: strategy sampled 10 clients (out of 10)\n"
          ]
        },
        {
          "output_type": "stream",
          "name": "stdout",
          "text": [
            "Round 70 accuracy: 0.46742306134262146\n",
            "Accuracy List for Round 70 : [0.4927835051546392, 0.054764512595837894, 0.5639344262295082, 0.5046439628482973, 0.5068783068783069, 0.5077559462254395, 0.5064935064935064, 0.5154419595314164, 0.5276073619631901, 0.4939271255060729]\n"
          ]
        },
        {
          "output_type": "stream",
          "name": "stderr",
          "text": [
            "\u001b[92mINFO \u001b[0m:      aggregate_fit: received 10 results and 0 failures\n",
            "\u001b[92mINFO \u001b[0m:      configure_evaluate: strategy sampled 10 clients (out of 10)\n",
            "\u001b[92mINFO \u001b[0m:      aggregate_evaluate: received 10 results and 0 failures\n",
            "\u001b[92mINFO \u001b[0m:      \n",
            "\u001b[92mINFO \u001b[0m:      [ROUND 72]\n",
            "\u001b[92mINFO \u001b[0m:      configure_fit: strategy sampled 10 clients (out of 10)\n"
          ]
        },
        {
          "output_type": "stream",
          "name": "stdout",
          "text": [
            "Round 71 accuracy: 0.47494325896113604\n",
            "Accuracy List for Round 71 : [0.5271565495207667, 0.5386996904024768, 0.5201654601861427, 0.48785425101214575, 0.5204498977505112, 0.5194805194805194, 0.5617486338797815, 0.5175257731958763, 0.054764512595837894, 0.5015873015873016]\n"
          ]
        },
        {
          "output_type": "stream",
          "name": "stderr",
          "text": [
            "\u001b[92mINFO \u001b[0m:      aggregate_fit: received 10 results and 0 failures\n",
            "\u001b[92mINFO \u001b[0m:      configure_evaluate: strategy sampled 10 clients (out of 10)\n",
            "\u001b[92mINFO \u001b[0m:      aggregate_evaluate: received 10 results and 0 failures\n",
            "\u001b[92mINFO \u001b[0m:      \n",
            "\u001b[92mINFO \u001b[0m:      [ROUND 73]\n",
            "\u001b[92mINFO \u001b[0m:      configure_fit: strategy sampled 10 clients (out of 10)\n"
          ]
        },
        {
          "output_type": "stream",
          "name": "stdout",
          "text": [
            "Round 72 accuracy: 0.47527818940184846\n",
            "Accuracy List for Round 72 : [0.49627263045793396, 0.5104895104895105, 0.5118679050567595, 0.5108583247156153, 0.5597165991902834, 0.5388548057259713, 0.054764512595837894, 0.5121693121693122, 0.546448087431694, 0.511340206185567]\n"
          ]
        },
        {
          "output_type": "stream",
          "name": "stderr",
          "text": [
            "\u001b[92mINFO \u001b[0m:      aggregate_fit: received 10 results and 0 failures\n",
            "\u001b[92mINFO \u001b[0m:      configure_evaluate: strategy sampled 10 clients (out of 10)\n",
            "\u001b[92mINFO \u001b[0m:      aggregate_evaluate: received 10 results and 0 failures\n",
            "\u001b[92mINFO \u001b[0m:      \n",
            "\u001b[92mINFO \u001b[0m:      [ROUND 74]\n",
            "\u001b[92mINFO \u001b[0m:      configure_fit: strategy sampled 10 clients (out of 10)\n"
          ]
        },
        {
          "output_type": "stream",
          "name": "stdout",
          "text": [
            "Round 73 accuracy: 0.4821004325677234\n",
            "Accuracy List for Round 73 : [0.05585980284775466, 0.49696356275303644, 0.5296523517382413, 0.5250266240681576, 0.5475409836065573, 0.5354497354497354, 0.5344655344655345, 0.5195876288659794, 0.5325077399380805, 0.5439503619441571]\n"
          ]
        },
        {
          "output_type": "stream",
          "name": "stderr",
          "text": [
            "\u001b[92mINFO \u001b[0m:      aggregate_fit: received 10 results and 0 failures\n",
            "\u001b[92mINFO \u001b[0m:      configure_evaluate: strategy sampled 10 clients (out of 10)\n",
            "\u001b[92mINFO \u001b[0m:      aggregate_evaluate: received 10 results and 0 failures\n",
            "\u001b[92mINFO \u001b[0m:      \n",
            "\u001b[92mINFO \u001b[0m:      [ROUND 75]\n",
            "\u001b[92mINFO \u001b[0m:      configure_fit: strategy sampled 10 clients (out of 10)\n"
          ]
        },
        {
          "output_type": "stream",
          "name": "stdout",
          "text": [
            "Round 74 accuracy: 0.4771976498312118\n",
            "Accuracy List for Round 74 : [0.5314685314685315, 0.5398907103825137, 0.05805038335158817, 0.5312169312169313, 0.5030674846625767, 0.5079872204472844, 0.5475708502024291, 0.5263157894736842, 0.48762886597938143, 0.5387797311271976]\n"
          ]
        },
        {
          "output_type": "stream",
          "name": "stderr",
          "text": [
            "\u001b[92mINFO \u001b[0m:      aggregate_fit: received 10 results and 0 failures\n",
            "\u001b[92mINFO \u001b[0m:      configure_evaluate: strategy sampled 10 clients (out of 10)\n",
            "\u001b[92mINFO \u001b[0m:      aggregate_evaluate: received 10 results and 0 failures\n",
            "\u001b[92mINFO \u001b[0m:      \n",
            "\u001b[92mINFO \u001b[0m:      [ROUND 76]\n",
            "\u001b[92mINFO \u001b[0m:      configure_fit: strategy sampled 10 clients (out of 10)\n"
          ]
        },
        {
          "output_type": "stream",
          "name": "stdout",
          "text": [
            "Round 75 accuracy: 0.4982451352388364\n",
            "Accuracy List for Round 75 : [0.5185567010309279, 0.5572597137014315, 0.5727554179566563, 0.5770491803278689, 0.5238095238095238, 0.5324813631522897, 0.5536437246963563, 0.04928806133625411, 0.5501551189245087, 0.5474525474525475]\n"
          ]
        },
        {
          "output_type": "stream",
          "name": "stderr",
          "text": [
            "\u001b[92mINFO \u001b[0m:      aggregate_fit: received 10 results and 0 failures\n",
            "\u001b[92mINFO \u001b[0m:      configure_evaluate: strategy sampled 10 clients (out of 10)\n",
            "\u001b[92mINFO \u001b[0m:      aggregate_evaluate: received 10 results and 0 failures\n",
            "\u001b[92mINFO \u001b[0m:      \n",
            "\u001b[92mINFO \u001b[0m:      [ROUND 77]\n",
            "\u001b[92mINFO \u001b[0m:      configure_fit: strategy sampled 10 clients (out of 10)\n"
          ]
        },
        {
          "output_type": "stream",
          "name": "stdout",
          "text": [
            "Round 76 accuracy: 0.48775207195346304\n",
            "Accuracy List for Round 76 : [0.5294117647058824, 0.5367114788004137, 0.5404858299595142, 0.5388548057259713, 0.5237113402061856, 0.04819277108433735, 0.5759562841530055, 0.5260915867944622, 0.5386243386243387, 0.5194805194805194]\n"
          ]
        },
        {
          "output_type": "stream",
          "name": "stderr",
          "text": [
            "\u001b[92mINFO \u001b[0m:      aggregate_fit: received 10 results and 0 failures\n",
            "\u001b[92mINFO \u001b[0m:      configure_evaluate: strategy sampled 10 clients (out of 10)\n",
            "\u001b[92mINFO \u001b[0m:      aggregate_evaluate: received 10 results and 0 failures\n",
            "\u001b[92mINFO \u001b[0m:      \n",
            "\u001b[92mINFO \u001b[0m:      [ROUND 78]\n",
            "\u001b[92mINFO \u001b[0m:      configure_fit: strategy sampled 10 clients (out of 10)\n"
          ]
        },
        {
          "output_type": "stream",
          "name": "stdout",
          "text": [
            "Round 77 accuracy: 0.48345883511237886\n",
            "Accuracy List for Round 77 : [0.5337423312883436, 0.5639344262295082, 0.5204795204795205, 0.5232793522267206, 0.047097480832420595, 0.5238095238095238, 0.531540847983454, 0.5303514376996805, 0.542827657378741, 0.5175257731958763]\n"
          ]
        },
        {
          "output_type": "stream",
          "name": "stderr",
          "text": [
            "\u001b[92mINFO \u001b[0m:      aggregate_fit: received 10 results and 0 failures\n",
            "\u001b[92mINFO \u001b[0m:      configure_evaluate: strategy sampled 10 clients (out of 10)\n",
            "\u001b[92mINFO \u001b[0m:      aggregate_evaluate: received 10 results and 0 failures\n",
            "\u001b[92mINFO \u001b[0m:      \n",
            "\u001b[92mINFO \u001b[0m:      [ROUND 79]\n",
            "\u001b[92mINFO \u001b[0m:      configure_fit: strategy sampled 10 clients (out of 10)\n"
          ]
        },
        {
          "output_type": "stream",
          "name": "stdout",
          "text": [
            "Round 78 accuracy: 0.47544560121313173\n",
            "Accuracy List for Round 78 : [0.5015873015873016, 0.05366922234392114, 0.5445344129554656, 0.5144855144855145, 0.5357873210633947, 0.5201238390092879, 0.5218317358892439, 0.5319587628865979, 0.48293691830403307, 0.5475409836065573]\n"
          ]
        },
        {
          "output_type": "stream",
          "name": "stderr",
          "text": [
            "\u001b[92mINFO \u001b[0m:      aggregate_fit: received 10 results and 0 failures\n",
            "\u001b[92mINFO \u001b[0m:      configure_evaluate: strategy sampled 10 clients (out of 10)\n",
            "\u001b[92mINFO \u001b[0m:      aggregate_evaluate: received 10 results and 0 failures\n",
            "\u001b[92mINFO \u001b[0m:      \n",
            "\u001b[92mINFO \u001b[0m:      [ROUND 80]\n",
            "\u001b[92mINFO \u001b[0m:      configure_fit: strategy sampled 10 clients (out of 10)\n"
          ]
        },
        {
          "output_type": "stream",
          "name": "stdout",
          "text": [
            "Round 79 accuracy: 0.4940022233057646\n",
            "Accuracy List for Round 79 : [0.5480572597137015, 0.5211995863495347, 0.5374625374625375, 0.5333333333333333, 0.5399361022364217, 0.5469556243550051, 0.0416210295728368, 0.5657894736842105, 0.5726775956284152, 0.5329896907216495]\n"
          ]
        },
        {
          "output_type": "stream",
          "name": "stderr",
          "text": [
            "\u001b[92mINFO \u001b[0m:      aggregate_fit: received 10 results and 0 failures\n",
            "\u001b[92mINFO \u001b[0m:      configure_evaluate: strategy sampled 10 clients (out of 10)\n",
            "\u001b[92mINFO \u001b[0m:      aggregate_evaluate: received 10 results and 0 failures\n",
            "\u001b[92mINFO \u001b[0m:      \n",
            "\u001b[92mINFO \u001b[0m:      [ROUND 81]\n",
            "\u001b[92mINFO \u001b[0m:      configure_fit: strategy sampled 10 clients (out of 10)\n"
          ]
        },
        {
          "output_type": "stream",
          "name": "stdout",
          "text": [
            "Round 80 accuracy: 0.49034931545340354\n",
            "Accuracy List for Round 80 : [0.5314685314685315, 0.5322751322751322, 0.5111821086261981, 0.5470527404343329, 0.04928806133625411, 0.5459236326109391, 0.5541922290388548, 0.5792349726775956, 0.5394736842105263, 0.51340206185567]\n"
          ]
        },
        {
          "output_type": "stream",
          "name": "stderr",
          "text": [
            "\u001b[92mINFO \u001b[0m:      aggregate_fit: received 10 results and 0 failures\n",
            "\u001b[92mINFO \u001b[0m:      configure_evaluate: strategy sampled 10 clients (out of 10)\n",
            "\u001b[92mINFO \u001b[0m:      aggregate_evaluate: received 10 results and 0 failures\n",
            "\u001b[92mINFO \u001b[0m:      \n",
            "\u001b[92mINFO \u001b[0m:      [ROUND 82]\n",
            "\u001b[92mINFO \u001b[0m:      configure_fit: strategy sampled 10 clients (out of 10)\n"
          ]
        },
        {
          "output_type": "stream",
          "name": "stdout",
          "text": [
            "Round 81 accuracy: 0.49459297964072874\n",
            "Accuracy List for Round 81 : [0.5544455544455544, 0.5195767195767196, 0.5408997955010225, 0.05257393209200438, 0.5479876160990712, 0.5484536082474227, 0.5455465587044535, 0.5211995863495347, 0.5228966986155484, 0.5923497267759563]\n"
          ]
        },
        {
          "output_type": "stream",
          "name": "stderr",
          "text": [
            "\u001b[92mINFO \u001b[0m:      aggregate_fit: received 10 results and 0 failures\n",
            "\u001b[92mINFO \u001b[0m:      configure_evaluate: strategy sampled 10 clients (out of 10)\n",
            "\u001b[92mINFO \u001b[0m:      aggregate_evaluate: received 10 results and 0 failures\n",
            "\u001b[92mINFO \u001b[0m:      \n",
            "\u001b[92mINFO \u001b[0m:      [ROUND 83]\n",
            "\u001b[92mINFO \u001b[0m:      configure_fit: strategy sampled 10 clients (out of 10)\n"
          ]
        },
        {
          "output_type": "stream",
          "name": "stdout",
          "text": [
            "Round 82 accuracy: 0.4964704003898218\n",
            "Accuracy List for Round 82 : [0.5376676986584107, 0.5564435564435565, 0.5291005291005291, 0.5388711395101171, 0.038335158817086525, 0.5594622543950362, 0.5237113402061856, 0.5378323108384458, 0.5465587044534413, 0.5967213114754099]\n"
          ]
        },
        {
          "output_type": "stream",
          "name": "stderr",
          "text": [
            "\u001b[92mINFO \u001b[0m:      aggregate_fit: received 10 results and 0 failures\n",
            "\u001b[92mINFO \u001b[0m:      configure_evaluate: strategy sampled 10 clients (out of 10)\n",
            "\u001b[92mINFO \u001b[0m:      aggregate_evaluate: received 10 results and 0 failures\n",
            "\u001b[92mINFO \u001b[0m:      \n",
            "\u001b[92mINFO \u001b[0m:      [ROUND 84]\n",
            "\u001b[92mINFO \u001b[0m:      configure_fit: strategy sampled 10 clients (out of 10)\n"
          ]
        },
        {
          "output_type": "stream",
          "name": "stdout",
          "text": [
            "Round 83 accuracy: 0.49866600073112605\n",
            "Accuracy List for Round 83 : [0.5584281282316442, 0.5204795204795205, 0.5397316821465429, 0.5350515463917526, 0.56975505857295, 0.5255623721881391, 0.5671957671957671, 0.5770491803278689, 0.04381161007667032, 0.5495951417004049]\n"
          ]
        },
        {
          "output_type": "stream",
          "name": "stderr",
          "text": [
            "\u001b[92mINFO \u001b[0m:      aggregate_fit: received 10 results and 0 failures\n",
            "\u001b[92mINFO \u001b[0m:      configure_evaluate: strategy sampled 10 clients (out of 10)\n",
            "\u001b[92mINFO \u001b[0m:      aggregate_evaluate: received 10 results and 0 failures\n",
            "\u001b[92mINFO \u001b[0m:      \n",
            "\u001b[92mINFO \u001b[0m:      [ROUND 85]\n",
            "\u001b[92mINFO \u001b[0m:      configure_fit: strategy sampled 10 clients (out of 10)\n"
          ]
        },
        {
          "output_type": "stream",
          "name": "stdout",
          "text": [
            "Round 84 accuracy: 0.5077746714165464\n",
            "Accuracy List for Round 84 : [0.5454545454545454, 0.546031746031746, 0.543859649122807, 0.5779352226720648, 0.5591054313099042, 0.5573940020682523, 0.5879781420765028, 0.5306748466257669, 0.5690721649484536, 0.060240963855421686]\n"
          ]
        },
        {
          "output_type": "stream",
          "name": "stderr",
          "text": [
            "\u001b[92mINFO \u001b[0m:      aggregate_fit: received 10 results and 0 failures\n",
            "\u001b[92mINFO \u001b[0m:      configure_evaluate: strategy sampled 10 clients (out of 10)\n",
            "\u001b[92mINFO \u001b[0m:      aggregate_evaluate: received 10 results and 0 failures\n",
            "\u001b[92mINFO \u001b[0m:      \n",
            "\u001b[92mINFO \u001b[0m:      [ROUND 86]\n",
            "\u001b[92mINFO \u001b[0m:      configure_fit: strategy sampled 10 clients (out of 10)\n"
          ]
        },
        {
          "output_type": "stream",
          "name": "stdout",
          "text": [
            "Round 85 accuracy: 0.49104842488673456\n",
            "Accuracy List for Round 85 : [0.5054945054945055, 0.5211558307533539, 0.546031746031746, 0.5371134020618556, 0.5628415300546448, 0.04819277108433735, 0.5769230769230769, 0.5228966986155484, 0.532574974146846, 0.5572597137014315]\n"
          ]
        },
        {
          "output_type": "stream",
          "name": "stderr",
          "text": [
            "\u001b[92mINFO \u001b[0m:      aggregate_fit: received 10 results and 0 failures\n",
            "\u001b[92mINFO \u001b[0m:      configure_evaluate: strategy sampled 10 clients (out of 10)\n",
            "\u001b[92mINFO \u001b[0m:      aggregate_evaluate: received 10 results and 0 failures\n",
            "\u001b[92mINFO \u001b[0m:      \n",
            "\u001b[92mINFO \u001b[0m:      [ROUND 87]\n",
            "\u001b[92mINFO \u001b[0m:      configure_fit: strategy sampled 10 clients (out of 10)\n"
          ]
        },
        {
          "output_type": "stream",
          "name": "stdout",
          "text": [
            "Round 86 accuracy: 0.5016021607002105\n",
            "Accuracy List for Round 86 : [0.5836065573770491, 0.5425101214574899, 0.5316973415132924, 0.5375661375661376, 0.5278350515463918, 0.5388711395101171, 0.05585980284775466, 0.5624355005159959, 0.5834165834165834, 0.5522233712512926]\n"
          ]
        },
        {
          "output_type": "stream",
          "name": "stderr",
          "text": [
            "\u001b[92mINFO \u001b[0m:      aggregate_fit: received 10 results and 0 failures\n",
            "\u001b[92mINFO \u001b[0m:      configure_evaluate: strategy sampled 10 clients (out of 10)\n",
            "\u001b[92mINFO \u001b[0m:      aggregate_evaluate: received 10 results and 0 failures\n",
            "\u001b[92mINFO \u001b[0m:      \n",
            "\u001b[92mINFO \u001b[0m:      [ROUND 88]\n",
            "\u001b[92mINFO \u001b[0m:      configure_fit: strategy sampled 10 clients (out of 10)\n"
          ]
        },
        {
          "output_type": "stream",
          "name": "stdout",
          "text": [
            "Round 87 accuracy: 0.49183895428555385\n",
            "Accuracy List for Round 87 : [0.06352683461117196, 0.5511247443762781, 0.5335463258785943, 0.5530054644808743, 0.5425101214574899, 0.5429162357807652, 0.5195876288659794, 0.5164021164021164, 0.5374625374625375, 0.5583075335397317]\n"
          ]
        },
        {
          "output_type": "stream",
          "name": "stderr",
          "text": [
            "\u001b[92mINFO \u001b[0m:      aggregate_fit: received 10 results and 0 failures\n",
            "\u001b[92mINFO \u001b[0m:      configure_evaluate: strategy sampled 10 clients (out of 10)\n",
            "\u001b[92mINFO \u001b[0m:      aggregate_evaluate: received 10 results and 0 failures\n",
            "\u001b[92mINFO \u001b[0m:      \n",
            "\u001b[92mINFO \u001b[0m:      [ROUND 89]\n",
            "\u001b[92mINFO \u001b[0m:      configure_fit: strategy sampled 10 clients (out of 10)\n"
          ]
        },
        {
          "output_type": "stream",
          "name": "stdout",
          "text": [
            "Round 88 accuracy: 0.503505675519503\n",
            "Accuracy List for Round 88 : [0.5459236326109391, 0.5868852459016394, 0.5303514376996805, 0.5501551189245087, 0.05257393209200438, 0.5544455544455544, 0.5460122699386503, 0.5391752577319587, 0.5576719576719577, 0.5718623481781376]\n"
          ]
        },
        {
          "output_type": "stream",
          "name": "stderr",
          "text": [
            "\u001b[92mINFO \u001b[0m:      aggregate_fit: received 10 results and 0 failures\n",
            "\u001b[92mINFO \u001b[0m:      configure_evaluate: strategy sampled 10 clients (out of 10)\n",
            "\u001b[92mINFO \u001b[0m:      aggregate_evaluate: received 10 results and 0 failures\n",
            "\u001b[92mINFO \u001b[0m:      \n",
            "\u001b[92mINFO \u001b[0m:      [ROUND 90]\n",
            "\u001b[92mINFO \u001b[0m:      configure_fit: strategy sampled 10 clients (out of 10)\n"
          ]
        },
        {
          "output_type": "stream",
          "name": "stdout",
          "text": [
            "Round 89 accuracy: 0.5103272620623923\n",
            "Accuracy List for Round 89 : [0.5759562841530055, 0.5591054313099042, 0.5439153439153439, 0.5594622543950362, 0.5329896907216495, 0.05914567360350493, 0.5574425574425574, 0.5718623481781376, 0.5820433436532507, 0.5613496932515337]\n"
          ]
        },
        {
          "output_type": "stream",
          "name": "stderr",
          "text": [
            "\u001b[92mINFO \u001b[0m:      aggregate_fit: received 10 results and 0 failures\n",
            "\u001b[92mINFO \u001b[0m:      configure_evaluate: strategy sampled 10 clients (out of 10)\n",
            "\u001b[92mINFO \u001b[0m:      aggregate_evaluate: received 10 results and 0 failures\n",
            "\u001b[92mINFO \u001b[0m:      \n",
            "\u001b[92mINFO \u001b[0m:      [ROUND 91]\n",
            "\u001b[92mINFO \u001b[0m:      configure_fit: strategy sampled 10 clients (out of 10)\n"
          ]
        },
        {
          "output_type": "stream",
          "name": "stdout",
          "text": [
            "Round 90 accuracy: 0.5083954566092055\n",
            "Accuracy List for Round 90 : [0.5463258785942492, 0.5470899470899471, 0.5635987590486039, 0.060240963855421686, 0.5566801619433198, 0.5593047034764826, 0.5683060109289617, 0.5567010309278351, 0.5684315684315684, 0.5572755417956656]\n"
          ]
        },
        {
          "output_type": "stream",
          "name": "stderr",
          "text": [
            "\u001b[92mINFO \u001b[0m:      aggregate_fit: received 10 results and 0 failures\n",
            "\u001b[92mINFO \u001b[0m:      configure_evaluate: strategy sampled 10 clients (out of 10)\n",
            "\u001b[92mINFO \u001b[0m:      aggregate_evaluate: received 10 results and 0 failures\n",
            "\u001b[92mINFO \u001b[0m:      \n",
            "\u001b[92mINFO \u001b[0m:      [ROUND 92]\n",
            "\u001b[92mINFO \u001b[0m:      configure_fit: strategy sampled 10 clients (out of 10)\n"
          ]
        },
        {
          "output_type": "stream",
          "name": "stdout",
          "text": [
            "Round 91 accuracy: 0.5080921577158851\n",
            "Accuracy List for Round 91 : [0.558282208588957, 0.5459236326109391, 0.5537806176783813, 0.06133625410733844, 0.5890710382513661, 0.5422680412371134, 0.562962962962963, 0.555668016194332, 0.5511892450879007, 0.5604395604395604]\n"
          ]
        },
        {
          "output_type": "stream",
          "name": "stderr",
          "text": [
            "\u001b[92mINFO \u001b[0m:      aggregate_fit: received 10 results and 0 failures\n",
            "\u001b[92mINFO \u001b[0m:      configure_evaluate: strategy sampled 10 clients (out of 10)\n",
            "\u001b[92mINFO \u001b[0m:      aggregate_evaluate: received 10 results and 0 failures\n",
            "\u001b[92mINFO \u001b[0m:      \n",
            "\u001b[92mINFO \u001b[0m:      [ROUND 93]\n",
            "\u001b[92mINFO \u001b[0m:      configure_fit: strategy sampled 10 clients (out of 10)\n"
          ]
        },
        {
          "output_type": "stream",
          "name": "stdout",
          "text": [
            "Round 92 accuracy: 0.514725980776553\n",
            "Accuracy List for Round 92 : [0.5523809523809524, 0.5556701030927835, 0.5985552115583075, 0.0416210295728368, 0.5484558040468583, 0.5594622543950362, 0.5566801619433198, 0.5744255744255744, 0.549079754601227, 0.6109289617486339]\n"
          ]
        },
        {
          "output_type": "stream",
          "name": "stderr",
          "text": [
            "\u001b[92mINFO \u001b[0m:      aggregate_fit: received 10 results and 0 failures\n",
            "\u001b[92mINFO \u001b[0m:      configure_evaluate: strategy sampled 10 clients (out of 10)\n",
            "\u001b[92mINFO \u001b[0m:      aggregate_evaluate: received 10 results and 0 failures\n",
            "\u001b[92mINFO \u001b[0m:      \n",
            "\u001b[92mINFO \u001b[0m:      [ROUND 94]\n",
            "\u001b[92mINFO \u001b[0m:      configure_fit: strategy sampled 10 clients (out of 10)\n"
          ]
        },
        {
          "output_type": "stream",
          "name": "stdout",
          "text": [
            "Round 93 accuracy: 0.517392063157926\n",
            "Accuracy List for Round 93 : [0.554639175257732, 0.05366922234392114, 0.6262295081967213, 0.5820433436532507, 0.5574425574425574, 0.5429447852760736, 0.5576719576719577, 0.5501551189245087, 0.5708502024291497, 0.5782747603833865]\n"
          ]
        },
        {
          "output_type": "stream",
          "name": "stderr",
          "text": [
            "\u001b[92mINFO \u001b[0m:      aggregate_fit: received 10 results and 0 failures\n",
            "\u001b[92mINFO \u001b[0m:      configure_evaluate: strategy sampled 10 clients (out of 10)\n",
            "\u001b[92mINFO \u001b[0m:      aggregate_evaluate: received 10 results and 0 failures\n",
            "\u001b[92mINFO \u001b[0m:      \n",
            "\u001b[92mINFO \u001b[0m:      [ROUND 95]\n",
            "\u001b[92mINFO \u001b[0m:      configure_fit: strategy sampled 10 clients (out of 10)\n"
          ]
        },
        {
          "output_type": "stream",
          "name": "stdout",
          "text": [
            "Round 94 accuracy: 0.5182822677179423\n",
            "Accuracy List for Round 94 : [0.5492063492063493, 0.5879345603271984, 0.5601703940362087, 0.5687693898655636, 0.5759562841530055, 0.04928806133625411, 0.5892672858617131, 0.5694305694305695, 0.5670103092783505, 0.5657894736842105]\n"
          ]
        },
        {
          "output_type": "stream",
          "name": "stderr",
          "text": [
            "\u001b[92mINFO \u001b[0m:      aggregate_fit: received 10 results and 0 failures\n",
            "\u001b[92mINFO \u001b[0m:      configure_evaluate: strategy sampled 10 clients (out of 10)\n",
            "\u001b[92mINFO \u001b[0m:      aggregate_evaluate: received 10 results and 0 failures\n",
            "\u001b[92mINFO \u001b[0m:      \n",
            "\u001b[92mINFO \u001b[0m:      [ROUND 96]\n",
            "\u001b[92mINFO \u001b[0m:      configure_fit: strategy sampled 10 clients (out of 10)\n"
          ]
        },
        {
          "output_type": "stream",
          "name": "stdout",
          "text": [
            "Round 95 accuracy: 0.5161179067538338\n",
            "Accuracy List for Round 95 : [0.04819277108433735, 0.5562435500515995, 0.597165991902834, 0.5417989417989418, 0.5656670113753878, 0.5890710382513661, 0.5603271983640081, 0.5664335664335665, 0.5494845360824743, 0.5867944621938233]\n"
          ]
        },
        {
          "output_type": "stream",
          "name": "stderr",
          "text": [
            "\u001b[92mINFO \u001b[0m:      aggregate_fit: received 10 results and 0 failures\n",
            "\u001b[92mINFO \u001b[0m:      configure_evaluate: strategy sampled 10 clients (out of 10)\n",
            "\u001b[92mINFO \u001b[0m:      aggregate_evaluate: received 10 results and 0 failures\n",
            "\u001b[92mINFO \u001b[0m:      \n",
            "\u001b[92mINFO \u001b[0m:      [ROUND 97]\n",
            "\u001b[92mINFO \u001b[0m:      configure_fit: strategy sampled 10 clients (out of 10)\n"
          ]
        },
        {
          "output_type": "stream",
          "name": "stdout",
          "text": [
            "Round 96 accuracy: 0.5252727729462938\n",
            "Accuracy List for Round 96 : [0.04600219058050383, 0.5819838056680162, 0.5736196319018405, 0.5534391534391534, 0.5537806176783813, 0.5938144329896907, 0.578076525336091, 0.5956284153005464, 0.5964035964035964, 0.5799793601651186]\n"
          ]
        },
        {
          "output_type": "stream",
          "name": "stderr",
          "text": [
            "\u001b[92mINFO \u001b[0m:      aggregate_fit: received 10 results and 0 failures\n",
            "\u001b[92mINFO \u001b[0m:      configure_evaluate: strategy sampled 10 clients (out of 10)\n",
            "\u001b[92mINFO \u001b[0m:      aggregate_evaluate: received 10 results and 0 failures\n",
            "\u001b[92mINFO \u001b[0m:      \n",
            "\u001b[92mINFO \u001b[0m:      [ROUND 98]\n",
            "\u001b[92mINFO \u001b[0m:      configure_fit: strategy sampled 10 clients (out of 10)\n"
          ]
        },
        {
          "output_type": "stream",
          "name": "stdout",
          "text": [
            "Round 97 accuracy: 0.5124426850872618\n",
            "Accuracy List for Round 97 : [0.5608465608465608, 0.5777096114519428, 0.5484515484515484, 0.5708502024291497, 0.5469556243550051, 0.5759562841530055, 0.5718849840255591, 0.05147864184008762, 0.5587628865979382, 0.56153050672182]\n"
          ]
        },
        {
          "output_type": "stream",
          "name": "stderr",
          "text": [
            "\u001b[92mINFO \u001b[0m:      aggregate_fit: received 10 results and 0 failures\n",
            "\u001b[92mINFO \u001b[0m:      configure_evaluate: strategy sampled 10 clients (out of 10)\n",
            "\u001b[92mINFO \u001b[0m:      aggregate_evaluate: received 10 results and 0 failures\n",
            "\u001b[92mINFO \u001b[0m:      \n",
            "\u001b[92mINFO \u001b[0m:      [ROUND 99]\n",
            "\u001b[92mINFO \u001b[0m:      configure_fit: strategy sampled 10 clients (out of 10)\n"
          ]
        },
        {
          "output_type": "stream",
          "name": "stdout",
          "text": [
            "Round 98 accuracy: 0.5287374247318322\n",
            "Accuracy List for Round 98 : [0.5594405594405595, 0.5921052631578947, 0.03943044906900329, 0.5731958762886598, 0.5830753353973168, 0.5724867724867725, 0.5848670756646217, 0.5857294994675186, 0.6065573770491803, 0.5904860392967942]\n"
          ]
        },
        {
          "output_type": "stream",
          "name": "stderr",
          "text": [
            "\u001b[92mINFO \u001b[0m:      aggregate_fit: received 10 results and 0 failures\n",
            "\u001b[92mINFO \u001b[0m:      configure_evaluate: strategy sampled 10 clients (out of 10)\n",
            "\u001b[92mINFO \u001b[0m:      aggregate_evaluate: received 10 results and 0 failures\n",
            "\u001b[92mINFO \u001b[0m:      \n",
            "\u001b[92mINFO \u001b[0m:      [ROUND 100]\n",
            "\u001b[92mINFO \u001b[0m:      configure_fit: strategy sampled 10 clients (out of 10)\n"
          ]
        },
        {
          "output_type": "stream",
          "name": "stdout",
          "text": [
            "Round 99 accuracy: 0.5269743039660977\n",
            "Accuracy List for Round 99 : [0.5698035160289555, 0.5964912280701754, 0.5846994535519126, 0.5748987854251012, 0.5724275724275725, 0.5777777777777777, 0.5876288659793815, 0.05147864184008762, 0.5869120654396728, 0.5676251331203408]\n"
          ]
        },
        {
          "output_type": "stream",
          "name": "stderr",
          "text": [
            "\u001b[92mINFO \u001b[0m:      aggregate_fit: received 10 results and 0 failures\n",
            "\u001b[92mINFO \u001b[0m:      configure_evaluate: strategy sampled 10 clients (out of 10)\n",
            "\u001b[92mINFO \u001b[0m:      aggregate_evaluate: received 10 results and 0 failures\n",
            "\u001b[92mINFO \u001b[0m:      \n",
            "\u001b[92mINFO \u001b[0m:      [SUMMARY]\n",
            "\u001b[92mINFO \u001b[0m:      Run finished 100 round(s) in 5923.35s\n",
            "\u001b[92mINFO \u001b[0m:      \tHistory (loss, distributed):\n",
            "\u001b[92mINFO \u001b[0m:      \t\tround 1: 2.3016450618755444\n",
            "\u001b[92mINFO \u001b[0m:      \t\tround 2: 2.300528020362186\n",
            "\u001b[92mINFO \u001b[0m:      \t\tround 3: 2.2986938815798035\n",
            "\u001b[92mINFO \u001b[0m:      \t\tround 4: 2.2967706643252748\n",
            "\u001b[92mINFO \u001b[0m:      \t\tround 5: 2.2936485564378146\n",
            "\u001b[92mINFO \u001b[0m:      \t\tround 6: 2.287000250007291\n",
            "\u001b[92mINFO \u001b[0m:      \t\tround 7: 2.273859418352853\n",
            "\u001b[92mINFO \u001b[0m:      \t\tround 8: 2.251391642802008\n",
            "\u001b[92mINFO \u001b[0m:      \t\tround 9: 2.2174513182493074\n",
            "\u001b[92mINFO \u001b[0m:      \t\tround 10: 2.1790716063501963\n",
            "\u001b[92mINFO \u001b[0m:      \t\tround 11: 2.1428780621056203\n",
            "\u001b[92mINFO \u001b[0m:      \t\tround 12: 2.1135841257290613\n",
            "\u001b[92mINFO \u001b[0m:      \t\tround 13: 2.0825779749854614\n",
            "\u001b[92mINFO \u001b[0m:      \t\tround 14: 2.0656052036590618\n",
            "\u001b[92mINFO \u001b[0m:      \t\tround 15: 2.070693398674157\n",
            "\u001b[92mINFO \u001b[0m:      \t\tround 16: 2.032491386898954\n",
            "\u001b[92mINFO \u001b[0m:      \t\tround 17: 2.0033882221448684\n",
            "\u001b[92mINFO \u001b[0m:      \t\tround 18: 2.0058044791758602\n",
            "\u001b[92mINFO \u001b[0m:      \t\tround 19: 1.976195264116713\n",
            "\u001b[92mINFO \u001b[0m:      \t\tround 20: 1.9489184644522934\n",
            "\u001b[92mINFO \u001b[0m:      \t\tround 21: 1.9314395210813502\n",
            "\u001b[92mINFO \u001b[0m:      \t\tround 22: 1.9033263775520366\n",
            "\u001b[92mINFO \u001b[0m:      \t\tround 23: 1.9429026948544248\n",
            "\u001b[92mINFO \u001b[0m:      \t\tround 24: 1.8602075242712328\n",
            "\u001b[92mINFO \u001b[0m:      \t\tround 25: 1.8495434502086001\n",
            "\u001b[92mINFO \u001b[0m:      \t\tround 26: 1.880768661175578\n",
            "\u001b[92mINFO \u001b[0m:      \t\tround 27: 1.8255438955923942\n",
            "\u001b[92mINFO \u001b[0m:      \t\tround 28: 1.8107547211740032\n",
            "\u001b[92mINFO \u001b[0m:      \t\tround 29: 1.7980304308543114\n",
            "\u001b[92mINFO \u001b[0m:      \t\tround 30: 1.7991026099810803\n",
            "\u001b[92mINFO \u001b[0m:      \t\tround 31: 1.7726037126980936\n",
            "\u001b[92mINFO \u001b[0m:      \t\tround 32: 1.7678159387217596\n",
            "\u001b[92mINFO \u001b[0m:      \t\tround 33: 1.7729831125082303\n",
            "\u001b[92mINFO \u001b[0m:      \t\tround 34: 1.7604513764072174\n",
            "\u001b[92mINFO \u001b[0m:      \t\tround 35: 1.7484812408928918\n",
            "\u001b[92mINFO \u001b[0m:      \t\tround 36: 1.7417985313454347\n",
            "\u001b[92mINFO \u001b[0m:      \t\tround 37: 1.744313277131982\n",
            "\u001b[92mINFO \u001b[0m:      \t\tround 38: 1.7338389290039313\n",
            "\u001b[92mINFO \u001b[0m:      \t\tround 39: 1.7337700228867692\n",
            "\u001b[92mINFO \u001b[0m:      \t\tround 40: 1.712675252223843\n",
            "\u001b[92mINFO \u001b[0m:      \t\tround 41: 1.713246735184756\n",
            "\u001b[92mINFO \u001b[0m:      \t\tround 42: 1.7146490790792273\n",
            "\u001b[92mINFO \u001b[0m:      \t\tround 43: 1.698451173419547\n",
            "\u001b[92mINFO \u001b[0m:      \t\tround 44: 1.6946198735858855\n",
            "\u001b[92mINFO \u001b[0m:      \t\tround 45: 1.6914614049154997\n",
            "\u001b[92mINFO \u001b[0m:      \t\tround 46: 1.6918643689682953\n",
            "\u001b[92mINFO \u001b[0m:      \t\tround 47: 1.6974760655280072\n",
            "\u001b[92mINFO \u001b[0m:      \t\tround 48: 1.676821838081759\n",
            "\u001b[92mINFO \u001b[0m:      \t\tround 49: 1.6653732499403195\n",
            "\u001b[92mINFO \u001b[0m:      \t\tround 50: 1.6726957293493636\n",
            "\u001b[92mINFO \u001b[0m:      \t\tround 51: 1.6527450326277378\n",
            "\u001b[92mINFO \u001b[0m:      \t\tround 52: 1.6450471313235795\n",
            "\u001b[92mINFO \u001b[0m:      \t\tround 53: 1.641042989231152\n",
            "\u001b[92mINFO \u001b[0m:      \t\tround 54: 1.6467462153011343\n",
            "\u001b[92mINFO \u001b[0m:      \t\tround 55: 1.6631867667617901\n",
            "\u001b[92mINFO \u001b[0m:      \t\tround 56: 1.6224831606186438\n",
            "\u001b[92mINFO \u001b[0m:      \t\tround 57: 1.643460420889477\n",
            "\u001b[92mINFO \u001b[0m:      \t\tround 58: 1.6169529827812317\n",
            "\u001b[92mINFO \u001b[0m:      \t\tround 59: 1.6254272130121226\n",
            "\u001b[92mINFO \u001b[0m:      \t\tround 60: 1.618857920252158\n",
            "\u001b[92mINFO \u001b[0m:      \t\tround 61: 1.6127424332695492\n",
            "\u001b[92mINFO \u001b[0m:      \t\tround 62: 1.6129209994581437\n",
            "\u001b[92mINFO \u001b[0m:      \t\tround 63: 1.6423583339333088\n",
            "\u001b[92mINFO \u001b[0m:      \t\tround 64: 1.6081745216406511\n",
            "\u001b[92mINFO \u001b[0m:      \t\tround 65: 1.599968432214631\n",
            "\u001b[92mINFO \u001b[0m:      \t\tround 66: 1.6145457438495772\n",
            "\u001b[92mINFO \u001b[0m:      \t\tround 67: 1.6041701792075849\n",
            "\u001b[92mINFO \u001b[0m:      \t\tround 68: 1.5963879618033656\n",
            "\u001b[92mINFO \u001b[0m:      \t\tround 69: 1.5714888527880544\n",
            "\u001b[92mINFO \u001b[0m:      \t\tround 70: 1.6023437014804207\n",
            "\u001b[92mINFO \u001b[0m:      \t\tround 71: 1.5916215138217553\n",
            "\u001b[92mINFO \u001b[0m:      \t\tround 72: 1.5661444576729875\n",
            "\u001b[92mINFO \u001b[0m:      \t\tround 73: 1.5532675351219845\n",
            "\u001b[92mINFO \u001b[0m:      \t\tround 74: 1.567242997829009\n",
            "\u001b[92mINFO \u001b[0m:      \t\tround 75: 1.5444606155946943\n",
            "\u001b[92mINFO \u001b[0m:      \t\tround 76: 1.5410553972482417\n",
            "\u001b[92mINFO \u001b[0m:      \t\tround 77: 1.5524000166371301\n",
            "\u001b[92mINFO \u001b[0m:      \t\tround 78: 1.5648511216971899\n",
            "\u001b[92mINFO \u001b[0m:      \t\tround 79: 1.5400793827905346\n",
            "\u001b[92mINFO \u001b[0m:      \t\tround 80: 1.5418526350793464\n",
            "\u001b[92mINFO \u001b[0m:      \t\tround 81: 1.5231693665405723\n",
            "\u001b[92mINFO \u001b[0m:      \t\tround 82: 1.5356308109123917\n",
            "\u001b[92mINFO \u001b[0m:      \t\tround 83: 1.5154357248737378\n",
            "\u001b[92mINFO \u001b[0m:      \t\tround 84: 1.4912703069025073\n",
            "\u001b[92mINFO \u001b[0m:      \t\tround 85: 1.5342563105771925\n",
            "\u001b[92mINFO \u001b[0m:      \t\tround 86: 1.5218350202425173\n",
            "\u001b[92mINFO \u001b[0m:      \t\tround 87: 1.5360513226637098\n",
            "\u001b[92mINFO \u001b[0m:      \t\tround 88: 1.5165044545037112\n",
            "\u001b[92mINFO \u001b[0m:      \t\tround 89: 1.5063685080976863\n",
            "\u001b[92mINFO \u001b[0m:      \t\tround 90: 1.529209368682652\n",
            "\u001b[92mINFO \u001b[0m:      \t\tround 91: 1.4979866849485912\n",
            "\u001b[92mINFO \u001b[0m:      \t\tround 92: 1.4993012945105417\n",
            "\u001b[92mINFO \u001b[0m:      \t\tround 93: 1.4801231443697616\n"
          ]
        },
        {
          "output_type": "stream",
          "name": "stdout",
          "text": [
            "Round 100 accuracy: 0.5352368862986969\n",
            "Accuracy List for Round 100 : [0.5793814432989691, 0.5931174089068826, 0.5967213114754099, 0.5894105894105894, 0.5687693898655636, 0.04928806133625411, 0.6042944785276073, 0.617678381256656, 0.5727554179566563, 0.580952380952381]\n"
          ]
        },
        {
          "output_type": "stream",
          "name": "stderr",
          "text": [
            "\u001b[92mINFO \u001b[0m:      \t\tround 94: 1.4993822089812032\n",
            "\u001b[92mINFO \u001b[0m:      \t\tround 95: 1.4988742280326994\n",
            "\u001b[92mINFO \u001b[0m:      \t\tround 96: 1.4574257682796006\n",
            "\u001b[92mINFO \u001b[0m:      \t\tround 97: 1.4803713150636377\n",
            "\u001b[92mINFO \u001b[0m:      \t\tround 98: 1.4806113527432272\n",
            "\u001b[92mINFO \u001b[0m:      \t\tround 99: 1.4584128635209461\n",
            "\u001b[92mINFO \u001b[0m:      \t\tround 100: 1.4520338120001668\n",
            "\u001b[92mINFO \u001b[0m:      \tHistory (metrics, distributed, evaluate):\n",
            "\u001b[92mINFO \u001b[0m:      \t{'accuracy': [(1, 0.10744763225536309),\n",
            "\u001b[92mINFO \u001b[0m:      \t              (2, 0.11545177854448432),\n",
            "\u001b[92mINFO \u001b[0m:      \t              (3, 0.11063268182984866),\n",
            "\u001b[92mINFO \u001b[0m:      \t              (4, 0.13205497459530796),\n",
            "\u001b[92mINFO \u001b[0m:      \t              (5, 0.16426603985780908),\n",
            "\u001b[92mINFO \u001b[0m:      \t              (6, 0.1843360012195907),\n",
            "\u001b[92mINFO \u001b[0m:      \t              (7, 0.19491544432613434),\n",
            "\u001b[92mINFO \u001b[0m:      \t              (8, 0.18593524757275345),\n",
            "\u001b[92mINFO \u001b[0m:      \t              (9, 0.20930678648155973),\n",
            "\u001b[92mINFO \u001b[0m:      \t              (10, 0.22059119324693585),\n",
            "\u001b[92mINFO \u001b[0m:      \t              (11, 0.22186926719128974),\n",
            "\u001b[92mINFO \u001b[0m:      \t              (12, 0.2357267388786322),\n",
            "\u001b[92mINFO \u001b[0m:      \t              (13, 0.24590445266419772),\n",
            "\u001b[92mINFO \u001b[0m:      \t              (14, 0.2504545406456852),\n",
            "\u001b[92mINFO \u001b[0m:      \t              (15, 0.2591405586461656),\n",
            "\u001b[92mINFO \u001b[0m:      \t              (16, 0.2716960372168716),\n",
            "\u001b[92mINFO \u001b[0m:      \t              (17, 0.2805298060025852),\n",
            "\u001b[92mINFO \u001b[0m:      \t              (18, 0.2812630586208239),\n",
            "\u001b[92mINFO \u001b[0m:      \t              (19, 0.2930700173246524),\n",
            "\u001b[92mINFO \u001b[0m:      \t              (20, 0.31111611779338355),\n",
            "\u001b[92mINFO \u001b[0m:      \t              (21, 0.29860424582108686),\n",
            "\u001b[92mINFO \u001b[0m:      \t              (22, 0.3146348650832259),\n",
            "\u001b[92mINFO \u001b[0m:      \t              (23, 0.3115510099238521),\n",
            "\u001b[92mINFO \u001b[0m:      \t              (24, 0.3408632485406834),\n",
            "\u001b[92mINFO \u001b[0m:      \t              (25, 0.34648499961024276),\n",
            "\u001b[92mINFO \u001b[0m:      \t              (26, 0.333147679338199),\n",
            "\u001b[92mINFO \u001b[0m:      \t              (27, 0.35610486040032663),\n",
            "\u001b[92mINFO \u001b[0m:      \t              (28, 0.35639805834050964),\n",
            "\u001b[92mINFO \u001b[0m:      \t              (29, 0.37288985541453573),\n",
            "\u001b[92mINFO \u001b[0m:      \t              (30, 0.36817839529634344),\n",
            "\u001b[92mINFO \u001b[0m:      \t              (31, 0.37813070772652696),\n",
            "\u001b[92mINFO \u001b[0m:      \t              (32, 0.3833099966190809),\n",
            "\u001b[92mINFO \u001b[0m:      \t              (33, 0.3841490318026819),\n",
            "\u001b[92mINFO \u001b[0m:      \t              (34, 0.3876219662247966),\n",
            "\u001b[92mINFO \u001b[0m:      \t              (35, 0.38521038079481523),\n",
            "\u001b[92mINFO \u001b[0m:      \t              (36, 0.3922094994029988),\n",
            "\u001b[92mINFO \u001b[0m:      \t              (37, 0.39564367289430324),\n",
            "\u001b[92mINFO \u001b[0m:      \t              (38, 0.39532983156844814),\n",
            "\u001b[92mINFO \u001b[0m:      \t              (39, 0.3980289283170072),\n",
            "\u001b[92mINFO \u001b[0m:      \t              (40, 0.40866186163036816),\n",
            "\u001b[92mINFO \u001b[0m:      \t              (41, 0.39879948809587995),\n",
            "\u001b[92mINFO \u001b[0m:      \t              (42, 0.4075772041394953),\n",
            "\u001b[92mINFO \u001b[0m:      \t              (43, 0.41733767564682633),\n",
            "\u001b[92mINFO \u001b[0m:      \t              (44, 0.41546464130712213),\n",
            "\u001b[92mINFO \u001b[0m:      \t              (45, 0.4187382032391902),\n",
            "\u001b[92mINFO \u001b[0m:      \t              (46, 0.418279092947179),\n",
            "\u001b[92mINFO \u001b[0m:      \t              (47, 0.4229951282969702),\n",
            "\u001b[92mINFO \u001b[0m:      \t              (48, 0.4262026184854699),\n",
            "\u001b[92mINFO \u001b[0m:      \t              (49, 0.4318836496550942),\n",
            "\u001b[92mINFO \u001b[0m:      \t              (50, 0.4341611075784791),\n",
            "\u001b[92mINFO \u001b[0m:      \t              (51, 0.4417508754848349),\n",
            "\u001b[92mINFO \u001b[0m:      \t              (52, 0.4421596267578369),\n",
            "\u001b[92mINFO \u001b[0m:      \t              (53, 0.4417777368776642),\n",
            "\u001b[92mINFO \u001b[0m:      \t              (54, 0.4410692517593274),\n",
            "\u001b[92mINFO \u001b[0m:      \t              (55, 0.4399693080721643),\n",
            "\u001b[92mINFO \u001b[0m:      \t              (56, 0.451985152664343),\n",
            "\u001b[92mINFO \u001b[0m:      \t              (57, 0.44241384029585473),\n",
            "\u001b[92mINFO \u001b[0m:      \t              (58, 0.4541588726788906),\n",
            "\u001b[92mINFO \u001b[0m:      \t              (59, 0.45794915664287184),\n",
            "\u001b[92mINFO \u001b[0m:      \t              (60, 0.4540606161595183),\n",
            "\u001b[92mINFO \u001b[0m:      \t              (61, 0.45380068228607295),\n",
            "\u001b[92mINFO \u001b[0m:      \t              (62, 0.4496611985936414),\n",
            "\u001b[92mINFO \u001b[0m:      \t              (63, 0.4473236860074026),\n",
            "\u001b[92mINFO \u001b[0m:      \t              (64, 0.46203274238258596),\n",
            "\u001b[92mINFO \u001b[0m:      \t              (65, 0.4688576570862902),\n",
            "\u001b[92mINFO \u001b[0m:      \t              (66, 0.4576515817093846),\n",
            "\u001b[92mINFO \u001b[0m:      \t              (67, 0.46334321800525713),\n",
            "\u001b[92mINFO \u001b[0m:      \t              (68, 0.47435752641562556),\n",
            "\u001b[92mINFO \u001b[0m:      \t              (69, 0.4827816072137565),\n",
            "\u001b[92mINFO \u001b[0m:      \t              (70, 0.46933745697916646),\n",
            "\u001b[92mINFO \u001b[0m:      \t              (71, 0.4770167890274536),\n",
            "\u001b[92mINFO \u001b[0m:      \t              (72, 0.4774946264996074),\n",
            "\u001b[92mINFO \u001b[0m:      \t              (73, 0.48432236622305996),\n",
            "\u001b[92mINFO \u001b[0m:      \t              (74, 0.4794349299672518),\n",
            "\u001b[92mINFO \u001b[0m:      \t              (75, 0.5006376363973829),\n",
            "\u001b[92mINFO \u001b[0m:      \t              (76, 0.48986756980052654),\n",
            "\u001b[92mINFO \u001b[0m:      \t              (77, 0.4856278479661768),\n",
            "\u001b[92mINFO \u001b[0m:      \t              (78, 0.47762879488911103),\n",
            "\u001b[92mINFO \u001b[0m:      \t              (79, 0.4963156887746797),\n",
            "\u001b[92mINFO \u001b[0m:      \t              (80, 0.4925877147970314),\n",
            "\u001b[92mINFO \u001b[0m:      \t              (81, 0.4968719623185025),\n",
            "\u001b[92mINFO \u001b[0m:      \t              (82, 0.49876781333800885),\n",
            "\u001b[92mINFO \u001b[0m:      \t              (83, 0.5007484175100025),\n",
            "\u001b[92mINFO \u001b[0m:      \t              (84, 0.5100132042471425),\n",
            "\u001b[92mINFO \u001b[0m:      \t              (85, 0.4932442923719901),\n",
            "\u001b[92mINFO \u001b[0m:      \t              (86, 0.504015463616249),\n",
            "\u001b[92mINFO \u001b[0m:      \t              (87, 0.49417877155908013),\n",
            "\u001b[92mINFO \u001b[0m:      \t              (88, 0.505817256439779),\n",
            "\u001b[92mINFO \u001b[0m:      \t              (89, 0.5127398987083472),\n",
            "\u001b[92mINFO \u001b[0m:      \t              (90, 0.51088692899027),\n",
            "\u001b[92mINFO \u001b[0m:      \t              (91, 0.5103326238918203),\n",
            "\u001b[92mINFO \u001b[0m:      \t              (92, 0.5171591569707746),\n",
            "\u001b[92mINFO \u001b[0m:      \t              (93, 0.5195188129746326),\n",
            "\u001b[92mINFO \u001b[0m:      \t              (94, 0.5209084200910543),\n",
            "\u001b[92mINFO \u001b[0m:      \t              (95, 0.5185569299588784),\n",
            "\u001b[92mINFO \u001b[0m:      \t              (96, 0.5280015810717215),\n",
            "\u001b[92mINFO \u001b[0m:      \t              (97, 0.5148133853398177),\n",
            "\u001b[92mINFO \u001b[0m:      \t              (98, 0.531206066564321),\n",
            "\u001b[92mINFO \u001b[0m:      \t              (99, 0.5295629596729041),\n",
            "\u001b[92mINFO \u001b[0m:      \t              (100, 0.5377776912595879)],\n",
            "\u001b[92mINFO \u001b[0m:      \t 'loss': [(1, 2.3016450618755444),\n",
            "\u001b[92mINFO \u001b[0m:      \t          (2, 2.300528020362186),\n",
            "\u001b[92mINFO \u001b[0m:      \t          (3, 2.2986938815798035),\n",
            "\u001b[92mINFO \u001b[0m:      \t          (4, 2.2967706643252748),\n",
            "\u001b[92mINFO \u001b[0m:      \t          (5, 2.2936485564378146),\n",
            "\u001b[92mINFO \u001b[0m:      \t          (6, 2.287000250007291),\n",
            "\u001b[92mINFO \u001b[0m:      \t          (7, 2.273859418352853),\n",
            "\u001b[92mINFO \u001b[0m:      \t          (8, 2.251391642802008),\n",
            "\u001b[92mINFO \u001b[0m:      \t          (9, 2.2174513182493074),\n",
            "\u001b[92mINFO \u001b[0m:      \t          (10, 2.1790716063501963),\n",
            "\u001b[92mINFO \u001b[0m:      \t          (11, 2.1428780621056203),\n",
            "\u001b[92mINFO \u001b[0m:      \t          (12, 2.1135841257290613),\n",
            "\u001b[92mINFO \u001b[0m:      \t          (13, 2.0825779749854614),\n",
            "\u001b[92mINFO \u001b[0m:      \t          (14, 2.0656052036590618),\n",
            "\u001b[92mINFO \u001b[0m:      \t          (15, 2.070693398674157),\n",
            "\u001b[92mINFO \u001b[0m:      \t          (16, 2.032491386898954),\n",
            "\u001b[92mINFO \u001b[0m:      \t          (17, 2.0033882221448684),\n",
            "\u001b[92mINFO \u001b[0m:      \t          (18, 2.0058044791758602),\n",
            "\u001b[92mINFO \u001b[0m:      \t          (19, 1.976195264116713),\n",
            "\u001b[92mINFO \u001b[0m:      \t          (20, 1.9489184644522934),\n",
            "\u001b[92mINFO \u001b[0m:      \t          (21, 1.9314395210813502),\n",
            "\u001b[92mINFO \u001b[0m:      \t          (22, 1.9033263775520366),\n",
            "\u001b[92mINFO \u001b[0m:      \t          (23, 1.9429026948544248),\n",
            "\u001b[92mINFO \u001b[0m:      \t          (24, 1.8602075242712328),\n",
            "\u001b[92mINFO \u001b[0m:      \t          (25, 1.8495434502086001),\n",
            "\u001b[92mINFO \u001b[0m:      \t          (26, 1.880768661175578),\n",
            "\u001b[92mINFO \u001b[0m:      \t          (27, 1.8255438955923942),\n",
            "\u001b[92mINFO \u001b[0m:      \t          (28, 1.8107547211740032),\n",
            "\u001b[92mINFO \u001b[0m:      \t          (29, 1.7980304308543114),\n",
            "\u001b[92mINFO \u001b[0m:      \t          (30, 1.7991026099810803),\n",
            "\u001b[92mINFO \u001b[0m:      \t          (31, 1.7726037126980936),\n",
            "\u001b[92mINFO \u001b[0m:      \t          (32, 1.7678159387217596),\n",
            "\u001b[92mINFO \u001b[0m:      \t          (33, 1.7729831125082303),\n",
            "\u001b[92mINFO \u001b[0m:      \t          (34, 1.7604513764072174),\n",
            "\u001b[92mINFO \u001b[0m:      \t          (35, 1.7484812408928918),\n",
            "\u001b[92mINFO \u001b[0m:      \t          (36, 1.7417985313454347),\n",
            "\u001b[92mINFO \u001b[0m:      \t          (37, 1.744313277131982),\n",
            "\u001b[92mINFO \u001b[0m:      \t          (38, 1.7338389290039313),\n",
            "\u001b[92mINFO \u001b[0m:      \t          (39, 1.7337700228867692),\n",
            "\u001b[92mINFO \u001b[0m:      \t          (40, 1.712675252223843),\n",
            "\u001b[92mINFO \u001b[0m:      \t          (41, 1.713246735184756),\n",
            "\u001b[92mINFO \u001b[0m:      \t          (42, 1.7146490790792273),\n",
            "\u001b[92mINFO \u001b[0m:      \t          (43, 1.698451173419547),\n",
            "\u001b[92mINFO \u001b[0m:      \t          (44, 1.6946198735858855),\n",
            "\u001b[92mINFO \u001b[0m:      \t          (45, 1.6914614049154997),\n",
            "\u001b[92mINFO \u001b[0m:      \t          (46, 1.6918643689682953),\n",
            "\u001b[92mINFO \u001b[0m:      \t          (47, 1.6974760655280072),\n",
            "\u001b[92mINFO \u001b[0m:      \t          (48, 1.676821838081759),\n",
            "\u001b[92mINFO \u001b[0m:      \t          (49, 1.6653732499403195),\n",
            "\u001b[92mINFO \u001b[0m:      \t          (50, 1.6726957293493636),\n",
            "\u001b[92mINFO \u001b[0m:      \t          (51, 1.6527450326277378),\n",
            "\u001b[92mINFO \u001b[0m:      \t          (52, 1.6450471313235795),\n",
            "\u001b[92mINFO \u001b[0m:      \t          (53, 1.641042989231152),\n",
            "\u001b[92mINFO \u001b[0m:      \t          (54, 1.6467462153011343),\n",
            "\u001b[92mINFO \u001b[0m:      \t          (55, 1.6631867667617901),\n",
            "\u001b[92mINFO \u001b[0m:      \t          (56, 1.6224831606186438),\n",
            "\u001b[92mINFO \u001b[0m:      \t          (57, 1.643460420889477),\n",
            "\u001b[92mINFO \u001b[0m:      \t          (58, 1.6169529827812317),\n",
            "\u001b[92mINFO \u001b[0m:      \t          (59, 1.6254272130121226),\n",
            "\u001b[92mINFO \u001b[0m:      \t          (60, 1.618857920252158),\n",
            "\u001b[92mINFO \u001b[0m:      \t          (61, 1.6127424332695492),\n",
            "\u001b[92mINFO \u001b[0m:      \t          (62, 1.6129209994581437),\n",
            "\u001b[92mINFO \u001b[0m:      \t          (63, 1.6423583339333088),\n",
            "\u001b[92mINFO \u001b[0m:      \t          (64, 1.6081745216406511),\n",
            "\u001b[92mINFO \u001b[0m:      \t          (65, 1.599968432214631),\n",
            "\u001b[92mINFO \u001b[0m:      \t          (66, 1.6145457438495772),\n",
            "\u001b[92mINFO \u001b[0m:      \t          (67, 1.6041701792075849),\n",
            "\u001b[92mINFO \u001b[0m:      \t          (68, 1.5963879618033656),\n",
            "\u001b[92mINFO \u001b[0m:      \t          (69, 1.5714888527880544),\n",
            "\u001b[92mINFO \u001b[0m:      \t          (70, 1.6023437014804207),\n",
            "\u001b[92mINFO \u001b[0m:      \t          (71, 1.5916215138217553),\n",
            "\u001b[92mINFO \u001b[0m:      \t          (72, 1.5661444576729875),\n",
            "\u001b[92mINFO \u001b[0m:      \t          (73, 1.5532675351219845),\n",
            "\u001b[92mINFO \u001b[0m:      \t          (74, 1.567242997829009),\n",
            "\u001b[92mINFO \u001b[0m:      \t          (75, 1.5444606155946943),\n",
            "\u001b[92mINFO \u001b[0m:      \t          (76, 1.5410553972482417),\n",
            "\u001b[92mINFO \u001b[0m:      \t          (77, 1.5524000166371301),\n",
            "\u001b[92mINFO \u001b[0m:      \t          (78, 1.5648511216971899),\n",
            "\u001b[92mINFO \u001b[0m:      \t          (79, 1.5400793827905346),\n",
            "\u001b[92mINFO \u001b[0m:      \t          (80, 1.5418526350793464),\n",
            "\u001b[92mINFO \u001b[0m:      \t          (81, 1.5231693665405723),\n",
            "\u001b[92mINFO \u001b[0m:      \t          (82, 1.5356308109123917),\n",
            "\u001b[92mINFO \u001b[0m:      \t          (83, 1.5154357248737378),\n",
            "\u001b[92mINFO \u001b[0m:      \t          (84, 1.4912703069025073),\n",
            "\u001b[92mINFO \u001b[0m:      \t          (85, 1.5342563105771925),\n",
            "\u001b[92mINFO \u001b[0m:      \t          (86, 1.5218350202425173),\n",
            "\u001b[92mINFO \u001b[0m:      \t          (87, 1.5360513226637098),\n",
            "\u001b[92mINFO \u001b[0m:      \t          (88, 1.5165044545037112),\n",
            "\u001b[92mINFO \u001b[0m:      \t          (89, 1.5063685080976863),\n",
            "\u001b[92mINFO \u001b[0m:      \t          (90, 1.529209368682652),\n",
            "\u001b[92mINFO \u001b[0m:      \t          (91, 1.4979866849485912),\n",
            "\u001b[92mINFO \u001b[0m:      \t          (92, 1.4993012945105417),\n",
            "\u001b[92mINFO \u001b[0m:      \t          (93, 1.4801231443697616),\n",
            "\u001b[92mINFO \u001b[0m:      \t          (94, 1.4993822089812032),\n",
            "\u001b[92mINFO \u001b[0m:      \t          (95, 1.4988742280326994),\n",
            "\u001b[92mINFO \u001b[0m:      \t          (96, 1.4574257682796006),\n",
            "\u001b[92mINFO \u001b[0m:      \t          (97, 1.4803713150636377),\n",
            "\u001b[92mINFO \u001b[0m:      \t          (98, 1.4806113527432272),\n",
            "\u001b[92mINFO \u001b[0m:      \t          (99, 1.4584128635209461),\n",
            "\u001b[92mINFO \u001b[0m:      \t          (100, 1.4520338120001668)]}\n",
            "\u001b[92mINFO \u001b[0m:      \n",
            "\u001b[36m(pid=2065)\u001b[0m 2024-10-15 23:47:22.219174: E external/local_xla/xla/stream_executor/cuda/cuda_fft.cc:485] Unable to register cuFFT factory: Attempting to register factory for plugin cuFFT when one has already been registered\n",
            "\u001b[36m(pid=2065)\u001b[0m 2024-10-15 23:47:22.279676: E external/local_xla/xla/stream_executor/cuda/cuda_dnn.cc:8454] Unable to register cuDNN factory: Attempting to register factory for plugin cuDNN when one has already been registered\n",
            "\u001b[36m(pid=2065)\u001b[0m 2024-10-15 23:47:22.291845: E external/local_xla/xla/stream_executor/cuda/cuda_blas.cc:1452] Unable to register cuBLAS factory: Attempting to register factory for plugin cuBLAS when one has already been registered\n",
            "\u001b[36m(pid=2065)\u001b[0m 2024-10-15 23:47:24.499348: W tensorflow/compiler/tf2tensorrt/utils/py_utils.cc:38] TF-TRT Warning: Could not find TensorRT\n"
          ]
        },
        {
          "output_type": "stream",
          "name": "stdout",
          "text": [
            "{'9': [(1, 0.12021857923497267), (2, 0.14098360655737704), (3, 0.14754098360655737), (4, 0.18688524590163935), (5, 0.21092896174863388), (6, 0.24153005464480876), (7, 0.2448087431693989), (8, 0.23825136612021858), (9, 0.24918032786885247), (10, 0.24262295081967214), (11, 0.26666666666666666), (12, 0.27759562841530055), (13, 0.2939890710382514), (14, 0.2754098360655738), (15, 0.3005464480874317), (16, 0.3224043715846995), (17, 0.32349726775956283), (18, 0.3366120218579235), (19, 0.34863387978142074), (20, 0.3836065573770492), (21, 0.3442622950819672), (22, 0.37486338797814206), (23, 0.3453551912568306), (24, 0.40327868852459015), (25, 0.40327868852459015), (26, 0.3628415300546448), (27, 0.4273224043715847), (28, 0.45027322404371584), (29, 0.45027322404371584), (30, 0.4371584699453552), (31, 0.4546448087431694), (32, 0.45792349726775955), (33, 0.45136612021857925), (34, 0.46120218579234973), (35, 0.4644808743169399), (36, 0.4448087431693989), (37, 0.46994535519125685), (38, 0.45901639344262296), (39, 0.4961748633879781), (40, 0.4557377049180328), (41, 0.49398907103825135), (42, 0.46229508196721314), (43, 0.4896174863387978), (44, 0.4907103825136612), (45, 0.4721311475409836), (46, 0.4907103825136612), (47, 0.49398907103825135), (48, 0.5016393442622951), (49, 0.5136612021857924), (50, 0.5202185792349727), (51, 0.5278688524590164), (52, 0.5060109289617486), (53, 0.512568306010929), (54, 0.5355191256830601), (55, 0.5180327868852459), (56, 0.5311475409836065), (57, 0.5311475409836065), (58, 0.5224043715846994), (59, 0.5311475409836065), (60, 0.5158469945355191), (61, 0.5158469945355191), (62, 0.5169398907103825), (63, 0.5092896174863388), (64, 0.5344262295081967), (65, 0.5551912568306011), (66, 0.5377049180327869), (67, 0.5333333333333333), (68, 0.5398907103825137), (69, 0.5508196721311476), (70, 0.5639344262295082), (71, 0.5617486338797815), (72, 0.546448087431694), (73, 0.5475409836065573), (74, 0.5398907103825137), (75, 0.5770491803278689), (76, 0.5759562841530055), (77, 0.5639344262295082), (78, 0.5475409836065573), (79, 0.5726775956284152), (80, 0.5792349726775956), (81, 0.5923497267759563), (82, 0.5967213114754099), (83, 0.5770491803278689), (84, 0.5879781420765028), (85, 0.5628415300546448), (86, 0.5836065573770491), (87, 0.5530054644808743), (88, 0.5868852459016394), (89, 0.5759562841530055), (90, 0.5683060109289617), (91, 0.5890710382513661), (92, 0.6109289617486339), (93, 0.6262295081967213), (94, 0.5759562841530055), (95, 0.5890710382513661), (96, 0.5956284153005464), (97, 0.5759562841530055), (98, 0.6065573770491803), (99, 0.5846994535519126), (100, 0.5967213114754099)], '3': [(1, 0.12044534412955465), (2, 0.14473684210526316), (3, 0.13765182186234817), (4, 0.1396761133603239), (5, 0.1902834008097166), (6, 0.2034412955465587), (7, 0.1902834008097166), (8, 0.1811740890688259), (9, 0.22773279352226722), (10, 0.22975708502024292), (11, 0.21153846153846154), (12, 0.2388663967611336), (13, 0.2722672064777328), (14, 0.2520242914979757), (15, 0.28846153846153844), (16, 0.28036437246963564), (17, 0.3188259109311741), (18, 0.3097165991902834), (19, 0.33704453441295545), (20, 0.33805668016194335), (21, 0.32894736842105265), (22, 0.36133603238866396), (23, 0.33704453441295545), (24, 0.3765182186234818), (25, 0.38866396761133604), (26, 0.3785425101214575), (27, 0.3815789473684211), (28, 0.3896761133603239), (29, 0.409919028340081), (30, 0.39979757085020245), (31, 0.4200404858299595), (32, 0.42611336032388664), (33, 0.4311740890688259), (34, 0.409919028340081), (35, 0.42813765182186236), (36, 0.42206477732793524), (37, 0.43218623481781376), (38, 0.4311740890688259), (39, 0.43724696356275305), (40, 0.4726720647773279), (41, 0.4180161943319838), (42, 0.4402834008097166), (43, 0.4807692307692308), (44, 0.4534412955465587), (45, 0.4605263157894737), (46, 0.47874493927125505), (47, 0.4645748987854251), (48, 0.4939271255060729), (49, 0.4665991902834008), (50, 0.4716599190283401), (51, 0.47874493927125505), (52, 0.5020242914979757), (53, 0.4848178137651822), (54, 0.4848178137651822), (55, 0.4868421052631579), (56, 0.4979757085020243), (57, 0.48380566801619435), (58, 0.521255060728745), (59, 0.5182186234817814), (60, 0.5182186234817814), (61, 0.5010121457489879), (62, 0.5040485829959515), (63, 0.5), (64, 0.5111336032388664), (65, 0.48279352226720645), (66, 0.4949392712550607), (67, 0.5263157894736842), (68, 0.5151821862348178), (69, 0.541497975708502), (70, 0.4939271255060729), (71, 0.48785425101214575), (72, 0.5597165991902834), (73, 0.49696356275303644), (74, 0.5475708502024291), (75, 0.5536437246963563), (76, 0.5404858299595142), (77, 0.5232793522267206), (78, 0.5445344129554656), (79, 0.5657894736842105), (80, 0.5394736842105263), (81, 0.5455465587044535), (82, 0.5465587044534413), (83, 0.5495951417004049), (84, 0.5779352226720648), (85, 0.5769230769230769), (86, 0.5425101214574899), (87, 0.5425101214574899), (88, 0.5718623481781376), (89, 0.5718623481781376), (90, 0.5566801619433198), (91, 0.555668016194332), (92, 0.5566801619433198), (93, 0.5708502024291497), (94, 0.5657894736842105), (95, 0.597165991902834), (96, 0.5819838056680162), (97, 0.5708502024291497), (98, 0.5921052631578947), (99, 0.5748987854251012), (100, 0.5931174089068826)], '6': [(1, 0.10899470899470899), (2, 0.091005291005291), (3, 0.10582010582010581), (4, 0.11534391534391535), (5, 0.164021164021164), (6, 0.16825396825396827), (7, 0.1873015873015873), (8, 0.1925925925925926), (9, 0.22328042328042327), (10, 0.2328042328042328), (11, 0.2222222222222222), (12, 0.2328042328042328), (13, 0.24444444444444444), (14, 0.2687830687830688), (15, 0.2761904761904762), (16, 0.30052910052910053), (17, 0.29947089947089944), (18, 0.3037037037037037), (19, 0.2708994708994709), (20, 0.3343915343915344), (21, 0.29947089947089944), (22, 0.33544973544973544), (23, 0.3396825396825397), (24, 0.34285714285714286), (25, 0.35343915343915344), (26, 0.3439153439153439), (27, 0.34814814814814815), (28, 0.3544973544973545), (29, 0.4042328042328042), (30, 0.4), (31, 0.4042328042328042), (32, 0.3978835978835979), (33, 0.4042328042328042), (34, 0.4148148148148148), (35, 0.4306878306878307), (36, 0.42328042328042326), (37, 0.4201058201058201), (38, 0.41693121693121693), (39, 0.4222222222222222), (40, 0.4444444444444444), (41, 0.4222222222222222), (42, 0.4444444444444444), (43, 0.4306878306878307), (44, 0.41904761904761906), (45, 0.43492063492063493), (46, 0.4486772486772487), (47, 0.45185185185185184), (48, 0.44232804232804235), (49, 0.4624338624338624), (50, 0.48253968253968255), (51, 0.5047619047619047), (52, 0.4666666666666667), (53, 0.4740740740740741), (54, 0.4603174603174603), (55, 0.5047619047619047), (56, 0.4708994708994709), (57, 0.4560846560846561), (58, 0.4613756613756614), (59, 0.4666666666666667), (60, 0.5015873015873016), (61, 0.4846560846560847), (62, 0.4962962962962963), (63, 0.4613756613756614), (64, 0.5015873015873016), (65, 0.49523809523809526), (66, 0.5068783068783069), (67, 0.4857142857142857), (68, 0.4931216931216931), (69, 0.5068783068783069), (70, 0.5068783068783069), (71, 0.5015873015873016), (72, 0.5121693121693122), (73, 0.5354497354497354), (74, 0.5312169312169313), (75, 0.5238095238095238), (76, 0.5386243386243387), (77, 0.5238095238095238), (78, 0.5015873015873016), (79, 0.5333333333333333), (80, 0.5322751322751322), (81, 0.5195767195767196), (82, 0.5291005291005291), (83, 0.5671957671957671), (84, 0.546031746031746), (85, 0.546031746031746), (86, 0.5375661375661376), (87, 0.5164021164021164), (88, 0.5576719576719577), (89, 0.5439153439153439), (90, 0.5470899470899471), (91, 0.562962962962963), (92, 0.5523809523809524), (93, 0.5576719576719577), (94, 0.5492063492063493), (95, 0.5417989417989418), (96, 0.5534391534391534), (97, 0.5608465608465608), (98, 0.5724867724867725), (99, 0.5777777777777777), (100, 0.580952380952381)], '2': [(1, 0.12796697626418987), (2, 0.12280701754385964), (3, 0.12693498452012383), (4, 0.12796697626418987), (5, 0.17956656346749225), (6, 0.20330237358101136), (7, 0.22394220846233232), (8, 0.20227038183694532), (9, 0.2260061919504644), (10, 0.22497420020639836), (11, 0.25077399380804954), (12, 0.2579979360165119), (13, 0.25077399380804954), (14, 0.25077399380804954), (15, 0.2807017543859649), (16, 0.30030959752321984), (17, 0.31682146542827655), (18, 0.2951496388028896), (19, 0.3137254901960784), (20, 0.3560371517027864), (21, 0.30959752321981426), (22, 0.3570691434468524), (23, 0.34262125902992774), (24, 0.36429308565531476), (25, 0.38802889576883387), (26, 0.36635706914344685), (27, 0.39009287925696595), (28, 0.36945304437564497), (29, 0.40350877192982454), (30, 0.38080495356037153), (31, 0.40763673890608876), (32, 0.4086687306501548), (33, 0.43550051599587203), (34, 0.4148606811145511), (35, 0.42518059855521156), (36, 0.4024767801857585), (37, 0.43137254901960786), (38, 0.4262125902992776), (39, 0.4200206398348813), (40, 0.434468524251806), (41, 0.4458204334365325), (42, 0.4695562435500516), (43, 0.4324045407636739), (44, 0.4582043343653251), (45, 0.47368421052631576), (46, 0.4406604747162023), (47, 0.46233230134158926), (48, 0.47471620227038186), (49, 0.4726522187822497), (50, 0.4716202270381837), (51, 0.4840041279669763), (52, 0.49226006191950467), (53, 0.4582043343653251), (54, 0.4984520123839009), (55, 0.478844169246646), (56, 0.48813209494324045), (57, 0.4871001031991744), (58, 0.4953560371517028), (59, 0.48813209494324045), (60, 0.47058823529411764), (61, 0.4757481940144479), (62, 0.49432404540763675), (63, 0.4871001031991744), (64, 0.5046439628482973), (65, 0.5263157894736842), (66, 0.4809081527347781), (67, 0.49226006191950467), (68, 0.5366357069143447), (69, 0.5314757481940144), (70, 0.5046439628482973), (71, 0.5386996904024768), (72, 0.5118679050567595), (73, 0.5325077399380805), (74, 0.5263157894736842), (75, 0.5727554179566563), (76, 0.5294117647058824), (77, 0.542827657378741), (78, 0.5201238390092879), (79, 0.5469556243550051), (80, 0.5459236326109391), (81, 0.5479876160990712), (82, 0.5376676986584107), (83, 0.5397316821465429), (84, 0.543859649122807), (85, 0.5211558307533539), (86, 0.5624355005159959), (87, 0.5583075335397317), (88, 0.5459236326109391), (89, 0.5820433436532507), (90, 0.5572755417956656), (91, 0.5459236326109391), (92, 0.5985552115583075), (93, 0.5820433436532507), (94, 0.5892672858617131), (95, 0.5562435500515995), (96, 0.5799793601651186), (97, 0.5469556243550051), (98, 0.5830753353973168), (99, 0.5964912280701754), (100, 0.5727554179566563)], '7': [(1, 0.10961737331954498), (2, 0.10237849017580145), (3, 0.09720785935884178), (4, 0.13960703205791106), (5, 0.16856256463288521), (6, 0.18200620475698034), (7, 0.19648397104446744), (8, 0.2047569803516029), (9, 0.2326783867631851), (10, 0.2481902792140641), (11, 0.23681489141675285), (12, 0.2533609100310238), (13, 0.2564632885211996), (14, 0.2792140641158221), (15, 0.2564632885211996), (16, 0.2905894519131334), (17, 0.28024819027921405), (18, 0.2988624612202689), (19, 0.31954498448810753), (20, 0.3164426059979317), (21, 0.31230610134436404), (22, 0.3185108583247156), (23, 0.3154084798345398), (24, 0.3578076525336091), (25, 0.36918304033092036), (26, 0.3422957600827301), (27, 0.36297828335056875), (28, 0.375387797311272), (29, 0.40537745604963804), (30, 0.3846949327817994), (31, 0.39710444674250256), (32, 0.4074457083764219), (33, 0.38676318510858326), (34, 0.40847983453981385), (35, 0.42916235780765255), (36, 0.42605997931747674), (37, 0.41675284384694933), (38, 0.43226473629782836), (39, 0.4446742502585315), (40, 0.41985522233712513), (41, 0.421923474663909), (42, 0.42916235780765255), (43, 0.46018614270941055), (44, 0.4384694932781799), (45, 0.4343329886246122), (46, 0.4446742502585315), (47, 0.4498448810754912), (48, 0.4674250258531541), (49, 0.47156153050672184), (50, 0.45191313340227507), (51, 0.44570837642192346), (52, 0.4591520165460186), (53, 0.4808686659772492), (54, 0.49948293691830403), (55, 0.4560496380558428), (56, 0.46949327817993797), (57, 0.49120992761116855), (58, 0.4674250258531541), (59, 0.5077559462254395), (60, 0.4870734229576008), (61, 0.5149948293691831), (62, 0.4622543950361944), (63, 0.5087900723888314), (64, 0.49431230610134436), (65, 0.516028955532575), (66, 0.48500517063081694), (67, 0.4922440537745605), (68, 0.5294725956566702), (69, 0.516028955532575), (70, 0.5077559462254395), (71, 0.5201654601861427), (72, 0.5108583247156153), (73, 0.5439503619441571), (74, 0.5387797311271976), (75, 0.5501551189245087), (76, 0.5367114788004137), (77, 0.531540847983454), (78, 0.48293691830403307), (79, 0.5211995863495347), (80, 0.5470527404343329), (81, 0.5211995863495347), (82, 0.5594622543950362), (83, 0.5584281282316442), (84, 0.5573940020682523), (85, 0.532574974146846), (86, 0.5522233712512926), (87, 0.5429162357807652), (88, 0.5501551189245087), (89, 0.5594622543950362), (90, 0.5635987590486039), (91, 0.5511892450879007), (92, 0.5594622543950362), (93, 0.5501551189245087), (94, 0.5687693898655636), (95, 0.5656670113753878), (96, 0.578076525336091), (97, 0.56153050672182), (98, 0.5904860392967942), (99, 0.5698035160289555), (100, 0.5687693898655636)], '1': [(1, 0.0950920245398773), (2, 0.1114519427402863), (3, 0.09918200408997956), (4, 0.12576687116564417), (5, 0.17791411042944785), (6, 0.17893660531697342), (7, 0.20245398773006135), (8, 0.18302658486707565), (9, 0.19120654396728015), (10, 0.23517382413087934), (11, 0.23721881390593047), (12, 0.24846625766871167), (13, 0.2607361963190184), (14, 0.25869120654396727), (15, 0.2965235173824131), (16, 0.294478527607362), (17, 0.2965235173824131), (18, 0.30879345603271985), (19, 0.31901840490797545), (20, 0.33026584867075665), (21, 0.33844580777096117), (22, 0.3292433537832311), (23, 0.3507157464212679), (24, 0.37321063394683024), (25, 0.38650306748466257), (26, 0.3588957055214724), (27, 0.41411042944785276), (28, 0.3885480572597137), (29, 0.401840490797546), (30, 0.4222903885480573), (31, 0.38139059304703476), (32, 0.43660531697341515), (33, 0.41513292433537835), (34, 0.43558282208588955), (35, 0.39775051124744376), (36, 0.4458077709611452), (37, 0.4437627811860941), (38, 0.45194274028629855), (39, 0.4458077709611452), (40, 0.4325153374233129), (41, 0.4386503067484663), (42, 0.43149284253578735), (43, 0.4386503067484663), (44, 0.4867075664621677), (45, 0.4560327198364008), (46, 0.43047034764826175), (47, 0.4570552147239264), (48, 0.4539877300613497), (49, 0.46319018404907975), (50, 0.4539877300613497), (51, 0.4652351738241309), (52, 0.49591002044989774), (53, 0.48261758691206547), (54, 0.4550102249488753), (55, 0.4703476482617587), (56, 0.5122699386503068), (57, 0.4775051124744376), (58, 0.5), (59, 0.4938650306748466), (60, 0.48261758691206547), (61, 0.48568507157464214), (62, 0.5112474437627812), (63, 0.4785276073619632), (64, 0.4775051124744376), (65, 0.5214723926380368), (66, 0.4754601226993865), (67, 0.516359918200409), (68, 0.5408997955010225), (69, 0.5245398773006135), (70, 0.5276073619631901), (71, 0.5204498977505112), (72, 0.5388548057259713), (73, 0.5296523517382413), (74, 0.5030674846625767), (75, 0.5572597137014315), (76, 0.5388548057259713), (77, 0.5337423312883436), (78, 0.5357873210633947), (79, 0.5480572597137015), (80, 0.5541922290388548), (81, 0.5408997955010225), (82, 0.5378323108384458), (83, 0.5255623721881391), (84, 0.5306748466257669), (85, 0.5572597137014315), (86, 0.5316973415132924), (87, 0.5511247443762781), (88, 0.5460122699386503), (89, 0.5613496932515337), (90, 0.5593047034764826), (91, 0.558282208588957), (92, 0.549079754601227), (93, 0.5429447852760736), (94, 0.5879345603271984), (95, 0.5603271983640081), (96, 0.5736196319018405), (97, 0.5777096114519428), (98, 0.5848670756646217), (99, 0.5869120654396728), (100, 0.6042944785276073)], '8': [(1, 0.08981380065717415), (2, 0.08652792990142388), (3, 0.0963855421686747), (4, 0.10952902519167579), (5, 0.09419496166484119), (6, 0.09857612267250822), (7, 0.09748083242059145), (8, 0.10514786418400876), (9, 0.08433734939759036), (10, 0.07667031763417305), (11, 0.07338444687842278), (12, 0.08762322015334063), (13, 0.0832420591456736), (14, 0.08543263964950712), (15, 0.060240963855421686), (16, 0.08762322015334063), (17, 0.0832420591456736), (18, 0.07667031763417305), (19, 0.06790799561883899), (20, 0.07228915662650602), (21, 0.06900328587075576), (22, 0.0887185104052574), (23, 0.06462212486308871), (24, 0.07338444687842278), (25, 0.07776560788608981), (26, 0.07119386637458927), (27, 0.06462212486308871), (28, 0.0755750273822563), (29, 0.06900328587075576), (30, 0.07228915662650602), (31, 0.05366922234392114), (32, 0.06571741511500548), (33, 0.07338444687842278), (34, 0.06900328587075576), (35, 0.05914567360350493), (36, 0.07338444687842278), (37, 0.054764512595837894), (38, 0.07119386637458927), (39, 0.05147864184008762), (40, 0.0700985761226725), (41, 0.05585980284775466), (42, 0.0624315443592552), (43, 0.060240963855421686), (44, 0.06352683461117196), (45, 0.050383351588170866), (46, 0.05585980284775466), (47, 0.05805038335158817), (48, 0.050383351588170866), (49, 0.04928806133625411), (50, 0.05257393209200438), (51, 0.07667031763417305), (52, 0.05805038335158817), (53, 0.056955093099671415), (54, 0.05366922234392114), (55, 0.06352683461117196), (56, 0.054764512595837894), (57, 0.06352683461117196), (58, 0.06571741511500548), (59, 0.056955093099671415), (60, 0.05805038335158817), (61, 0.05147864184008762), (62, 0.056955093099671415), (63, 0.06462212486308871), (64, 0.05914567360350493), (65, 0.056955093099671415), (66, 0.060240963855421686), (67, 0.05805038335158817), (68, 0.04928806133625411), (69, 0.05914567360350493), (70, 0.054764512595837894), (71, 0.054764512595837894), (72, 0.054764512595837894), (73, 0.05585980284775466), (74, 0.05805038335158817), (75, 0.04928806133625411), (76, 0.04819277108433735), (77, 0.047097480832420595), (78, 0.05366922234392114), (79, 0.0416210295728368), (80, 0.04928806133625411), (81, 0.05257393209200438), (82, 0.038335158817086525), (83, 0.04381161007667032), (84, 0.060240963855421686), (85, 0.04819277108433735), (86, 0.05585980284775466), (87, 0.06352683461117196), (88, 0.05257393209200438), (89, 0.05914567360350493), (90, 0.060240963855421686), (91, 0.06133625410733844), (92, 0.0416210295728368), (93, 0.05366922234392114), (94, 0.04928806133625411), (95, 0.04819277108433735), (96, 0.04600219058050383), (97, 0.05147864184008762), (98, 0.03943044906900329), (99, 0.05147864184008762), (100, 0.04928806133625411)], '0': [(1, 0.09478168264110756), (2, 0.10117145899893504), (3, 0.0926517571884984), (4, 0.12566560170394037), (5, 0.15228966986155484), (6, 0.18210862619808307), (7, 0.21938232161874335), (8, 0.18636847710330137), (9, 0.22044728434504793), (10, 0.2268370607028754), (11, 0.24920127795527156), (12, 0.2566560170394036), (13, 0.2673056443024494), (14, 0.28008519701810436), (15, 0.3035143769968051), (16, 0.28647497337593186), (17, 0.2832800851970181), (18, 0.3003194888178914), (19, 0.3184238551650692), (20, 0.34185303514376997), (21, 0.31629392971246006), (22, 0.3152289669861555), (23, 0.33759318423855167), (24, 0.3759318423855165), (25, 0.3599574014909478), (26, 0.3397231096911608), (27, 0.3876464323748669), (28, 0.39403620873269435), (29, 0.38977635782747605), (30, 0.3780617678381257), (31, 0.3908413205537806), (32, 0.37912673056443025), (33, 0.4036208732694356), (34, 0.40894568690095845), (35, 0.3780617678381257), (36, 0.4217252396166134), (37, 0.42598509052183176), (38, 0.4185303514376997), (39, 0.43130990415335463), (40, 0.44515441959531415), (41, 0.4355697550585729), (42, 0.4398296059637913), (43, 0.4792332268370607), (44, 0.4440894568690096), (45, 0.4589989350372737), (46, 0.43769968051118213), (47, 0.47071352502662406), (48, 0.46112886048988283), (49, 0.4739084132055378), (50, 0.47177848775292863), (51, 0.48562300319488816), (52, 0.4696485623003195), (53, 0.4909478168264111), (54, 0.49201277955271566), (55, 0.45580404685835996), (56, 0.483493077742279), (57, 0.45580404685835996), (58, 0.4952076677316294), (59, 0.48881789137380194), (60, 0.5079872204472844), (61, 0.5079872204472844), (62, 0.476038338658147), (63, 0.5026624068157615), (64, 0.5133120340788072), (65, 0.5111821086261981), (66, 0.5133120340788072), (67, 0.5143769968051118), (68, 0.5175718849840255), (69, 0.5069222577209798), (70, 0.5154419595314164), (71, 0.5271565495207667), (72, 0.49627263045793396), (73, 0.5250266240681576), (74, 0.5079872204472844), (75, 0.5324813631522897), (76, 0.5260915867944622), (77, 0.5303514376996805), (78, 0.5218317358892439), (79, 0.5399361022364217), (80, 0.5111821086261981), (81, 0.5228966986155484), (82, 0.5388711395101171), (83, 0.56975505857295), (84, 0.5591054313099042), (85, 0.5228966986155484), (86, 0.5388711395101171), (87, 0.5335463258785943), (88, 0.5303514376996805), (89, 0.5591054313099042), (90, 0.5463258785942492), (91, 0.5537806176783813), (92, 0.5484558040468583), (93, 0.5782747603833865), (94, 0.5601703940362087), (95, 0.5867944621938233), (96, 0.5537806176783813), (97, 0.5718849840255591), (98, 0.5857294994675186), (99, 0.5676251331203408), (100, 0.617678381256656)], '5': [(1, 0.10618556701030928), (2, 0.1134020618556701), (3, 0.10103092783505155), (4, 0.12577319587628866), (5, 0.14948453608247422), (6, 0.18969072164948453), (7, 0.18453608247422681), (8, 0.19484536082474227), (9, 0.21855670103092784), (10, 0.24845360824742269), (11, 0.23917525773195877), (12, 0.25257731958762886), (13, 0.26082474226804125), (14, 0.27319587628865977), (15, 0.26288659793814434), (16, 0.2670103092783505), (17, 0.29690721649484536), (18, 0.30515463917525776), (19, 0.30412371134020616), (20, 0.32783505154639175), (21, 0.32268041237113404), (22, 0.3216494845360825), (23, 0.32783505154639175), (24, 0.3752577319587629), (25, 0.35360824742268043), (26, 0.36391752577319586), (27, 0.3958762886597938), (28, 0.38144329896907214), (29, 0.36597938144329895), (30, 0.4092783505154639), (31, 0.4288659793814433), (32, 0.422680412371134), (33, 0.40309278350515465), (34, 0.42061855670103093), (35, 0.411340206185567), (36, 0.43402061855670104), (37, 0.40824742268041236), (38, 0.4020618556701031), (39, 0.4), (40, 0.4484536082474227), (41, 0.4175257731958763), (42, 0.43402061855670104), (43, 0.4422680412371134), (44, 0.44123711340206184), (45, 0.4484536082474227), (46, 0.4742268041237113), (47, 0.45979381443298967), (48, 0.4463917525773196), (49, 0.46288659793814435), (50, 0.4608247422680412), (51, 0.47010309278350515), (52, 0.47835051546391755), (53, 0.46804123711340206), (54, 0.4556701030927835), (55, 0.47835051546391755), (56, 0.5030927835051546), (57, 0.4484536082474227), (58, 0.4927835051546392), (59, 0.4927835051546392), (60, 0.4845360824742268), (61, 0.47835051546391755), (62, 0.47010309278350515), (63, 0.4608247422680412), (64, 0.4865979381443299), (65, 0.5092783505154639), (66, 0.49896907216494846), (67, 0.4927835051546392), (68, 0.4845360824742268), (69, 0.5350515463917526), (70, 0.4927835051546392), (71, 0.5175257731958763), (72, 0.511340206185567), (73, 0.5195876288659794), (74, 0.48762886597938143), (75, 0.5185567010309279), (76, 0.5237113402061856), (77, 0.5175257731958763), (78, 0.5319587628865979), (79, 0.5329896907216495), (80, 0.51340206185567), (81, 0.5484536082474227), (82, 0.5237113402061856), (83, 0.5350515463917526), (84, 0.5690721649484536), (85, 0.5371134020618556), (86, 0.5278350515463918), (87, 0.5195876288659794), (88, 0.5391752577319587), (89, 0.5329896907216495), (90, 0.5567010309278351), (91, 0.5422680412371134), (92, 0.5556701030927835), (93, 0.554639175257732), (94, 0.5670103092783505), (95, 0.5494845360824743), (96, 0.5938144329896907), (97, 0.5587628865979382), (98, 0.5731958762886598), (99, 0.5876288659793815), (100, 0.5793814432989691)], '4': [(1, 0.1008991008991009), (2, 0.13786213786213786), (3, 0.1028971028971029), (4, 0.1258741258741259), (5, 0.15384615384615385), (6, 0.1928071928071928), (7, 0.1998001998001998), (8, 0.16983016983016982), (9, 0.21478521478521478), (10, 0.23276723276723277), (11, 0.22577422577422576), (12, 0.24475524475524477), (13, 0.26173826173826176), (14, 0.2727272727272727), (15, 0.25774225774225773), (16, 0.27972027972027974), (17, 0.2967032967032967), (18, 0.26973026973026976), (19, 0.3196803196803197), (20, 0.3016983016983017), (21, 0.33266733266733267), (22, 0.3336663336663337), (23, 0.34165834165834164), (24, 0.35364635364635366), (25, 0.3706293706293706), (26, 0.3876123876123876), (27, 0.37462537462537465), (28, 0.37362637362637363), (29, 0.4145854145854146), (30, 0.3836163836163836), (31, 0.42657342657342656), (32, 0.4145854145854146), (33, 0.42157842157842157), (34, 0.4175824175824176), (35, 0.4125874125874126), (36, 0.4125874125874126), (37, 0.43656343656343655), (38, 0.4275724275724276), (39, 0.4165834165834166), (40, 0.44555444555444557), (41, 0.42357642357642356), (42, 0.44455544455544455), (43, 0.44255744255744256), (44, 0.44155844155844154), (45, 0.4775224775224775), (46, 0.46253746253746253), (47, 0.44455544455544455), (48, 0.4515484515484515), (49, 0.4645354645354645), (50, 0.4865134865134865), (51, 0.46353646353646355), (52, 0.47352647352647353), (53, 0.48951048951048953), (54, 0.45854145854145856), (55, 0.4695304695304695), (56, 0.4885114885114885), (57, 0.5094905094905094), (58, 0.4995004995004995), (59, 0.5134865134865135), (60, 0.4945054945054945), (61, 0.5014985014985015), (62, 0.4885114885114885), (63, 0.4805194805194805), (64, 0.5174825174825175), (65, 0.4945054945054945), (66, 0.5044955044955045), (67, 0.5014985014985015), (68, 0.5144855144855145), (69, 0.5324675324675324), (70, 0.5064935064935064), (71, 0.5194805194805194), (72, 0.5104895104895105), (73, 0.5344655344655345), (74, 0.5314685314685315), (75, 0.5474525474525475), (76, 0.5194805194805194), (77, 0.5204795204795205), (78, 0.5144855144855145), (79, 0.5374625374625375), (80, 0.5314685314685315), (81, 0.5544455544455544), (82, 0.5564435564435565), (83, 0.5204795204795205), (84, 0.5454545454545454), (85, 0.5054945054945055), (86, 0.5834165834165834), (87, 0.5374625374625375), (88, 0.5544455544455544), (89, 0.5574425574425574), (90, 0.5684315684315684), (91, 0.5604395604395604), (92, 0.5744255744255744), (93, 0.5574425574425574), (94, 0.5694305694305695), (95, 0.5664335664335665), (96, 0.5964035964035964), (97, 0.5484515484515484), (98, 0.5594405594405595), (99, 0.5724275724275725), (100, 0.5894105894105894)]}\n",
            "{'9': [(1, 2.2986278956053687), (2, 2.296689891294052), (3, 2.2943700610614215), (4, 2.2902669523583086), (5, 2.2876579143961924), (6, 2.276272328955228), (7, 2.2633721127536126), (8, 2.2349152202814655), (9, 2.195179089040704), (10, 2.144200058191852), (11, 2.1075708777526687), (12, 2.03344359814795), (13, 2.038862265394034), (14, 2.002599280128062), (15, 1.98633405276335), (16, 1.9451235613536313), (17, 1.9028906605934184), (18, 1.8941685900662115), (19, 1.8723038088428519), (20, 1.8177782105617837), (21, 1.8215426416344982), (22, 1.7647993100796893), (23, 1.8416963703645384), (24, 1.7085242231035493), (25, 1.6805342489252977), (26, 1.7432404141608484), (27, 1.653854813862368), (28, 1.626562720048623), (29, 1.609799797938821), (30, 1.6235137516032152), (31, 1.5517297475064387), (32, 1.565004228763893), (33, 1.6176444435380195), (34, 1.5311640258695258), (35, 1.5100949071144145), (36, 1.5628012683222203), (37, 1.5267685021207633), (38, 1.5349897022455767), (39, 1.5080521745108515), (40, 1.5498856402485748), (41, 1.4545217670378139), (42, 1.4956138603022842), (43, 1.4802181509674572), (44, 1.459376960373967), (45, 1.4771264701593119), (46, 1.4372947811428967), (47, 1.439659728378546), (48, 1.4309113010031278), (49, 1.4328918558652284), (50, 1.3992156762242969), (51, 1.3888676898727), (52, 1.4207680695695304), (53, 1.407579931535356), (54, 1.3885950795939712), (55, 1.41251976229454), (56, 1.3943694420850994), (57, 1.400347226434718), (58, 1.4013753966555569), (59, 1.3919140405342227), (60, 1.3751467058567401), (61, 1.354111218973587), (62, 1.3941801766880224), (63, 1.419289471412617), (64, 1.300126068644185), (65, 1.325875451265137), (66, 1.3630445017840693), (67, 1.351328407480417), (68, 1.3517100554346386), (69, 1.3444276545217129), (70, 1.3043296251140657), (71, 1.3187524885427757), (72, 1.322631728714281), (73, 1.3376028855641684), (74, 1.342587110253631), (75, 1.2789125499829568), (76, 1.2469738648888844), (77, 1.2389719065421265), (78, 1.285629472967054), (79, 1.2769492996194975), (80, 1.274983776462534), (81, 1.2123082713351223), (82, 1.2313855519060228), (83, 1.2557705152230185), (84, 1.2355375640379276), (85, 1.2327770402522686), (86, 1.2300728860448618), (87, 1.305150063832601), (88, 1.2217742328435346), (89, 1.2336152793279762), (90, 1.258198394019747), (91, 1.2127325160907265), (92, 1.181363622086947), (93, 1.1475490936164647), (94, 1.2097337351470696), (95, 1.2203601928356567), (96, 1.1992142761339908), (97, 1.2278253854949617), (98, 1.158704210500248), (99, 1.2304723112960982), (100, 1.1904602784928078)], '3': [(1, 2.3006605184995212), (2, 2.2997743755217024), (3, 2.2968720212156475), (4, 2.2970678786999783), (5, 2.2918617204133316), (6, 2.2846443517970654), (7, 2.2718599238376385), (8, 2.2521071627072478), (9, 2.1905866142226618), (10, 2.151375359369193), (11, 2.1408343652964605), (12, 2.0655092102313333), (13, 2.044977362821942), (14, 2.0162747639876146), (15, 1.9751748807034513), (16, 1.9754456074131646), (17, 1.9013242094140304), (18, 1.9188392490510515), (19, 1.8655695065795652), (20, 1.866858037377176), (21, 1.838960570845044), (22, 1.7892276010049981), (23, 1.8380723824867835), (24, 1.7470330728693046), (25, 1.697971291387612), (26, 1.6981622154413447), (27, 1.6641510734673937), (28, 1.6385433751079235), (29, 1.6657166341055742), (30, 1.6533323579471604), (31, 1.6163616807837236), (32, 1.604714160988688), (33, 1.6161057823582698), (34, 1.640929161295717), (35, 1.5718483553241622), (36, 1.6064713551447942), (37, 1.573717231692573), (38, 1.5669518704356453), (39, 1.5583758498975622), (40, 1.514588267214385), (41, 1.5742521643155982), (42, 1.5823824555285064), (43, 1.4855643390161306), (44, 1.506954539160014), (45, 1.5133948200627376), (46, 1.518765778676701), (47, 1.5286732574223507), (48, 1.4561593624261708), (49, 1.4908003411312334), (50, 1.471447537785117), (51, 1.4788277511171966), (52, 1.4428207690899189), (53, 1.4488034648933874), (54, 1.484340014245346), (55, 1.4500436305034499), (56, 1.4192431513597126), (57, 1.458990472531029), (58, 1.3842387720640854), (59, 1.3816556307950967), (60, 1.3828397197762), (61, 1.3817644066173538), (62, 1.3902701327675266), (63, 1.423615331591865), (64, 1.3712616792091956), (65, 1.408286994285429), (66, 1.4451761641483076), (67, 1.3642161775697097), (68, 1.3702912653988673), (69, 1.3239974821144753), (70, 1.3808075006191547), (71, 1.4147691480543931), (72, 1.2953239780688575), (73, 1.351855548769839), (74, 1.3429587041800803), (75, 1.3221645157346842), (76, 1.3159921458858228), (77, 1.328686451622349), (78, 1.3104592887496176), (79, 1.2736469772663193), (80, 1.328932567646629), (81, 1.289057343594941), (82, 1.285088729279244), (83, 1.2987536442907233), (84, 1.228254708683925), (85, 1.2673401369257011), (86, 1.276795830803844), (87, 1.2973775665769693), (88, 1.301858896427309), (89, 1.2484767880999608), (90, 1.2721674775305065), (91, 1.2644649420672582), (92, 1.2580696469859074), (93, 1.237076708662365), (94, 1.24829678545114), (95, 1.1926731146298921), (96, 1.1816016464580892), (97, 1.2367190663148517), (98, 1.1956489810094177), (99, 1.2007866279798964), (100, 1.1760025743530829)], '6': [(1, 2.3015778647528755), (2, 2.3019642920721144), (3, 2.2989977415276583), (4, 2.29746349955362), (5, 2.294253349556494), (6, 2.2884795827209636), (7, 2.2730400173752394), (8, 2.2449925450420882), (9, 2.20680371617514), (10, 2.1669553708777856), (11, 2.126766730490185), (12, 2.0820933566522344), (13, 2.043314497054569), (14, 2.0124423076236058), (15, 2.014706074119245), (16, 1.990535798653093), (17, 1.9342942100353342), (18, 1.955785299230505), (19, 1.9484152516360005), (20, 1.8667404868615367), (21, 1.8585019472414854), (22, 1.8266762705707045), (23, 1.8589486823510872), (24, 1.7626377814661258), (25, 1.7568934137859042), (26, 1.7994029317583358), (27, 1.740498636134718), (28, 1.715112933658418), (29, 1.6504292310230315), (30, 1.6700068145832687), (31, 1.6354037395860783), (32, 1.6193016577019264), (33, 1.6346779019744309), (34, 1.5980251897579778), (35, 1.5686947687593087), (36, 1.5825064569554002), (37, 1.6098071884225915), (38, 1.5804472372014686), (39, 1.5834342885900428), (40, 1.554415978073443), (41, 1.5718726455849945), (42, 1.5501656471736847), (43, 1.5815081706122747), (44, 1.5401376212084734), (45, 1.5639298251066258), (46, 1.516593080853659), (47, 1.542250459787076), (48, 1.4983650463598746), (49, 1.5086806962099024), (50, 1.4720777907699505), (51, 1.442388003843802), (52, 1.4981873844035718), (53, 1.4817329140567275), (54, 1.4667246679780344), (55, 1.436937602613338), (56, 1.4968791790109464), (57, 1.5164495744402446), (58, 1.4690986344423245), (59, 1.4754962576760187), (60, 1.4312454861938637), (61, 1.4244344023800402), (62, 1.415703640413032), (63, 1.4846691468405344), (64, 1.414048357236953), (65, 1.403411722940112), (66, 1.4545293348806876), (67, 1.4390081548186207), (68, 1.4108121608300184), (69, 1.367979407688928), (70, 1.4185694829496758), (71, 1.3978049150850407), (72, 1.3738616451384529), (73, 1.3455537061842662), (74, 1.3399709217132083), (75, 1.3480068770665972), (76, 1.3018414962859381), (77, 1.3463981598142594), (78, 1.3929742862307837), (79, 1.330919555886082), (80, 1.3351642202447962), (81, 1.362316682855919), (82, 1.3179644922730784), (83, 1.2664430287779955), (84, 1.2698023934843679), (85, 1.3221730744397198), (86, 1.2964676262209656), (87, 1.330193432298287), (88, 1.2702229487202155), (89, 1.315631007391309), (90, 1.3043380262990478), (91, 1.2500533394081883), (92, 1.2860580384415925), (93, 1.2626228734929725), (94, 1.2483332070093307), (95, 1.317831836427961), (96, 1.2756861648862323), (97, 1.230061473922124), (98, 1.2376125634031951), (99, 1.2194418117482826), (100, 1.231883242647484)], '2': [(1, 2.299896437071179), (2, 2.3001126367118214), (3, 2.2973706422083393), (4, 2.296616698689259), (5, 2.291861746948447), (6, 2.285554835670873), (7, 2.268772414840289), (8, 2.2376474664922346), (9, 2.1958247353048885), (10, 2.1546343106111383), (11, 2.0863446810420205), (12, 2.0599217820831868), (13, 2.0362859033086598), (14, 2.0193815819373193), (15, 1.9978443501042384), (16, 1.9481074194913064), (17, 1.9245084938742183), (18, 1.9400110552308483), (19, 1.9006006926820989), (20, 1.8080157036628763), (21, 1.8571778720377399), (22, 1.8078321747489512), (23, 1.840504388445056), (24, 1.7650193171604498), (25, 1.723230566894799), (26, 1.749413481806823), (27, 1.7110673911308234), (28, 1.7007055927233308), (29, 1.6831541447693597), (30, 1.6686997954936464), (31, 1.6537363115848034), (32, 1.6259628432207924), (33, 1.6128427599728785), (34, 1.629470293735941), (35, 1.5773538082868814), (36, 1.6459174480969692), (37, 1.6044357251087578), (38, 1.5673585297276484), (39, 1.6033265588207264), (40, 1.569489090927368), (41, 1.520595851574397), (42, 1.5082379616450967), (43, 1.5529399725182753), (44, 1.5203067053213208), (45, 1.4835974648517967), (46, 1.514687788621806), (47, 1.5298486724111442), (48, 1.5161974620769882), (49, 1.5272637571220673), (50, 1.491521633692447), (51, 1.4674334781949858), (52, 1.4301934360350617), (53, 1.5282203417936469), (54, 1.4338149534167397), (55, 1.4667429264607936), (56, 1.4188123364443626), (57, 1.457851392688889), (58, 1.4019701803185745), (59, 1.4582733416581917), (60, 1.4416129908940618), (61, 1.4731323449604283), (62, 1.3991288548283534), (63, 1.4298145774717301), (64, 1.4385687005778216), (65, 1.377253717805333), (66, 1.4609556151371377), (67, 1.4528019834229082), (68, 1.3940795845783656), (69, 1.3515606397691773), (70, 1.4027711538092393), (71, 1.3717850184662055), (72, 1.405698766772346), (73, 1.3436259949047376), (74, 1.3624134592719614), (75, 1.2894198021037413), (76, 1.345227176559968), (77, 1.316267543901969), (78, 1.366469748248995), (79, 1.3202231812403298), (80, 1.315374815550136), (81, 1.3052314700726015), (82, 1.352154351363364), (83, 1.336042792312378), (84, 1.3401187607255391), (85, 1.3352818789250833), (86, 1.288772936821968), (87, 1.2972192551452433), (88, 1.3077711397157241), (89, 1.261428763007724), (90, 1.3026122196786052), (91, 1.3103969933693869), (92, 1.2438651263652325), (93, 1.2566503288822155), (94, 1.2403574153488757), (95, 1.2682621064446904), (96, 1.215938739855346), (97, 1.2738311645047213), (98, 1.225826409640573), (99, 1.203381899586649), (100, 1.2268087488701962)], '7': [(1, 2.3022616585136815), (2, 2.300902754962136), (3, 2.299064501364944), (4, 2.295732588901145), (5, 2.293126745085928), (6, 2.2862552523982806), (7, 2.2727699869051343), (8, 2.243762461327964), (9, 2.1988157962199453), (10, 2.153620868089157), (11, 2.1078034527176044), (12, 2.07286998195017), (13, 2.013778065944778), (14, 2.009896989445652), (15, 2.051958656360346), (16, 1.9727105518654682), (17, 1.951035452234215), (18, 1.9497156310845802), (19, 1.8806474928772068), (20, 1.8676787212937915), (21, 1.8358063081427716), (22, 1.8179002954646746), (23, 1.8737360867743902), (24, 1.7424078674326269), (25, 1.7399008190249707), (26, 1.8087410840524636), (27, 1.7383388691382422), (28, 1.6892240091834714), (29, 1.6642129200567504), (30, 1.6834367288058891), (31, 1.6399069043201893), (32, 1.6157631793954133), (33, 1.625269033176576), (34, 1.6232264024641792), (35, 1.5797929465462528), (36, 1.5616290972422666), (37, 1.6096226069402053), (38, 1.5868958722965671), (39, 1.5753843688175868), (40, 1.5748454080865697), (41, 1.5859522676517206), (42, 1.5851278105344249), (43, 1.5405647207317332), (44, 1.5296384406804793), (45, 1.5302568870098663), (46, 1.5084229739770032), (47, 1.5062274684457275), (48, 1.4622016361112309), (49, 1.4786985676192448), (50, 1.5150189382460395), (51, 1.4856876166924573), (52, 1.4566579386514862), (53, 1.4708926378756053), (54, 1.4387228278117687), (55, 1.4958305723787957), (56, 1.4480276049847687), (57, 1.4739218844253004), (58, 1.4562675385835129), (59, 1.415827289793829), (60, 1.4367749114071078), (61, 1.3961880003653984), (62, 1.457663258820803), (63, 1.4378711854289705), (64, 1.4123824691821771), (65, 1.3793904886127382), (66, 1.4581875675343432), (67, 1.4300766520071178), (68, 1.3738657623190422), (69, 1.386516497201732), (70, 1.4087681272283827), (71, 1.3767607413008887), (72, 1.3853922382135795), (73, 1.3228429669308195), (74, 1.3630469487642922), (75, 1.3026619658968195), (76, 1.3321791707298256), (77, 1.3383229771222545), (78, 1.354474245330787), (79, 1.3624229339927034), (80, 1.320787431412177), (81, 1.3420154863454195), (82, 1.3062666786493657), (83, 1.3158333071015367), (84, 1.2760764122502388), (85, 1.3240581833465639), (86, 1.2987161919150998), (87, 1.316803757382524), (88, 1.2744689896286705), (89, 1.2968141037774308), (90, 1.2829397592574143), (91, 1.289778432530479), (92, 1.2563664219125474), (93, 1.2617231837965956), (94, 1.259510890527743), (95, 1.279328094088427), (96, 1.248191752995922), (97, 1.2553937445012342), (98, 1.2364468668831172), (99, 1.2419854968385589), (100, 1.2335757200202626)], '1': [(1, 2.3031396943854894), (2, 2.300696206726667), (3, 2.2991266489516495), (4, 2.297683172674511), (5, 2.2911565674350793), (6, 2.2852757333002693), (7, 2.2677492758979096), (8, 2.2409151000235465), (9, 2.2123278767053334), (10, 2.159489771096009), (11, 2.1093821627962077), (12, 2.0774078052224314), (13, 2.0212840678014152), (14, 2.0034928614376515), (15, 2.005758614140298), (16, 1.956967737289538), (17, 1.9558625274884434), (18, 1.9041556183302086), (19, 1.8991269065802328), (20, 1.86691860723593), (21, 1.8192653256203744), (22, 1.7999205443025366), (23, 1.8321840614385156), (24, 1.7515438397725422), (25, 1.7447232712509686), (26, 1.7660024619541286), (27, 1.663209025601424), (28, 1.700386851111804), (29, 1.665553308459635), (30, 1.652473224452668), (31, 1.6518296166675466), (32, 1.608452527800952), (33, 1.616457895267229), (34, 1.5988431459555597), (35, 1.638850490008395), (36, 1.5554069246494941), (37, 1.5811604624633164), (38, 1.5323156062323136), (39, 1.5594576599651564), (40, 1.5619208269080258), (41, 1.5457860453240955), (42, 1.5413318531157292), (43, 1.540701408083941), (44, 1.4877570999180612), (45, 1.5250885998544517), (46, 1.5876020466135567), (47, 1.5392660017150068), (48, 1.5199513864419698), (49, 1.4732947103328744), (50, 1.4871624337627356), (51, 1.4821590811684575), (52, 1.4446143531116726), (53, 1.4323081199864425), (54, 1.5002713366763967), (55, 1.4838647476734559), (56, 1.4123806780345114), (57, 1.4408604876882947), (58, 1.4052577701326772), (59, 1.4336064483490458), (60, 1.4301283505796656), (61, 1.4236450219690677), (62, 1.4348940576268607), (63, 1.4683554703960147), (64, 1.4345601838546784), (65, 1.3723029027443479), (66, 1.4465403132643437), (67, 1.3857218334279908), (68, 1.3471409799131149), (69, 1.3498168910695487), (70, 1.3825440972373042), (71, 1.396320210156509), (72, 1.3083616331798655), (73, 1.3506604757289458), (74, 1.3702648605061942), (75, 1.3032195748483233), (76, 1.3369798616397601), (77, 1.33043045390603), (78, 1.3478744646766678), (79, 1.3305558156382087), (80, 1.309848560633591), (81, 1.328438912432618), (82, 1.328651190047859), (83, 1.313703678380736), (84, 1.2980995794990555), (85, 1.262446933485004), (86, 1.3348034205856012), (87, 1.2762285366136359), (88, 1.2878196951314227), (89, 1.2972801806736578), (90, 1.2656214788159954), (91, 1.2669043097271753), (92, 1.3040711533560099), (93, 1.3166391052351407), (94, 1.24856357974265), (95, 1.286500655800287), (96, 1.209937588081282), (97, 1.2348407636147092), (98, 1.2180471566557154), (99, 1.2302990069418598), (100, 1.1485656536429938)], '8': [(1, 2.3023901129343423), (2, 2.3027503944827328), (3, 2.3022797969450433), (4, 2.3017569912224194), (5, 2.3045238359603797), (6, 2.3038196383535796), (7, 2.306915113724858), (8, 2.329661130121739), (9, 2.3701347999217606), (10, 2.392551298862219), (11, 2.4392955705343957), (12, 2.5314477027964095), (13, 2.5594700461280047), (14, 2.5959890901977105), (15, 2.6923035789293372), (16, 2.634997587997838), (17, 2.7088097766090717), (18, 2.69667700974338), (19, 2.742201378154859), (20, 2.7726898120240864), (21, 2.8076569237557587), (22, 2.788037224379975), (23, 2.8414098699408843), (24, 2.9368933505844836), (25, 2.9438325369083866), (26, 2.9681937754611196), (27, 3.066124771928735), (28, 3.019655416463578), (29, 3.0568883567885266), (30, 3.0724462042241343), (31, 3.1206737188754965), (32, 3.143683675346082), (33, 3.2178504234598084), (34, 3.2078670624965904), (35, 3.227157364539223), (36, 3.2044079063494912), (37, 3.2485616779014026), (38, 3.225453555126963), (39, 3.2175354529314992), (40, 3.258552927307597), (41, 3.321963623606754), (42, 3.2655946171688486), (43, 3.2541155681944365), (44, 3.3779669134405332), (45, 3.318994629944533), (46, 3.3801006719812765), (47, 3.3922509112990045), (48, 3.372968761970545), (49, 3.344106670016135), (50, 3.4312093670501373), (51, 3.4023117444601403), (52, 3.34821427691022), (53, 3.3479240885961223), (54, 3.4292843952889247), (55, 3.5221798239767486), (56, 3.4117739438227206), (57, 3.3777461511543), (58, 3.4251723284266995), (59, 3.554898353160929), (60, 3.5142340623535957), (61, 3.53020386314601), (62, 3.382669229235863), (63, 3.445660612538767), (64, 3.533557278172471), (65, 3.6011932384536927), (66, 3.331690309081647), (67, 3.516177018918709), (68, 3.6141629754387146), (69, 3.6261824052148426), (70, 3.563807703187406), (71, 3.5752924034394415), (72, 3.570961594451035), (73, 3.5431977707611115), (74, 3.5225274515830933), (75, 3.6569326670773057), (76, 3.5885889650305156), (77, 3.6112720287381492), (78, 3.6504858608183177), (79, 3.5913594555097497), (80, 3.6121970105667365), (81, 3.6134160115972147), (82, 3.6661033358788044), (83, 3.538587200419665), (84, 3.4934086781341955), (85, 3.7014618316850942), (86, 3.7247817349198877), (87, 3.5894403431527846), (88, 3.6483259605813), (89, 3.653936844404791), (90, 3.837143385919527), (91, 3.675938843636236), (92, 3.791238044726235), (93, 3.60225007776885), (94, 3.8442233723852484), (95, 3.803230685184976), (96, 3.7076265984270944), (97, 3.6311492321916896), (98, 3.9413539598178757), (99, 3.7304977835334534), (100, 3.8593518841044667)], '0': [(1, 2.303420851659724), (2, 2.3016062234791197), (3, 2.3002713165851953), (4, 2.297614167419612), (5, 2.2952480935694943), (6, 2.2859588306678877), (7, 2.2700988695390434), (8, 2.2397765092575512), (9, 2.2019825380323286), (10, 2.163107651871995), (11, 2.1001753644567454), (12, 2.076823022799751), (13, 2.047756581514661), (14, 2.0082864035178805), (15, 1.9881751429412566), (16, 1.9445754841874583), (17, 1.9360222943420735), (18, 1.9401209334088083), (19, 1.8832532370560213), (20, 1.8806064941377811), (21, 1.84386938258101), (22, 1.8134357787041873), (23, 1.8353076933291013), (24, 1.7228786563213132), (25, 1.7311709362604875), (26, 1.7903571218982164), (27, 1.674852088744394), (28, 1.6797773379741259), (29, 1.6762498327718376), (30, 1.696408748626709), (31, 1.6383927195978623), (32, 1.6763872748619706), (33, 1.628715637392891), (34, 1.6148995239767658), (35, 1.6467364573250183), (36, 1.5865263787829202), (37, 1.5958405187208686), (38, 1.6061099526473381), (39, 1.5987605177683317), (40, 1.5361329298049877), (41, 1.54203050903365), (42, 1.5726826209991505), (43, 1.528557205479493), (44, 1.5361481223243494), (45, 1.5328421319762484), (46, 1.5145497796888423), (47, 1.5357718970448064), (48, 1.525723888470342), (49, 1.5044150389294528), (50, 1.5159801465634721), (51, 1.4735829676556003), (52, 1.508246095670552), (53, 1.4500569936693413), (54, 1.447234908485819), (55, 1.4990775013884035), (56, 1.44181364057417), (57, 1.4638597082914), (58, 1.4411920323031653), (59, 1.4116524643283554), (60, 1.4107588717477897), (61, 1.4053754152708287), (62, 1.4573290445807134), (63, 1.428058374804049), (64, 1.4325956131576603), (65, 1.3828959292370164), (66, 1.3985343075915775), (67, 1.3629781295951056), (68, 1.41269684993167), (69, 1.3623149816474467), (70, 1.403446883439256), (71, 1.3806894259711804), (72, 1.3906477970310167), (73, 1.3364679706744111), (74, 1.3609128578529317), (75, 1.3629049399155524), (76, 1.3262309297459067), (77, 1.3721509579017648), (78, 1.3558196149314174), (79, 1.3639951972280955), (80, 1.3554689058988365), (81, 1.3085809090393927), (82, 1.3257384929921046), (83, 1.270750162827448), (84, 1.2817755805544706), (85, 1.3284963698178942), (86, 1.3226675593687958), (87, 1.335125093642896), (88, 1.327728136025044), (89, 1.2645157856174425), (90, 1.322266171407649), (91, 1.2944035289513545), (92, 1.2780603967662563), (93, 1.2453492724984345), (94, 1.2633358279483133), (95, 1.215216598063866), (96, 1.2576884892040168), (97, 1.2766959869061796), (98, 1.2450030060748831), (99, 1.2423255116033096), (100, 1.1475702658755838)], '5': [(1, 2.3034095995204966), (2, 2.301166983732243), (3, 2.299547017480909), (4, 2.2975896412564305), (5, 2.292911983273693), (6, 2.289165324771527), (7, 2.2755570072488687), (8, 2.2485989786914944), (9, 2.2053634122474906), (10, 2.160020139045322), (11, 2.106164337925075), (12, 2.09415469513726), (13, 2.0310282972670093), (14, 2.019402584832968), (15, 2.003224186061584), (16, 2.005279816548849), (17, 1.935358350793111), (18, 1.924182148569638), (19, 1.8997328728744665), (20, 1.8738482976697155), (21, 1.847263131190821), (22, 1.8299706685174373), (23, 1.8620966424647065), (24, 1.757745049171841), (25, 1.7908604398216168), (26, 1.7824075204809917), (27, 1.698951285155778), (28, 1.6746727065941722), (29, 1.7133667186363457), (30, 1.635331549103727), (31, 1.6525409656701628), (32, 1.6214797718008769), (33, 1.6241968233560777), (34, 1.6037271553708106), (35, 1.6109624570178003), (36, 1.5797101603340857), (37, 1.619215382251543), (38, 1.5987879804729186), (39, 1.6134026163632107), (40, 1.5076065888109895), (41, 1.5510851260313054), (42, 1.5633884080906504), (43, 1.5492202031243707), (44, 1.5117721574822651), (45, 1.535312166410623), (46, 1.5048176974365393), (47, 1.5255548595153179), (48, 1.5405704562197027), (49, 1.459459265974379), (50, 1.5227829574309673), (51, 1.4752787752249805), (52, 1.4852651446136003), (53, 1.4527697863038054), (54, 1.4742060690811), (55, 1.455669500901527), (56, 1.4331392738008009), (57, 1.4849220290626448), (58, 1.4395905428326008), (59, 1.4223576363828994), (60, 1.4460341524832028), (61, 1.3963362922373506), (62, 1.4638078805097599), (63, 1.5050064440855047), (64, 1.4394485220466693), (65, 1.429075807640233), (66, 1.4342576339072788), (67, 1.4453773321564665), (68, 1.4120342141574191), (69, 1.341871342708155), (70, 1.427189488755059), (71, 1.3934468991977653), (72, 1.3461286362913465), (73, 1.3610265901408245), (74, 1.4104822016253913), (75, 1.35884561194587), (76, 1.3727765916549053), (77, 1.3883621151914303), (78, 1.3474402614475525), (79, 1.330511182116479), (80, 1.346796260420809), (81, 1.283436987080525), (82, 1.343354862006669), (83, 1.3293081519529992), (84, 1.2616881306638423), (85, 1.315346497358735), (86, 1.304201410234589), (87, 1.3783910670231299), (88, 1.3250423387153862), (89, 1.3126500070709544), (90, 1.3085173778927204), (91, 1.2655273651339345), (92, 1.279325134238017), (93, 1.2526323198043194), (94, 1.2757749577158506), (95, 1.305526390763902), (96, 1.1933811912831571), (97, 1.2656609680234772), (98, 1.237946359644231), (99, 1.205982800242827), (100, 1.199827992055834)], '4': [(1, 2.3009954682596914), (2, 2.299622524034727), (3, 2.2990409527625237), (4, 2.295894964353426), (5, 2.294250437548825), (6, 2.285046761328881), (7, 2.269895610990343), (8, 2.245146844294164), (9, 2.205452818256039), (10, 2.156118937662908), (11, 2.1201256281369694), (12, 2.0633766100956845), (13, 2.016704636496621), (14, 1.997085962857638), (15, 2.02318054550773), (16, 1.9818492524035565), (17, 1.9210574967520577), (18, 1.9692075626476184), (19, 1.9110265266407025), (20, 1.909164037142362), (21, 1.831826787371259), (22, 1.840266699081177), (23, 1.8532234150451141), (24, 1.7626396435481329), (25, 1.7426533432273599), (26, 1.7613599648127904), (27, 1.7094909825644173), (28, 1.72448897730935), (29, 1.6597761719615072), (30, 1.7018595968450343), (31, 1.6339030694532823), (32, 1.6685530354569365), (33, 1.6152390897809923), (34, 1.6292483095641617), (35, 1.628139876223706), (36, 1.609541136663515), (37, 1.5540265446299917), (38, 1.6171780485254186), (39, 1.596362903877929), (40, 1.58196283101321), (41, 1.5467896300715047), (42, 1.5629047522178063), (43, 1.5528518377126872), (44, 1.5636943618019858), (45, 1.5214971812454972), (46, 1.5223966791675045), (47, 1.5233575839262743), (48, 1.5327494169448639), (49, 1.5218123756088577), (50, 1.5100685796299418), (51, 1.5185285761401608), (52, 1.5062431786562893), (53, 1.4791241569833442), (54, 1.4952591363485757), (55, 1.5052665632802409), (56, 1.4449602133267885), (57, 1.452140865030584), (58, 1.4432808373953316), (59, 1.4131233792204958), (60, 1.4200124619128582), (61, 1.4419988182993917), (62, 1.4282063059992605), (63, 1.4765425152354665), (64, 1.4041945228090773), (65, 1.423766969205378), (66, 1.4405811553473), (67, 1.394707669506778), (68, 1.3863429417024244), (69, 1.371279007785923), (70, 1.4316832513123245), (71, 1.3942777213754949), (72, 1.3705158476586585), (73, 1.3472615625713016), (74, 1.3615664766504094), (75, 1.3352489489299078), (76, 1.3484561866099065), (77, 1.3595094258015925), (78, 1.3481303794043404), (79, 1.3299266394082603), (80, 1.329496512046227), (81, 1.2968793327396329), (82, 1.3108793710257027), (83, 1.3329011809218536), (84, 1.3318530629564833), (85, 1.3655150494018158), (86, 1.2591518155344716), (87, 1.3451984427072905), (88, 1.311144613243126), (89, 1.2932135771799993), (90, 1.2643191309480162), (91, 1.2647353155867798), (92, 1.2364147332283881), (93, 1.3246202389081636), (94, 1.2796604399914508), (95, 1.2243765574711543), (96, 1.2092079956691106), (97, 1.2856389512787094), (98, 1.239841236696615), (99, 1.204351879500009), (100, 1.2348110416195133)]}\n",
            "[{'accuracy': 0.10744763225536309, 'loss': 2.3016450618755444}, {'accuracy': 0.11545177854448432, 'loss': 2.300528020362186}, {'accuracy': 0.11063268182984866, 'loss': 2.2986938815798035}, {'accuracy': 0.13205497459530796, 'loss': 2.2967706643252748}, {'accuracy': 0.16426603985780908, 'loss': 2.2936485564378146}, {'accuracy': 0.1843360012195907, 'loss': 2.287000250007291}, {'accuracy': 0.19491544432613434, 'loss': 2.273859418352853}, {'accuracy': 0.18593524757275345, 'loss': 2.251391642802008}, {'accuracy': 0.20930678648155973, 'loss': 2.2174513182493074}, {'accuracy': 0.22059119324693585, 'loss': 2.1790716063501963}, {'accuracy': 0.22186926719128974, 'loss': 2.1428780621056203}, {'accuracy': 0.2357267388786322, 'loss': 2.1135841257290613}, {'accuracy': 0.24590445266419772, 'loss': 2.0825779749854614}, {'accuracy': 0.2504545406456852, 'loss': 2.0656052036590618}, {'accuracy': 0.2591405586461656, 'loss': 2.070693398674157}, {'accuracy': 0.2716960372168716, 'loss': 2.032491386898954}, {'accuracy': 0.2805298060025852, 'loss': 2.0033882221448684}, {'accuracy': 0.2812630586208239, 'loss': 2.0058044791758602}, {'accuracy': 0.2930700173246524, 'loss': 1.976195264116713}, {'accuracy': 0.31111611779338355, 'loss': 1.9489184644522934}, {'accuracy': 0.29860424582108686, 'loss': 1.9314395210813502}, {'accuracy': 0.3146348650832259, 'loss': 1.9033263775520366}, {'accuracy': 0.3115510099238521, 'loss': 1.9429026948544248}, {'accuracy': 0.3408632485406834, 'loss': 1.8602075242712328}, {'accuracy': 0.34648499961024276, 'loss': 1.8495434502086001}, {'accuracy': 0.333147679338199, 'loss': 1.880768661175578}, {'accuracy': 0.35610486040032663, 'loss': 1.8255438955923942}, {'accuracy': 0.35639805834050964, 'loss': 1.8107547211740032}, {'accuracy': 0.37288985541453573, 'loss': 1.7980304308543114}, {'accuracy': 0.36817839529634344, 'loss': 1.7991026099810803}, {'accuracy': 0.37813070772652696, 'loss': 1.7726037126980936}, {'accuracy': 0.3833099966190809, 'loss': 1.7678159387217596}, {'accuracy': 0.3841490318026819, 'loss': 1.7729831125082303}, {'accuracy': 0.3876219662247966, 'loss': 1.7604513764072174}, {'accuracy': 0.38521038079481523, 'loss': 1.7484812408928918}, {'accuracy': 0.3922094994029988, 'loss': 1.7417985313454347}, {'accuracy': 0.39564367289430324, 'loss': 1.744313277131982}, {'accuracy': 0.39532983156844814, 'loss': 1.7338389290039313}, {'accuracy': 0.3980289283170072, 'loss': 1.7337700228867692}, {'accuracy': 0.40866186163036816, 'loss': 1.712675252223843}, {'accuracy': 0.39879948809587995, 'loss': 1.713246735184756}, {'accuracy': 0.4075772041394953, 'loss': 1.7146490790792273}, {'accuracy': 0.41733767564682633, 'loss': 1.698451173419547}, {'accuracy': 0.41546464130712213, 'loss': 1.6946198735858855}, {'accuracy': 0.4187382032391902, 'loss': 1.6914614049154997}, {'accuracy': 0.418279092947179, 'loss': 1.6918643689682953}, {'accuracy': 0.4229951282969702, 'loss': 1.6974760655280072}, {'accuracy': 0.4262026184854699, 'loss': 1.676821838081759}, {'accuracy': 0.4318836496550942, 'loss': 1.6653732499403195}, {'accuracy': 0.4341611075784791, 'loss': 1.6726957293493636}, {'accuracy': 0.4417508754848349, 'loss': 1.6527450326277378}, {'accuracy': 0.4421596267578369, 'loss': 1.6450471313235795}, {'accuracy': 0.4417777368776642, 'loss': 1.641042989231152}, {'accuracy': 0.4410692517593274, 'loss': 1.6467462153011343}, {'accuracy': 0.4399693080721643, 'loss': 1.6631867667617901}, {'accuracy': 0.451985152664343, 'loss': 1.6224831606186438}, {'accuracy': 0.44241384029585473, 'loss': 1.643460420889477}, {'accuracy': 0.4541588726788906, 'loss': 1.6169529827812317}, {'accuracy': 0.45794915664287184, 'loss': 1.6254272130121226}, {'accuracy': 0.4540606161595183, 'loss': 1.618857920252158}, {'accuracy': 0.45380068228607295, 'loss': 1.6127424332695492}, {'accuracy': 0.4496611985936414, 'loss': 1.6129209994581437}, {'accuracy': 0.4473236860074026, 'loss': 1.6423583339333088}, {'accuracy': 0.46203274238258596, 'loss': 1.6081745216406511}, {'accuracy': 0.4688576570862902, 'loss': 1.599968432214631}, {'accuracy': 0.4576515817093846, 'loss': 1.6145457438495772}, {'accuracy': 0.46334321800525713, 'loss': 1.6041701792075849}, {'accuracy': 0.47435752641562556, 'loss': 1.5963879618033656}, {'accuracy': 0.4827816072137565, 'loss': 1.5714888527880544}, {'accuracy': 0.46933745697916646, 'loss': 1.6023437014804207}, {'accuracy': 0.4770167890274536, 'loss': 1.5916215138217553}, {'accuracy': 0.4774946264996074, 'loss': 1.5661444576729875}, {'accuracy': 0.48432236622305996, 'loss': 1.5532675351219845}, {'accuracy': 0.4794349299672518, 'loss': 1.567242997829009}, {'accuracy': 0.5006376363973829, 'loss': 1.5444606155946943}, {'accuracy': 0.48986756980052654, 'loss': 1.5410553972482417}, {'accuracy': 0.4856278479661768, 'loss': 1.5524000166371301}, {'accuracy': 0.47762879488911103, 'loss': 1.5648511216971899}, {'accuracy': 0.4963156887746797, 'loss': 1.5400793827905346}, {'accuracy': 0.4925877147970314, 'loss': 1.5418526350793464}, {'accuracy': 0.4968719623185025, 'loss': 1.5231693665405723}, {'accuracy': 0.49876781333800885, 'loss': 1.5356308109123917}, {'accuracy': 0.5007484175100025, 'loss': 1.5154357248737378}, {'accuracy': 0.5100132042471425, 'loss': 1.4912703069025073}, {'accuracy': 0.4932442923719901, 'loss': 1.5342563105771925}, {'accuracy': 0.504015463616249, 'loss': 1.5218350202425173}, {'accuracy': 0.49417877155908013, 'loss': 1.5360513226637098}, {'accuracy': 0.505817256439779, 'loss': 1.5165044545037112}, {'accuracy': 0.5127398987083472, 'loss': 1.5063685080976863}, {'accuracy': 0.51088692899027, 'loss': 1.529209368682652}, {'accuracy': 0.5103326238918203, 'loss': 1.4979866849485912}, {'accuracy': 0.5171591569707746, 'loss': 1.4993012945105417}, {'accuracy': 0.5195188129746326, 'loss': 1.4801231443697616}, {'accuracy': 0.5209084200910543, 'loss': 1.4993822089812032}, {'accuracy': 0.5185569299588784, 'loss': 1.4988742280326994}, {'accuracy': 0.5280015810717215, 'loss': 1.4574257682796006}, {'accuracy': 0.5148133853398177, 'loss': 1.4803713150636377}, {'accuracy': 0.531206066564321, 'loss': 1.4806113527432272}, {'accuracy': 0.5295629596729041, 'loss': 1.4584128635209461}, {'accuracy': 0.5377776912595879, 'loss': 1.4520338120001668}]\n"
          ]
        }
      ]
    },
    {
      "cell_type": "code",
      "source": [
        "import pickle"
      ],
      "metadata": {
        "id": "WlZ2TdebfWiO"
      },
      "execution_count": 25,
      "outputs": []
    },
    {
      "cell_type": "code",
      "source": [
        "# Saving the metric files to disk using pickle\n",
        "with open('poisoned_accuracy_per_client_per_round.pkl', 'wb') as f:\n",
        "    pickle.dump(accuracy_per_client_per_round, f)\n",
        "with open('poisoned_loss_per_client_per_round.pkl','wb') as f:\n",
        "    pickle.dump(loss_per_client_per_round,f)\n",
        "with open('poisoned_aggregate_metric_list.pkl','wb') as f:\n",
        "    pickle.dump(aggregate_metric_list,f)"
      ],
      "metadata": {
        "id": "kSnqOcB1fXFK"
      },
      "execution_count": 26,
      "outputs": []
    },
    {
      "cell_type": "code",
      "source": [
        "# Client 8 was poisoned in this case"
      ],
      "metadata": {
        "id": "OtzyXON466XY"
      },
      "execution_count": null,
      "outputs": []
    }
  ]
}